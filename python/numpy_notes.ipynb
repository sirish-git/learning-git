{
 "cells": [
  {
   "cell_type": "markdown",
   "metadata": {
    "toc": true
   },
   "source": [
    "<h1>Table of Contents<span class=\"tocSkip\"></span></h1>\n",
    "<div class=\"toc\"><ul class=\"toc-item\"><li><span><a href=\"#NumPy\" data-toc-modified-id=\"NumPy-1\"><span class=\"toc-item-num\">1&nbsp;&nbsp;</span>NumPy</a></span><ul class=\"toc-item\"><li><span><a href=\"#NumPy-basics\" data-toc-modified-id=\"NumPy-basics-1.1\"><span class=\"toc-item-num\">1.1&nbsp;&nbsp;</span>NumPy basics</a></span><ul class=\"toc-item\"><li><span><a href=\"#create-1D-numpy-array-with-value-10\" data-toc-modified-id=\"create-1D-numpy-array-with-value-10-1.1.1\"><span class=\"toc-item-num\">1.1.1&nbsp;&nbsp;</span>create 1D numpy array with value 10</a></span></li><li><span><a href=\"#create-constant-array-with-full\" data-toc-modified-id=\"create-constant-array-with-full-1.1.2\"><span class=\"toc-item-num\">1.1.2&nbsp;&nbsp;</span>create constant array with full</a></span></li><li><span><a href=\"#create-1D-numpy-array-with-values-range-from-10-to-20\" data-toc-modified-id=\"create-1D-numpy-array-with-values-range-from-10-to-20-1.1.3\"><span class=\"toc-item-num\">1.1.3&nbsp;&nbsp;</span>create 1D numpy array with values range from 10 to 20</a></span></li><li><span><a href=\"#create-1D-numpy-array-with-random-values-below-10\" data-toc-modified-id=\"create-1D-numpy-array-with-random-values-below-10-1.1.4\"><span class=\"toc-item-num\">1.1.4&nbsp;&nbsp;</span>create 1D numpy array with random values below 10</a></span></li><li><span><a href=\"#create-2D-numpy-array-and-iterate\" data-toc-modified-id=\"create-2D-numpy-array-and-iterate-1.1.5\"><span class=\"toc-item-num\">1.1.5&nbsp;&nbsp;</span>create 2D numpy array and iterate</a></span></li><li><span><a href=\"#create-nD-array\" data-toc-modified-id=\"create-nD-array-1.1.6\"><span class=\"toc-item-num\">1.1.6&nbsp;&nbsp;</span>create nD array</a></span></li></ul></li></ul></li></ul></div>"
   ]
  },
  {
   "cell_type": "markdown",
   "metadata": {},
   "source": [
    "# NumPy"
   ]
  },
  {
   "cell_type": "markdown",
   "metadata": {},
   "source": [
    "## NumPy basics"
   ]
  },
  {
   "cell_type": "markdown",
   "metadata": {},
   "source": [
    "### create 1D numpy array with value 10"
   ]
  },
  {
   "cell_type": "code",
   "execution_count": 76,
   "metadata": {},
   "outputs": [
    {
     "name": "stdout",
     "output_type": "stream",
     "text": [
      "[0. 0. 0. 0. 0.]\n",
      "[1. 1. 1. 1. 1.]\n",
      "[10. 10. 10. 10. 10.]\n",
      "[10 10 10 10 10]\n"
     ]
    }
   ],
   "source": [
    "# example\n",
    "import numpy as np\n",
    "array0 = np.zeros(5)\n",
    "array1 = np.ones(5)\n",
    "array2 = np.ones(5)*10\n",
    "array3 = np.array([10, 10, 10, 10, 10])\n",
    "\n",
    "print(array0)\n",
    "print(array1)\n",
    "print(array2)\n",
    "print(array3)"
   ]
  },
  {
   "cell_type": "markdown",
   "metadata": {},
   "source": [
    "### create constant array with full"
   ]
  },
  {
   "cell_type": "code",
   "execution_count": 77,
   "metadata": {},
   "outputs": [
    {
     "name": "stdout",
     "output_type": "stream",
     "text": [
      "array shape: (2, 3, 4), number of dimensions: 3\n",
      "[[[6 6 6 6]\n",
      "  [6 6 6 6]\n",
      "  [6 6 6 6]]\n",
      "\n",
      " [[6 6 6 6]\n",
      "  [6 6 6 6]\n",
      "  [6 6 6 6]]]\n"
     ]
    }
   ],
   "source": [
    "import numpy as np\n",
    "array1 = np.full((2,3,4), 6)\n",
    "print('array shape: {}, number of dimensions: {}'.format(array1.shape, array1.ndim))\n",
    "print(array1)"
   ]
  },
  {
   "cell_type": "markdown",
   "metadata": {},
   "source": [
    "### create 1D numpy array with values range from 10 to 20\n",
    "- ** use arrange method**"
   ]
  },
  {
   "cell_type": "code",
   "execution_count": 28,
   "metadata": {},
   "outputs": [
    {
     "name": "stdout",
     "output_type": "stream",
     "text": [
      "[10 11 12 13 14 15 16 17 18 19 20]\n"
     ]
    }
   ],
   "source": [
    "# example\n",
    "import numpy as np\n",
    "array1 = np.arange(10, 21)\n",
    "print(array1)"
   ]
  },
  {
   "cell_type": "markdown",
   "metadata": {},
   "source": [
    "### create 1D numpy array with random values below 10"
   ]
  },
  {
   "cell_type": "code",
   "execution_count": 42,
   "metadata": {},
   "outputs": [
    {
     "name": "stdout",
     "output_type": "stream",
     "text": [
      "[0 0 4 4 3]\n"
     ]
    }
   ],
   "source": [
    "# example\n",
    "import numpy as np\n",
    "array1 = np.random.randint(0, 11, 5)\n",
    "print(array1)"
   ]
  },
  {
   "cell_type": "markdown",
   "metadata": {},
   "source": [
    "### create 2D numpy array and iterate"
   ]
  },
  {
   "cell_type": "code",
   "execution_count": 37,
   "metadata": {},
   "outputs": [
    {
     "name": "stdout",
     "output_type": "stream",
     "text": [
      "original array\n",
      " [[10 11 12 13]\n",
      " [14 15 16 17]\n",
      " [18 19 20 21]]\n",
      "\n",
      "print each value sequentially\n",
      "10  11  12  13  14  15  16  17  18  19  20  21  "
     ]
    }
   ],
   "source": [
    "# example\n",
    "import numpy as np\n",
    "array1 = np.arange(10, 22).reshape(3,4)\n",
    "\n",
    "# original array\n",
    "print('original array\\n', array1)\n",
    "\n",
    "# iterate over each element sequentially\n",
    "print('\\nprint each value sequentially')\n",
    "for val in np.nditer(array1):\n",
    "    print(val, end=\"  \")"
   ]
  },
  {
   "cell_type": "markdown",
   "metadata": {},
   "source": [
    "### create nD array"
   ]
  },
  {
   "cell_type": "code",
   "execution_count": 70,
   "metadata": {},
   "outputs": [
    {
     "name": "stdout",
     "output_type": "stream",
     "text": [
      "array shape (3, 4)\n",
      "[[ 0  1  2  3]\n",
      " [ 4  5  6  7]\n",
      " [ 8  9 10 11]] \n",
      "\n",
      "array creation with explicity initiation\n",
      "array shape (2, 3, 4)\n",
      "[[[ 0  1  2  3]\n",
      "  [ 4  5  6  7]\n",
      "  [ 8  9 10 11]]\n",
      "\n",
      " [[12 13 14 15]\n",
      "  [16 17 18 19]\n",
      "  [20 21 22 23]]] \n",
      "\n",
      "array creation with auto fill\n",
      "array shape (2, 3, 4)\n",
      "[[[ 0  1  2  3]\n",
      "  [ 4  5  6  7]\n",
      "  [ 8  9 10 11]]\n",
      "\n",
      " [[12 13 14 15]\n",
      "  [16 17 18 19]\n",
      "  [20 21 22 23]]] \n",
      "\n"
     ]
    }
   ],
   "source": [
    "# example\n",
    "import numpy as np\n",
    "\n",
    "array1 = np.array([[0,1, 2, 3],[4,5, 6, 7], [8, 9,10, 11]])\n",
    "print('array shape', array1.shape)\n",
    "print(array1, '\\n')\n",
    "\n",
    "print('array creation with explicity initiation')\n",
    "array1 = np.array([[[0,1, 2, 3],[4,5, 6, 7], [8, 9,10, 11]], [[12,13, 14, 15],[16,17, 18, 19], [20, 21,22,23]]])\n",
    "print('array shape', array1.shape)\n",
    "print(array1, '\\n')\n",
    "\n",
    "print('array creation with auto fill')\n",
    "array1 = np.arange(0,24).reshape(2,3,4)\n",
    "print('array shape', array1.shape)\n",
    "print(array1, '\\n')"
   ]
  },
  {
   "cell_type": "code",
   "execution_count": null,
   "metadata": {},
   "outputs": [],
   "source": []
  }
 ],
 "metadata": {
  "kernelspec": {
   "display_name": "Python 3",
   "language": "python",
   "name": "python3"
  },
  "language_info": {
   "codemirror_mode": {
    "name": "ipython",
    "version": 3
   },
   "file_extension": ".py",
   "mimetype": "text/x-python",
   "name": "python",
   "nbconvert_exporter": "python",
   "pygments_lexer": "ipython3",
   "version": "3.6.5"
  },
  "toc": {
   "base_numbering": 1,
   "nav_menu": {},
   "number_sections": true,
   "sideBar": true,
   "skip_h1_title": false,
   "title_cell": "Table of Contents",
   "title_sidebar": "Contents",
   "toc_cell": true,
   "toc_position": {},
   "toc_section_display": true,
   "toc_window_display": true
  }
 },
 "nbformat": 4,
 "nbformat_minor": 2
}
