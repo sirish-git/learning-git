{
 "cells": [
  {
   "cell_type": "markdown",
   "metadata": {
    "toc": true
   },
   "source": [
    "<h1>Table of Contents<span class=\"tocSkip\"></span></h1>\n",
    "<div class=\"toc\"><ul class=\"toc-item\"><li><span><a href=\"#Python-learning-notes\" data-toc-modified-id=\"Python-learning-notes-1\"><span class=\"toc-item-num\">1&nbsp;&nbsp;</span>Python learning notes</a></span></li><li><span><a href=\"#Python-Basics\" data-toc-modified-id=\"Python-Basics-2\"><span class=\"toc-item-num\">2&nbsp;&nbsp;</span>Python Basics</a></span><ul class=\"toc-item\"><li><span><a href=\"#Interpreter-mode\" data-toc-modified-id=\"Interpreter-mode-2.1\"><span class=\"toc-item-num\">2.1&nbsp;&nbsp;</span>Interpreter mode</a></span></li><li><span><a href=\"#Naming-conventions\" data-toc-modified-id=\"Naming-conventions-2.2\"><span class=\"toc-item-num\">2.2&nbsp;&nbsp;</span>Naming conventions</a></span></li><li><span><a href=\"#Python-Keywords\" data-toc-modified-id=\"Python-Keywords-2.3\"><span class=\"toc-item-num\">2.3&nbsp;&nbsp;</span>Python Keywords</a></span></li><li><span><a href=\"#Python-membership-operators\" data-toc-modified-id=\"Python-membership-operators-2.4\"><span class=\"toc-item-num\">2.4&nbsp;&nbsp;</span>Python membership operators</a></span><ul class=\"toc-item\"><li><span><a href=\"#in\" data-toc-modified-id=\"in-2.4.1\"><span class=\"toc-item-num\">2.4.1&nbsp;&nbsp;</span>in</a></span></li><li><span><a href=\"#not-in\" data-toc-modified-id=\"not-in-2.4.2\"><span class=\"toc-item-num\">2.4.2&nbsp;&nbsp;</span>not in</a></span></li></ul></li><li><span><a href=\"#Python-identity-operators\" data-toc-modified-id=\"Python-identity-operators-2.5\"><span class=\"toc-item-num\">2.5&nbsp;&nbsp;</span>Python identity operators</a></span><ul class=\"toc-item\"><li><span><a href=\"#is\" data-toc-modified-id=\"is-2.5.1\"><span class=\"toc-item-num\">2.5.1&nbsp;&nbsp;</span>is</a></span></li><li><span><a href=\"#is-not\" data-toc-modified-id=\"is-not-2.5.2\"><span class=\"toc-item-num\">2.5.2&nbsp;&nbsp;</span>is not</a></span></li><li><span><a href=\"#dir-([object])\" data-toc-modified-id=\"dir-([object])-2.5.3\"><span class=\"toc-item-num\">2.5.3&nbsp;&nbsp;</span>dir ([object])</a></span></li><li><span><a href=\"#enumerate-(iterable,-start=0)\" data-toc-modified-id=\"enumerate-(iterable,-start=0)-2.5.4\"><span class=\"toc-item-num\">2.5.4&nbsp;&nbsp;</span>enumerate (iterable, start=0)</a></span></li><li><span><a href=\"#help-([object])\" data-toc-modified-id=\"help-([object])-2.5.5\"><span class=\"toc-item-num\">2.5.5&nbsp;&nbsp;</span>help ([object])</a></span></li><li><span><a href=\"#id-(object)\" data-toc-modified-id=\"id-(object)-2.5.6\"><span class=\"toc-item-num\">2.5.6&nbsp;&nbsp;</span>id (object)</a></span></li><li><span><a href=\"#input-([prompt])\" data-toc-modified-id=\"input-([prompt])-2.5.7\"><span class=\"toc-item-num\">2.5.7&nbsp;&nbsp;</span>input ([prompt])</a></span></li><li><span><a href=\"#open\" data-toc-modified-id=\"open-2.5.8\"><span class=\"toc-item-num\">2.5.8&nbsp;&nbsp;</span>open</a></span></li><li><span><a href=\"#sorted\" data-toc-modified-id=\"sorted-2.5.9\"><span class=\"toc-item-num\">2.5.9&nbsp;&nbsp;</span>sorted</a></span></li></ul></li><li><span><a href=\"#use-'format'-for-print\" data-toc-modified-id=\"use-'format'-for-print-2.6\"><span class=\"toc-item-num\">2.6&nbsp;&nbsp;</span>use 'format' for print</a></span></li><li><span><a href=\"#Print-without-newline-:-end-=-''\" data-toc-modified-id=\"Print-without-newline-:-end-=-''-2.7\"><span class=\"toc-item-num\">2.7&nbsp;&nbsp;</span>Print without newline : end = ''</a></span></li><li><span><a href=\"#data-type-conversion\" data-toc-modified-id=\"data-type-conversion-2.8\"><span class=\"toc-item-num\">2.8&nbsp;&nbsp;</span>data type conversion</a></span></li></ul></li><li><span><a href=\"#Undescore-_-in-python\" data-toc-modified-id=\"Undescore-_-in-python-3\"><span class=\"toc-item-num\">3&nbsp;&nbsp;</span>Undescore _ in python</a></span><ul class=\"toc-item\"><li><span><a href=\"#_-in-interpreter\" data-toc-modified-id=\"_-in-interpreter-3.1\"><span class=\"toc-item-num\">3.1&nbsp;&nbsp;</span>_ in interpreter</a></span></li><li><span><a href=\"#ignoring-values\" data-toc-modified-id=\"ignoring-values-3.2\"><span class=\"toc-item-num\">3.2&nbsp;&nbsp;</span>ignoring values</a></span></li><li><span><a href=\"#as-a-variable\" data-toc-modified-id=\"as-a-variable-3.3\"><span class=\"toc-item-num\">3.3&nbsp;&nbsp;</span>as a variable</a></span></li><li><span><a href=\"#Separating-Digits-Of-Numbers\" data-toc-modified-id=\"Separating-Digits-Of-Numbers-3.4\"><span class=\"toc-item-num\">3.4&nbsp;&nbsp;</span>Separating Digits Of Numbers</a></span></li><li><span><a href=\"#Naming-Using-Underscore(_)\" data-toc-modified-id=\"Naming-Using-Underscore(_)-3.5\"><span class=\"toc-item-num\">3.5&nbsp;&nbsp;</span>Naming Using Underscore(_)</a></span><ul class=\"toc-item\"><li><span><a href=\"#_single_pre_underscore\" data-toc-modified-id=\"_single_pre_underscore-3.5.1\"><span class=\"toc-item-num\">3.5.1&nbsp;&nbsp;</span>_single_pre_underscore</a></span></li><li><span><a href=\"#Double-Pre-Underscore\" data-toc-modified-id=\"Double-Pre-Underscore-3.5.2\"><span class=\"toc-item-num\">3.5.2&nbsp;&nbsp;</span>Double Pre Underscore</a></span></li><li><span><a href=\"#Double-pre-underscore-fields,-methods-and-access\" data-toc-modified-id=\"Double-pre-underscore-fields,-methods-and-access-3.5.3\"><span class=\"toc-item-num\">3.5.3&nbsp;&nbsp;</span>Double pre underscore fields, methods and access</a></span></li></ul></li></ul></li><li><span><a href=\"#Strings\" data-toc-modified-id=\"Strings-4\"><span class=\"toc-item-num\">4&nbsp;&nbsp;</span>Strings</a></span><ul class=\"toc-item\"><li><span><a href=\"#Strings-are-immutable\" data-toc-modified-id=\"Strings-are-immutable-4.1\"><span class=\"toc-item-num\">4.1&nbsp;&nbsp;</span>Strings are immutable</a></span></li><li><span><a href=\"#+-operation-on-strings\" data-toc-modified-id=\"+-operation-on-strings-4.2\"><span class=\"toc-item-num\">4.2&nbsp;&nbsp;</span>+ operation on strings</a></span></li><li><span><a href=\"#'format'-to-concat-strings\" data-toc-modified-id=\"'format'-to-concat-strings-4.3\"><span class=\"toc-item-num\">4.3&nbsp;&nbsp;</span>'format' to concat strings</a></span></li></ul></li><li><span><a href=\"#Lists\" data-toc-modified-id=\"Lists-5\"><span class=\"toc-item-num\">5&nbsp;&nbsp;</span>Lists</a></span><ul class=\"toc-item\"><li><span><a href=\"#Slicing-of-Lists,-Strings\" data-toc-modified-id=\"Slicing-of-Lists,-Strings-5.1\"><span class=\"toc-item-num\">5.1&nbsp;&nbsp;</span>Slicing of Lists, Strings</a></span></li><li><span><a href=\"#Delete-list-elements\" data-toc-modified-id=\"Delete-list-elements-5.2\"><span class=\"toc-item-num\">5.2&nbsp;&nbsp;</span>Delete list elements</a></span></li><li><span><a href=\"#Built-in-List-functions-and-methods\" data-toc-modified-id=\"Built-in-List-functions-and-methods-5.3\"><span class=\"toc-item-num\">5.3&nbsp;&nbsp;</span>Built-in List functions and methods</a></span><ul class=\"toc-item\"><li><span><a href=\"#help:-get-help-using-method-name\" data-toc-modified-id=\"help:-get-help-using-method-name-5.3.1\"><span class=\"toc-item-num\">5.3.1&nbsp;&nbsp;</span>help: get help using method name</a></span></li><li><span><a href=\"#functions\" data-toc-modified-id=\"functions-5.3.2\"><span class=\"toc-item-num\">5.3.2&nbsp;&nbsp;</span>functions</a></span></li><li><span><a href=\"#zip-()\" data-toc-modified-id=\"zip-()-5.3.3\"><span class=\"toc-item-num\">5.3.3&nbsp;&nbsp;</span>zip ()</a></span></li></ul></li><li><span><a href=\"#methods\" data-toc-modified-id=\"methods-5.4\"><span class=\"toc-item-num\">5.4&nbsp;&nbsp;</span>methods</a></span><ul class=\"toc-item\"><li><span><a href=\"#join-method\" data-toc-modified-id=\"join-method-5.4.1\"><span class=\"toc-item-num\">5.4.1&nbsp;&nbsp;</span>join method</a></span></li><li><span><a href=\"#split-method\" data-toc-modified-id=\"split-method-5.4.2\"><span class=\"toc-item-num\">5.4.2&nbsp;&nbsp;</span>split method</a></span></li></ul></li></ul></li><li><span><a href=\"#tuples\" data-toc-modified-id=\"tuples-6\"><span class=\"toc-item-num\">6&nbsp;&nbsp;</span>tuples</a></span></li><li><span><a href=\"#Dictionary\" data-toc-modified-id=\"Dictionary-7\"><span class=\"toc-item-num\">7&nbsp;&nbsp;</span>Dictionary</a></span><ul class=\"toc-item\"><li><span><a href=\"#dictionary-examples\" data-toc-modified-id=\"dictionary-examples-7.1\"><span class=\"toc-item-num\">7.1&nbsp;&nbsp;</span>dictionary examples</a></span></li><li><span><a href=\"#looping-dictionary-items\" data-toc-modified-id=\"looping-dictionary-items-7.2\"><span class=\"toc-item-num\">7.2&nbsp;&nbsp;</span>looping dictionary items</a></span></li><li><span><a href=\"#DefaultDict\" data-toc-modified-id=\"DefaultDict-7.3\"><span class=\"toc-item-num\">7.3&nbsp;&nbsp;</span>DefaultDict</a></span></li></ul></li><li><span><a href=\"#Comprehensions\" data-toc-modified-id=\"Comprehensions-8\"><span class=\"toc-item-num\">8&nbsp;&nbsp;</span>Comprehensions</a></span><ul class=\"toc-item\"><li><span><a href=\"#List-comprehensions\" data-toc-modified-id=\"List-comprehensions-8.1\"><span class=\"toc-item-num\">8.1&nbsp;&nbsp;</span>List comprehensions</a></span></li></ul></li><li><span><a href=\"#for\" data-toc-modified-id=\"for-9\"><span class=\"toc-item-num\">9&nbsp;&nbsp;</span>for</a></span><ul class=\"toc-item\"><li><span><a href=\"#for-example-on-lists\" data-toc-modified-id=\"for-example-on-lists-9.1\"><span class=\"toc-item-num\">9.1&nbsp;&nbsp;</span>for example on lists</a></span></li><li><span><a href=\"#for-example-on-strings\" data-toc-modified-id=\"for-example-on-strings-9.2\"><span class=\"toc-item-num\">9.2&nbsp;&nbsp;</span>for example on strings</a></span></li><li><span><a href=\"#for-using-range-function\" data-toc-modified-id=\"for-using-range-function-9.3\"><span class=\"toc-item-num\">9.3&nbsp;&nbsp;</span>for using range function</a></span></li><li><span><a href=\"#main-function\" data-toc-modified-id=\"main-function-9.4\"><span class=\"toc-item-num\">9.4&nbsp;&nbsp;</span>main function</a></span></li><li><span><a href=\"#global-keyword\" data-toc-modified-id=\"global-keyword-9.5\"><span class=\"toc-item-num\">9.5&nbsp;&nbsp;</span>global keyword</a></span></li><li><span><a href=\"#function-call-by-reference-vs-value\" data-toc-modified-id=\"function-call-by-reference-vs-value-9.6\"><span class=\"toc-item-num\">9.6&nbsp;&nbsp;</span>function call by reference vs value</a></span></li><li><span><a href=\"#keyword-argument\" data-toc-modified-id=\"keyword-argument-9.7\"><span class=\"toc-item-num\">9.7&nbsp;&nbsp;</span>keyword argument</a></span></li><li><span><a href=\"#default-arguments\" data-toc-modified-id=\"default-arguments-9.8\"><span class=\"toc-item-num\">9.8&nbsp;&nbsp;</span>default arguments</a></span></li><li><span><a href=\"#variable-number-of-arguments\" data-toc-modified-id=\"variable-number-of-arguments-9.9\"><span class=\"toc-item-num\">9.9&nbsp;&nbsp;</span>variable number of arguments</a></span></li><li><span><a href=\"#anonymous-functions\" data-toc-modified-id=\"anonymous-functions-9.10\"><span class=\"toc-item-num\">9.10&nbsp;&nbsp;</span>anonymous functions</a></span></li><li><span><a href=\"#'''doc-strings'''-:-documentatin-strings\" data-toc-modified-id=\"'''doc-strings'''-:-documentatin-strings-9.11\"><span class=\"toc-item-num\">9.11&nbsp;&nbsp;</span>'''doc strings''' : documentatin strings</a></span></li></ul></li><li><span><a href=\"#Functions\" data-toc-modified-id=\"Functions-10\"><span class=\"toc-item-num\">10&nbsp;&nbsp;</span>Functions</a></span><ul class=\"toc-item\"><li><span><a href=\"#Function-with-positional-arguments\" data-toc-modified-id=\"Function-with-positional-arguments-10.1\"><span class=\"toc-item-num\">10.1&nbsp;&nbsp;</span>Function with positional arguments</a></span></li><li><span><a href=\"#Function-with-default-values/optional-args\" data-toc-modified-id=\"Function-with-default-values/optional-args-10.2\"><span class=\"toc-item-num\">10.2&nbsp;&nbsp;</span>Function with default values/optional args</a></span></li><li><span><a href=\"#Function-with-keyword-arguments\" data-toc-modified-id=\"Function-with-keyword-arguments-10.3\"><span class=\"toc-item-num\">10.3&nbsp;&nbsp;</span>Function with keyword arguments</a></span></li><li><span><a href=\"#Functions-with-Variable-number-of-arguments\" data-toc-modified-id=\"Functions-with-Variable-number-of-arguments-10.4\"><span class=\"toc-item-num\">10.4&nbsp;&nbsp;</span>Functions with Variable number of arguments</a></span><ul class=\"toc-item\"><li><span><a href=\"#use-**-while-passing-dict-as-argument\" data-toc-modified-id=\"use-**-while-passing-dict-as-argument-10.4.1\"><span class=\"toc-item-num\">10.4.1&nbsp;&nbsp;</span>use ** while passing dict as argument</a></span></li></ul></li><li><span><a href=\"#lambda-function\" data-toc-modified-id=\"lambda-function-10.5\"><span class=\"toc-item-num\">10.5&nbsp;&nbsp;</span>lambda function</a></span></li><li><span><a href=\"#Nested-functions\" data-toc-modified-id=\"Nested-functions-10.6\"><span class=\"toc-item-num\">10.6&nbsp;&nbsp;</span>Nested functions</a></span></li><li><span><a href=\"#closure\" data-toc-modified-id=\"closure-10.7\"><span class=\"toc-item-num\">10.7&nbsp;&nbsp;</span>closure</a></span></li><li><span><a href=\"#map-function\" data-toc-modified-id=\"map-function-10.8\"><span class=\"toc-item-num\">10.8&nbsp;&nbsp;</span>map function</a></span></li><li><span><a href=\"#filter-function\" data-toc-modified-id=\"filter-function-10.9\"><span class=\"toc-item-num\">10.9&nbsp;&nbsp;</span>filter function</a></span></li><li><span><a href=\"#yield\" data-toc-modified-id=\"yield-10.10\"><span class=\"toc-item-num\">10.10&nbsp;&nbsp;</span>yield</a></span></li></ul></li><li><span><a href=\"#First-class-functions\" data-toc-modified-id=\"First-class-functions-11\"><span class=\"toc-item-num\">11&nbsp;&nbsp;</span>First class functions</a></span></li><li><span><a href=\"#modules\" data-toc-modified-id=\"modules-12\"><span class=\"toc-item-num\">12&nbsp;&nbsp;</span>modules</a></span></li><li><span><a href=\"#packages\" data-toc-modified-id=\"packages-13\"><span class=\"toc-item-num\">13&nbsp;&nbsp;</span>packages</a></span></li><li><span><a href=\"#Object-oriented-programming-(oop)\" data-toc-modified-id=\"Object-oriented-programming-(oop)-14\"><span class=\"toc-item-num\">14&nbsp;&nbsp;</span>Object oriented programming (oop)</a></span><ul class=\"toc-item\"><li><span><a href=\"#simple-class-and-object-creation-example\" data-toc-modified-id=\"simple-class-and-object-creation-example-14.1\"><span class=\"toc-item-num\">14.1&nbsp;&nbsp;</span>simple class and object creation example</a></span></li><li><span><a href=\"#object-variable-creation-and-name-space\" data-toc-modified-id=\"object-variable-creation-and-name-space-14.2\"><span class=\"toc-item-num\">14.2&nbsp;&nbsp;</span>object variable creation and name space</a></span></li><li><span><a href=\"#setattr,-getattr-methods\" data-toc-modified-id=\"setattr,-getattr-methods-14.3\"><span class=\"toc-item-num\">14.3&nbsp;&nbsp;</span>setattr, getattr methods</a></span></li><li><span><a href=\"#init-method:-Class-constructor\" data-toc-modified-id=\"init-method:-Class-constructor-14.4\"><span class=\"toc-item-num\">14.4&nbsp;&nbsp;</span><strong>init</strong> method: Class constructor</a></span></li><li><span><a href=\"#example-for-class/instance-fields-and-class/static/instance-methods\" data-toc-modified-id=\"example-for-class/instance-fields-and-class/static/instance-methods-14.5\"><span class=\"toc-item-num\">14.5&nbsp;&nbsp;</span>example for class/instance fields and class/static/instance methods</a></span></li><li><span><a href=\"#Inheritance\" data-toc-modified-id=\"Inheritance-14.6\"><span class=\"toc-item-num\">14.6&nbsp;&nbsp;</span>Inheritance</a></span></li></ul></li><li><span><a href=\"#special-methods-(magic/dunder)\" data-toc-modified-id=\"special-methods-(magic/dunder)-15\"><span class=\"toc-item-num\">15&nbsp;&nbsp;</span>special methods (magic/dunder)</a></span><ul class=\"toc-item\"><li><span><a href=\"#__add__\" data-toc-modified-id=\"__add__-15.1\"><span class=\"toc-item-num\">15.1&nbsp;&nbsp;</span>__add__</a></span></li><li><span><a href=\"#repr,-str-methods\" data-toc-modified-id=\"repr,-str-methods-15.2\"><span class=\"toc-item-num\">15.2&nbsp;&nbsp;</span>repr, str methods</a></span></li></ul></li><li><span><a href=\"#Customize-special-methods-(magic/dunder)-for-our-own-Classes\" data-toc-modified-id=\"Customize-special-methods-(magic/dunder)-for-our-own-Classes-16\"><span class=\"toc-item-num\">16&nbsp;&nbsp;</span>Customize special methods (magic/dunder) for our own Classes</a></span><ul class=\"toc-item\"><li><span><a href=\"#repr,-str-methods\" data-toc-modified-id=\"repr,-str-methods-16.1\"><span class=\"toc-item-num\">16.1&nbsp;&nbsp;</span>repr, str methods</a></span><ul class=\"toc-item\"><li><span><a href=\"#default-repr\" data-toc-modified-id=\"default-repr-16.1.1\"><span class=\"toc-item-num\">16.1.1&nbsp;&nbsp;</span>default repr</a></span></li><li><span><a href=\"#custom-__repr__-method\" data-toc-modified-id=\"custom-__repr__-method-16.1.2\"><span class=\"toc-item-num\">16.1.2&nbsp;&nbsp;</span>custom __repr__ method</a></span></li><li><span><a href=\"#custom-__str__-method\" data-toc-modified-id=\"custom-__str__-method-16.1.3\"><span class=\"toc-item-num\">16.1.3&nbsp;&nbsp;</span>custom __str__ method</a></span></li><li><span><a href=\"#custom-__add__-method\" data-toc-modified-id=\"custom-__add__-method-16.1.4\"><span class=\"toc-item-num\">16.1.4&nbsp;&nbsp;</span>custom __add__ method</a></span></li></ul></li></ul></li><li><span><a href=\"#Getter-and-Setter-methods\" data-toc-modified-id=\"Getter-and-Setter-methods-17\"><span class=\"toc-item-num\">17&nbsp;&nbsp;</span>Getter and Setter methods</a></span><ul class=\"toc-item\"><li><span><a href=\"#Normal-methods-to-set,-get-values\" data-toc-modified-id=\"Normal-methods-to-set,-get-values-17.1\"><span class=\"toc-item-num\">17.1&nbsp;&nbsp;</span>Normal methods to set, get values</a></span></li><li><span><a href=\"#Property-method-to-set,-get-values\" data-toc-modified-id=\"Property-method-to-set,-get-values-17.2\"><span class=\"toc-item-num\">17.2&nbsp;&nbsp;</span>Property method to set, get values</a></span></li><li><span><a href=\"#Property-Decorator-to-set,-get-values\" data-toc-modified-id=\"Property-Decorator-to-set,-get-values-17.3\"><span class=\"toc-item-num\">17.3&nbsp;&nbsp;</span>Property Decorator to set, get values</a></span></li></ul></li><li><span><a href=\"#Decorators\" data-toc-modified-id=\"Decorators-18\"><span class=\"toc-item-num\">18&nbsp;&nbsp;</span>Decorators</a></span><ul class=\"toc-item\"><li><span><a href=\"#Simple-decorator-example\" data-toc-modified-id=\"Simple-decorator-example-18.1\"><span class=\"toc-item-num\">18.1&nbsp;&nbsp;</span>Simple decorator example</a></span></li><li><span><a href=\"#above-example-with-decorator-syntax\" data-toc-modified-id=\"above-example-with-decorator-syntax-18.2\"><span class=\"toc-item-num\">18.2&nbsp;&nbsp;</span>above example with decorator syntax</a></span></li><li><span><a href=\"#Decorator-with-arguments\" data-toc-modified-id=\"Decorator-with-arguments-18.3\"><span class=\"toc-item-num\">18.3&nbsp;&nbsp;</span>Decorator with arguments</a></span></li><li><span><a href=\"#Decorator-Class\" data-toc-modified-id=\"Decorator-Class-18.4\"><span class=\"toc-item-num\">18.4&nbsp;&nbsp;</span>Decorator Class</a></span></li></ul></li><li><span><a href=\"#File-I/O\" data-toc-modified-id=\"File-I/O-19\"><span class=\"toc-item-num\">19&nbsp;&nbsp;</span>File I/O</a></span><ul class=\"toc-item\"><li><span><a href=\"#file-object-attributes\" data-toc-modified-id=\"file-object-attributes-19.1\"><span class=\"toc-item-num\">19.1&nbsp;&nbsp;</span>file object attributes</a></span></li><li><span><a href=\"#example-for-file-open,-close-and-attributes\" data-toc-modified-id=\"example-for-file-open,-close-and-attributes-19.2\"><span class=\"toc-item-num\">19.2&nbsp;&nbsp;</span>example for file open, close and attributes</a></span></li><li><span><a href=\"#read-and-write-files\" data-toc-modified-id=\"read-and-write-files-19.3\"><span class=\"toc-item-num\">19.3&nbsp;&nbsp;</span>read and write files</a></span></li><li><span><a href=\"#file-positions\" data-toc-modified-id=\"file-positions-19.4\"><span class=\"toc-item-num\">19.4&nbsp;&nbsp;</span>file positions</a></span></li></ul></li><li><span><a href=\"#OS-module\" data-toc-modified-id=\"OS-module-20\"><span class=\"toc-item-num\">20&nbsp;&nbsp;</span>OS module</a></span><ul class=\"toc-item\"><li><span><a href=\"#os.getcwd():-get-current-working-directory\" data-toc-modified-id=\"os.getcwd():-get-current-working-directory-20.1\"><span class=\"toc-item-num\">20.1&nbsp;&nbsp;</span>os.getcwd(): get current working directory</a></span></li><li><span><a href=\"#os.listdir():-list-directories-and-files\" data-toc-modified-id=\"os.listdir():-list-directories-and-files-20.2\"><span class=\"toc-item-num\">20.2&nbsp;&nbsp;</span>os.listdir(): list directories and files</a></span></li><li><span><a href=\"#os.makedirs():-create-directories-using-path\" data-toc-modified-id=\"os.makedirs():-create-directories-using-path-20.3\"><span class=\"toc-item-num\">20.3&nbsp;&nbsp;</span>os.makedirs(): create directories using path</a></span></li><li><span><a href=\"#os.rename()-:-rename-files/directories\" data-toc-modified-id=\"os.rename()-:-rename-files/directories-20.4\"><span class=\"toc-item-num\">20.4&nbsp;&nbsp;</span>os.rename() : rename files/directories</a></span></li></ul></li><li><span><a href=\"#try:-for-error-handling\" data-toc-modified-id=\"try:-for-error-handling-21\"><span class=\"toc-item-num\">21&nbsp;&nbsp;</span>try: for error handling</a></span></li><li><span><a href=\"#Python-Regular-Expression\" data-toc-modified-id=\"Python-Regular-Expression-22\"><span class=\"toc-item-num\">22&nbsp;&nbsp;</span>Python Regular Expression</a></span><ul class=\"toc-item\"><li><span><a href=\"#raw-string\" data-toc-modified-id=\"raw-string-22.1\"><span class=\"toc-item-num\">22.1&nbsp;&nbsp;</span>raw string</a></span></li><li><span><a href=\"#find-match:-finditer\" data-toc-modified-id=\"find-match:-finditer-22.2\"><span class=\"toc-item-num\">22.2&nbsp;&nbsp;</span>find match: finditer</a></span></li></ul></li><li><span><a href=\"#Python-Exercise-Examples:-Basics\" data-toc-modified-id=\"Python-Exercise-Examples:-Basics-23\"><span class=\"toc-item-num\">23&nbsp;&nbsp;</span>Python Exercise Examples: Basics</a></span><ul class=\"toc-item\"><li><span><a href=\"#Print-current-date-time\" data-toc-modified-id=\"Print-current-date-time-23.1\"><span class=\"toc-item-num\">23.1&nbsp;&nbsp;</span>Print current date time</a></span></li><li><span><a href=\"#Check-a-file-present-or-not\" data-toc-modified-id=\"Check-a-file-present-or-not-23.2\"><span class=\"toc-item-num\">23.2&nbsp;&nbsp;</span>Check a file present or not</a></span></li><li><span><a href=\"#Print-number-of-CPU's-running\" data-toc-modified-id=\"Print-number-of-CPU's-running-23.3\"><span class=\"toc-item-num\">23.3&nbsp;&nbsp;</span>Print number of CPU's running</a></span></li><li><span><a href=\"#Compare-all-values-in-a-list-with-a-number\" data-toc-modified-id=\"Compare-all-values-in-a-list-with-a-number-23.4\"><span class=\"toc-item-num\">23.4&nbsp;&nbsp;</span>Compare all values in a list with a number</a></span></li><li><span><a href=\"#Profile-execution-time-of-a-program\" data-toc-modified-id=\"Profile-execution-time-of-a-program-23.5\"><span class=\"toc-item-num\">23.5&nbsp;&nbsp;</span>Profile execution time of a program</a></span></li></ul></li><li><span><a href=\"#Python-Web-Scraping\" data-toc-modified-id=\"Python-Web-Scraping-24\"><span class=\"toc-item-num\">24&nbsp;&nbsp;</span>Python Web Scraping</a></span></li><li><span><a href=\"#Python-Interview-Questions\" data-toc-modified-id=\"Python-Interview-Questions-25\"><span class=\"toc-item-num\">25&nbsp;&nbsp;</span>Python Interview Questions</a></span></li></ul></div>"
   ]
  },
  {
   "cell_type": "markdown",
   "metadata": {},
   "source": [
    "# Python learning notes"
   ]
  },
  {
   "cell_type": "markdown",
   "metadata": {},
   "source": [
    "# Python Basics"
   ]
  },
  {
   "cell_type": "markdown",
   "metadata": {
    "collapsed": true
   },
   "source": [
    "## Interpreter mode\n",
    "- enter interpreter mode by typing python on terminal\n",
    "- exit interpreter mode by typing ctrl+d"
   ]
  },
  {
   "cell_type": "markdown",
   "metadata": {},
   "source": [
    "## Naming conventions\n",
    "- Class names start with an uppercase letter \n",
    "- Starting an identifier with a **single leading underscore indicates that the identifier is private** \n",
    "- Starting an identifier with **two leading underscores indicates a strongly private identifier** \n",
    "- If the identifier also ends with two trailing underscores, the identifier is a language-defined special name"
   ]
  },
  {
   "cell_type": "markdown",
   "metadata": {},
   "source": [
    "## Python Keywords\n",
    "    and        exec        not\n",
    "    assert     finally     or\n",
    "    break      for         pass\n",
    "    class      from        print\n",
    "    continue   global      raise\n",
    "    def        if          return\n",
    "    del        import      try\n",
    "    elif       in          while\n",
    "    else       is          with\n",
    "    except     lambda      yield"
   ]
  },
  {
   "cell_type": "markdown",
   "metadata": {},
   "source": [
    "## Python membership operators\n",
    "- Python’s membership operators **test for membership in a sequence**, such as strings, lists, or tuples\n",
    "- There are **two membership operators 'in', 'not in'**"
   ]
  },
  {
   "cell_type": "markdown",
   "metadata": {},
   "source": [
    "### in\n",
    "- 'in' evaluates to true if it finds a variable in the specified sequence and false otherwise"
   ]
  },
  {
   "cell_type": "code",
   "execution_count": 9,
   "metadata": {
    "scrolled": true
   },
   "outputs": [
    {
     "name": "stdout",
     "output_type": "stream",
     "text": [
      "test in ls: True\n",
      "4 in ls: True\n"
     ]
    }
   ],
   "source": [
    "# example\n",
    "ls = [1, 'test', 4, 9]\n",
    "print ('test in ls:', 'test' in ls)\n",
    "print ('4 in ls:', 4 in ls)"
   ]
  },
  {
   "cell_type": "markdown",
   "metadata": {},
   "source": [
    "### not in\n",
    "- 'not in' evaluates to true if it does not finds a variable in the specified sequence and false otherwise"
   ]
  },
  {
   "cell_type": "markdown",
   "metadata": {},
   "source": [
    "## Python identity operators\n",
    "- Identity operators **compare the memory locations of two objects**\n",
    "- There are two Identity operators 'is', 'is not'"
   ]
  },
  {
   "cell_type": "markdown",
   "metadata": {},
   "source": [
    "### is\n",
    "- 'is' evaluates to true if the variables on either side of the operator point to the same object and false otherwise"
   ]
  },
  {
   "cell_type": "code",
   "execution_count": 3,
   "metadata": {},
   "outputs": [
    {
     "name": "stdout",
     "output_type": "stream",
     "text": [
      "x is y: True\n"
     ]
    }
   ],
   "source": [
    "# example\n",
    "x=2; y=2\n",
    "print ('x is y:', x is y)"
   ]
  },
  {
   "cell_type": "markdown",
   "metadata": {},
   "source": [
    "### is not\n",
    "'is not' evaluates to false if the variables on either side of the operator point to the same object and true otherwise"
   ]
  },
  {
   "cell_type": "code",
   "execution_count": 4,
   "metadata": {},
   "outputs": [
    {
     "name": "stdout",
     "output_type": "stream",
     "text": [
      "x is not y: True\n"
     ]
    }
   ],
   "source": [
    "# example\n",
    "x=2; y=3\n",
    "print ('x is not y:', x is not y)"
   ]
  },
  {
   "cell_type": "markdown",
   "metadata": {},
   "source": [
    "### dir ([object])\n",
    "- **Without arguments, return the list of names in the current local scope**\n",
    "- With an argument, attempt to return a **list of valid attributes for that object**"
   ]
  },
  {
   "cell_type": "code",
   "execution_count": 1,
   "metadata": {},
   "outputs": [
    {
     "name": "stdout",
     "output_type": "stream",
     "text": [
      "['__add__', '__class__', '__contains__', '__delattr__', '__delitem__', '__dir__', '__doc__', '__eq__', '__format__', '__ge__', '__getattribute__', '__getitem__', '__gt__', '__hash__', '__iadd__', '__imul__', '__init__', '__init_subclass__', '__iter__', '__le__', '__len__', '__lt__', '__mul__', '__ne__', '__new__', '__reduce__', '__reduce_ex__', '__repr__', '__reversed__', '__rmul__', '__setattr__', '__setitem__', '__sizeof__', '__str__', '__subclasshook__', 'append', 'clear', 'copy', 'count', 'extend', 'index', 'insert', 'pop', 'remove', 'reverse', 'sort']\n"
     ]
    }
   ],
   "source": [
    "# example\n",
    "print (dir(list))"
   ]
  },
  {
   "cell_type": "code",
   "execution_count": 33,
   "metadata": {},
   "outputs": [
    {
     "name": "stdout",
     "output_type": "stream",
     "text": [
      "['__add__', '__class__', '__contains__', '__delattr__', '__dir__', '__doc__', '__eq__', '__format__', '__ge__', '__getattribute__', '__getitem__', '__getnewargs__', '__gt__', '__hash__', '__init__', '__init_subclass__', '__iter__', '__le__', '__len__', '__lt__', '__mod__', '__mul__', '__ne__', '__new__', '__reduce__', '__reduce_ex__', '__repr__', '__rmod__', '__rmul__', '__setattr__', '__sizeof__', '__str__', '__subclasshook__', 'capitalize', 'casefold', 'center', 'count', 'encode', 'endswith', 'expandtabs', 'find', 'format', 'format_map', 'index', 'isalnum', 'isalpha', 'isdecimal', 'isdigit', 'isidentifier', 'islower', 'isnumeric', 'isprintable', 'isspace', 'istitle', 'isupper', 'join', 'ljust', 'lower', 'lstrip', 'maketrans', 'partition', 'replace', 'rfind', 'rindex', 'rjust', 'rpartition', 'rsplit', 'rstrip', 'split', 'splitlines', 'startswith', 'strip', 'swapcase', 'title', 'translate', 'upper', 'zfill']\n"
     ]
    }
   ],
   "source": [
    "# example\n",
    "print(dir(str))"
   ]
  },
  {
   "cell_type": "markdown",
   "metadata": {},
   "source": [
    "### enumerate (iterable, start=0)\n",
    "- **Return an enumerate object**. iterable must be a sequence"
   ]
  },
  {
   "cell_type": "code",
   "execution_count": 5,
   "metadata": {},
   "outputs": [
    {
     "name": "stdout",
     "output_type": "stream",
     "text": [
      "0 1\n",
      "1 hi\n",
      "2 4\n"
     ]
    }
   ],
   "source": [
    "# example\n",
    "lst = [1, 'hi', 4]\n",
    "for idx, ls in enumerate(lst):\n",
    " print (idx, ls)"
   ]
  },
  {
   "cell_type": "code",
   "execution_count": 6,
   "metadata": {},
   "outputs": [
    {
     "name": "stdout",
     "output_type": "stream",
     "text": [
      "(0, 1)\n",
      "(1, 'hi')\n",
      "(2, 4)\n"
     ]
    }
   ],
   "source": [
    "# example\n",
    "lst = [1, 'hi', 4]\n",
    "for ls in enumerate(lst):\n",
    " print (ls)"
   ]
  },
  {
   "cell_type": "markdown",
   "metadata": {},
   "source": [
    "### help ([object])\n",
    "- Invoke the built-in help system. If no argument is given, the interactive help system starts on the interpreter console\n",
    "- If the argument is a string, then the string is looked up as the name of a module, function, class, method, keyword, or documentation topic, and a help page is printed on the console"
   ]
  },
  {
   "cell_type": "code",
   "execution_count": 3,
   "metadata": {},
   "outputs": [
    {
     "name": "stdout",
     "output_type": "stream",
     "text": [
      "Help on method_descriptor:\n",
      "\n",
      "append(...)\n",
      "    L.append(object) -> None -- append object to end\n",
      "\n"
     ]
    }
   ],
   "source": [
    "# example\n",
    "help(list.append)"
   ]
  },
  {
   "cell_type": "markdown",
   "metadata": {},
   "source": [
    "### id (object)\n",
    "- Returns the “identity” of an object\n",
    "- This is an integer which is guaranteed to be unique and constant for this object during its lifetime"
   ]
  },
  {
   "cell_type": "code",
   "execution_count": 15,
   "metadata": {},
   "outputs": [
    {
     "name": "stdout",
     "output_type": "stream",
     "text": [
      "1490805584\n",
      "71943104\n"
     ]
    }
   ],
   "source": [
    "# example\n",
    "val1 = 5\n",
    "val2 = 5.0\n",
    "print(id(val1))\n",
    "print(id(val2))"
   ]
  },
  {
   "cell_type": "markdown",
   "metadata": {},
   "source": [
    "### input ([prompt])\n",
    "- If the prompt argument is present, it is written to standard output without a trailing newline\n",
    "- The function then reads a line from input, converts it to a string (stripping a trailing newline), and returns that\n",
    "- when EOF is read, EOFError is raised"
   ]
  },
  {
   "cell_type": "markdown",
   "metadata": {},
   "source": [
    "### open\n",
    "- Syntax: open(file, mode=’r’, buffering=-1, encoding=None, errors=None, newline=None, closefd=True, opener=None)"
   ]
  },
  {
   "cell_type": "markdown",
   "metadata": {},
   "source": [
    "### sorted\n",
    "- Return a new sorted list from the items in iterable\n",
    "- Syntax: sorted(iterable[, key][, reverse])"
   ]
  },
  {
   "cell_type": "markdown",
   "metadata": {},
   "source": [
    "## use 'format' for print"
   ]
  },
  {
   "cell_type": "code",
   "execution_count": 16,
   "metadata": {},
   "outputs": [
    {
     "name": "stdout",
     "output_type": "stream",
     "text": [
      "bond is 25 years old\n",
      "bond is 25 years old: without index\n",
      "0.333\n"
     ]
    }
   ],
   "source": [
    "#example\n",
    "name = 'bond' \n",
    "age = 25\n",
    "\n",
    "print ('{0} is {1} years old'.format(name, age))\n",
    "\n",
    "# use format without index\n",
    "print ('{} is {} years old: without index'.format(name, age))\n",
    "\n",
    "# use format for a different format specifier\n",
    "print ('{0:.3f}'.format(1.0/3))"
   ]
  },
  {
   "cell_type": "markdown",
   "metadata": {},
   "source": [
    "## Print without newline : end = ''\n",
    "- By default python’s print() function ends with a newline.\n",
    "- Python’s print() function comes with a parameter called ‘end’. By default, the value of this parameter is ‘\\n’\n",
    "- You can end a print statement with any character/string using this parameter"
   ]
  },
  {
   "cell_type": "code",
   "execution_count": 41,
   "metadata": {},
   "outputs": [
    {
     "name": "stdout",
     "output_type": "stream",
     "text": [
      "welcome to\n",
      "python in multiple lines\n",
      "welcome to ++ python in single line\n"
     ]
    }
   ],
   "source": [
    "# example\n",
    "# by default creates newlines\n",
    "print ('welcome to')\n",
    "print ('python in multiple lines')\n",
    "\n",
    "# edit with end=''\n",
    "print ('welcome to', end=' ++ ')\n",
    "print ('python in single line')"
   ]
  },
  {
   "cell_type": "markdown",
   "metadata": {},
   "source": [
    "## data type conversion\n",
    "- To convert between types, you simply use the type name as a function\n",
    "- examples: int(x [,base]), tuple(s), dict(d)"
   ]
  },
  {
   "cell_type": "markdown",
   "metadata": {},
   "source": [
    "# Undescore _ in python\n",
    "- There are about 6 different uses of _ in python"
   ]
  },
  {
   "cell_type": "markdown",
   "metadata": {},
   "source": [
    "## _ in interpreter\n",
    "- Python automatically stores the value of the last expression in the interpreter to a particular variable called \"_.\" You can also assign these value to another variable if you want."
   ]
  },
  {
   "cell_type": "code",
   "execution_count": 11,
   "metadata": {},
   "outputs": [
    {
     "name": "stdout",
     "output_type": "stream",
     "text": [
      "4\n",
      "6\n"
     ]
    }
   ],
   "source": [
    "1+3\n",
    "print(_)\n",
    "print(_+2)"
   ]
  },
  {
   "cell_type": "markdown",
   "metadata": {},
   "source": [
    "## ignoring values\n",
    "- Underscore(_) is also used to ignore the values. If you don't want to use specific values while unpacking, just assign that value to underscore(_)."
   ]
  },
  {
   "cell_type": "code",
   "execution_count": 13,
   "metadata": {},
   "outputs": [
    {
     "name": "stdout",
     "output_type": "stream",
     "text": [
      "1 3\n",
      "1 6\n"
     ]
    }
   ],
   "source": [
    "a, _, b = (1, 2, 3)\n",
    "print(a, b)\n",
    "\n",
    "# ignore multiple values: extended unpacking\n",
    "a,*_,b = (1,2,3,4,5,6)\n",
    "print(a, b)"
   ]
  },
  {
   "cell_type": "markdown",
   "metadata": {},
   "source": [
    "## as a variable"
   ]
  },
  {
   "cell_type": "code",
   "execution_count": 14,
   "metadata": {},
   "outputs": [
    {
     "name": "stdout",
     "output_type": "stream",
     "text": [
      "0\n",
      "1\n",
      "2\n"
     ]
    }
   ],
   "source": [
    "for _ in range(3):\n",
    "    print(_)"
   ]
  },
  {
   "cell_type": "markdown",
   "metadata": {},
   "source": [
    "## Separating Digits Of Numbers\n",
    "- If you have a long digits number, you can separate the group of digits as you like for better understanding"
   ]
  },
  {
   "cell_type": "code",
   "execution_count": 15,
   "metadata": {},
   "outputs": [
    {
     "name": "stdout",
     "output_type": "stream",
     "text": [
      "1000000\n",
      "2\n",
      "52\n",
      "9131\n"
     ]
    }
   ],
   "source": [
    "million = 1_000_000\n",
    "binary = 0b_0010\n",
    "octa = 0o_64\n",
    "hexa = 0x_23_ab\n",
    "\n",
    "print(million)\n",
    "print(binary)\n",
    "print(octa)\n",
    "print(hexa)"
   ]
  },
  {
   "cell_type": "markdown",
   "metadata": {},
   "source": [
    "## Naming Using Underscore(_)\n",
    "- Underscore(_) can be used to name variables, functions and classes, etc..,"
   ]
  },
  {
   "cell_type": "markdown",
   "metadata": {},
   "source": [
    "### _single_pre_underscore\n",
    "- single pre underscore doesn't stop you from accessing the single pre underscore variable.\n",
    "- But, single pre underscore effects the names that are imported from the module, Python doesn't import the names which starts with a single pre underscore.\n",
    "- That is why, we mostly don't use ?"
   ]
  },
  {
   "cell_type": "markdown",
   "metadata": {},
   "source": [
    "### Double Pre Underscore\n",
    "- Double Pre Underscores are used for the name mangling.\n",
    "\n",
    "- Double Pre Underscores tells the Python interpreter to rewrite the attribute name of subclasses to avoid naming conflicts.\n",
    "\n",
    "- Name Mangling:- interpreter of the Python alters the variable name in a way that it is challenging to clash when the class is inherited.\n",
    "- **It is to avoid the overriding of the variable in subclasses.**"
   ]
  },
  {
   "cell_type": "code",
   "execution_count": 34,
   "metadata": {},
   "outputs": [
    {
     "name": "stdout",
     "output_type": "stream",
     "text": [
      "Note: __variable3 is not overriden by subclass, meaning separate variabl3 is also created in subclass\n",
      "There separate names are created with namemangling, measning modified with class names\n",
      "\n"
     ]
    },
    {
     "data": {
      "text/plain": [
       "['_FirstClass__variabl3',\n",
       " '_SecondClass__variabl3',\n",
       " '__class__',\n",
       " '__delattr__',\n",
       " '__dict__',\n",
       " '__dir__',\n",
       " '__doc__',\n",
       " '__eq__',\n",
       " '__format__',\n",
       " '__ge__',\n",
       " '__getattribute__',\n",
       " '__gt__',\n",
       " '__hash__',\n",
       " '__init__',\n",
       " '__init_subclass__',\n",
       " '__le__',\n",
       " '__lt__',\n",
       " '__module__',\n",
       " '__ne__',\n",
       " '__new__',\n",
       " '__reduce__',\n",
       " '__reduce_ex__',\n",
       " '__repr__',\n",
       " '__setattr__',\n",
       " '__sizeof__',\n",
       " '__str__',\n",
       " '__subclasshook__',\n",
       " '__weakref__',\n",
       " '_variabl2',\n",
       " 'variabl1']"
      ]
     },
     "execution_count": 34,
     "metadata": {},
     "output_type": "execute_result"
    }
   ],
   "source": [
    "class FirstClass:\n",
    "    def __init__(self):\n",
    "        self.variabl1 = 1\n",
    "        self._variabl2 = 2\n",
    "        self.__variabl3 = 3\n",
    "        \n",
    "class SecondClass(FirstClass):\n",
    "    def __init__(self):\n",
    "        super().__init__()\n",
    "        self.variabl1 = \"overidden\"\n",
    "        self._variabl2 = \"overidden\"\n",
    "        self.__variabl3 = \"overidden\"\n",
    "\n",
    "        \n",
    "print(\"Note: __variable3 is not overriden by subclass, meaning separate variabl3 is also created in subclass\")\n",
    "print(\"There separate names are created with namemangling, measning modified with class names\\n\")\n",
    "\n",
    "obj_fc = FirstClass()\n",
    "dir(obj_fc)\n",
    "\n",
    "obj_sc = SecondClass()\n",
    "dir(obj_sc)\n",
    "\n",
    "#print(obj_fc.variabl1)"
   ]
  },
  {
   "cell_type": "code",
   "execution_count": 40,
   "metadata": {},
   "outputs": [
    {
     "name": "stdout",
     "output_type": "stream",
     "text": [
      "Values from first class\n",
      "obj_fc.variabl1:  1\n",
      "obj_fc._variabl2:  2\n",
      "\n",
      "Values from second class, as Python checks in the order of local object, class, parent cass\n",
      "obj_sc.variabl1:  overidden\n",
      "obj_sc._variabl2:  overidden\n",
      "\n",
      "Note however we can't directly access __variable3, \n",
      " because of name mangling we should use modified name to directly access\n",
      "The idea is to protect the attributes from direct access outside class\n",
      "\n",
      "obj_fc._FirstClass__variabl3:  3\n",
      "obj_sc._SecondClass__variabl3:  overidden\n",
      "\n",
      "Note however we can't directly access __variable3, gives Error\n"
     ]
    },
    {
     "ename": "AttributeError",
     "evalue": "'FirstClass' object has no attribute '__variabl3'",
     "output_type": "error",
     "traceback": [
      "\u001b[1;31m---------------------------------------------------------------------------\u001b[0m",
      "\u001b[1;31mAttributeError\u001b[0m                            Traceback (most recent call last)",
      "\u001b[1;32m<ipython-input-40-5f7f7fd4f2c1>\u001b[0m in \u001b[0;36m<module>\u001b[1;34m()\u001b[0m\n\u001b[0;32m     36\u001b[0m \u001b[1;33m\u001b[0m\u001b[0m\n\u001b[0;32m     37\u001b[0m \u001b[0mprint\u001b[0m\u001b[1;33m(\u001b[0m\u001b[1;34m\"\\nNote however we can't directly access __variable3, gives Error\"\u001b[0m\u001b[1;33m)\u001b[0m\u001b[1;33m\u001b[0m\u001b[0m\n\u001b[1;32m---> 38\u001b[1;33m \u001b[0mprint\u001b[0m\u001b[1;33m(\u001b[0m\u001b[0mobj_fc\u001b[0m\u001b[1;33m.\u001b[0m\u001b[0m__variabl3\u001b[0m\u001b[1;33m)\u001b[0m\u001b[1;33m\u001b[0m\u001b[0m\n\u001b[0m",
      "\u001b[1;31mAttributeError\u001b[0m: 'FirstClass' object has no attribute '__variabl3'"
     ]
    }
   ],
   "source": [
    "class FirstClass:\n",
    "    def __init__(self):\n",
    "        self.variabl1 = 1\n",
    "        self._variabl2 = 2\n",
    "        self.__variabl3 = 3\n",
    "        \n",
    "class SecondClass(FirstClass):\n",
    "    def __init__(self):\n",
    "        super().__init__()\n",
    "        self.variabl1 = \"overidden\"\n",
    "        self._variabl2 = \"overidden\"\n",
    "        self.__variabl3 = \"overidden\"\n",
    "\n",
    "        \n",
    "#print(\"Note: __variable3 is not overriden by subclass, meaning separate variabl3 is also created in subclass\")\n",
    "#print(\"There separate names are created with namemangling, measning modified with class names\\n\")\n",
    "\n",
    "obj_fc = FirstClass()\n",
    "#dir(obj_fc)\n",
    "\n",
    "obj_sc = SecondClass()\n",
    "#dir(obj_sc)\n",
    "\n",
    "print(\"Values from first class\")\n",
    "print(\"obj_fc.variabl1: \",obj_fc.variabl1)\n",
    "print(\"obj_fc._variabl2: \",obj_fc._variabl2)\n",
    "\n",
    "print(\"\\nValues from second class, as Python checks in the order of local object, class, parent cass\")\n",
    "print(\"obj_sc.variabl1: \",obj_sc.variabl1)\n",
    "print(\"obj_sc._variabl2: \",obj_sc._variabl2)\n",
    "\n",
    "print(\"\\nNote however we can't directly access __variable3, \\n \\\n",
    "because of name mangling we should use modified name to directly access\")\n",
    "print(\"The idea is to protect the attributes from direct access outside class\\n\")\n",
    "print(\"obj_fc._FirstClass__variabl3: \",obj_fc._FirstClass__variabl3)\n",
    "print(\"obj_sc._SecondClass__variabl3: \",obj_sc._SecondClass__variabl3)\n",
    "\n",
    "print(\"\\nNote however we can't directly access __variable3, gives Error\")\n",
    "print(obj_fc.__variabl3)"
   ]
  },
  {
   "cell_type": "markdown",
   "metadata": {},
   "source": [
    "### Double pre underscore fields, methods and access"
   ]
  },
  {
   "cell_type": "code",
   "execution_count": 44,
   "metadata": {},
   "outputs": [
    {
     "name": "stdout",
     "output_type": "stream",
     "text": [
      "In public method: access __variable {} private variable\n",
      "\n",
      "Can call private method from the methods, can't call from outside\n",
      "In private method: access __variable {} private variable\n",
      "\n",
      "Directly accessig private method, private variable gives error\n"
     ]
    },
    {
     "ename": "AttributeError",
     "evalue": "'Test' object has no attribute '_private_method'",
     "output_type": "error",
     "traceback": [
      "\u001b[1;31m---------------------------------------------------------------------------\u001b[0m",
      "\u001b[1;31mAttributeError\u001b[0m                            Traceback (most recent call last)",
      "\u001b[1;32m<ipython-input-44-cf342e66d12a>\u001b[0m in \u001b[0;36m<module>\u001b[1;34m()\u001b[0m\n\u001b[0;32m     15\u001b[0m \u001b[1;33m\u001b[0m\u001b[0m\n\u001b[0;32m     16\u001b[0m \u001b[0mprint\u001b[0m\u001b[1;33m(\u001b[0m\u001b[1;34m\"\\nDirectly accessig private method, private variable gives error\"\u001b[0m\u001b[1;33m)\u001b[0m\u001b[1;33m\u001b[0m\u001b[0m\n\u001b[1;32m---> 17\u001b[1;33m \u001b[0mobj\u001b[0m\u001b[1;33m.\u001b[0m\u001b[0m_private_method\u001b[0m\u001b[1;33m(\u001b[0m\u001b[1;33m)\u001b[0m\u001b[1;33m\u001b[0m\u001b[0m\n\u001b[0m",
      "\u001b[1;31mAttributeError\u001b[0m: 'Test' object has no attribute '_private_method'"
     ]
    }
   ],
   "source": [
    "class Test:\n",
    "    def __init__(self):\n",
    "        self.__private = \"private variable\"\n",
    "        \n",
    "    def __private_method(self):\n",
    "        print(\"In private method: access __variable {}\", self.__private)\n",
    "    \n",
    "    def public_method(self):\n",
    "        print(\"In public method: access __variable {}\", self.__private)\n",
    "        print(\"\\nCan call private method from the methods, can't call from outside\")\n",
    "        self.__private_method()\n",
    "        \n",
    "obj = Test()\n",
    "obj.public_method()\n",
    "\n",
    "print(\"\\nDirectly accessig private method, private variable gives error\")\n",
    "obj._private_method()"
   ]
  },
  {
   "cell_type": "markdown",
   "metadata": {},
   "source": [
    "# Strings\n",
    "- Python allows for either pairs of single or double quotes\n",
    "- Subsets of strings can be taken using the slice operator ([ ] and [:] )\n",
    "- indexes starting at 0 in the beginning of the string and **working their way from -1 at the end**\n",
    "- The **plus (+) sign is the string concatenation operator and the asterisk (*) is the repetition operator**"
   ]
  },
  {
   "cell_type": "code",
   "execution_count": 10,
   "metadata": {},
   "outputs": [
    {
     "name": "stdout",
     "output_type": "stream",
     "text": [
      "str: Hello World!\n",
      "str[0]: H\n",
      "str[2:7]: llo W\n",
      "str[2:]: llo World!\n",
      "str[-3:-1]: ld\n",
      "str * 2: Hello World!Hello World!\n",
      "str + TEST: Hello World!TEST\n"
     ]
    }
   ],
   "source": [
    "# example\n",
    "str = 'Hello World!'\n",
    "\n",
    "print ('str:', str)          # Prints complete string\n",
    "print ('str[0]:', str[0])       # Prints first character of the string\n",
    "print ('str[2:7]:', str[2:7])     # Prints characters starting from 3rd to 7th\n",
    "print ('str[2:]:', str[2:])      # Prints string starting from 3rd character\n",
    "print ('str[-3:-1]:', str[-3:-1])      # Prints string starting from 3rd character\n",
    "print ('str * 2:', str * 2)          # Prints string two times\n",
    "print ('str + TEST:', str + \"TEST\")  # Prints concatenated string"
   ]
  },
  {
   "cell_type": "markdown",
   "metadata": {},
   "source": [
    "## Strings are immutable\n",
    "- The values in a string can't be changed"
   ]
  },
  {
   "cell_type": "code",
   "execution_count": 13,
   "metadata": {},
   "outputs": [
    {
     "ename": "TypeError",
     "evalue": "'str' object does not support item assignment",
     "output_type": "error",
     "traceback": [
      "\u001b[1;31m---------------------------------------------------------------------------\u001b[0m",
      "\u001b[1;31mTypeError\u001b[0m                                 Traceback (most recent call last)",
      "\u001b[1;32m<ipython-input-13-70a68214670a>\u001b[0m in \u001b[0;36m<module>\u001b[1;34m()\u001b[0m\n\u001b[0;32m      1\u001b[0m \u001b[0mstr1\u001b[0m \u001b[1;33m=\u001b[0m \u001b[1;34m\"string\"\u001b[0m\u001b[1;33m\u001b[0m\u001b[0m\n\u001b[1;32m----> 2\u001b[1;33m \u001b[0mstr1\u001b[0m\u001b[1;33m[\u001b[0m\u001b[1;36m0\u001b[0m\u001b[1;33m]\u001b[0m \u001b[1;33m=\u001b[0m \u001b[1;34m'c'\u001b[0m\u001b[1;33m\u001b[0m\u001b[0m\n\u001b[0m",
      "\u001b[1;31mTypeError\u001b[0m: 'str' object does not support item assignment"
     ]
    }
   ],
   "source": [
    "str1 = \"string\"\n",
    "str1[0] = 'c'"
   ]
  },
  {
   "cell_type": "markdown",
   "metadata": {},
   "source": [
    "## + operation on strings"
   ]
  },
  {
   "cell_type": "code",
   "execution_count": 5,
   "metadata": {},
   "outputs": [
    {
     "name": "stdout",
     "output_type": "stream",
     "text": [
      "+ operator on strings concatenates the result\n",
      "i+am= iam\n"
     ]
    }
   ],
   "source": [
    "a = 'i'\n",
    "b = 'am'\n",
    "s = a + b\n",
    "print ('+ operator on strings concatenates the result')\n",
    "print ('i+am=', s)"
   ]
  },
  {
   "cell_type": "markdown",
   "metadata": {},
   "source": [
    "## 'format' to concat strings"
   ]
  },
  {
   "cell_type": "code",
   "execution_count": 6,
   "metadata": {},
   "outputs": [
    {
     "name": "stdout",
     "output_type": "stream",
     "text": [
      "strings can be added using format\n"
     ]
    }
   ],
   "source": [
    "str2 = 'strings'\n",
    "str3 = 'can be added'\n",
    "str4 = '{} {} using format'.format(str2, str3)\n",
    "print (str4)"
   ]
  },
  {
   "cell_type": "code",
   "execution_count": 12,
   "metadata": {},
   "outputs": [
    {
     "name": "stdout",
     "output_type": "stream",
     "text": [
      "string #1\n"
     ]
    }
   ],
   "source": [
    "str1 = 'string'\n",
    "val = 1\n",
    "str2 = '{} #{}'.format(str1, val)\n",
    "print(str2)"
   ]
  },
  {
   "cell_type": "markdown",
   "metadata": {},
   "source": [
    "# Lists\n",
    "- A list contains items separated by commas and enclosed within square brackets []\n",
    "- To some extent, lists are similar to arrays in C\n",
    "- One difference between them is that all the **items belonging to a list can be of different data type**"
   ]
  },
  {
   "cell_type": "code",
   "execution_count": 7,
   "metadata": {},
   "outputs": [
    {
     "name": "stdout",
     "output_type": "stream",
     "text": [
      "list: ['abcd', 786, 2.23, 'john', 70.2]\n",
      "list[0]: abcd\n",
      "list[1:3]: [786, 2.23]\n",
      "list[2:]: [2.23, 'john', 70.2]\n",
      "tinylist * 2: [123, 'john', 123, 'john']\n",
      "list + tinylist: ['abcd', 786, 2.23, 'john', 70.2, 123, 'john']\n"
     ]
    }
   ],
   "source": [
    "# example\n",
    "list = [ 'abcd', 786 , 2.23, 'john', 70.2 ]\n",
    "tinylist = [123, 'john']\n",
    "\n",
    "print ('list:', list)          # Prints complete list\n",
    "print ('list[0]:', list[0])       # Prints first element of the list\n",
    "print ('list[1:3]:', list[1:3])     # Prints elements starting from 2nd till 3rd \n",
    "print ('list[2:]:', list[2:])      # Prints elements starting from 3rd element\n",
    "print ('tinylist * 2:', tinylist * 2)  # Prints list two times\n",
    "print ('list + tinylist:', list + tinylist) # Prints concatenated lists"
   ]
  },
  {
   "cell_type": "markdown",
   "metadata": {},
   "source": [
    "## Slicing of Lists, Strings\n",
    "- slicing syntax is **list[start:end:step]**\n",
    "- **start and end can be -ve indexes also and step also can be -ve **"
   ]
  },
  {
   "cell_type": "code",
   "execution_count": 21,
   "metadata": {},
   "outputs": [
    {
     "name": "stdout",
     "output_type": "stream",
     "text": [
      "list result with slicing and last index element is not included:  [2, 3, 4] \n",
      "\n",
      "list result without any index is full list:  [0, 1, 2, 3, 4, 5, 6] \n",
      "\n",
      "list result with step of 2:  [0, 2, 4, 6] \n",
      "\n",
      "list result with -ve indexing:  [1, 2, 3, 4, 5] \n",
      "\n",
      "list result with -ve step:  [6, 5, 4, 3, 2] \n",
      "\n"
     ]
    }
   ],
   "source": [
    "# example\n",
    "lst = [0, 1, 2, 3, 4, 5, 6]\n",
    "#-ve index's\n",
    "# lst = [-7, -6, -5, -4, -3, -2, -1]\n",
    "\n",
    "lst1 = lst[2:5]\n",
    "print ('list result with slicing and last index element is not included: ', lst1, '\\n')\n",
    "\n",
    "lst1 = lst[:]\n",
    "print ('list result without any index is full list: ', lst1, '\\n')\n",
    "\n",
    "lst1 = lst[::2]\n",
    "print ('list result with step of 2: ', lst1, '\\n')\n",
    "\n",
    "lst1 = lst[-6:-1]\n",
    "print ('list result with -ve indexing: ', lst1, '\\n')\n",
    "\n",
    "lst1 = lst[6:1:-1]\n",
    "print ('list result with -ve step: ', lst1, '\\n')"
   ]
  },
  {
   "cell_type": "markdown",
   "metadata": {},
   "source": [
    "## Delete list elements"
   ]
  },
  {
   "cell_type": "code",
   "execution_count": 22,
   "metadata": {},
   "outputs": [
    {
     "name": "stdout",
     "output_type": "stream",
     "text": [
      "list1: ['physics', 'chemistry', 1997, 2000]\n",
      "After deleting value at index 2 : \n",
      "list1: ['physics', 'chemistry', 2000]\n"
     ]
    }
   ],
   "source": [
    "list1 = ['physics', 'chemistry', 1997, 2000];\n",
    "\n",
    "print ('list1:', list1)\n",
    "del list1[2];\n",
    "print (\"After deleting value at index 2 : \")\n",
    "print ('list1:', list1)"
   ]
  },
  {
   "cell_type": "markdown",
   "metadata": {},
   "source": [
    "## Built-in List functions and methods"
   ]
  },
  {
   "cell_type": "markdown",
   "metadata": {},
   "source": [
    "### help: get help using method name"
   ]
  },
  {
   "cell_type": "code",
   "execution_count": 10,
   "metadata": {},
   "outputs": [
    {
     "name": "stdout",
     "output_type": "stream",
     "text": [
      "Help on built-in function append:\n",
      "\n",
      "append(...) method of builtins.list instance\n",
      "    L.append(object) -> None -- append object to end\n",
      "\n",
      "None\n"
     ]
    }
   ],
   "source": [
    "# help: get help using method name\n",
    "print(help(list.append))"
   ]
  },
  {
   "cell_type": "markdown",
   "metadata": {},
   "source": [
    "### functions"
   ]
  },
  {
   "cell_type": "code",
   "execution_count": 11,
   "metadata": {},
   "outputs": [
    {
     "name": "stdout",
     "output_type": "stream",
     "text": [
      "- len(list), cmp(list), max(list), sum(list), sorted(list) \n"
     ]
    }
   ],
   "source": [
    "print ('''- len(list), cmp(list), max(list), sum(list), sorted(list) ''')"
   ]
  },
  {
   "cell_type": "markdown",
   "metadata": {},
   "source": [
    "### zip ()\n",
    "- zip function combines multiple iterables to single iterable tuple pairs"
   ]
  },
  {
   "cell_type": "code",
   "execution_count": 17,
   "metadata": {},
   "outputs": [
    {
     "name": "stdout",
     "output_type": "stream",
     "text": [
      "<zip object at 0x0000024D80F86348>\n",
      "tuples in zipped iterable\n",
      "('one', '1', 'first')\n",
      "('two', '2', 'second')\n"
     ]
    }
   ],
   "source": [
    "# example\n",
    "ls1 = ['one', 'two']\n",
    "ls2 = ['1', '2']\n",
    "ls3 = ['first', 'second']\n",
    "ls4 = zip(ls1, ls2, ls3)\n",
    "\n",
    "print(ls4)\n",
    "print ('tuples in zipped iterable')\n",
    "for tp in ls4:\n",
    "    print (tp)"
   ]
  },
  {
   "cell_type": "markdown",
   "metadata": {},
   "source": [
    "## methods"
   ]
  },
  {
   "cell_type": "code",
   "execution_count": 39,
   "metadata": {},
   "outputs": [
    {
     "name": "stdout",
     "output_type": "stream",
     "text": [
      "- list.append(obj), list.extern(obj) \n"
     ]
    }
   ],
   "source": [
    "print('''- list.append(obj), list.extern(obj) ''')"
   ]
  },
  {
   "cell_type": "markdown",
   "metadata": {},
   "source": [
    "### join method\n",
    "- method join() returns a string in which the string elements of sequence have been joined by str separator\n",
    "- **syntax: str.join(sequence)**"
   ]
  },
  {
   "cell_type": "code",
   "execution_count": 35,
   "metadata": {},
   "outputs": [
    {
     "name": "stdout",
     "output_type": "stream",
     "text": [
      "hi - how - are - you\n"
     ]
    }
   ],
   "source": [
    "# example\n",
    "ls = ['hi', 'how', 'are', 'you']\n",
    "str1 = ' - '.join(ls)\n",
    "print(str1)"
   ]
  },
  {
   "cell_type": "markdown",
   "metadata": {},
   "source": [
    "### split method\n",
    "- method split() returns a list of all the words in the string, using str as the separator (splits on all whitespace if left unspecified)\n",
    "- optionally limiting the number of splits to num\n",
    "- **syntax: str.split(str=\"\", num=string.count(str))**"
   ]
  },
  {
   "cell_type": "code",
   "execution_count": 28,
   "metadata": {},
   "outputs": [
    {
     "name": "stdout",
     "output_type": "stream",
     "text": [
      "['hi', 'how', 'are', 'you']\n"
     ]
    }
   ],
   "source": [
    "# example\n",
    "ls_new = str1.split(' - ')\n",
    "print (ls_new)"
   ]
  },
  {
   "cell_type": "markdown",
   "metadata": {},
   "source": [
    "# tuples\n",
    "- A tuple is another sequence data type that is **similar to the list**. tuples are enclosed within parentheses\n",
    "- The main differences between lists and tuples are: \n",
    "    - **tuples are immutable**, i.e., they can't be updated\n",
    "- Tuples can be thought of as **read-only lists**"
   ]
  },
  {
   "cell_type": "markdown",
   "metadata": {},
   "source": [
    "# Dictionary\n",
    "- Python's dictionaries are kind of hash table type\n",
    "- A dictionary key can be almost any Python type, but are usually numbers or strings\n",
    "- Values, on the other hand, can be any arbitrary Python object\n",
    "- Dictionaries are enclosed by curly braces ({ }) and values can be assigned and accessed using square braces []"
   ]
  },
  {
   "cell_type": "markdown",
   "metadata": {},
   "source": [
    "## dictionary examples"
   ]
  },
  {
   "cell_type": "code",
   "execution_count": 12,
   "metadata": {},
   "outputs": [
    {
     "name": "stdout",
     "output_type": "stream",
     "text": [
      "dict: This is one\n",
      "dict[2]: This is two\n",
      "tinydict: {'name': 'john', 'code': 6734, 'dept': 'sales'}\n",
      "tinydict.keys(): dict_keys(['name', 'code', 'dept'])\n",
      "tinydict.values(): dict_values(['john', 6734, 'sales'])\n"
     ]
    }
   ],
   "source": [
    "# example\n",
    "dict = {}\n",
    "dict['one'] = \"This is one\"\n",
    "dict[2]     = \"This is two\"\n",
    "\n",
    "tinydict = {'name': 'john','code':6734, 'dept': 'sales'}\n",
    "\n",
    "print ('dict:', dict['one'])       # Prints value for 'one' key\n",
    "print ('dict[2]:', dict[2])           # Prints value for 2 key\n",
    "print ('tinydict:', tinydict)          # Prints complete dictionary\n",
    "print ('tinydict.keys():', tinydict.keys())   # Prints all the keys\n",
    "print ('tinydict.values():', tinydict.values()) # Prints all the values"
   ]
  },
  {
   "cell_type": "markdown",
   "metadata": {},
   "source": [
    "## looping dictionary items"
   ]
  },
  {
   "cell_type": "code",
   "execution_count": 13,
   "metadata": {},
   "outputs": [
    {
     "name": "stdout",
     "output_type": "stream",
     "text": [
      "key:  name value:  john\n",
      "key:  code value:  6734\n",
      "key:  dept value:  sales\n"
     ]
    }
   ],
   "source": [
    "dict = {'name': 'john','code':6734, 'dept': 'sales'}\n",
    "for key, value in dict.items():\n",
    "  print ('key: ', key, 'value: ', value)"
   ]
  },
  {
   "cell_type": "markdown",
   "metadata": {},
   "source": [
    "## DefaultDict\n",
    "- Defaultdict is a container like dictionaries present in the module collections. \n",
    "- Defaultdict is a sub-class of the dict class that returns a dictionary-like object. \n",
    "- The functionality of both dictionaries and defualtdict are almost same except for the fact that defualtdict never raises a KeyError. **It provides a default value for the key that does not exist in the dictionary**"
   ]
  },
  {
   "cell_type": "code",
   "execution_count": 12,
   "metadata": {},
   "outputs": [
    {
     "name": "stdout",
     "output_type": "stream",
     "text": [
      "d[a]: 1\n",
      "d[b]: 2\n"
     ]
    },
    {
     "ename": "KeyError",
     "evalue": "'c'",
     "output_type": "error",
     "traceback": [
      "\u001b[1;31m---------------------------------------------------------------------------\u001b[0m",
      "\u001b[1;31mKeyError\u001b[0m                                  Traceback (most recent call last)",
      "\u001b[1;32m<ipython-input-12-6176407fcf88>\u001b[0m in \u001b[0;36m<module>\u001b[1;34m()\u001b[0m\n\u001b[0;32m      6\u001b[0m \u001b[0mprint\u001b[0m\u001b[1;33m(\u001b[0m\u001b[1;34m\"d[a]:\"\u001b[0m\u001b[1;33m,\u001b[0m \u001b[0md\u001b[0m\u001b[1;33m[\u001b[0m\u001b[1;34m\"a\"\u001b[0m\u001b[1;33m]\u001b[0m\u001b[1;33m)\u001b[0m\u001b[1;33m\u001b[0m\u001b[0m\n\u001b[0;32m      7\u001b[0m \u001b[0mprint\u001b[0m\u001b[1;33m(\u001b[0m\u001b[1;34m\"d[b]:\"\u001b[0m\u001b[1;33m,\u001b[0m \u001b[0md\u001b[0m\u001b[1;33m[\u001b[0m\u001b[1;34m\"b\"\u001b[0m\u001b[1;33m]\u001b[0m\u001b[1;33m)\u001b[0m\u001b[1;33m\u001b[0m\u001b[0m\n\u001b[1;32m----> 8\u001b[1;33m \u001b[0mprint\u001b[0m\u001b[1;33m(\u001b[0m\u001b[1;34m\"d[c]:\"\u001b[0m\u001b[1;33m,\u001b[0m \u001b[0md\u001b[0m\u001b[1;33m[\u001b[0m\u001b[1;34m\"c\"\u001b[0m\u001b[1;33m]\u001b[0m\u001b[1;33m)\u001b[0m\u001b[1;33m\u001b[0m\u001b[0m\n\u001b[0m",
      "\u001b[1;31mKeyError\u001b[0m: 'c'"
     ]
    }
   ],
   "source": [
    "# example normal dictionary, for key error\n",
    "\n",
    "d = {}\n",
    "d[\"a\"] = 1\n",
    "d[\"b\"] = 2\n",
    "print(\"d[a]:\", d[\"a\"])\n",
    "print(\"d[b]:\", d[\"b\"])\n",
    "print(\"d[c]:\", d[\"c\"])"
   ]
  },
  {
   "cell_type": "code",
   "execution_count": 14,
   "metadata": {},
   "outputs": [
    {
     "name": "stdout",
     "output_type": "stream",
     "text": [
      "We can specify the default value whatever we need\n",
      "d[a]: 1\n",
      "d[b]: 2\n",
      "d[c]: Not Present\n"
     ]
    }
   ],
   "source": [
    "# example defaultdict, doesn't raise key error\n",
    "\n",
    "from collections import defaultdict\n",
    "  \n",
    "  \n",
    "# Function to return a default\n",
    "# values for keys that is not\n",
    "# present\n",
    "def def_value():\n",
    "    return \"Not Present\"\n",
    "      \n",
    "# Defining the dict\n",
    "print(\"We can specify the default value whatever we need\")\n",
    "d = defaultdict(def_value)\n",
    "d[\"a\"] = 1\n",
    "d[\"b\"] = 2\n",
    "  \n",
    "print(\"d[a]:\", d[\"a\"])\n",
    "print(\"d[b]:\", d[\"b\"])\n",
    "print(\"d[c]:\", d[\"c\"])"
   ]
  },
  {
   "cell_type": "markdown",
   "metadata": {},
   "source": [
    "# Comprehensions\n",
    "- comprehensions are concise way to create list/dictionaries\n",
    "- syntax: lst = [expression for item in list if condition] \n",
    "- the variables name in expression and for loop should same"
   ]
  },
  {
   "cell_type": "markdown",
   "metadata": {},
   "source": [
    "## List comprehensions"
   ]
  },
  {
   "cell_type": "code",
   "execution_count": 31,
   "metadata": {},
   "outputs": [
    {
     "name": "stdout",
     "output_type": "stream",
     "text": [
      "list of numbers : [0, 1, 2, 3, 4, 5]\n",
      "list of squares:  [0, 1, 4, 9, 16, 25]\n",
      "list of even numbers:  [0, 2, 4]\n",
      "comprehension with 2 for loops:  [('a', 0), ('a', 1), ('b', 0), ('b', 1)]\n",
      "pair creation with zip in comprehension:  [('a', '1'), ('b', '2')]\n"
     ]
    }
   ],
   "source": [
    "# genarate list of numbers\n",
    "lst = [num for num in range(6)]\n",
    "print ('list of numbers :', lst)\n",
    "\n",
    "# genarate list of squrares with expression\n",
    "lst = [num * num for num in range(6)]\n",
    "print ('list of squares: ', lst)\n",
    "\n",
    "# genarate list of even numbers with expression and condition\n",
    "lst = [num for num in range(6) if num%2 == 0]\n",
    "print ('list of even numbers: ', lst)\n",
    "\n",
    "# two for loops in comprehension (to create tuple pairs)\n",
    "str1 = 'ab'\n",
    "lst = [(ch, id) for ch in str1 for id in range(2)]\n",
    "print ('comprehension with 2 for loops: ', lst)\n",
    "\n",
    "# pair creation with zip\n",
    "str1 = 'ab'\n",
    "lst1 = ['1', '2']\n",
    "lst = [(ch, id) for ch, id in zip(str1, lst1)]\n",
    "print ('pair creation with zip in comprehension: ', lst)"
   ]
  },
  {
   "cell_type": "markdown",
   "metadata": {},
   "source": [
    "# for\n",
    "- <font color=blue> for works on any iterable like strings, lists, tuples, dictionaries </font>"
   ]
  },
  {
   "cell_type": "markdown",
   "metadata": {},
   "source": [
    "## for example on lists"
   ]
  },
  {
   "cell_type": "code",
   "execution_count": 32,
   "metadata": {},
   "outputs": [
    {
     "name": "stdout",
     "output_type": "stream",
     "text": [
      "apples\n",
      "oranges\n",
      "mangoes\n"
     ]
    }
   ],
   "source": [
    "fruits = [\"apples\", \"oranges\", \"mangoes\"]\n",
    "for fruit in fruits:\n",
    "    print (fruit)"
   ]
  },
  {
   "cell_type": "markdown",
   "metadata": {},
   "source": [
    "## for example on strings"
   ]
  },
  {
   "cell_type": "code",
   "execution_count": 1,
   "metadata": {},
   "outputs": [
    {
     "name": "stdout",
     "output_type": "stream",
     "text": [
      "a\n",
      "p\n",
      "p\n",
      "l\n",
      "e\n"
     ]
    }
   ],
   "source": [
    "fruit = 'apple'\n",
    "for ch in fruit:\n",
    "    print (ch)"
   ]
  },
  {
   "cell_type": "markdown",
   "metadata": {},
   "source": [
    "## for using range function\n",
    "- range generates the sequence of numbers\n",
    "- **syntax of range: range(start,stop,step)**\n",
    "- start is optional, if start is not specified starts from 0. step is optional, default step is 1"
   ]
  },
  {
   "cell_type": "code",
   "execution_count": 3,
   "metadata": {},
   "outputs": [
    {
     "name": "stdout",
     "output_type": "stream",
     "text": [
      "iteration cnt: 0\n",
      "iteration cnt: 1\n",
      "iteration cnt: 2\n",
      "iteration cnt: 3\n",
      "iteration cnt: 4\n",
      "step 2: iteration cnt: 0\n",
      "step 2: iteration cnt: 2\n",
      "step 2: iteration cnt: 4\n",
      "reverse loop: iteration cnt: 5\n",
      "reverse loop: iteration cnt: 4\n",
      "reverse loop: iteration cnt: 3\n",
      "reverse loop: iteration cnt: 2\n",
      "reverse loop: iteration cnt: 1\n"
     ]
    }
   ],
   "source": [
    "# example\n",
    "for i in range(0,5):\n",
    " print (\"iteration cnt:\", i)\n",
    "\n",
    "# step count 2\n",
    "for i in range(0,5,2):\n",
    "    print ('step 2: iteration cnt:', i)\n",
    "    \n",
    "# loop in reverse order\n",
    "for i in range(5,0, -1):\n",
    "    print ('reverse loop: iteration cnt:', i)"
   ]
  },
  {
   "cell_type": "markdown",
   "metadata": {},
   "source": [
    "## main function\n",
    "- python does not require a main function to be created, it is better to create for clarity\n",
    "- every python file can have a function/main call, but when this file imported as module these function calls also gets executed\n",
    "- to avoid unnecessary execution of function calls in imported module, we can create conditional function calls with __name__"
   ]
  },
  {
   "cell_type": "code",
   "execution_count": 14,
   "metadata": {},
   "outputs": [
    {
     "name": "stdout",
     "output_type": "stream",
     "text": [
      "welcome to function __name__ example\n",
      "name is set to __main__ when this file is directly executed, it is not when executed from imported file\n"
     ]
    }
   ],
   "source": [
    "# __name__ example\n",
    "def fn_name_example():\n",
    " print ('welcome to function __name__ example')\n",
    "\n",
    "if __name__ == \"__main__\":\n",
    " fn_name_example()\n",
    " print ('name is set to __main__ when this file is directly executed, it is not when executed from imported file')"
   ]
  },
  {
   "cell_type": "markdown",
   "metadata": {},
   "source": [
    "## global keyword\n",
    "- global keyword should be used to assign value to a global variable inside a function"
   ]
  },
  {
   "cell_type": "code",
   "execution_count": 15,
   "metadata": {},
   "outputs": [
    {
     "name": "stdout",
     "output_type": "stream",
     "text": [
      "inside fn: val is 25\n",
      "inside fn: val is 50\n",
      "outside fn: val is 50\n"
     ]
    }
   ],
   "source": [
    "# example\n",
    "val = 25\n",
    "def fn_global():\n",
    " # global keyword to reference global variable, gives compilation error without\n",
    " global val\n",
    " print ('inside fn: val is', val)\n",
    " val = 50\n",
    " print ('inside fn: val is', val)\n",
    "\n",
    "fn_global()\n",
    "print ('outside fn: val is', val)"
   ]
  },
  {
   "cell_type": "markdown",
   "metadata": {},
   "source": [
    "## function call by reference vs value"
   ]
  },
  {
   "cell_type": "markdown",
   "metadata": {},
   "source": [
    "## keyword argument"
   ]
  },
  {
   "cell_type": "markdown",
   "metadata": {},
   "source": [
    "## default arguments"
   ]
  },
  {
   "cell_type": "markdown",
   "metadata": {},
   "source": [
    "## variable number of arguments"
   ]
  },
  {
   "cell_type": "markdown",
   "metadata": {},
   "source": [
    "## anonymous functions"
   ]
  },
  {
   "cell_type": "markdown",
   "metadata": {},
   "source": [
    "## '''doc strings''' : documentatin strings"
   ]
  },
  {
   "cell_type": "code",
   "execution_count": 16,
   "metadata": {},
   "outputs": [
    {
     "name": "stdout",
     "output_type": "stream",
     "text": [
      "fn description: finds max value of 2 numbers \n",
      "max value is 3\n"
     ]
    }
   ],
   "source": [
    "def find_max_doc(x, y):\n",
    " # docstring of the function\n",
    " '''fn description: finds max value of 2 numbers '''\n",
    " if x > y:\n",
    "  print ('max value is',x)\n",
    " else:\n",
    "  print ('max value is',y)\n",
    "\n",
    "print (find_max_doc.__doc__)\n",
    "find_max_doc(2,3)"
   ]
  },
  {
   "cell_type": "markdown",
   "metadata": {},
   "source": [
    "# Functions"
   ]
  },
  {
   "cell_type": "markdown",
   "metadata": {},
   "source": [
    "## Function with positional arguments\n",
    "- While calling the function the arguments are assigned based on the order/position"
   ]
  },
  {
   "cell_type": "code",
   "execution_count": 14,
   "metadata": {},
   "outputs": [
    {
     "name": "stdout",
     "output_type": "stream",
     "text": [
      "a:1, b:2, c:3\n",
      "\n"
     ]
    }
   ],
   "source": [
    "def fn1(a, b, c):\n",
    "    print(\"a:{}, b:{}, c:{}\\n\".format(a,b,c))\n",
    "\n",
    "# call fn1\n",
    "fn1(1,2,3)"
   ]
  },
  {
   "cell_type": "markdown",
   "metadata": {},
   "source": [
    "## Function with default values/optional args\n",
    "- The arguments can have default values, which becomes optional arguments which don't need be passed\n",
    "- <font color=blue> Note that the default arguments are to be right side in the arguments, i.e., after default arguments there should not be any non default arguments </font>"
   ]
  },
  {
   "cell_type": "code",
   "execution_count": 17,
   "metadata": {},
   "outputs": [
    {
     "name": "stdout",
     "output_type": "stream",
     "text": [
      "a:1, b:2, c:10\n",
      "a:4, b:5, c:24\n"
     ]
    }
   ],
   "source": [
    "def fn1(a, b, c=10):\n",
    "    print(\"a:{}, b:{}, c:{}\".format(a,b,c))\n",
    "\n",
    "# call fn1\n",
    "fn1(1,2)\n",
    "fn1(4,5, 24)"
   ]
  },
  {
   "cell_type": "code",
   "execution_count": 16,
   "metadata": {},
   "outputs": [
    {
     "ename": "SyntaxError",
     "evalue": "non-default argument follows default argument (<ipython-input-16-e52e183ff2b2>, line 2)",
     "output_type": "error",
     "traceback": [
      "\u001b[1;36m  File \u001b[1;32m\"<ipython-input-16-e52e183ff2b2>\"\u001b[1;36m, line \u001b[1;32m2\u001b[0m\n\u001b[1;33m    def fn2(a, b=4, c):\u001b[0m\n\u001b[1;37m           ^\u001b[0m\n\u001b[1;31mSyntaxError\u001b[0m\u001b[1;31m:\u001b[0m non-default argument follows default argument\n"
     ]
    }
   ],
   "source": [
    "# below function gives error because default args should be at the end\n",
    "def fn2(a, b=4, c):\n",
    "    pass"
   ]
  },
  {
   "cell_type": "markdown",
   "metadata": {},
   "source": [
    "## Function with keyword arguments\n",
    "- <font color=blue> Functions can be called by assigning the values to argument names, while using names they can be out of order also </font>\n",
    "- <font color=blue> Similarly, while calling the functions with argument names, after they should be at the end, i.e., after keyword assignment argument normal arguments should not be there </font>"
   ]
  },
  {
   "cell_type": "code",
   "execution_count": 20,
   "metadata": {
    "scrolled": true
   },
   "outputs": [
    {
     "name": "stdout",
     "output_type": "stream",
     "text": [
      "a:4, b:2, c:5\n",
      "a:6, b:1, c:8\n"
     ]
    }
   ],
   "source": [
    "def fn1(a, b, c):\n",
    "    print(\"a:{}, b:{}, c:{}\".format(a,b,c))\n",
    "\n",
    "# call fn1\n",
    "fn1(a=4, c=5, b=2)\n",
    "fn1(6, c=8, b=1)"
   ]
  },
  {
   "cell_type": "code",
   "execution_count": 21,
   "metadata": {},
   "outputs": [
    {
     "ename": "SyntaxError",
     "evalue": "positional argument follows keyword argument (<ipython-input-21-e76e98cdac74>, line 6)",
     "output_type": "error",
     "traceback": [
      "\u001b[1;36m  File \u001b[1;32m\"<ipython-input-21-e76e98cdac74>\"\u001b[1;36m, line \u001b[1;32m6\u001b[0m\n\u001b[1;33m    fn1(a=4, c=5, b)\u001b[0m\n\u001b[1;37m                 ^\u001b[0m\n\u001b[1;31mSyntaxError\u001b[0m\u001b[1;31m:\u001b[0m positional argument follows keyword argument\n"
     ]
    }
   ],
   "source": [
    "def fn1(a, b, c):\n",
    "    print(\"a:{}, b:{}, c:{}\".format(a,b,c))\n",
    "\n",
    "# below function call gives error,\n",
    "# because after keyword args all should be keyword only\n",
    "fn1(a=4, c=5, b)"
   ]
  },
  {
   "cell_type": "markdown",
   "metadata": {},
   "source": [
    "## Functions with Variable number of arguments\n",
    "- <font color=blue> *args is used for variable number of positional arguments, which are gathered in a tuple and the name need not be args, but its a convention </font>\n",
    "- <font color=blue> **kwargs is used for variable number of keyword arguments, which are gathered in a dictionary and the name need not be kwargs, but its a convention </font>"
   ]
  },
  {
   "cell_type": "code",
   "execution_count": 22,
   "metadata": {},
   "outputs": [
    {
     "name": "stdout",
     "output_type": "stream",
     "text": [
      "positional args (3, 5, 'hi')\n",
      "keyword args {'name': 'Mr.', 'val': 100}\n"
     ]
    }
   ],
   "source": [
    "def fn1(*args, **kwargs):\n",
    "    print('positional args', args)\n",
    "    print('keyword args', kwargs)\n",
    "\n",
    "# call with variable number of args\n",
    "fn1(3, 5, 'hi', name='Mr.', val=100)"
   ]
  },
  {
   "cell_type": "markdown",
   "metadata": {},
   "source": [
    "### use ** while passing dict as argument"
   ]
  },
  {
   "cell_type": "code",
   "execution_count": 25,
   "metadata": {},
   "outputs": [
    {
     "name": "stdout",
     "output_type": "stream",
     "text": [
      "positional args ((3, 5, 'hi'), {'name': 'Mr.', 'val': 100})\n",
      "keyword args {}\n",
      "positional args ((3, 5, 'hi'),)\n",
      "keyword args {'name': 'Mr.', 'val': 100}\n"
     ]
    }
   ],
   "source": [
    "def fn1(*args, **kwargs):\n",
    "    print('positional args', args)\n",
    "    print('keyword args', kwargs)\n",
    "\n",
    "# call with variable number of args using tuples, dictionaries\n",
    "tup = (3, 5, 'hi')\n",
    "dic = {'name': 'Mr.', 'val': 100}\n",
    "# if you dont specify **, then all args are treated as positional args\n",
    "fn1(tup, dic)\n",
    "# specify ** for keyword args\n",
    "fn1(tup, **dic)"
   ]
  },
  {
   "cell_type": "markdown",
   "metadata": {},
   "source": [
    "## lambda function\n",
    "- In Python, an anonymous function means that a function is without a name. \n",
    "- As we already know that the def keyword is used to define a normal function in Python. Similarly, the lambda keyword is used to define an anonymous function in Python. It has the following syntax: \n",
    "> syntax: lambda arguments: expression\n",
    "- Lambda definition does not include a “return” statement, it always contains an expression that is returned."
   ]
  },
  {
   "cell_type": "code",
   "execution_count": 2,
   "metadata": {},
   "outputs": [
    {
     "name": "stdout",
     "output_type": "stream",
     "text": [
      "125\n",
      "125\n"
     ]
    }
   ],
   "source": [
    "# example (geeksforgeeks)\n",
    "# showing difference between def() and lambda().\n",
    "def cube(y):\n",
    "    return y*y*y\n",
    " \n",
    "lambda_cube = lambda y: y*y*y\n",
    " \n",
    "# using the normally defined function\n",
    "print(cube(5))\n",
    " \n",
    "# using the lambda function\n",
    "print(lambda_cube(5))"
   ]
  },
  {
   "cell_type": "markdown",
   "metadata": {},
   "source": [
    "## Nested functions\n",
    "- A function that is defined inside another function is known as a nested function. Nested functions are able to access variables of the enclosing scope. \n",
    "- In Python, these non-local variables can be accessed only within their scope and not outside their scope. "
   ]
  },
  {
   "cell_type": "code",
   "execution_count": 28,
   "metadata": {},
   "outputs": [
    {
     "name": "stdout",
     "output_type": "stream",
     "text": [
      "hello\n",
      "cannot call nested function from outside, it can only be called from inside the function, where its defined\n"
     ]
    }
   ],
   "source": [
    "# nested functions\n",
    "def outerFunction():\n",
    "    msg = \"hello\"\n",
    " \n",
    "    def innerFunction():\n",
    "        print(msg)\n",
    " \n",
    "    innerFunction()\n",
    " \n",
    "if __name__ == '__main__':\n",
    "    outerFunction()\n",
    "    print(\"cannot call nested function from outside, it can only be called from inside the function, where its defined\")\n",
    "    #innerFunction()"
   ]
  },
  {
   "cell_type": "markdown",
   "metadata": {},
   "source": [
    "## closure\n",
    "- A Closure is a function object that remembers values in enclosing scopes even if they are not present in memory. \n",
    "- A closure is an inner function that remembers and has access to variables in the local scope in which it was created even after the outer function has finished executing"
   ]
  },
  {
   "cell_type": "code",
   "execution_count": 33,
   "metadata": {},
   "outputs": [
    {
     "name": "stdout",
     "output_type": "stream",
     "text": [
      "The closure allows to call inner (nested) function and\n",
      "     it remembers the local scope variables which were inside the parent function\n",
      "\n",
      "hello\n"
     ]
    }
   ],
   "source": [
    "# closures\n",
    "def outerFunction():\n",
    "    msg = \"hello\"\n",
    " \n",
    "    def innerFunction():\n",
    "        print(msg)\n",
    " \n",
    "    # Note we are returning function\n",
    "    # WITHOUT parenthesis\n",
    "    return innerFunction \n",
    " \n",
    "if __name__ == '__main__':\n",
    "    myFunction = outerFunction()\n",
    "    #print(myFunction)\n",
    "    print(\"The closure allows to call inner (nested) function and\\n \\\n",
    "    it remembers the local scope variables which were inside the parent function\\n\")\n",
    "    myFunction()"
   ]
  },
  {
   "cell_type": "code",
   "execution_count": 35,
   "metadata": {},
   "outputs": [
    {
     "name": "stdout",
     "output_type": "stream",
     "text": [
      "The closure allows to call inner (nested) function and\n",
      "     it remembers the local scope variables which were inside the parent function\n",
      "\n",
      "hi\n",
      "hello\n"
     ]
    }
   ],
   "source": [
    "# closure: example with multiple scope variables created with differnt function calls\n",
    "def outerFunction(mg):\n",
    "    msg = mg\n",
    " \n",
    "    def innerFunction():\n",
    "        print(msg)\n",
    " \n",
    "    # Note we are returning function\n",
    "    # WITHOUT parenthesis\n",
    "    return innerFunction \n",
    " \n",
    "if __name__ == '__main__':\n",
    "    fn1 = outerFunction(\"hi\")\n",
    "    fn2 = outerFunction(\"hello\")\n",
    "    #print(myFunction)\n",
    "    print(\"The closure allows to call inner (nested) function and\\n \\\n",
    "    it remembers the local scope variables which were inside the parent function\\n\")\n",
    "    \n",
    "    fn1()\n",
    "    fn2()"
   ]
  },
  {
   "cell_type": "markdown",
   "metadata": {},
   "source": [
    "## map function\n",
    "- map() function returns a map object(which is an iterator) of the results after **applying the given function to each item of a given iterable** (list, tuple etc.)"
   ]
  },
  {
   "cell_type": "code",
   "execution_count": 8,
   "metadata": {},
   "outputs": [
    {
     "name": "stdout",
     "output_type": "stream",
     "text": [
      "Results with normal function call: doesn't alter each element\n",
      " (1, 2, 3, 4, 1, 2, 3, 4)\n",
      "\n",
      "Results with map functiona call: alters each element\n",
      "<map object at 0x0000027EB9BEF0F0>\n",
      "[2, 4, 6, 8]\n"
     ]
    }
   ],
   "source": [
    "# Return double of n\n",
    "def addition(n):\n",
    "    return n + n\n",
    "  \n",
    "numbers = (1, 2, 3, 4)\n",
    "\n",
    "# normal operation appends list, doesn't alter each element\n",
    "add = addition(numbers)\n",
    "print(\"Results with normal function call: doesn't alter each element\\n\", add)\n",
    "\n",
    "# We double all numbers using map()\n",
    "result = map(addition, numbers)\n",
    "\n",
    "print(\"\\nResults with map functiona call: alters each element\")\n",
    "print(result)\n",
    "print(list(result))\n"
   ]
  },
  {
   "cell_type": "code",
   "execution_count": 9,
   "metadata": {},
   "outputs": [
    {
     "name": "stdout",
     "output_type": "stream",
     "text": [
      "[2, 4, 6, 8]\n"
     ]
    }
   ],
   "source": [
    "# small example: above functionality with map & lambda functions\n",
    "\n",
    "numbers = (1, 2, 3, 4)\n",
    "result = map(lambda x: x + x, numbers)\n",
    "print(list(result))"
   ]
  },
  {
   "cell_type": "markdown",
   "metadata": {},
   "source": [
    "## filter function\n",
    "- The filter() method filters the given sequence with the help of a function that tests each element in the sequence to be true or not."
   ]
  },
  {
   "cell_type": "code",
   "execution_count": 19,
   "metadata": {},
   "outputs": [
    {
     "name": "stdout",
     "output_type": "stream",
     "text": [
      "Results with normal function call\n",
      " False\n",
      "\n",
      "Results with filter function call\n",
      "<filter object at 0x0000027EB9C642B0>\n",
      "The filtered letters are:\n",
      "e\n",
      "e\n"
     ]
    }
   ],
   "source": [
    "# function that filters vowels\n",
    "def fun(variable):\n",
    "    letters = ['a', 'e', 'i', 'o', 'u']\n",
    "    if (variable in letters):\n",
    "        return True\n",
    "    else:\n",
    "        return False\n",
    "  \n",
    "  \n",
    "# sequence\n",
    "sequence = ['g', 'e', 'e', 'j', 'k', 's', 'p', 'r']\n",
    "  \n",
    "res = fun(sequence)\n",
    "print(\"Results with normal function call\\n\",res)\n",
    "\n",
    "# using filter function\n",
    "filtered = filter(fun, sequence)\n",
    "print(\"\\nResults with filter function call\")\n",
    "print(filtered)\n",
    "print('The filtered letters are:')\n",
    "for s in filtered:\n",
    "    print(s)"
   ]
  },
  {
   "cell_type": "markdown",
   "metadata": {},
   "source": [
    "## yield\n",
    "- The yield statement suspends function’s execution and sends a value back to the caller, but retains enough state to enable function to resume where it is left off. When resumed, the function continues execution immediately after the last yield run."
   ]
  },
  {
   "cell_type": "code",
   "execution_count": 20,
   "metadata": {},
   "outputs": [
    {
     "name": "stdout",
     "output_type": "stream",
     "text": [
      "1\n",
      "2\n",
      "3\n"
     ]
    }
   ],
   "source": [
    "# A generator function that yields 1 for the first time,\n",
    "# 2 second time and 3 third time\n",
    "def simpleGeneratorFun():\n",
    "    yield 1\n",
    "    yield 2\n",
    "    yield 3\n",
    "  \n",
    "# Driver code to check above generator function\n",
    "for value in simpleGeneratorFun(): \n",
    "    print(value)"
   ]
  },
  {
   "cell_type": "markdown",
   "metadata": {},
   "source": [
    "# First class functions\n",
    "- First class objects in a language are handled uniformly throughout. They may be stored in data structures, passed as arguments, or used in control structures. A programming language is said to support first-class functions if it treats functions as first-class objects. Python supports the concept of First Class functions.\n",
    "- You can store the function in a variable.\n",
    "- You can pass the function as a parameter to another function.\n",
    "- You can return the function from a function.\n",
    "- You can store them in data structures such as hash tables, lists"
   ]
  },
  {
   "cell_type": "code",
   "execution_count": 14,
   "metadata": {},
   "outputs": [
    {
     "name": "stdout",
     "output_type": "stream",
     "text": [
      "25\n"
     ]
    }
   ],
   "source": [
    "def square(val):\n",
    "    return val * val\n",
    "\n",
    "# assign the function name to another variable\n",
    "func = square\n",
    "# use the func variable as function\n",
    "print(func(5))"
   ]
  },
  {
   "cell_type": "markdown",
   "metadata": {},
   "source": [
    "# modules\n",
    "- A module allows you to logically organize your Python code, to reuse a number of functions in other programs \n",
    "- Simply, a module is a file consisting of Python code\n",
    "- A module can define functions, classes and variables. A module can also include runnable code"
   ]
  },
  {
   "cell_type": "code",
   "execution_count": 17,
   "metadata": {},
   "outputs": [
    {
     "name": "stdout",
     "output_type": "stream",
     "text": [
      "command line args\n",
      "C:\\Users\\Admin\\Anaconda3\\lib\\site-packages\\ipykernel_launcher.py\n",
      "-f\n",
      "C:\\Users\\Admin\\AppData\\Roaming\\jupyter\\runtime\\kernel-06e48333-dc11-4a4d-8c08-1be42de18b20.json\n"
     ]
    }
   ],
   "source": [
    "# example\n",
    "import sys\n",
    "\n",
    "print ('command line args')\n",
    "for i in sys.argv:\n",
    " #prints cmd arg strings, not numbers\n",
    " print (i)"
   ]
  },
  {
   "cell_type": "markdown",
   "metadata": {},
   "source": [
    "# packages\n",
    "- A package is a hierarchical file directory structure that defines a single Python application environment that consists of modules and subpackages\n",
    "- **Packages are just folders of modules with a special init.py file** that indicates to Python that this folder is special because it contains Python modules"
   ]
  },
  {
   "cell_type": "code",
   "execution_count": 18,
   "metadata": {},
   "outputs": [
    {
     "name": "stdout",
     "output_type": "stream",
     "text": [
      "- To make all of your functions available when you've imported a directory (ex_dir) as a package, \n",
      "you need to put explicit import statements in __init__.py as follows,\n",
      "Then we can directly import the package/directory name (ex_dir) instead of individual modules\n",
      "import ex_dir \n"
     ]
    }
   ],
   "source": [
    "# example\n",
    "print ('''- To make all of your functions available when you've imported a directory (ex_dir) as a package, \n",
    "you need to put explicit import statements in __init__.py as follows,\n",
    "Then we can directly import the package/directory name (ex_dir) instead of individual modules\n",
    "import ex_dir ''')"
   ]
  },
  {
   "cell_type": "markdown",
   "metadata": {},
   "source": [
    "# Object oriented programming (oop)\n",
    "- **Class attributes (fields and methods):**\n",
    "    - Variables that belong to an object or class are referred to as fields. Objects can also have functionality by using functions that belong to a class. Such functions are called methods of the class. \n",
    "    - Collectively, the fields and methods can be referred to as the attributes of that class\n",
    "- Fields are of two types,\n",
    "    - they can belong to each instance/object of the class or they can belong to the class itself. They are called **instance variables and class variables** respectively\n",
    "    \n",
    "- self:\n",
    "    - Class methods have only one specific difference from ordinary functions, they must have an extra first name that has to be added to the beginning of the parameter list, but you do not give a value for this parameter when you call the method, Python will provide it. \n",
    "    - This particular variable refers to the object itself, and by convention, it is given the name self .\n",
    "    - We can use any name other than self, but better to use self.\n",
    "    - The self in Python is equivalent to the this pointer in C++"
   ]
  },
  {
   "cell_type": "markdown",
   "metadata": {},
   "source": [
    "## simple class and object creation example"
   ]
  },
  {
   "cell_type": "code",
   "execution_count": 19,
   "metadata": {},
   "outputs": [
    {
     "name": "stdout",
     "output_type": "stream",
     "text": [
      "Hello, welcome to class and oop\n"
     ]
    }
   ],
   "source": [
    "class Person:\n",
    "  def say_hi(self):\n",
    "    print ('Hello, welcome to class and oop')\n",
    "\n",
    "# object creation using class name\n",
    "obj = Person()\n",
    "# calling class method using object\n",
    "obj.say_hi()"
   ]
  },
  {
   "cell_type": "markdown",
   "metadata": {},
   "source": [
    "## object variable creation and name space"
   ]
  },
  {
   "cell_type": "code",
   "execution_count": 108,
   "metadata": {},
   "outputs": [
    {
     "name": "stdout",
     "output_type": "stream",
     "text": [
      "obj2 name space: its object field, specific to this object\n",
      " {'var': 2}\n",
      "obj1 name space\n",
      " {}\n",
      "python checks for variable/method first in the instance, then class, then parent classes\n"
     ]
    }
   ],
   "source": [
    "class Person:\n",
    "  def say_hi(self):\n",
    "    self.cnt = 1\n",
    "    print ('Hello, welcome to class and oop')\n",
    "\n",
    "# object creation using class name\n",
    "obj1 = Person()\n",
    "obj2 = Person()\n",
    "\n",
    "# create object variables (better to do it inside class)\n",
    "obj2.var = 2\n",
    "print('obj2 name space: its object field, specific to this object\\n', obj2.__dict__)\n",
    "\n",
    "print('obj1 name space\\n', obj1.__dict__)\n",
    "\n",
    "#\n",
    "print('python checks for variable/method first in the instance, then class, then parent classes')"
   ]
  },
  {
   "cell_type": "markdown",
   "metadata": {},
   "source": [
    "## setattr, getattr methods\n",
    "- setattr() is used to assign the object attribute its value. Apart from ways to assign values to class variables, through constructors and object functions, this method gives you an alternative way to assign value.\n",
    "> Syntax : setattr(obj, var, val)\n",
    "\n",
    "- obj : Object whose which attribute is to be assigned.\n",
    "- var : object attribute which has to be assigned.\n",
    "- val : value with which variable is to be assigned.\n",
    "\n",
    "\n",
    "- getattr() function is used to access the attribute value of an object and also give an option of executing the default value in case of unavailability of the key. This has greater application to check for available keys in web development and many other phases of day-to-day programming.\n",
    "> Syntax : getattr(obj, key, def)\n"
   ]
  },
  {
   "cell_type": "code",
   "execution_count": 114,
   "metadata": {},
   "outputs": [
    {
     "name": "stdout",
     "output_type": "stream",
     "text": [
      "After setattr name :  Kane\n",
      "With getattr Kane\n",
      "\n",
      "We can't assign to the value in var using direct assignement\n"
     ]
    },
    {
     "data": {
      "text/plain": [
       "['__class__',\n",
       " '__delattr__',\n",
       " '__dict__',\n",
       " '__dir__',\n",
       " '__doc__',\n",
       " '__eq__',\n",
       " '__format__',\n",
       " '__ge__',\n",
       " '__getattribute__',\n",
       " '__gt__',\n",
       " '__hash__',\n",
       " '__init__',\n",
       " '__init_subclass__',\n",
       " '__le__',\n",
       " '__lt__',\n",
       " '__module__',\n",
       " '__ne__',\n",
       " '__new__',\n",
       " '__reduce__',\n",
       " '__reduce_ex__',\n",
       " '__repr__',\n",
       " '__setattr__',\n",
       " '__sizeof__',\n",
       " '__str__',\n",
       " '__subclasshook__',\n",
       " '__weakref__',\n",
       " 'name',\n",
       " 'var']"
      ]
     },
     "execution_count": 114,
     "metadata": {},
     "output_type": "execute_result"
    }
   ],
   "source": [
    "class Empty:\n",
    "    pass\n",
    "      \n",
    "obj = Empty()\n",
    " \n",
    "var = 'name'\n",
    "val = 'Kane'\n",
    "\n",
    "# using setattr to create instance object and set with a value\n",
    "setattr(obj, var, val)\n",
    "  \n",
    "# printing object after setattr\n",
    "print(\"After setattr name : \", obj.name)\n",
    "\n",
    "param = getattr(obj, var)\n",
    "print(\"With getattr\",param)\n",
    "\n",
    "# printing object before setattr\n",
    "obj.var = val\n",
    "print(\"\\nWe can't assign to the value in var using direct assignement\")\n",
    "dir(obj)"
   ]
  },
  {
   "cell_type": "code",
   "execution_count": null,
   "metadata": {},
   "outputs": [],
   "source": []
  },
  {
   "cell_type": "markdown",
   "metadata": {},
   "source": [
    "## __init__ method: Class constructor\n",
    "- The __init__ method is run as soon as an object of a class is instantiated, the method is useful to do any initialization you want to do with your object\n",
    "- Notice the double underscores (dunder) both at the beginning and at the end of the name"
   ]
  },
  {
   "cell_type": "code",
   "execution_count": 21,
   "metadata": {},
   "outputs": [
    {
     "name": "stdout",
     "output_type": "stream",
     "text": [
      "Hello, my name is Swaroop\n"
     ]
    }
   ],
   "source": [
    "# example\n",
    "\n",
    "class Person:\n",
    "  # default constructor\n",
    "  def __init__(self, name):\n",
    "    # Note: self.name means that there is a field called \"name\" that is part of the object called \"self\" \n",
    "    self.name = name\n",
    "\n",
    "  def say_hi(self):\n",
    "    print ('Hello, my name is', self.name)\n",
    "\n",
    "# object creation calls init constructor\n",
    "p = Person('Swaroop')\n",
    "p.say_hi()"
   ]
  },
  {
   "cell_type": "markdown",
   "metadata": {},
   "source": [
    "## example for class/instance fields and class/static/instance methods"
   ]
  },
  {
   "cell_type": "code",
   "execution_count": 22,
   "metadata": {},
   "outputs": [
    {
     "name": "stdout",
     "output_type": "stream",
     "text": [
      "Welcome to Test_Class: Object name  <__main__.Test_Class object at 0x0000024D80F7F780>\n",
      "obj_cnt value:  1 \n",
      "\n",
      "Welcome to obj_fn: Object name  <__main__.Test_Class object at 0x0000024D80F7F780>\n",
      "obj_fn counter (object value):  1\n",
      "self.name:  sirish , self.sum:  25 \n",
      "\n",
      "Welcome to cls_fn (class function) created with @classmethod\n",
      "objects cnt:  1\n",
      "!! classmethod can not access any object variables \n",
      "\n",
      "Welcome to cls_fn (class function) created with @classmethod\n",
      "objects cnt:  1\n",
      "!! classmethod can not access any object variables \n",
      "\n",
      "Welcome to static_fn (static function) created with @staticmethod \n",
      "\n",
      "Welcome to static_fn (static function) created with @staticmethod \n",
      "\n",
      "Welcome to Test_Class: Object name  <__main__.Test_Class object at 0x0000024D80F7FBE0>\n",
      "obj_cnt value:  2 \n",
      "\n",
      "Welcome to obj_fn: Object name  <__main__.Test_Class object at 0x0000024D80F7FBE0>\n",
      "obj_fn counter (object value):  1\n",
      "self.name:  kumar , self.sum:  100 \n",
      "\n",
      "Welcome to cls_fn (class function) created with @classmethod\n",
      "objects cnt:  2\n",
      "!! classmethod can not access any object variables \n",
      "\n",
      "Welcome to cls_fn (class function) created with @classmethod\n",
      "objects cnt:  2\n",
      "!! classmethod can not access any object variables \n",
      "\n",
      "Welcome to static_fn (static function) created with @staticmethod \n",
      "\n"
     ]
    }
   ],
   "source": [
    "class Test_Class:\n",
    "\n",
    " # class variable/field (can be accessed using class or object)\n",
    " obj_cnt = 0\n",
    "\n",
    " # default constructor\n",
    " def __init__(self, name):\n",
    "  # accessing class variable\n",
    "  Test_Class.obj_cnt += 1\n",
    "  # obect variables will be directly created when required ?\n",
    "  # object field (can be accessed using only objects)\n",
    "  self.name = name\n",
    "  self.val = 0\n",
    "  print ('Welcome to Test_Class: Object name ', self)\n",
    "  print ('obj_cnt value: ', Test_Class.obj_cnt, '\\n')\n",
    "  \n",
    "\n",
    " # object method (can be called using an object)\n",
    " def obj_fn(self, val):\n",
    "  self.val += 1\n",
    "  # obect variables will be directly created when required ?\n",
    "  self.sum = self.val + val\n",
    "  print ('Welcome to obj_fn: Object name ', self)\n",
    "  print ('obj_fn counter (object value): ', self.val)\n",
    "  print ('self.name: ', self.name, ', self.sum: ', self.sum, '\\n')\n",
    "\n",
    "\n",
    " # class method using a below tokenbb @classmethod (can be called using Class, can also be called using object)\n",
    " @classmethod\n",
    " def cls_fn(cls):\n",
    "  print ('Welcome to cls_fn (class function) created with @classmethod')\n",
    "  print ('objects cnt: ', Test_Class.obj_cnt)\n",
    "  # can not access any object variables\n",
    "  # print 'val: ', cls.val\n",
    "  print ('!! classmethod can not access any object variables', '\\n')\n",
    "\n",
    "\n",
    " # static method using a below token @staticmethod (like a normal function does not take object, class as 1st arguments)\n",
    " @staticmethod\n",
    " def static_fn():\n",
    "  ''' A static method is also a method which is bound to the class and not the object of the class \n",
    "      A static method can’t access or modify class state.\n",
    "      It is present in a class because it makes sense for the method to be present in class.\n",
    "  '''\n",
    "  print ('Welcome to static_fn (static function) created with @staticmethod \\n')\n",
    "  #print 'objects cnt: ', Test_Class.obj_cnt\n",
    "\n",
    "\n",
    "# create an object\n",
    "obj_1 = Test_Class('sirish')\n",
    "# call object function\n",
    "obj_1.obj_fn(24)\n",
    "# call class function with object\n",
    "obj_1.cls_fn()\n",
    "# call class function using class name\n",
    "Test_Class.cls_fn()\n",
    "# call static function using object\n",
    "obj_1.static_fn()\n",
    "# call static function using class\n",
    "Test_Class.static_fn()\n",
    "\n",
    "\n",
    "# second object\n",
    "obj_2 = Test_Class('kumar')\n",
    "obj_2.obj_fn(99)\n",
    "obj_2.cls_fn()\n",
    "Test_Class.cls_fn()\n",
    "Test_Class.static_fn()"
   ]
  },
  {
   "cell_type": "markdown",
   "metadata": {},
   "source": [
    "## Inheritance"
   ]
  },
  {
   "cell_type": "code",
   "execution_count": 13,
   "metadata": {},
   "outputs": [
    {
     "name": "stdout",
     "output_type": "stream",
     "text": [
      "concat name:  hello world\n",
      "game 4\n"
     ]
    }
   ],
   "source": [
    "# create class\n",
    "class Parent:\n",
    "    def __init__(self, name):\n",
    "        self.name = name\n",
    "    def concat(self, name):\n",
    "        self.name = self.name + ' ' + name\n",
    "        print('concat name: ', self.name)\n",
    "\n",
    "# inherit the class\n",
    "class child1(Parent):\n",
    "    pass\n",
    "\n",
    "# inherit the class\n",
    "class child2(Parent):\n",
    "    # child class also can have init\n",
    "    def __init__(self, name, rank):\n",
    "        self.rank = rank\n",
    "        # child can also call the parent classes init method\n",
    "        # can use super or direct class name\n",
    "        #super().__init__(name)\n",
    "        Parent.__init__(self, name)\n",
    "    def print_obj(self):\n",
    "        print(self.name, self.rank)\n",
    "        \n",
    "# create instance using child class\n",
    "obj1 = child1('hello')\n",
    "# call parent method. python checks the method in current instance/class then parent class\n",
    "obj1.concat('world')\n",
    "\n",
    "# create instance using child class\n",
    "obj2 = child2('game', 4)\n",
    "obj2.print_obj()"
   ]
  },
  {
   "cell_type": "markdown",
   "metadata": {},
   "source": [
    "# special methods (magic/dunder)\n",
    "- Special methods are a set of predefined methods used to enrich your classes. They start and end with double underscores."
   ]
  },
  {
   "cell_type": "markdown",
   "metadata": {},
   "source": [
    "## \\__add__\n",
    "- for every object (int, strings, etc), there are methods defined to performa operations, which are called by default when we perform an operation"
   ]
  },
  {
   "cell_type": "code",
   "execution_count": 42,
   "metadata": {},
   "outputs": [
    {
     "name": "stdout",
     "output_type": "stream",
     "text": [
      "Result with normal addition operation (which inturn calls __add__ dunder method)\n",
      " 3\n",
      "We can also directly call underlying dunder method\n",
      " 3\n",
      "ab\n",
      "ab\n"
     ]
    }
   ],
   "source": [
    "a = 1\n",
    "b = 2\n",
    "c1 = a+b\n",
    "c2 = int.__add__(a, b)\n",
    "\n",
    "print(\"Result with normal addition operation (which inturn calls __add__ dunder method)\\n\", c1)\n",
    "print(\"We can also directly call underlying dunder method\\n\", c2)\n",
    "\n",
    "# string addittion, with dunder add\n",
    "s1 = 'a' + 'b'\n",
    "s2 = str.__add__('a', 'b')\n",
    "print(s1)\n",
    "print(s2)"
   ]
  },
  {
   "cell_type": "markdown",
   "metadata": {},
   "source": [
    "## repr, str methods\n",
    "- str() and repr() both are used to get a string representation of object.\n",
    "- repr() compute the “official” string representation of an object (a representation that has all information about the object) \n",
    "- str() is used to compute the “informal” string representation of an object (a representation that is useful for printing the object).\n",
    "\n",
    "\n",
    "- **str() is used for creating output for end user while repr() is mainly used for debugging and development.**\n",
    "- **repr’s goal is to be unambiguous and str’s is to be readable. For example, if we suspect a float has a small rounding error, repr will show us while str may not.**"
   ]
  },
  {
   "cell_type": "code",
   "execution_count": 46,
   "metadata": {},
   "outputs": [
    {
     "name": "stdout",
     "output_type": "stream",
     "text": [
      "with str : Hello, Geeks.\n",
      "with repr: 'Hello, Geeks.'\n",
      "\n",
      "0.18181818181818182\n",
      "0.18181818181818182\n"
     ]
    }
   ],
   "source": [
    "s = 'Hello, Geeks.'\n",
    "print (\"with str :\",str(s))\n",
    "print (\"with repr:\",repr(s))\n",
    "\n",
    "print()\n",
    "print (str(2.0/11.0))\n",
    "print (repr(2.0/11.0))"
   ]
  },
  {
   "cell_type": "markdown",
   "metadata": {},
   "source": [
    "# Customize special methods (magic/dunder) for our own Classes"
   ]
  },
  {
   "cell_type": "markdown",
   "metadata": {},
   "source": [
    "## repr, str methods\n",
    "- A user defined class should also have a \\__repr__ if we need detailed information for debugging.\n",
    "- If str method is not defined, it falls back to repr method"
   ]
  },
  {
   "cell_type": "markdown",
   "metadata": {},
   "source": [
    "### default repr"
   ]
  },
  {
   "cell_type": "code",
   "execution_count": 67,
   "metadata": {},
   "outputs": [
    {
     "name": "stdout",
     "output_type": "stream",
     "text": [
      "Printing object will give an object value and address\n",
      "<__main__.Employee object at 0x0000027EB9C98278>\n"
     ]
    }
   ],
   "source": [
    "# example without custom repr method\n",
    "class Employee:\n",
    "    emp_id = 0\n",
    "    # default constructor\n",
    "    def __init__(self, name):\n",
    "        self.name = name\n",
    "        Employee.emp_id += 1\n",
    "\n",
    "# create object\n",
    "emp1 = Employee(\"Kumar\")\n",
    "print(\"Printing object will give an object value and address\")\n",
    "print(emp1)"
   ]
  },
  {
   "cell_type": "markdown",
   "metadata": {},
   "source": [
    "### custom \\__repr__ method"
   ]
  },
  {
   "cell_type": "code",
   "execution_count": 62,
   "metadata": {},
   "outputs": [
    {
     "name": "stdout",
     "output_type": "stream",
     "text": [
      "Printing object will give the return value from custom repr method\n",
      "Employee id: 1, name: Kumar\n",
      "\n",
      "We can directly call repr method\n",
      "Employee id: 1, name: Kumar\n",
      "\n",
      "We can directly call str method,\n",
      " if str is not defined it fallback repr method, so we should have atleast repr\n",
      "Employee id: 1, name: Kumar\n"
     ]
    }
   ],
   "source": [
    "# example with custom repr method\n",
    "class Employee:\n",
    "    emp_id = 0\n",
    "    # default constructor\n",
    "    def __init__(self, name):\n",
    "        self.name = name\n",
    "        Employee.emp_id += 1\n",
    "\n",
    "    # custom repr method\n",
    "    def __repr__(self):\n",
    "        return \"Employee id: {}, name: {}\".format(Employee.emp_id, self.name)\n",
    "        \n",
    "# create object\n",
    "emp1 = Employee(\"Kumar\")\n",
    "\n",
    "print(\"Printing object will give the return value from custom repr method\")\n",
    "print(emp1)\n",
    "\n",
    "print(\"\\nWe can directly call repr method\")\n",
    "print(emp1.__repr__())\n",
    "\n",
    "print(\"\\nWe can directly call str method,\\n \\\n",
    "if str is not defined it fallback repr method, so we should have atleast repr\")\n",
    "print(emp1.__str__())"
   ]
  },
  {
   "cell_type": "markdown",
   "metadata": {},
   "source": [
    "### custom \\__str__ method"
   ]
  },
  {
   "cell_type": "code",
   "execution_count": 66,
   "metadata": {},
   "outputs": [
    {
     "name": "stdout",
     "output_type": "stream",
     "text": [
      "Printing object will give the return value from custom str method, if its present\n",
      "Employee Name: Kumar\n",
      "\n",
      "We can directly call repr method\n",
      "Employee id: 1, name: Kumar\n",
      "\n",
      "We can directly call str method, this gives return value from str method\n",
      "Employee Name: Kumar\n"
     ]
    }
   ],
   "source": [
    "# example with custom repr method, str method\n",
    "class Employee:\n",
    "    emp_id = 0\n",
    "    # default constructor\n",
    "    def __init__(self, name):\n",
    "        self.name = name\n",
    "        Employee.emp_id += 1\n",
    "\n",
    "    # custom repr method\n",
    "    def __repr__(self):\n",
    "        return \"Employee id: {}, name: {}\".format(Employee.emp_id, self.name)\n",
    "    \n",
    "    # custom str method\n",
    "    def __str__(self):\n",
    "        return \"Employee Name: {}\".format(self.name)\n",
    "        \n",
    "# create object\n",
    "emp1 = Employee(\"Kumar\")\n",
    "\n",
    "print(\"Printing object will give the return value from custom str method, if its present\")\n",
    "print(emp1)\n",
    "\n",
    "print(\"\\nWe can directly call repr method\")\n",
    "print(emp1.__repr__())\n",
    "\n",
    "print(\"\\nWe can directly call str method, this gives return value from str method\")\n",
    "print(emp1.__str__())"
   ]
  },
  {
   "cell_type": "markdown",
   "metadata": {},
   "source": [
    "### custom \\__add__ method\n",
    "- **Can create custom methods for any other operations to perform on class objects**"
   ]
  },
  {
   "cell_type": "code",
   "execution_count": 68,
   "metadata": {},
   "outputs": [
    {
     "name": "stdout",
     "output_type": "stream",
     "text": [
      "By default, object addittion gives error, but with custom __add__ method it works\n",
      "Added Employees List: Kumar, Ram\n"
     ]
    }
   ],
   "source": [
    "# example without custom repr method\n",
    "class Employee:\n",
    "    emp_id = 0\n",
    "    # default constructor\n",
    "    def __init__(self, name):\n",
    "        self.name = name\n",
    "        Employee.emp_id += 1\n",
    "    \n",
    "    # custom add method to perform operations on objects\n",
    "    def __add__(self, other):\n",
    "        return \"Added Employees List: {}, {}\".format(self.name, other.name)\n",
    "    \n",
    "# create object\n",
    "emp1 = Employee(\"Kumar\")\n",
    "emp2 = Employee(\"Ram\")\n",
    "print(\"By default, object addittion gives error, but with custom __add__ method it works\")\n",
    "print(emp1 + emp2)"
   ]
  },
  {
   "cell_type": "markdown",
   "metadata": {},
   "source": [
    "# Getter and Setter methods\n",
    "- For the purpose of data encapsulation, most object oriented languages use getters and setters method. This is because we want to hide the attributes of a object class from other classes so that no accidental modification of the data happens by methods in other classes.\n",
    "- As the name suggests, **getters are the methods which help access the private attributes** or get the value of the private attributes and **setters are the methods which help change or set the value of private attributes.**"
   ]
  },
  {
   "cell_type": "markdown",
   "metadata": {},
   "source": [
    "## Normal methods to set, get values"
   ]
  },
  {
   "cell_type": "code",
   "execution_count": 56,
   "metadata": {},
   "outputs": [
    {
     "name": "stdout",
     "output_type": "stream",
     "text": [
      "In get_name method\n",
      "Kane\n",
      "Kane@email.com\n",
      "\n",
      "If name is changed, email wont be changed, it needs another email method\n",
      "In get_name method\n",
      "Sam\n",
      "Kane@email.com\n"
     ]
    }
   ],
   "source": [
    "class Employee:\n",
    "    def __init__(self, name):\n",
    "        self.name = name\n",
    "        self.email = name+\"@email.com\"\n",
    "\n",
    "    # normal get method\n",
    "    def get_name(self):\n",
    "        print(\"In get_name method\")\n",
    "        return self.name\n",
    "    \n",
    "    # normal set method\n",
    "    def set_name(self, name):\n",
    "        print(\"In set_name method\")\n",
    "        self.name = name\n",
    "        \n",
    "emp1 = Employee(\"Kane\")\n",
    "print(emp1.get_name())\n",
    "print(emp1.email)\n",
    "\n",
    "print(\"\\nIf name is changed, email wont be changed, it needs another email method\")\n",
    "emp1.name = \"Sam\"\n",
    "print(emp1.get_name())\n",
    "print(emp1.email)\n"
   ]
  },
  {
   "cell_type": "markdown",
   "metadata": {},
   "source": [
    "## Property method to set, get values"
   ]
  },
  {
   "cell_type": "code",
   "execution_count": 68,
   "metadata": {},
   "outputs": [
    {
     "name": "stdout",
     "output_type": "stream",
     "text": [
      "\n",
      "If name is changed, email wont be changed, it needs another email method\n"
     ]
    }
   ],
   "source": [
    "class Employee:\n",
    "    def __init__(self, name):\n",
    "        self.name = name\n",
    "        self.email = name+\"@email.com\"\n",
    "\n",
    "    # normal get method\n",
    "    def get_name(self):\n",
    "        print(\"In get_name method\")\n",
    "        return self.name\n",
    "    \n",
    "    # normal set method\n",
    "    def set_name(self, name):\n",
    "        print(\"In set_name method\")\n",
    "        self.name = name\n",
    "        \n",
    "    name = property(get_name, set_name)\n",
    "        \n",
    "#emp1 = Employee(\"Kane\")\n",
    "#print(emp1.get_name())\n",
    "#print(emp1.name)\n",
    "#print(emp1.email)\n",
    "\n",
    "print(\"\\nIf name is changed, email wont be changed, it needs another email method\")\n",
    "#emp1.name = \"Sam\"\n",
    "#print(emp1.get_name())\n",
    "#print(emp1.name)\n",
    "#print(emp1.email)"
   ]
  },
  {
   "cell_type": "markdown",
   "metadata": {},
   "source": [
    "## Property Decorator to set, get values"
   ]
  },
  {
   "cell_type": "code",
   "execution_count": 99,
   "metadata": {},
   "outputs": [
    {
     "name": "stdout",
     "output_type": "stream",
     "text": [
      "In name.setter method\n",
      "In name.setter method\n",
      "In name.setter method\n",
      "In name.setter method\n",
      "In name.setter method\n",
      "In name.setter method\n",
      "In name.setter method\n",
      "In name.setter method\n",
      "In name.setter method\n",
      "In name.setter method\n",
      "In name.setter method\n",
      "In name.setter method\n",
      "In name.setter method\n",
      "In name.setter method\n",
      "In name.setter method\n",
      "In name.setter method\n",
      "In name.setter method\n",
      "In name.setter method\n",
      "In name.setter method\n",
      "In name.setter method\n",
      "In name.setter method\n",
      "In name.setter method\n",
      "In name.setter method\n",
      "In name.setter method\n",
      "In name.setter method\n",
      "In name.setter method\n",
      "In name.setter method\n",
      "In name.setter method\n",
      "In name.setter method\n",
      "In name.setter method\n",
      "In name.setter method\n",
      "In name.setter method\n",
      "In name.setter method\n",
      "In name.setter method\n",
      "In name.setter method\n",
      "In name.setter method\n",
      "In name.setter method\n",
      "In name.setter method\n",
      "In name.setter method\n",
      "In name.setter method\n",
      "In name.setter method\n",
      "In name.setter method\n",
      "In name.setter method\n",
      "In name.setter method\n",
      "In name.setter method\n",
      "In name.setter method\n",
      "In name.setter method\n",
      "In name.setter method\n",
      "In name.setter method\n",
      "In name.setter method\n",
      "In name.setter method\n",
      "In name.setter method\n",
      "In name.setter method\n",
      "In name.setter method\n",
      "In name.setter method\n",
      "In name.setter method\n",
      "In name.setter method\n",
      "In name.setter method\n",
      "In name.setter method\n",
      "In name.setter method\n",
      "In name.setter method\n",
      "In name.setter method\n",
      "In name.setter method\n",
      "In name.setter method\n",
      "In name.setter method\n",
      "In name.setter method\n",
      "In name.setter method\n",
      "In name.setter method\n",
      "In name.setter method\n",
      "In name.setter method\n",
      "In name.setter method\n",
      "In name.setter method\n",
      "In name.setter method\n",
      "In name.setter method\n",
      "In name.setter method\n",
      "In name.setter method\n",
      "In name.setter method\n",
      "In name.setter method\n",
      "In name.setter method\n",
      "In name.setter method\n",
      "In name.setter method\n",
      "In name.setter method\n",
      "In name.setter method\n",
      "In name.setter method\n",
      "In name.setter method\n",
      "In name.setter method\n",
      "In name.setter method\n",
      "In name.setter method\n",
      "In name.setter method\n",
      "In name.setter method\n",
      "In name.setter method\n",
      "In name.setter method\n",
      "In name.setter method\n",
      "In name.setter method\n",
      "In name.setter method\n",
      "In name.setter method\n",
      "In name.setter method\n",
      "In name.setter method\n",
      "In name.setter method\n",
      "In name.setter method\n",
      "In name.setter method\n",
      "In name.setter method\n",
      "In name.setter method\n",
      "In name.setter method\n",
      "In name.setter method\n",
      "In name.setter method\n",
      "In name.setter method\n",
      "In name.setter method\n",
      "In name.setter method\n",
      "In name.setter method\n",
      "In name.setter method\n",
      "In name.setter method\n",
      "In name.setter method\n",
      "In name.setter method\n",
      "In name.setter method\n",
      "In name.setter method\n",
      "In name.setter method\n",
      "In name.setter method\n",
      "In name.setter method\n",
      "In name.setter method\n",
      "In name.setter method\n",
      "In name.setter method\n",
      "In name.setter method\n",
      "In name.setter method\n",
      "In name.setter method\n",
      "In name.setter method\n",
      "In name.setter method\n",
      "In name.setter method\n",
      "In name.setter method\n",
      "In name.setter method\n",
      "In name.setter method\n",
      "In name.setter method\n",
      "In name.setter method\n",
      "In name.setter method\n",
      "In name.setter method\n",
      "In name.setter method\n",
      "In name.setter method\n",
      "In name.setter method\n",
      "In name.setter method\n",
      "In name.setter method\n",
      "In name.setter method\n",
      "In name.setter method\n",
      "In name.setter method\n",
      "In name.setter method\n",
      "In name.setter method\n",
      "In name.setter method\n",
      "In name.setter method\n",
      "In name.setter method\n",
      "In name.setter method\n",
      "In name.setter method\n",
      "In name.setter method\n",
      "In name.setter method\n",
      "In name.setter method\n",
      "In name.setter method\n",
      "In name.setter method\n",
      "In name.setter method\n",
      "In name.setter method\n",
      "In name.setter method\n",
      "In name.setter method\n",
      "In name.setter method\n",
      "In name.setter method\n",
      "In name.setter method\n",
      "In name.setter method\n",
      "In name.setter method\n",
      "In name.setter method\n",
      "In name.setter method\n",
      "In name.setter method\n",
      "In name.setter method\n",
      "In name.setter method\n",
      "In name.setter method\n",
      "In name.setter method\n",
      "In name.setter method\n",
      "In name.setter method\n",
      "In name.setter method\n",
      "In name.setter method\n",
      "In name.setter method\n",
      "In name.setter method\n",
      "In name.setter method\n",
      "In name.setter method\n",
      "In name.setter method\n",
      "In name.setter method\n",
      "In name.setter method\n",
      "In name.setter method\n",
      "In name.setter method\n",
      "In name.setter method\n",
      "In name.setter method\n",
      "In name.setter method\n",
      "In name.setter method\n",
      "In name.setter method\n",
      "In name.setter method\n",
      "In name.setter method\n",
      "In name.setter method\n",
      "In name.setter method\n",
      "In name.setter method\n",
      "In name.setter method\n",
      "In name.setter method\n",
      "In name.setter method\n",
      "In name.setter method\n",
      "In name.setter method\n",
      "In name.setter method\n",
      "In name.setter method\n",
      "In name.setter method\n",
      "In name.setter method\n",
      "In name.setter method\n",
      "In name.setter method\n",
      "In name.setter method\n",
      "In name.setter method\n",
      "In name.setter method\n",
      "In name.setter method\n",
      "In name.setter method\n",
      "In name.setter method\n",
      "In name.setter method\n",
      "In name.setter method\n",
      "In name.setter method\n",
      "In name.setter method\n",
      "In name.setter method\n",
      "In name.setter method\n",
      "In name.setter method\n",
      "In name.setter method\n",
      "In name.setter method\n",
      "In name.setter method\n",
      "In name.setter method\n",
      "In name.setter method\n",
      "In name.setter method\n",
      "In name.setter method\n",
      "In name.setter method\n",
      "In name.setter method\n",
      "In name.setter method\n",
      "In name.setter method\n",
      "In name.setter method\n",
      "In name.setter method\n",
      "In name.setter method\n",
      "In name.setter method\n",
      "In name.setter method\n",
      "In name.setter method\n",
      "In name.setter method\n",
      "In name.setter method\n",
      "In name.setter method\n",
      "In name.setter method\n",
      "In name.setter method\n",
      "In name.setter method\n",
      "In name.setter method\n",
      "In name.setter method\n",
      "In name.setter method\n",
      "In name.setter method\n",
      "In name.setter method\n",
      "In name.setter method\n",
      "In name.setter method\n",
      "In name.setter method\n",
      "In name.setter method\n",
      "In name.setter method\n",
      "In name.setter method\n",
      "In name.setter method\n",
      "In name.setter method\n",
      "In name.setter method\n",
      "In name.setter method\n",
      "In name.setter method\n",
      "In name.setter method\n",
      "In name.setter method\n",
      "In name.setter method\n",
      "In name.setter method\n",
      "In name.setter method\n",
      "In name.setter method\n",
      "In name.setter method\n",
      "In name.setter method\n",
      "In name.setter method\n",
      "In name.setter method\n",
      "In name.setter method\n",
      "In name.setter method\n",
      "In name.setter method\n",
      "In name.setter method\n",
      "In name.setter method\n",
      "In name.setter method\n",
      "In name.setter method\n",
      "In name.setter method\n",
      "In name.setter method\n",
      "In name.setter method\n",
      "In name.setter method\n",
      "In name.setter method\n",
      "In name.setter method\n",
      "In name.setter method\n",
      "In name.setter method\n",
      "In name.setter method\n",
      "In name.setter method\n",
      "In name.setter method\n",
      "In name.setter method\n",
      "In name.setter method\n",
      "In name.setter method\n",
      "In name.setter method\n",
      "In name.setter method\n",
      "In name.setter method\n",
      "In name.setter method\n",
      "In name.setter method\n",
      "In name.setter method\n",
      "In name.setter method\n",
      "In name.setter method\n",
      "In name.setter method\n",
      "In name.setter method\n",
      "In name.setter method\n",
      "In name.setter method\n",
      "In name.setter method\n",
      "In name.setter method\n",
      "In name.setter method\n",
      "In name.setter method\n",
      "In name.setter method\n",
      "In name.setter method\n",
      "In name.setter method\n",
      "In name.setter method\n",
      "In name.setter method\n",
      "In name.setter method\n",
      "In name.setter method\n",
      "In name.setter method\n",
      "In name.setter method\n",
      "In name.setter method\n",
      "In name.setter method\n",
      "In name.setter method\n",
      "In name.setter method\n",
      "In name.setter method\n",
      "In name.setter method\n",
      "In name.setter method\n",
      "In name.setter method\n",
      "In name.setter method\n",
      "In name.setter method\n",
      "In name.setter method\n",
      "In name.setter method\n",
      "In name.setter method\n",
      "In name.setter method\n",
      "In name.setter method\n",
      "In name.setter method\n",
      "In name.setter method\n",
      "In name.setter method\n",
      "In name.setter method\n",
      "In name.setter method\n",
      "In name.setter method\n",
      "In name.setter method\n",
      "In name.setter method\n",
      "In name.setter method\n",
      "In name.setter method\n",
      "In name.setter method\n",
      "In name.setter method\n",
      "In name.setter method\n",
      "In name.setter method\n",
      "In name.setter method\n",
      "In name.setter method\n",
      "In name.setter method\n",
      "In name.setter method\n",
      "In name.setter method\n",
      "In name.setter method\n",
      "In name.setter method\n",
      "In name.setter method\n",
      "In name.setter method\n",
      "In name.setter method\n",
      "In name.setter method\n",
      "In name.setter method\n",
      "In name.setter method\n",
      "In name.setter method\n",
      "In name.setter method\n",
      "In name.setter method\n",
      "In name.setter method\n",
      "In name.setter method\n",
      "In name.setter method\n",
      "In name.setter method\n",
      "In name.setter method\n",
      "In name.setter method\n",
      "In name.setter method\n",
      "In name.setter method\n",
      "In name.setter method\n",
      "In name.setter method\n",
      "In name.setter method\n",
      "In name.setter method\n",
      "In name.setter method\n",
      "In name.setter method\n",
      "In name.setter method\n",
      "In name.setter method\n",
      "In name.setter method\n",
      "In name.setter method\n",
      "In name.setter method\n",
      "In name.setter method\n",
      "In name.setter method\n",
      "In name.setter method\n",
      "In name.setter method\n",
      "In name.setter method\n",
      "In name.setter method\n",
      "In name.setter method\n",
      "In name.setter method\n",
      "In name.setter method\n",
      "In name.setter method\n",
      "In name.setter method\n",
      "In name.setter method\n",
      "In name.setter method\n",
      "In name.setter method\n",
      "In name.setter method\n",
      "In name.setter method\n",
      "In name.setter method\n",
      "In name.setter method\n",
      "In name.setter method\n",
      "In name.setter method\n",
      "In name.setter method\n",
      "In name.setter method\n",
      "In name.setter method\n",
      "In name.setter method\n",
      "In name.setter method\n",
      "In name.setter method\n",
      "In name.setter method\n",
      "In name.setter method\n",
      "In name.setter method\n",
      "In name.setter method\n",
      "In name.setter method\n",
      "In name.setter method\n",
      "In name.setter method\n",
      "In name.setter method\n",
      "In name.setter method\n",
      "In name.setter method\n",
      "In name.setter method\n",
      "In name.setter method\n",
      "In name.setter method\n",
      "In name.setter method\n",
      "In name.setter method\n",
      "In name.setter method\n",
      "In name.setter method\n",
      "In name.setter method\n",
      "In name.setter method\n",
      "In name.setter method\n",
      "In name.setter method\n",
      "In name.setter method\n",
      "In name.setter method\n",
      "In name.setter method\n",
      "In name.setter method\n",
      "In name.setter method\n",
      "In name.setter method\n",
      "In name.setter method\n",
      "In name.setter method\n",
      "In name.setter method\n",
      "In name.setter method\n",
      "In name.setter method\n",
      "In name.setter method\n",
      "In name.setter method\n",
      "In name.setter method\n",
      "In name.setter method\n",
      "In name.setter method\n",
      "In name.setter method\n",
      "In name.setter method\n",
      "In name.setter method\n",
      "In name.setter method\n",
      "In name.setter method\n",
      "In name.setter method\n",
      "In name.setter method\n",
      "In name.setter method\n",
      "In name.setter method\n",
      "In name.setter method\n",
      "In name.setter method\n",
      "In name.setter method\n",
      "In name.setter method\n",
      "In name.setter method\n",
      "In name.setter method\n",
      "In name.setter method\n",
      "In name.setter method\n",
      "In name.setter method\n",
      "In name.setter method\n",
      "In name.setter method\n",
      "In name.setter method\n",
      "In name.setter method\n",
      "In name.setter method\n",
      "In name.setter method\n",
      "In name.setter method\n",
      "In name.setter method\n",
      "In name.setter method\n",
      "In name.setter method\n",
      "In name.setter method\n",
      "In name.setter method\n",
      "In name.setter method\n",
      "In name.setter method\n",
      "In name.setter method\n",
      "In name.setter method\n",
      "In name.setter method\n",
      "In name.setter method\n",
      "In name.setter method\n",
      "In name.setter method\n",
      "In name.setter method\n",
      "In name.setter method\n",
      "In name.setter method\n",
      "In name.setter method\n",
      "In name.setter method\n",
      "In name.setter method\n",
      "In name.setter method\n",
      "In name.setter method\n",
      "In name.setter method\n",
      "In name.setter method\n",
      "In name.setter method\n",
      "In name.setter method\n",
      "In name.setter method\n",
      "In name.setter method\n",
      "In name.setter method\n",
      "In name.setter method\n",
      "In name.setter method\n",
      "In name.setter method\n",
      "In name.setter method\n",
      "In name.setter method\n",
      "In name.setter method\n",
      "In name.setter method\n",
      "In name.setter method\n",
      "In name.setter method\n",
      "In name.setter method\n",
      "In name.setter method\n",
      "In name.setter method\n",
      "In name.setter method\n",
      "In name.setter method\n",
      "In name.setter method\n",
      "In name.setter method\n",
      "In name.setter method\n",
      "In name.setter method\n",
      "In name.setter method\n",
      "In name.setter method\n",
      "In name.setter method\n",
      "In name.setter method\n",
      "In name.setter method\n",
      "In name.setter method\n",
      "In name.setter method\n",
      "In name.setter method\n",
      "In name.setter method\n",
      "In name.setter method\n",
      "In name.setter method\n",
      "In name.setter method\n",
      "In name.setter method\n",
      "In name.setter method\n",
      "In name.setter method\n",
      "In name.setter method\n",
      "In name.setter method\n",
      "In name.setter method\n",
      "In name.setter method\n",
      "In name.setter method\n",
      "In name.setter method\n",
      "In name.setter method\n",
      "In name.setter method\n",
      "In name.setter method\n",
      "In name.setter method\n",
      "In name.setter method\n",
      "In name.setter method\n",
      "In name.setter method\n",
      "In name.setter method\n",
      "In name.setter method\n",
      "In name.setter method\n",
      "In name.setter method\n",
      "In name.setter method\n",
      "In name.setter method\n",
      "In name.setter method\n",
      "In name.setter method\n",
      "In name.setter method\n",
      "In name.setter method\n",
      "In name.setter method\n",
      "In name.setter method\n",
      "In name.setter method\n",
      "In name.setter method\n",
      "In name.setter method\n",
      "In name.setter method\n",
      "In name.setter method\n",
      "In name.setter method\n",
      "In name.setter method\n",
      "In name.setter method\n",
      "In name.setter method\n",
      "In name.setter method\n",
      "In name.setter method\n",
      "In name.setter method\n",
      "In name.setter method\n",
      "In name.setter method\n",
      "In name.setter method\n",
      "In name.setter method\n",
      "In name.setter method\n",
      "In name.setter method\n",
      "In name.setter method\n",
      "In name.setter method\n",
      "In name.setter method\n",
      "In name.setter method\n",
      "In name.setter method\n",
      "In name.setter method\n",
      "In name.setter method\n",
      "In name.setter method\n",
      "In name.setter method\n",
      "In name.setter method\n",
      "In name.setter method\n",
      "In name.setter method\n",
      "In name.setter method\n",
      "In name.setter method\n",
      "In name.setter method\n",
      "In name.setter method\n",
      "In name.setter method\n",
      "In name.setter method\n",
      "In name.setter method\n",
      "In name.setter method\n",
      "In name.setter method\n",
      "In name.setter method\n",
      "In name.setter method\n",
      "In name.setter method\n",
      "In name.setter method\n",
      "In name.setter method\n",
      "In name.setter method\n",
      "In name.setter method\n",
      "In name.setter method\n",
      "In name.setter method\n",
      "In name.setter method\n",
      "In name.setter method\n",
      "In name.setter method\n",
      "In name.setter method\n",
      "In name.setter method\n",
      "In name.setter method\n",
      "In name.setter method\n",
      "In name.setter method\n",
      "In name.setter method\n",
      "In name.setter method\n",
      "In name.setter method\n",
      "In name.setter method\n",
      "In name.setter method\n",
      "In name.setter method\n",
      "In name.setter method\n",
      "In name.setter method\n",
      "In name.setter method\n",
      "In name.setter method\n",
      "In name.setter method\n",
      "In name.setter method\n",
      "In name.setter method\n",
      "In name.setter method\n",
      "In name.setter method\n",
      "In name.setter method\n",
      "In name.setter method\n",
      "In name.setter method\n",
      "In name.setter method\n",
      "In name.setter method\n",
      "In name.setter method\n",
      "In name.setter method\n",
      "In name.setter method\n",
      "In name.setter method\n",
      "In name.setter method\n",
      "In name.setter method\n",
      "In name.setter method\n",
      "In name.setter method\n",
      "In name.setter method\n",
      "In name.setter method\n",
      "In name.setter method\n",
      "In name.setter method\n",
      "In name.setter method\n",
      "In name.setter method\n",
      "In name.setter method\n",
      "In name.setter method\n",
      "In name.setter method\n",
      "In name.setter method\n",
      "In name.setter method\n",
      "In name.setter method\n",
      "In name.setter method\n",
      "In name.setter method\n",
      "In name.setter method\n",
      "In name.setter method\n",
      "In name.setter method\n",
      "In name.setter method\n",
      "In name.setter method\n",
      "In name.setter method\n",
      "In name.setter method\n",
      "In name.setter method\n",
      "In name.setter method\n",
      "In name.setter method\n",
      "In name.setter method\n",
      "In name.setter method\n",
      "In name.setter method\n",
      "In name.setter method\n",
      "In name.setter method\n",
      "In name.setter method\n",
      "In name.setter method\n",
      "In name.setter method\n",
      "In name.setter method\n",
      "In name.setter method\n",
      "In name.setter method\n",
      "In name.setter method\n",
      "In name.setter method\n",
      "In name.setter method\n",
      "In name.setter method\n",
      "In name.setter method\n",
      "In name.setter method\n",
      "In name.setter method\n",
      "In name.setter method\n",
      "In name.setter method\n",
      "In name.setter method\n",
      "In name.setter method\n",
      "In name.setter method\n",
      "In name.setter method\n",
      "In name.setter method\n",
      "In name.setter method\n",
      "In name.setter method\n",
      "In name.setter method\n",
      "In name.setter method\n",
      "In name.setter method\n",
      "In name.setter method\n",
      "In name.setter method\n",
      "In name.setter method\n",
      "In name.setter method\n",
      "In name.setter method\n",
      "In name.setter method\n",
      "In name.setter method\n",
      "In name.setter method\n",
      "In name.setter method\n",
      "In name.setter method\n",
      "In name.setter method\n",
      "In name.setter method\n",
      "In name.setter method\n",
      "In name.setter method\n",
      "In name.setter method\n",
      "In name.setter method\n",
      "In name.setter method\n",
      "In name.setter method\n",
      "In name.setter method\n",
      "In name.setter method\n",
      "In name.setter method\n",
      "In name.setter method\n",
      "In name.setter method\n",
      "In name.setter method\n",
      "In name.setter method\n",
      "In name.setter method\n",
      "In name.setter method\n",
      "In name.setter method\n",
      "In name.setter method\n",
      "In name.setter method\n",
      "In name.setter method\n",
      "In name.setter method\n",
      "In name.setter method\n",
      "In name.setter method\n",
      "In name.setter method\n",
      "In name.setter method\n",
      "In name.setter method\n",
      "In name.setter method\n",
      "In name.setter method\n",
      "In name.setter method\n",
      "In name.setter method\n",
      "In name.setter method\n",
      "In name.setter method\n",
      "In name.setter method\n",
      "In name.setter method\n",
      "In name.setter method\n",
      "In name.setter method\n",
      "In name.setter method\n",
      "In name.setter method\n",
      "In name.setter method\n",
      "In name.setter method\n",
      "In name.setter method\n",
      "In name.setter method\n",
      "In name.setter method\n",
      "In name.setter method\n",
      "In name.setter method\n",
      "In name.setter method\n",
      "In name.setter method\n",
      "In name.setter method\n",
      "In name.setter method\n",
      "In name.setter method\n",
      "In name.setter method\n",
      "In name.setter method\n",
      "In name.setter method\n",
      "In name.setter method\n",
      "In name.setter method\n",
      "In name.setter method\n",
      "In name.setter method\n",
      "In name.setter method\n",
      "In name.setter method\n",
      "In name.setter method\n",
      "In name.setter method\n",
      "In name.setter method\n",
      "In name.setter method\n",
      "In name.setter method\n",
      "In name.setter method\n",
      "In name.setter method\n",
      "In name.setter method\n",
      "In name.setter method\n",
      "In name.setter method\n",
      "In name.setter method\n",
      "In name.setter method\n",
      "In name.setter method\n",
      "In name.setter method\n",
      "In name.setter method\n",
      "In name.setter method\n",
      "In name.setter method\n",
      "In name.setter method\n",
      "In name.setter method\n",
      "In name.setter method\n",
      "In name.setter method\n",
      "In name.setter method\n",
      "In name.setter method\n",
      "In name.setter method\n",
      "In name.setter method\n",
      "In name.setter method\n",
      "In name.setter method\n",
      "In name.setter method\n",
      "In name.setter method\n",
      "In name.setter method\n",
      "In name.setter method\n",
      "In name.setter method\n",
      "In name.setter method\n",
      "In name.setter method\n",
      "In name.setter method\n",
      "In name.setter method\n",
      "In name.setter method\n",
      "In name.setter method\n",
      "In name.setter method\n",
      "In name.setter method\n",
      "In name.setter method\n",
      "In name.setter method\n",
      "In name.setter method\n",
      "In name.setter method\n",
      "In name.setter method\n",
      "In name.setter method\n",
      "In name.setter method\n",
      "In name.setter method\n",
      "In name.setter method\n",
      "In name.setter method\n",
      "In name.setter method\n",
      "In name.setter method\n",
      "In name.setter method\n",
      "In name.setter method\n",
      "In name.setter method\n",
      "In name.setter method\n",
      "In name.setter method\n",
      "In name.setter method\n",
      "In name.setter method\n",
      "In name.setter method\n",
      "In name.setter method\n",
      "In name.setter method\n",
      "In name.setter method\n",
      "In name.setter method\n",
      "In name.setter method\n",
      "In name.setter method\n",
      "In name.setter method\n",
      "In name.setter method\n",
      "In name.setter method\n",
      "In name.setter method\n",
      "In name.setter method\n",
      "In name.setter method\n",
      "In name.setter method\n",
      "In name.setter method\n",
      "In name.setter method\n",
      "In name.setter method\n",
      "In name.setter method\n",
      "In name.setter method\n",
      "In name.setter method\n",
      "In name.setter method\n",
      "In name.setter method\n",
      "In name.setter method\n",
      "In name.setter method\n",
      "In name.setter method\n",
      "In name.setter method\n",
      "In name.setter method\n",
      "In name.setter method\n",
      "In name.setter method\n",
      "In name.setter method\n",
      "In name.setter method\n",
      "In name.setter method\n",
      "In name.setter method\n",
      "In name.setter method\n",
      "In name.setter method\n",
      "In name.setter method\n",
      "In name.setter method\n",
      "In name.setter method\n",
      "In name.setter method\n",
      "In name.setter method\n",
      "In name.setter method\n",
      "In name.setter method\n",
      "In name.setter method\n",
      "In name.setter method\n",
      "In name.setter method\n",
      "In name.setter method\n",
      "In name.setter method\n",
      "In name.setter method\n",
      "In name.setter method\n",
      "In name.setter method\n",
      "In name.setter method\n",
      "In name.setter method\n",
      "In name.setter method\n",
      "In name.setter method\n",
      "In name.setter method\n",
      "In name.setter method\n",
      "In name.setter method\n",
      "In name.setter method\n",
      "In name.setter method\n",
      "In name.setter method\n",
      "In name.setter method\n",
      "In name.setter method\n",
      "In name.setter method\n",
      "In name.setter method\n",
      "In name.setter method\n",
      "In name.setter method\n",
      "In name.setter method\n",
      "In name.setter method\n",
      "In name.setter method\n",
      "In name.setter method\n",
      "In name.setter method\n",
      "In name.setter method\n",
      "In name.setter method\n",
      "In name.setter method\n",
      "In name.setter method\n",
      "In name.setter method\n",
      "In name.setter method\n",
      "In name.setter method\n",
      "In name.setter method\n",
      "In name.setter method\n",
      "In name.setter method\n",
      "In name.setter method\n",
      "In name.setter method\n",
      "In name.setter method\n",
      "In name.setter method\n",
      "In name.setter method\n",
      "In name.setter method\n",
      "In name.setter method\n",
      "In name.setter method\n",
      "In name.setter method\n",
      "In name.setter method\n",
      "In name.setter method\n",
      "In name.setter method\n",
      "In name.setter method\n",
      "In name.setter method\n",
      "In name.setter method\n",
      "In name.setter method\n",
      "In name.setter method\n",
      "In name.setter method\n",
      "In name.setter method\n",
      "In name.setter method\n",
      "In name.setter method\n",
      "In name.setter method\n",
      "In name.setter method\n",
      "In name.setter method\n",
      "In name.setter method\n",
      "In name.setter method\n",
      "In name.setter method\n",
      "In name.setter method\n",
      "In name.setter method\n",
      "In name.setter method\n",
      "In name.setter method\n",
      "In name.setter method\n",
      "In name.setter method\n",
      "In name.setter method\n",
      "In name.setter method\n",
      "In name.setter method\n",
      "In name.setter method\n",
      "In name.setter method\n",
      "In name.setter method\n",
      "In name.setter method\n",
      "In name.setter method\n",
      "In name.setter method\n",
      "In name.setter method\n",
      "In name.setter method\n",
      "In name.setter method\n",
      "In name.setter method\n",
      "In name.setter method\n",
      "In name.setter method\n",
      "In name.setter method\n",
      "In name.setter method\n",
      "In name.setter method\n",
      "In name.setter method\n",
      "In name.setter method\n",
      "In name.setter method\n",
      "In name.setter method\n",
      "In name.setter method\n",
      "In name.setter method\n",
      "In name.setter method\n",
      "In name.setter method\n",
      "In name.setter method\n",
      "In name.setter method\n",
      "In name.setter method\n",
      "In name.setter method\n",
      "In name.setter method\n",
      "In name.setter method\n",
      "In name.setter method\n",
      "In name.setter method\n",
      "In name.setter method\n",
      "In name.setter method\n",
      "In name.setter method\n",
      "In name.setter method\n",
      "In name.setter method\n",
      "In name.setter method\n",
      "In name.setter method\n",
      "In name.setter method\n",
      "In name.setter method\n",
      "In name.setter method\n",
      "In name.setter method\n",
      "In name.setter method\n",
      "In name.setter method\n",
      "In name.setter method\n",
      "In name.setter method\n",
      "In name.setter method\n",
      "In name.setter method\n",
      "In name.setter method\n",
      "In name.setter method\n",
      "In name.setter method\n",
      "In name.setter method\n",
      "In name.setter method\n",
      "In name.setter method\n",
      "In name.setter method\n",
      "In name.setter method\n",
      "In name.setter method\n",
      "In name.setter method\n",
      "In name.setter method\n",
      "In name.setter method\n",
      "In name.setter method\n",
      "In name.setter method\n",
      "In name.setter method\n",
      "In name.setter method\n",
      "In name.setter method\n",
      "In name.setter method\n",
      "In name.setter method\n",
      "In name.setter method\n",
      "In name.setter method\n",
      "In name.setter method\n",
      "In name.setter method\n",
      "In name.setter method\n",
      "In name.setter method\n",
      "In name.setter method\n",
      "In name.setter method\n",
      "In name.setter method\n",
      "In name.setter method\n",
      "In name.setter method\n",
      "In name.setter method\n",
      "In name.setter method\n",
      "In name.setter method\n",
      "In name.setter method\n",
      "In name.setter method\n",
      "In name.setter method\n",
      "In name.setter method\n",
      "In name.setter method\n",
      "In name.setter method\n",
      "In name.setter method\n",
      "In name.setter method\n",
      "In name.setter method\n",
      "In name.setter method\n",
      "In name.setter method\n",
      "In name.setter method\n",
      "In name.setter method\n",
      "In name.setter method\n",
      "In name.setter method\n",
      "In name.setter method\n",
      "In name.setter method\n",
      "In name.setter method\n",
      "In name.setter method\n",
      "In name.setter method\n",
      "In name.setter method\n",
      "In name.setter method\n",
      "In name.setter method\n",
      "In name.setter method\n",
      "In name.setter method\n",
      "In name.setter method\n",
      "In name.setter method\n",
      "In name.setter method\n",
      "In name.setter method\n",
      "In name.setter method\n",
      "In name.setter method\n",
      "In name.setter method\n",
      "In name.setter method\n",
      "In name.setter method\n",
      "In name.setter method\n",
      "In name.setter method\n",
      "In name.setter method\n",
      "In name.setter method\n",
      "In name.setter method\n",
      "In name.setter method\n",
      "In name.setter method\n",
      "In name.setter method\n",
      "In name.setter method\n",
      "In name.setter method\n",
      "In name.setter method\n",
      "In name.setter method\n",
      "In name.setter method\n",
      "In name.setter method\n",
      "In name.setter method\n",
      "In name.setter method\n",
      "In name.setter method\n",
      "In name.setter method\n",
      "In name.setter method\n",
      "In name.setter method\n",
      "In name.setter method\n",
      "In name.setter method\n",
      "In name.setter method\n",
      "In name.setter method\n",
      "In name.setter method\n",
      "In name.setter method\n",
      "In name.setter method\n",
      "In name.setter method\n",
      "In name.setter method\n",
      "In name.setter method\n",
      "In name.setter method\n",
      "In name.setter method\n",
      "In name.setter method\n",
      "In name.setter method\n",
      "In name.setter method\n",
      "In name.setter method\n",
      "In name.setter method\n",
      "In name.setter method\n",
      "In name.setter method\n",
      "In name.setter method\n",
      "In name.setter method\n",
      "In name.setter method\n",
      "In name.setter method\n",
      "In name.setter method\n",
      "In name.setter method\n",
      "In name.setter method\n",
      "In name.setter method\n",
      "In name.setter method\n",
      "In name.setter method\n",
      "In name.setter method\n",
      "In name.setter method\n",
      "In name.setter method\n",
      "In name.setter method\n",
      "In name.setter method\n",
      "In name.setter method\n",
      "In name.setter method\n",
      "In name.setter method\n",
      "In name.setter method\n",
      "In name.setter method\n",
      "In name.setter method\n",
      "In name.setter method\n",
      "In name.setter method\n",
      "In name.setter method\n",
      "In name.setter method\n",
      "In name.setter method\n",
      "In name.setter method\n",
      "In name.setter method\n",
      "In name.setter method\n",
      "In name.setter method\n",
      "In name.setter method\n",
      "In name.setter method\n",
      "In name.setter method\n",
      "In name.setter method\n",
      "In name.setter method\n",
      "In name.setter method\n",
      "In name.setter method\n",
      "In name.setter method\n",
      "In name.setter method\n",
      "In name.setter method\n",
      "In name.setter method\n",
      "In name.setter method\n",
      "In name.setter method\n",
      "In name.setter method\n",
      "In name.setter method\n",
      "In name.setter method\n",
      "In name.setter method\n",
      "In name.setter method\n",
      "In name.setter method\n",
      "In name.setter method\n",
      "In name.setter method\n",
      "In name.setter method\n",
      "In name.setter method\n",
      "In name.setter method\n",
      "In name.setter method\n",
      "In name.setter method\n",
      "In name.setter method\n",
      "In name.setter method\n",
      "In name.setter method\n",
      "In name.setter method\n",
      "In name.setter method\n",
      "In name.setter method\n",
      "In name.setter method\n",
      "In name.setter method\n",
      "In name.setter method\n",
      "In name.setter method\n",
      "In name.setter method\n",
      "In name.setter method\n",
      "In name.setter method\n",
      "In name.setter method\n",
      "In name.setter method\n",
      "In name.setter method\n",
      "In name.setter method\n",
      "In name.setter method\n",
      "In name.setter method\n",
      "In name.setter method\n",
      "In name.setter method\n",
      "In name.setter method\n",
      "In name.setter method\n",
      "In name.setter method\n",
      "In name.setter method\n",
      "In name.setter method\n",
      "In name.setter method\n",
      "In name.setter method\n",
      "In name.setter method\n",
      "In name.setter method\n",
      "In name.setter method\n",
      "In name.setter method\n",
      "In name.setter method\n",
      "In name.setter method\n",
      "In name.setter method\n",
      "In name.setter method\n",
      "In name.setter method\n",
      "In name.setter method\n",
      "In name.setter method\n",
      "In name.setter method\n",
      "In name.setter method\n",
      "In name.setter method\n",
      "In name.setter method\n",
      "In name.setter method\n",
      "In name.setter method\n",
      "In name.setter method\n",
      "In name.setter method\n",
      "In name.setter method\n",
      "In name.setter method\n",
      "In name.setter method\n",
      "In name.setter method\n",
      "In name.setter method\n",
      "In name.setter method\n",
      "In name.setter method\n",
      "In name.setter method\n",
      "In name.setter method\n",
      "In name.setter method\n",
      "In name.setter method\n",
      "In name.setter method\n",
      "In name.setter method\n",
      "In name.setter method\n",
      "In name.setter method\n",
      "In name.setter method\n",
      "In name.setter method\n",
      "In name.setter method\n",
      "In name.setter method\n",
      "In name.setter method\n",
      "In name.setter method\n",
      "In name.setter method\n",
      "In name.setter method\n",
      "In name.setter method\n",
      "In name.setter method\n",
      "In name.setter method\n",
      "In name.setter method\n",
      "In name.setter method\n",
      "In name.setter method\n",
      "In name.setter method\n",
      "In name.setter method\n",
      "In name.setter method\n",
      "In name.setter method\n",
      "In name.setter method\n",
      "In name.setter method\n",
      "In name.setter method\n",
      "In name.setter method\n",
      "In name.setter method\n",
      "In name.setter method\n",
      "In name.setter method\n",
      "In name.setter method\n",
      "In name.setter method\n",
      "In name.setter method\n",
      "In name.setter method\n",
      "In name.setter method\n",
      "In name.setter method\n",
      "In name.setter method\n",
      "In name.setter method\n",
      "In name.setter method\n",
      "In name.setter method\n",
      "In name.setter method\n",
      "In name.setter method\n",
      "In name.setter method\n",
      "In name.setter method\n",
      "In name.setter method\n",
      "In name.setter method\n",
      "In name.setter method\n",
      "In name.setter method\n",
      "In name.setter method\n",
      "In name.setter method\n",
      "In name.setter method\n",
      "In name.setter method\n",
      "In name.setter method\n",
      "In name.setter method\n",
      "In name.setter method\n",
      "In name.setter method\n",
      "In name.setter method\n",
      "In name.setter method\n",
      "In name.setter method\n",
      "In name.setter method\n",
      "In name.setter method\n",
      "In name.setter method\n",
      "In name.setter method\n",
      "In name.setter method\n",
      "In name.setter method\n",
      "In name.setter method\n",
      "In name.setter method\n",
      "In name.setter method\n",
      "In name.setter method\n",
      "In name.setter method\n",
      "In name.setter method\n",
      "In name.setter method\n",
      "In name.setter method\n",
      "In name.setter method\n",
      "In name.setter method\n",
      "In name.setter method\n",
      "In name.setter method\n",
      "In name.setter method\n",
      "In name.setter method\n",
      "In name.setter method\n"
     ]
    },
    {
     "name": "stdout",
     "output_type": "stream",
     "text": [
      "In name.setter method\n",
      "In name.setter method\n",
      "In name.setter method\n",
      "In name.setter method\n",
      "In name.setter method\n",
      "In name.setter method\n",
      "In name.setter method\n",
      "In name.setter method\n",
      "In name.setter method\n",
      "In name.setter method\n",
      "In name.setter method\n",
      "In name.setter method\n",
      "In name.setter method\n",
      "In name.setter method\n",
      "In name.setter method\n",
      "In name.setter method\n",
      "In name.setter method\n",
      "In name.setter method\n",
      "In name.setter method\n",
      "In name.setter method\n",
      "In name.setter method\n",
      "In name.setter method\n",
      "In name.setter method\n",
      "In name.setter method\n",
      "In name.setter method\n",
      "In name.setter method\n",
      "In name.setter method\n",
      "In name.setter method\n",
      "In name.setter method\n",
      "In name.setter method\n",
      "In name.setter method\n",
      "In name.setter method\n",
      "In name.setter method\n",
      "In name.setter method\n",
      "In name.setter method\n",
      "In name.setter method\n",
      "In name.setter method\n",
      "In name.setter method\n",
      "In name.setter method\n",
      "In name.setter method\n",
      "In name.setter method\n",
      "In name.setter method\n",
      "In name.setter method\n",
      "In name.setter method\n",
      "In name.setter method\n",
      "In name.setter method\n",
      "In name.setter method\n",
      "In name.setter method\n",
      "In name.setter method\n",
      "In name.setter method\n",
      "In name.setter method\n",
      "In name.setter method\n",
      "In name.setter method\n",
      "In name.setter method\n",
      "In name.setter method\n",
      "In name.setter method\n",
      "In name.setter method\n",
      "In name.setter method\n",
      "In name.setter method\n",
      "In name.setter method\n",
      "In name.setter method\n",
      "In name.setter method\n",
      "In name.setter method\n",
      "In name.setter method\n",
      "In name.setter method\n",
      "In name.setter method\n",
      "In name.setter method\n",
      "In name.setter method\n",
      "In name.setter method\n",
      "In name.setter method\n",
      "In name.setter method\n",
      "In name.setter method\n",
      "In name.setter method\n",
      "In name.setter method\n",
      "In name.setter method\n",
      "In name.setter method\n",
      "In name.setter method\n",
      "In name.setter method\n",
      "In name.setter method\n",
      "In name.setter method\n",
      "In name.setter method\n",
      "In name.setter method\n",
      "In name.setter method\n",
      "In name.setter method\n",
      "In name.setter method\n",
      "In name.setter method\n",
      "In name.setter method\n",
      "In name.setter method\n",
      "In name.setter method\n",
      "In name.setter method\n",
      "In name.setter method\n",
      "In name.setter method\n",
      "In name.setter method\n",
      "In name.setter method\n",
      "In name.setter method\n",
      "In name.setter method\n",
      "In name.setter method\n",
      "In name.setter method\n",
      "In name.setter method\n",
      "In name.setter method\n",
      "In name.setter method\n",
      "In name.setter method\n",
      "In name.setter method\n",
      "In name.setter method\n",
      "In name.setter method\n",
      "In name.setter method\n",
      "In name.setter method\n",
      "In name.setter method\n",
      "In name.setter method\n",
      "In name.setter method\n",
      "In name.setter method\n",
      "In name.setter method\n",
      "In name.setter method\n",
      "In name.setter method\n",
      "In name.setter method\n",
      "In name.setter method\n",
      "In name.setter method\n",
      "In name.setter method\n",
      "In name.setter method\n",
      "In name.setter method\n",
      "In name.setter method\n",
      "In name.setter method\n",
      "In name.setter method\n",
      "In name.setter method\n",
      "In name.setter method\n",
      "In name.setter method\n",
      "In name.setter method\n",
      "In name.setter method\n",
      "In name.setter method\n",
      "In name.setter method\n",
      "In name.setter method\n",
      "In name.setter method\n",
      "In name.setter method\n",
      "In name.setter method\n",
      "In name.setter method\n",
      "In name.setter method\n",
      "In name.setter method\n",
      "In name.setter method\n",
      "In name.setter method\n",
      "In name.setter method\n",
      "In name.setter method\n",
      "In name.setter method\n",
      "In name.setter method\n",
      "In name.setter method\n",
      "In name.setter method\n",
      "In name.setter method\n",
      "In name.setter method\n",
      "In name.setter method\n",
      "In name.setter method\n",
      "In name.setter method\n",
      "In name.setter method\n",
      "In name.setter method\n",
      "In name.setter method\n",
      "In name.setter method\n",
      "In name.setter method\n",
      "In name.setter method\n",
      "In name.setter method\n",
      "In name.setter method\n",
      "In name.setter method\n",
      "In name.setter method\n",
      "In name.setter method\n",
      "In name.setter method\n",
      "In name.setter method\n",
      "In name.setter method\n",
      "In name.setter method\n",
      "In name.setter method\n",
      "In name.setter method\n",
      "In name.setter method\n",
      "In name.setter method\n",
      "In name.setter method\n",
      "In name.setter method\n",
      "In name.setter method\n",
      "In name.setter method\n",
      "In name.setter method\n",
      "In name.setter method\n",
      "In name.setter method\n",
      "In name.setter method\n",
      "In name.setter method\n",
      "In name.setter method\n",
      "In name.setter method\n",
      "In name.setter method\n",
      "In name.setter method\n",
      "In name.setter method\n",
      "In name.setter method\n",
      "In name.setter method\n",
      "In name.setter method\n",
      "In name.setter method\n",
      "In name.setter method\n",
      "In name.setter method\n",
      "In name.setter method\n",
      "In name.setter method\n",
      "In name.setter method\n",
      "In name.setter method\n",
      "In name.setter method\n",
      "In name.setter method\n",
      "In name.setter method"
     ]
    },
    {
     "ename": "RecursionError",
     "evalue": "maximum recursion depth exceeded in comparison",
     "output_type": "error",
     "traceback": [
      "\u001b[1;31m---------------------------------------------------------------------------\u001b[0m",
      "\u001b[1;31mRecursionError\u001b[0m                            Traceback (most recent call last)",
      "\u001b[1;32m<ipython-input-99-485d4563edc3>\u001b[0m in \u001b[0;36m<module>\u001b[1;34m()\u001b[0m\n\u001b[0;32m     25\u001b[0m         \u001b[0mself\u001b[0m\u001b[1;33m.\u001b[0m\u001b[0mname\u001b[0m \u001b[1;33m=\u001b[0m \u001b[0mname\u001b[0m\u001b[1;33m\u001b[0m\u001b[0m\n\u001b[0;32m     26\u001b[0m \u001b[1;33m\u001b[0m\u001b[0m\n\u001b[1;32m---> 27\u001b[1;33m \u001b[0memp1\u001b[0m \u001b[1;33m=\u001b[0m \u001b[0mEmployee\u001b[0m\u001b[1;33m(\u001b[0m\u001b[1;34m\"Kane\"\u001b[0m\u001b[1;33m)\u001b[0m\u001b[1;33m\u001b[0m\u001b[0m\n\u001b[0m\u001b[0;32m     28\u001b[0m \u001b[1;31m#print(emp1.get_name())\u001b[0m\u001b[1;33m\u001b[0m\u001b[1;33m\u001b[0m\u001b[0m\n\u001b[0;32m     29\u001b[0m \u001b[0mprint\u001b[0m\u001b[1;33m(\u001b[0m\u001b[0memp1\u001b[0m\u001b[1;33m.\u001b[0m\u001b[0mname\u001b[0m\u001b[1;33m)\u001b[0m\u001b[1;33m\u001b[0m\u001b[0m\n",
      "\u001b[1;32m<ipython-input-99-485d4563edc3>\u001b[0m in \u001b[0;36m__init__\u001b[1;34m(self, name)\u001b[0m\n\u001b[0;32m      1\u001b[0m \u001b[1;32mclass\u001b[0m \u001b[0mEmployee\u001b[0m\u001b[1;33m:\u001b[0m\u001b[1;33m\u001b[0m\u001b[0m\n\u001b[0;32m      2\u001b[0m     \u001b[1;32mdef\u001b[0m \u001b[0m__init__\u001b[0m\u001b[1;33m(\u001b[0m\u001b[0mself\u001b[0m\u001b[1;33m,\u001b[0m \u001b[0mname\u001b[0m\u001b[1;33m)\u001b[0m\u001b[1;33m:\u001b[0m\u001b[1;33m\u001b[0m\u001b[0m\n\u001b[1;32m----> 3\u001b[1;33m         \u001b[0mself\u001b[0m\u001b[1;33m.\u001b[0m\u001b[0mname\u001b[0m \u001b[1;33m=\u001b[0m \u001b[1;34m\"\"\u001b[0m\u001b[1;33m\u001b[0m\u001b[0m\n\u001b[0m\u001b[0;32m      4\u001b[0m \u001b[1;33m\u001b[0m\u001b[0m\n\u001b[0;32m      5\u001b[0m     \u001b[1;31m#geter method using propery decorator\u001b[0m\u001b[1;33m\u001b[0m\u001b[1;33m\u001b[0m\u001b[0m\n",
      "\u001b[1;32m<ipython-input-99-485d4563edc3>\u001b[0m in \u001b[0;36mname\u001b[1;34m(self, name)\u001b[0m\n\u001b[0;32m     13\u001b[0m     \u001b[1;32mdef\u001b[0m \u001b[0mname\u001b[0m\u001b[1;33m(\u001b[0m\u001b[0mself\u001b[0m\u001b[1;33m,\u001b[0m \u001b[0mname\u001b[0m\u001b[1;33m)\u001b[0m\u001b[1;33m:\u001b[0m\u001b[1;33m\u001b[0m\u001b[0m\n\u001b[0;32m     14\u001b[0m         \u001b[0mprint\u001b[0m\u001b[1;33m(\u001b[0m\u001b[1;34m\"In name.setter method\"\u001b[0m\u001b[1;33m)\u001b[0m\u001b[1;33m\u001b[0m\u001b[0m\n\u001b[1;32m---> 15\u001b[1;33m         \u001b[0mself\u001b[0m\u001b[1;33m.\u001b[0m\u001b[0mname\u001b[0m \u001b[1;33m=\u001b[0m \u001b[0mname\u001b[0m\u001b[1;33m\u001b[0m\u001b[0m\n\u001b[0m\u001b[0;32m     16\u001b[0m \u001b[1;33m\u001b[0m\u001b[0m\n\u001b[0;32m     17\u001b[0m     \u001b[1;31m#@property\u001b[0m\u001b[1;33m\u001b[0m\u001b[1;33m\u001b[0m\u001b[0m\n",
      "... last 1 frames repeated, from the frame below ...\n",
      "\u001b[1;32m<ipython-input-99-485d4563edc3>\u001b[0m in \u001b[0;36mname\u001b[1;34m(self, name)\u001b[0m\n\u001b[0;32m     13\u001b[0m     \u001b[1;32mdef\u001b[0m \u001b[0mname\u001b[0m\u001b[1;33m(\u001b[0m\u001b[0mself\u001b[0m\u001b[1;33m,\u001b[0m \u001b[0mname\u001b[0m\u001b[1;33m)\u001b[0m\u001b[1;33m:\u001b[0m\u001b[1;33m\u001b[0m\u001b[0m\n\u001b[0;32m     14\u001b[0m         \u001b[0mprint\u001b[0m\u001b[1;33m(\u001b[0m\u001b[1;34m\"In name.setter method\"\u001b[0m\u001b[1;33m)\u001b[0m\u001b[1;33m\u001b[0m\u001b[0m\n\u001b[1;32m---> 15\u001b[1;33m         \u001b[0mself\u001b[0m\u001b[1;33m.\u001b[0m\u001b[0mname\u001b[0m \u001b[1;33m=\u001b[0m \u001b[0mname\u001b[0m\u001b[1;33m\u001b[0m\u001b[0m\n\u001b[0m\u001b[0;32m     16\u001b[0m \u001b[1;33m\u001b[0m\u001b[0m\n\u001b[0;32m     17\u001b[0m     \u001b[1;31m#@property\u001b[0m\u001b[1;33m\u001b[0m\u001b[1;33m\u001b[0m\u001b[0m\n",
      "\u001b[1;31mRecursionError\u001b[0m: maximum recursion depth exceeded in comparison"
     ]
    }
   ],
   "source": [
    "class Employee:\n",
    "    def __init__(self, name):\n",
    "        self.name = \"\"\n",
    "\n",
    "    #geter method using propery decorator\n",
    "    @property\n",
    "    def name(self):\n",
    "        print(\"In name getter method\")\n",
    "        return self.name\n",
    "    \n",
    "    #setter method\n",
    "    @name.setter\n",
    "    def name(self, name):\n",
    "        print(\"In name.setter method\")\n",
    "        self.name = name\n",
    "    \n",
    "    #@property\n",
    "    def get_name(self):\n",
    "        print(\"In get_name method\")\n",
    "        return self.name\n",
    "    \n",
    "    #@property\n",
    "    def set_name(self, name):\n",
    "        print(\"In set_name method\")\n",
    "        self.name = name            \n",
    "        \n",
    "emp1 = Employee(\"Kane\")\n",
    "#print(emp1.get_name())\n",
    "print(emp1.name)\n",
    "\n",
    "emp1.name = \"Sam\"\n",
    "#print(emp1.get_name())\n",
    "print(emp1.name)"
   ]
  },
  {
   "cell_type": "markdown",
   "metadata": {},
   "source": [
    "# Decorators\n",
    "- Decorator is a function that takes another function as argument, which does some functionality without altering the original function\n",
    "- <font color=blue> Decorators allow us to add new functionality through a wrapper function without modifying the code of original function </font>"
   ]
  },
  {
   "cell_type": "markdown",
   "metadata": {},
   "source": [
    "## Simple decorator example\n",
    "- this functionality is similar to closure"
   ]
  },
  {
   "cell_type": "code",
   "execution_count": 23,
   "metadata": {},
   "outputs": [
    {
     "name": "stdout",
     "output_type": "stream",
     "text": [
      "wrapper executed before this disp function\n",
      "print from disp function\n"
     ]
    }
   ],
   "source": [
    "# function takes another function as argument\n",
    "def decr_fn(org_func):\n",
    "    # a wrapper function inside the function\n",
    "    def wrapper_fn():\n",
    "        print('wrapper executed before this {} function'.format(org_func.__name__))\n",
    "        org_func()\n",
    "    # returns the function name\n",
    "    return wrapper_fn\n",
    "\n",
    "# an example function\n",
    "def disp():\n",
    "    print('print from disp function')\n",
    "    \n",
    "# call decorator func by passing a function as argumetn\n",
    "dec_func = decr_fn(disp)\n",
    "# call the dec function to execute the disp function with extra functionality\n",
    "dec_func()"
   ]
  },
  {
   "cell_type": "markdown",
   "metadata": {},
   "source": [
    "## above example with decorator syntax\n",
    "- <font color=blue> Same as above example, but decorator assignment can be added to any function above another function\n",
    "- so just by adding the decorator, when calling the same function which also does added functionality without modifying this function code </font>"
   ]
  },
  {
   "cell_type": "code",
   "execution_count": 28,
   "metadata": {},
   "outputs": [
    {
     "name": "stdout",
     "output_type": "stream",
     "text": [
      "wrapper executed before this disp function\n",
      "print from disp function\n"
     ]
    }
   ],
   "source": [
    "# function takes another function as argument\n",
    "def decr_fn(org_func):\n",
    "    # a wrapper function inside the function\n",
    "    def wrapper_fn():\n",
    "        print('wrapper executed before this {} function'.format(org_func.__name__))\n",
    "        org_func()\n",
    "    # returns the function name\n",
    "    return wrapper_fn\n",
    "\n",
    "# this function is modified as decorator function\n",
    "@decr_fn\n",
    "def disp():\n",
    "    print('print from disp function')\n",
    "    \n",
    "# this assignment is same as mentioning the @decr_fn above the disp function\n",
    "# dec_func = decr_fn(disp)\n",
    "# call the disp function with extra functionality\n",
    "disp()"
   ]
  },
  {
   "cell_type": "markdown",
   "metadata": {},
   "source": [
    "## Decorator with arguments\n",
    "- we can specify the variable positional, keyword arguments with *args, **kwargs"
   ]
  },
  {
   "cell_type": "code",
   "execution_count": 31,
   "metadata": {},
   "outputs": [
    {
     "name": "stdout",
     "output_type": "stream",
     "text": [
      "wrapper executed before this disp_info function\n",
      "print from disp function: name: test, rank: 5\n"
     ]
    }
   ],
   "source": [
    "# function takes another function as argument\n",
    "def decr_fn(org_func):\n",
    "    # a wrapper function inside the function\n",
    "    def wrapper_fn(*args, **kwargs):\n",
    "        print('wrapper executed before this {} function'.format(org_func.__name__))\n",
    "        org_func(*args, **kwargs)\n",
    "    # returns the function name\n",
    "    return wrapper_fn\n",
    "\n",
    "# this function is modified as decorator function\n",
    "@decr_fn\n",
    "def disp_info(name, rank):\n",
    "    print('print from disp function: name: {}, rank: {}'.format(name, rank))\n",
    "    \n",
    "# call the dec function to execute the disp function with extra functionality\n",
    "disp_info('test', 5)"
   ]
  },
  {
   "cell_type": "markdown",
   "metadata": {},
   "source": [
    "## Decorator Class"
   ]
  },
  {
   "cell_type": "code",
   "execution_count": null,
   "metadata": {},
   "outputs": [],
   "source": []
  },
  {
   "cell_type": "markdown",
   "metadata": {},
   "source": [
    "# File I/O"
   ]
  },
  {
   "cell_type": "markdown",
   "metadata": {},
   "source": [
    "## file object attributes\n",
    "- Once a file is opened and you have one file object, you can get various information related to that file.\n",
    "\n",
    "- Here is a list of all attributes related to file object:\n",
    "    - Attribute:        Description:\n",
    "    - file.closed       Returns true if file is closed, false otherwise.\n",
    "    - file.mode         Returns access mode with which file was opened.\n",
    "    - file.name         Returns name of the file.\n",
    "    - file.softspace    Returns false if space explicitly required with print, true otherwise. "
   ]
  },
  {
   "cell_type": "markdown",
   "metadata": {},
   "source": [
    "## example for file open, close and attributes"
   ]
  },
  {
   "cell_type": "code",
   "execution_count": 23,
   "metadata": {
    "scrolled": true
   },
   "outputs": [
    {
     "name": "stdout",
     "output_type": "stream",
     "text": [
      "Name of the file:  foo.txt\n",
      "Opening mode :  wb\n",
      "Closed or not :  False\n",
      "Closed or not :  True\n"
     ]
    }
   ],
   "source": [
    "fp = open(\"foo.txt\", \"wb\")\n",
    "print (\"Name of the file: \", fp.name)\n",
    "print (\"Opening mode : \", fp.mode)\n",
    "print (\"Closed or not : \", fp.closed)\n",
    "fp.close()\n",
    "print (\"Closed or not : \", fp.closed)"
   ]
  },
  {
   "cell_type": "markdown",
   "metadata": {},
   "source": [
    "## read and write files\n",
    "- use read() and write() methods to read and write files"
   ]
  },
  {
   "cell_type": "code",
   "execution_count": 24,
   "metadata": {},
   "outputs": [
    {
     "name": "stdout",
     "output_type": "stream",
     "text": [
      "Python is a great language.\n",
      " Yeah its great!!\n",
      "\n"
     ]
    }
   ],
   "source": [
    "# example\n",
    "\n",
    "fp = open(\"foo.txt\", \"w\")\n",
    "fp.write( \"Python is a great language.\\n Yeah its great!!\\n\");\n",
    "fp.close()\n",
    "\n",
    "fp = open(\"foo.txt\", \"r\")\n",
    "str = fp.read()\n",
    "print (str)\n",
    "fp.close()"
   ]
  },
  {
   "cell_type": "markdown",
   "metadata": {},
   "source": [
    "## file positions\n",
    "- The tell() method tells you the current position within the file\n",
    "- The seek(offset[, from]) method changes the current file position"
   ]
  },
  {
   "cell_type": "markdown",
   "metadata": {},
   "source": [
    "# OS module\n",
    "- The OS module in python provides functions for interacting with the operating system"
   ]
  },
  {
   "cell_type": "markdown",
   "metadata": {},
   "source": [
    "## os.getcwd(): get current working directory"
   ]
  },
  {
   "cell_type": "code",
   "execution_count": 25,
   "metadata": {},
   "outputs": [
    {
     "name": "stdout",
     "output_type": "stream",
     "text": [
      "D:\\learning-git\\python\\learn\n"
     ]
    }
   ],
   "source": [
    "import os\n",
    "print(os.getcwd())"
   ]
  },
  {
   "cell_type": "markdown",
   "metadata": {},
   "source": [
    "## os.listdir(): list directories and files"
   ]
  },
  {
   "cell_type": "code",
   "execution_count": 26,
   "metadata": {},
   "outputs": [
    {
     "name": "stdout",
     "output_type": "stream",
     "text": [
      "['.ipynb_checkpoints', '.python_learn.py.swn', '.python_learn.py.swo', '.python_learn.py.swp', '.python_learn.py.un~', 'byte_of_python.pdf', 'foo.txt', 'python_learn.py', 'python_learn.py~', 'python_learn_note.ipynb', 'python_syllabus.txt', 'python_tips.py', 'temp1.txt', 'test.py', 'test_module.py']\n"
     ]
    }
   ],
   "source": [
    "import os\n",
    "print(os.listdir())"
   ]
  },
  {
   "cell_type": "markdown",
   "metadata": {},
   "source": [
    "## os.makedirs(): create directories using path\n",
    "- **creates a path, creates the directories if any directory is not available in the path**"
   ]
  },
  {
   "cell_type": "markdown",
   "metadata": {},
   "source": [
    "## os.rename() : rename files/directories"
   ]
  },
  {
   "cell_type": "code",
   "execution_count": 27,
   "metadata": {},
   "outputs": [
    {
     "name": "stdout",
     "output_type": "stream",
     "text": [
      "['.ipynb_checkpoints', '.python_learn.py.swn', '.python_learn.py.swo', '.python_learn.py.swp', '.python_learn.py.un~', 'byte_of_python.pdf', 'foo.txt', 'python_learn.py', 'python_learn.py~', 'python_learn_note.ipynb', 'python_syllabus.txt', 'python_tips.py', 'temp.txt', 'temp1.txt', 'test.py', 'test_module.py']\n",
      "\n",
      " list and directories after renaming\n",
      "['.ipynb_checkpoints', '.python_learn.py.swn', '.python_learn.py.swo', '.python_learn.py.swp', '.python_learn.py.un~', 'byte_of_python.pdf', 'foo.txt', 'python_learn.py', 'python_learn.py~', 'python_learn_note.ipynb', 'python_syllabus.txt', 'python_tips.py', 'temp1.txt', 'test.py', 'test_module.py']\n"
     ]
    }
   ],
   "source": [
    "import os\n",
    "with open('temp.txt', 'w') as f:\n",
    "    pass\n",
    "# list directories and files after temp file creation\n",
    "print(os.listdir())\n",
    "\n",
    "# rename file\n",
    "os.remove('temp1.txt')\n",
    "os.rename('temp.txt', 'temp1.txt')\n",
    "# list directories and files after renaming\n",
    "print('\\n list and directories after renaming')\n",
    "print(os.listdir())"
   ]
  },
  {
   "cell_type": "markdown",
   "metadata": {},
   "source": [
    "# try: for error handling\n",
    "- try block is used to handle the exception gracefully\n",
    "- default exception is called for any exception, however we can have custom exceptions for clarity\n",
    "- else block will be executed when no exception raised\n",
    "- finally block is called irrespective of exceptions, can be used to de-init/close other stuff"
   ]
  },
  {
   "cell_type": "code",
   "execution_count": 28,
   "metadata": {},
   "outputs": [
    {
     "name": "stdout",
     "output_type": "stream",
     "text": [
      "default: File opening error\n",
      "File opening error\n",
      "else part when no exception\n",
      "else part when no exception\n",
      "execute finally block irrespective of exception status\n",
      "raised error\n"
     ]
    }
   ],
   "source": [
    "# default error exception\n",
    "try:\n",
    "    f = open('test.yuv', 'r')\n",
    "except Exception:\n",
    "    print(\"default: File opening error\")\n",
    "\n",
    "# specific error exception\n",
    "try:\n",
    "    f = open('test.yuv', 'r')\n",
    "except FileNotFoundError:\n",
    "    print(\"File opening error\")\n",
    "except Exception:\n",
    "    pass\n",
    "\n",
    "# else part if no error\n",
    "try:\n",
    "    pass\n",
    "except Exception:\n",
    "    pass\n",
    "else:\n",
    "    print('else part when no exception')\n",
    "    \n",
    "# else part if no error\n",
    "try:\n",
    "    pass\n",
    "except Exception:\n",
    "    pass\n",
    "else:\n",
    "    print('else part when no exception')\n",
    "finally:\n",
    "    print('execute finally block irrespective of exception status')\n",
    "    \n",
    "# raise exception\n",
    "try:\n",
    "    val = -1\n",
    "    # here no issue, but we can raise custom exceptions based on need\n",
    "    if(val == -1):\n",
    "        raise Exception\n",
    "except Exception:\n",
    "    print(\"raised error\")"
   ]
  },
  {
   "cell_type": "markdown",
   "metadata": {},
   "source": [
    "# Python Regular Expression"
   ]
  },
  {
   "cell_type": "markdown",
   "metadata": {},
   "source": [
    "## raw string\n",
    "- raw string prefixed with character 'r', which indicates python to interpret literally the string as it is, not to treat the special characters in any special way"
   ]
  },
  {
   "cell_type": "code",
   "execution_count": 7,
   "metadata": {},
   "outputs": [
    {
     "name": "stdout",
     "output_type": "stream",
     "text": [
      "...\t :normal string after tab\n",
      "...\\t :raw string interpreted literally as it is \n",
      "without any special meaning to any special characters\n"
     ]
    }
   ],
   "source": [
    "# raw string example\n",
    "string = '...\\t :normal string after tab'\n",
    "raw_string = r'''...\\t :raw string interpreted literally as it is \n",
    "without any special meaning to any special characters'''\n",
    "\n",
    "print(string)\n",
    "print(raw_string)"
   ]
  },
  {
   "cell_type": "markdown",
   "metadata": {},
   "source": [
    "## find match: finditer"
   ]
  },
  {
   "cell_type": "code",
   "execution_count": 26,
   "metadata": {},
   "outputs": [
    {
     "name": "stdout",
     "output_type": "stream",
     "text": [
      "re.compile('hi')\n",
      "<_sre.SRE_Match object; span=(0, 2), match='hi'>\n",
      "<_sre.SRE_Match object; span=(20, 22), match='hi'>\n",
      "\n",
      " re.compile('\\\\d') \\d to match digits\n",
      "<_sre.SRE_Match object; span=(53, 54), match='1'>\n",
      "<_sre.SRE_Match object; span=(64, 65), match='2'>\n"
     ]
    }
   ],
   "source": [
    "# example\n",
    "import re\n",
    "search_string = '''hi, hello to search hi with big HI python.com number 1 and java 2'''\n",
    "\n",
    "# compile the pattern raw string\n",
    "pattern = re.compile(r'hi')\n",
    "# find match in string\n",
    "matches = pattern.finditer(search_string)\n",
    "# print all matches with indexes\n",
    "print(pattern)\n",
    "for match in matches:\n",
    "    print(match)\n",
    "    \n",
    "# match all chars\n",
    "pattern = re.compile(r'\\d')\n",
    "# match digits in string with \\d\n",
    "matches = pattern.finditer(search_string)\n",
    "# print all matches\n",
    "print('\\n', pattern, '\\d to match digits')\n",
    "for match in matches:\n",
    "    print(match)    "
   ]
  },
  {
   "cell_type": "code",
   "execution_count": null,
   "metadata": {},
   "outputs": [],
   "source": []
  },
  {
   "cell_type": "markdown",
   "metadata": {},
   "source": [
    "# Python Exercise Examples: Basics\n",
    "https://www.w3resource.com/python-exercises/"
   ]
  },
  {
   "cell_type": "markdown",
   "metadata": {},
   "source": [
    "## Print current date time"
   ]
  },
  {
   "cell_type": "code",
   "execution_count": 29,
   "metadata": {
    "scrolled": false
   },
   "outputs": [
    {
     "name": "stdout",
     "output_type": "stream",
     "text": [
      "Current date and time : \n",
      "2018-11-24 20:30:47\n"
     ]
    }
   ],
   "source": [
    "import datetime\n",
    "now = datetime.datetime.now()\n",
    "print (\"Current date and time : \")\n",
    "print (now.strftime(\"%Y-%m-%d %H:%M:%S\"))"
   ]
  },
  {
   "cell_type": "markdown",
   "metadata": {},
   "source": [
    "## Check a file present or not"
   ]
  },
  {
   "cell_type": "code",
   "execution_count": 30,
   "metadata": {},
   "outputs": [
    {
     "name": "stdout",
     "output_type": "stream",
     "text": [
      "<module 'ntpath' from 'C:\\\\Users\\\\Admin\\\\Anaconda3\\\\lib\\\\ntpath.py'>\n",
      "True\n",
      "False\n"
     ]
    }
   ],
   "source": [
    "import os\n",
    "import os.path\n",
    "open('abc.txt', 'w')\n",
    "print(os.path)\n",
    "print(os.path.isfile('abc.txt'))\n",
    "os.remove('abc.txt')\n",
    "print(os.path.isfile('abc.txt'))"
   ]
  },
  {
   "cell_type": "markdown",
   "metadata": {},
   "source": [
    "## Print number of CPU's running"
   ]
  },
  {
   "cell_type": "code",
   "execution_count": 31,
   "metadata": {
    "scrolled": true
   },
   "outputs": [
    {
     "name": "stdout",
     "output_type": "stream",
     "text": [
      "4\n"
     ]
    }
   ],
   "source": [
    "import multiprocessing\n",
    "print(multiprocessing.cpu_count())"
   ]
  },
  {
   "cell_type": "markdown",
   "metadata": {},
   "source": [
    "## Compare all values in a list with a number\n",
    "- all:\n",
    "    - The all() method returns True when all elements in the given ** iterable ** are true. If not, it returns False."
   ]
  },
  {
   "cell_type": "code",
   "execution_count": 53,
   "metadata": {},
   "outputs": [
    {
     "name": "stdout",
     "output_type": "stream",
     "text": [
      "True\n",
      "False\n"
     ]
    }
   ],
   "source": [
    "num = [5,8,9]\n",
    "print(all(x > 4 for x in num))\n",
    "print(all(x > 7 for x in num))"
   ]
  },
  {
   "cell_type": "markdown",
   "metadata": {},
   "source": [
    "## Profile execution time of a program"
   ]
  },
  {
   "cell_type": "code",
   "execution_count": 54,
   "metadata": {},
   "outputs": [
    {
     "name": "stdout",
     "output_type": "stream",
     "text": [
      "7.153053559250111e-06\n",
      "1.6172121149793384e-05\n"
     ]
    }
   ],
   "source": [
    "from timeit import default_timer\n",
    "def timer(n):\n",
    "    start = default_timer()\n",
    "    # some code here\n",
    "    sum = 0\n",
    "    for row in range(0,n):\n",
    "        sum *= row\n",
    "    print(default_timer() - start)\n",
    "\n",
    "timer(10)\n",
    "timer(100)"
   ]
  },
  {
   "cell_type": "markdown",
   "metadata": {},
   "source": [
    "# Python Web Scraping"
   ]
  },
  {
   "cell_type": "markdown",
   "metadata": {},
   "source": [
    "# Python Interview Questions"
   ]
  },
  {
   "cell_type": "code",
   "execution_count": null,
   "metadata": {},
   "outputs": [],
   "source": []
  }
 ],
 "metadata": {
  "kernelspec": {
   "display_name": "Python 3",
   "language": "python",
   "name": "python3"
  },
  "language_info": {
   "codemirror_mode": {
    "name": "ipython",
    "version": 3
   },
   "file_extension": ".py",
   "mimetype": "text/x-python",
   "name": "python",
   "nbconvert_exporter": "python",
   "pygments_lexer": "ipython3",
   "version": "3.6.5"
  },
  "toc": {
   "base_numbering": 1,
   "nav_menu": {},
   "number_sections": true,
   "sideBar": true,
   "skip_h1_title": false,
   "title_cell": "Table of Contents",
   "title_sidebar": "Contents",
   "toc_cell": true,
   "toc_position": {
    "height": "calc(100% - 180px)",
    "left": "10px",
    "top": "150px",
    "width": "268px"
   },
   "toc_section_display": true,
   "toc_window_display": true
  }
 },
 "nbformat": 4,
 "nbformat_minor": 1
}
