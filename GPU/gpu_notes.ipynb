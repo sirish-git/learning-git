{
 "cells": [
  {
   "cell_type": "markdown",
   "metadata": {
    "toc": true
   },
   "source": [
    "<h1>Table of Contents<span class=\"tocSkip\"></span></h1>\n",
    "<div class=\"toc\"><ul class=\"toc-item\"><li><span><a href=\"#To-Study\" data-toc-modified-id=\"To-Study-1\"><span class=\"toc-item-num\">1&nbsp;&nbsp;</span>To Study</a></span></li><li><span><a href=\"#GPU-Notes\" data-toc-modified-id=\"GPU-Notes-2\"><span class=\"toc-item-num\">2&nbsp;&nbsp;</span>GPU Notes</a></span><ul class=\"toc-item\"><li><span><a href=\"#GPU-Basics-(CUDA):\" data-toc-modified-id=\"GPU-Basics-(CUDA):-2.1\"><span class=\"toc-item-num\">2.1&nbsp;&nbsp;</span>GPU Basics (CUDA):</a></span><ul class=\"toc-item\"><li><span><a href=\"#GPU-Functions\" data-toc-modified-id=\"GPU-Functions-2.1.1\"><span class=\"toc-item-num\">2.1.1&nbsp;&nbsp;</span>GPU Functions</a></span></li><li><span><a href=\"#Asynchronous-kernel-calls\" data-toc-modified-id=\"Asynchronous-kernel-calls-2.1.2\"><span class=\"toc-item-num\">2.1.2&nbsp;&nbsp;</span>Asynchronous kernel calls</a></span></li><li><span><a href=\"#Streaming-Multiprocessors-(SM)\" data-toc-modified-id=\"Streaming-Multiprocessors-(SM)-2.1.3\"><span class=\"toc-item-num\">2.1.3&nbsp;&nbsp;</span>Streaming Multiprocessors (SM)</a></span></li><li><span><a href=\"#Threads,-Thread-blocks-and-Grid\" data-toc-modified-id=\"Threads,-Thread-blocks-and-Grid-2.1.4\"><span class=\"toc-item-num\">2.1.4&nbsp;&nbsp;</span>Threads, Thread blocks and Grid</a></span></li></ul></li></ul></li></ul></div>"
   ]
  },
  {
   "cell_type": "markdown",
   "metadata": {},
   "source": [
    "# To Study\n",
    "- Understand block size, warp occupancy, latency tolerance, CGMA ratio, performance considerations"
   ]
  },
  {
   "cell_type": "markdown",
   "metadata": {},
   "source": [
    "# GPU Notes"
   ]
  },
  {
   "cell_type": "markdown",
   "metadata": {},
   "source": [
    "## GPU Basics (CUDA):"
   ]
  },
  {
   "cell_type": "markdown",
   "metadata": {},
   "source": [
    "### GPU Functions\n",
    "- __global__ keyword to make functions to execute on GPU, called from CPU\n",
    "- __device__ keyword to make functions callable from GPU kernels"
   ]
  },
  {
   "cell_type": "markdown",
   "metadata": {},
   "source": [
    "### Asynchronous kernel calls\n",
    "- Kernel calls are asynchronous, control comes back to CPU after launch, hence need to synchronize on CPU for GPU kernels before using its output"
   ]
  },
  {
   "cell_type": "markdown",
   "metadata": {},
   "source": [
    "### Streaming Multiprocessors (SM)\n",
    "- Each GPU is comprised of Streaming Multiprocessors (SM). Each SM has Cores/Processors, registers, shared memory\n",
    "- Each Streaming Multiprocessor (SM) has few Warp schedulers, which schedules the 32 threads at a time from threads in thread block"
   ]
  },
  {
   "cell_type": "markdown",
   "metadata": {},
   "source": [
    "### Threads, Thread blocks and Grid\n",
    "- Each GPU core can execute 100's of threads, the threads are grouped as thread blocks, thread blocks are grouped as a grid\n",
    "- Each block must be independent to run concurrently\n",
    "- A thread block in a grid is distributed to run on any SM, whereas all threads in a thread block are executed on a single SM\n",
    "- Threads in a thread block can communicate (as executed on same SM), use shared memory and share resources\n",
    "- How many number of blocks which can execute parallely depends on the capability of the GPU, \n",
    "- The abstraction of thread blocks are used to run the same code on high end GPU to improve performance without any change in code. \n",
    "- There will be limit on number of threads per block, but no limit on number of blocks\n",
    "- Optimizing number of memory accesses, access patterns are critical to get good performance on GPU\n",
    "- GPU also supports SIMD processing"
   ]
  },
  {
   "cell_type": "code",
   "execution_count": null,
   "metadata": {},
   "outputs": [],
   "source": []
  }
 ],
 "metadata": {
  "kernelspec": {
   "display_name": "Python 3",
   "language": "python",
   "name": "python3"
  },
  "language_info": {
   "codemirror_mode": {
    "name": "ipython",
    "version": 3
   },
   "file_extension": ".py",
   "mimetype": "text/x-python",
   "name": "python",
   "nbconvert_exporter": "python",
   "pygments_lexer": "ipython3",
   "version": "3.6.5"
  },
  "toc": {
   "base_numbering": 1,
   "nav_menu": {},
   "number_sections": true,
   "sideBar": true,
   "skip_h1_title": false,
   "title_cell": "Table of Contents",
   "title_sidebar": "Contents",
   "toc_cell": true,
   "toc_position": {},
   "toc_section_display": true,
   "toc_window_display": true
  }
 },
 "nbformat": 4,
 "nbformat_minor": 2
}
