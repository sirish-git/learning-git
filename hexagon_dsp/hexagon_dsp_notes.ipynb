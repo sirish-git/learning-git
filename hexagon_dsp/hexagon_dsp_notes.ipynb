{
 "cells": [
  {
   "cell_type": "markdown",
   "metadata": {},
   "source": [
    "# Hexagon DSP Notes: Important Points"
   ]
  },
  {
   "cell_type": "markdown",
   "metadata": {},
   "source": [
    "## Code splitting\n",
    "- The functions which are to be executed on DSP needs to be in separate files"
   ]
  },
  {
   "cell_type": "markdown",
   "metadata": {},
   "source": [
    "## DSP Interface using .idl\n",
    "- The DSP interface functions are specified in a .idl file under a interface in ind folder\n",
    "- The interface name will be pre-fixed to the interface function\n",
    "- The header file be created by the compiler, which needs to be included in the source code\n",
    "- The buffers are passed as sequence, the created function should have a following lenght buffer indicating size of the buffer, the length will not be mentioned in the .idl only part of the code\n",
    "- Try to reduce the number of interface functions to reduce calling overhead"
   ]
  },
  {
   "cell_type": "markdown",
   "metadata": {},
   "source": [
    "## Memory allocations\n",
    "- All allocations should be done using rpcmemalloc function\n",
    "- memalign should be used for buffer allocations on DSP side"
   ]
  },
  {
   "cell_type": "markdown",
   "metadata": {},
   "source": [
    "## Qulaity tests in simulator\n",
    "- The Hexagon SDK provides a framework that enables unit testing of created modules\n",
    "- The tests are referred to as Quality Tests (qtests) and are specified like any other target in a project's makefile.\n",
    "- They are automatically run as part of the build process to complete the build/test development process.\n",
    "- Specify the quality source files in makefile as \"_q_C_SRCS = \" as shown in examples"
   ]
  },
  {
   "cell_type": "markdown",
   "metadata": {},
   "source": [
    "## dspCV library\n",
    "- use dspCV library interface functions to set the DSP frequency, b/w, bus speed, etc to improve the performance as shown in the compute examples\n",
    "- use these interfaces to profile the performance of DSP side functions as shown in the compute examples"
   ]
  },
  {
   "cell_type": "markdown",
   "metadata": {},
   "source": [
    "## Alignement\n",
    "- The buffers, structures allocations/creations should be aligned to vector length (1024-bit for sdm845)\n",
    "- Hence, the buffer widths also needs to be aligned to vector length to have aligned access to next row pixels"
   ]
  },
  {
   "cell_type": "markdown",
   "metadata": {},
   "source": [
    "## Debugging tool\n",
    "- minidm tool provides the debugging on device\n",
    "- debugging is possible using hexagon ide"
   ]
  },
  {
   "cell_type": "markdown",
   "metadata": {},
   "source": [
    "## Hexagon DSP Architecture"
   ]
  },
  {
   "cell_type": "markdown",
   "metadata": {},
   "source": []
  },
  {
   "cell_type": "markdown",
   "metadata": {},
   "source": []
  },
  {
   "cell_type": "markdown",
   "metadata": {},
   "source": []
  },
  {
   "cell_type": "markdown",
   "metadata": {},
   "source": []
  }
 ],
 "metadata": {
  "kernelspec": {
   "display_name": "Python 3",
   "language": "python",
   "name": "python3"
  },
  "language_info": {
   "codemirror_mode": {
    "name": "ipython",
    "version": 3
   },
   "file_extension": ".py",
   "mimetype": "text/x-python",
   "name": "python",
   "nbconvert_exporter": "python",
   "pygments_lexer": "ipython3",
   "version": "3.6.5"
  },
  "toc": {
   "base_numbering": 1,
   "nav_menu": {},
   "number_sections": true,
   "sideBar": true,
   "skip_h1_title": false,
   "title_cell": "Table of Contents",
   "title_sidebar": "Contents",
   "toc_cell": false,
   "toc_position": {},
   "toc_section_display": true,
   "toc_window_display": false
  }
 },
 "nbformat": 4,
 "nbformat_minor": 2
}
