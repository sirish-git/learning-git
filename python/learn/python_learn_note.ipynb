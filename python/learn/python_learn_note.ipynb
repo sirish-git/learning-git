{
 "cells": [
  {
   "cell_type": "markdown",
   "metadata": {},
   "source": [
    "# Pthon learning notes"
   ]
  },
  {
   "cell_type": "markdown",
   "metadata": {
    "collapsed": true
   },
   "source": [
    "### Interpreter mode"
   ]
  },
  {
   "cell_type": "code",
   "execution_count": null,
   "metadata": {},
   "outputs": [],
   "source": [
    "print ('- enter interpreter mode by typing python on terminal')\n",
    "print ('- exit interpreter mode by typing ctrl+d\\n')"
   ]
  },
  {
   "cell_type": "markdown",
   "metadata": {},
   "source": [
    "### Naming conventions"
   ]
  },
  {
   "cell_type": "code",
   "execution_count": null,
   "metadata": {},
   "outputs": [],
   "source": [
    "print (\n",
    " '- Class names start with an uppercase letter \\n'\n",
    " '- Starting an identifier with a single leading underscore indicates that the identifier is private \\n'\n",
    " '- Starting an identifier with two leading underscores indicates a strongly private identifier \\n'\n",
    " '- If the identifier also ends with two trailing underscores, the identifier is a language-defined special name \\n' )"
   ]
  },
  {
   "cell_type": "markdown",
   "metadata": {},
   "source": [
    "### Python Keywords"
   ]
  },
  {
   "cell_type": "code",
   "execution_count": null,
   "metadata": {},
   "outputs": [],
   "source": [
    "print (\n",
    "'''\n",
    " and\t\texec\t\tnot\n",
    " assert\t\tfinally\t\tor\n",
    " break\t\tfor\t\tpass\n",
    " class\t\tfrom\t\tprint\n",
    " continue\tglobal\t\traise\n",
    " def\t\tif\t\treturn\n",
    " del\t\timport\t\ttry\n",
    " elif\t\tin\t\twhile\n",
    " else\t\tis\t\twith\n",
    " except\t\tlambda\t\tyield\n",
    "''')"
   ]
  },
  {
   "cell_type": "markdown",
   "metadata": {},
   "source": [
    "### Python membership operators"
   ]
  },
  {
   "cell_type": "code",
   "execution_count": null,
   "metadata": {
    "scrolled": true
   },
   "outputs": [],
   "source": [
    "print ('''- Python’s membership operators test for membership in a sequence, such as strings, lists, or tuples.\\n\n",
    "- There are two membership operators''')\n",
    "\n",
    "# in\n",
    "print ('''- 'in' evaluates to true if it finds a variable in the specified sequence and false otherwise.''')\n",
    "\n",
    "# example\n",
    "ls = [1, 'test', 4, 9]\n",
    "print ('test in ls:', 'test' in ls)\n",
    "print ('4 in ls:', 4 in ls)\n",
    "\n",
    "# not in\n",
    "print ('''\\n- 'not in' evaluates to true if it does not finds a variable in the specified sequence and false otherwise.''')"
   ]
  },
  {
   "cell_type": "markdown",
   "metadata": {},
   "source": [
    "### Python identity operators"
   ]
  },
  {
   "cell_type": "code",
   "execution_count": null,
   "metadata": {},
   "outputs": [],
   "source": [
    "print ('''- Identity operators compare the memory locations of two objects. There are two Identity operators explained below''')\n",
    "\n",
    "# is\n",
    "print ('''- 'is' evaluates to true if the variables on either side of the operator point to the same object \n",
    "and false otherwise.''')\n",
    "\n",
    "# example\n",
    "x=2; y=2\n",
    "print ('x is y:', x is y)\n",
    "\n",
    "# is not\n",
    "print ('''- 'is not' evaluates to false if the variables on either side of the operator point to the same object \n",
    "and true otherwise.''')"
   ]
  },
  {
   "cell_type": "markdown",
   "metadata": {},
   "source": [
    "### built-in functions "
   ]
  },
  {
   "cell_type": "markdown",
   "metadata": {},
   "source": [
    "#### dir ([object])"
   ]
  },
  {
   "cell_type": "code",
   "execution_count": null,
   "metadata": {},
   "outputs": [],
   "source": [
    "print ('''- Without arguments, return the list of names in the current local scope.\\n\n",
    "- With an argument, attempt to return a list of valid attributes for that object.''')"
   ]
  },
  {
   "cell_type": "markdown",
   "metadata": {},
   "source": [
    "#### enumerate (iterable, start=0)"
   ]
  },
  {
   "cell_type": "code",
   "execution_count": null,
   "metadata": {},
   "outputs": [],
   "source": [
    "print ('- Return an enumerate object. iterable must be a sequence')\n",
    "       \n",
    "# example\n",
    "lst = [1, 'hi', 4]\n",
    "for idx, ls in enumerate(lst):\n",
    " print (idx, ls)"
   ]
  },
  {
   "cell_type": "markdown",
   "metadata": {},
   "source": [
    "#### help ([object])"
   ]
  },
  {
   "cell_type": "code",
   "execution_count": null,
   "metadata": {},
   "outputs": [],
   "source": [
    "print ('''- Invoke the built-in help system. If no argument is given, \n",
    "the interactive help system starts on the interpreter console. \\n\n",
    "- If the argument is a string, then the string is looked up as the name of a module, \n",
    "function, class, method, keyword, or documentation topic, and a help page is printed on the console. ''')"
   ]
  },
  {
   "cell_type": "markdown",
   "metadata": {},
   "source": [
    "#### id (object)"
   ]
  },
  {
   "cell_type": "code",
   "execution_count": null,
   "metadata": {},
   "outputs": [],
   "source": [
    "print ('''- Returns the “identity” of an object. \\n \n",
    "- This is an integer which is guaranteed to be unique and constant for this object during its lifetime. ''')"
   ]
  },
  {
   "cell_type": "markdown",
   "metadata": {},
   "source": [
    "#### input ([prompt])"
   ]
  },
  {
   "cell_type": "code",
   "execution_count": null,
   "metadata": {},
   "outputs": [],
   "source": [
    "print ('''- If the prompt argument is present, it is written to standard output without a trailing newline.\\n\n",
    "- The function then reads a line from input, converts it to a string (stripping a trailing newline), and returns that.\\n\n",
    "- when EOF is read, EOFError is raised. ''')"
   ]
  },
  {
   "cell_type": "markdown",
   "metadata": {},
   "source": [
    "#### open"
   ]
  },
  {
   "cell_type": "code",
   "execution_count": null,
   "metadata": {},
   "outputs": [],
   "source": [
    "print ('''- open(file, mode=’r’, buffering=-1, encoding=None, errors=None, newline=None, closefd=True, opener=None) ''')"
   ]
  },
  {
   "cell_type": "markdown",
   "metadata": {},
   "source": [
    "#### sorted"
   ]
  },
  {
   "cell_type": "code",
   "execution_count": null,
   "metadata": {},
   "outputs": [],
   "source": [
    "print ('''- sorted(iterable[, key][, reverse])\\n\n",
    "- Return a new sorted list from the items in iterable. ''')"
   ]
  },
  {
   "cell_type": "markdown",
   "metadata": {},
   "source": [
    "### use 'format' for print"
   ]
  },
  {
   "cell_type": "code",
   "execution_count": null,
   "metadata": {},
   "outputs": [],
   "source": [
    "name = 'bond' \n",
    "age = 25\n",
    "\n",
    "print ('{0} is {1} years old'.format(name, age))\n",
    "\n",
    "# use format without index\n",
    "print ('{} is {} years old: without index'.format(name, age))\n",
    "\n",
    "# use format for a different format specifier\n",
    "print ('{0:.3f}'.format(1.0/3))"
   ]
  },
  {
   "cell_type": "markdown",
   "metadata": {},
   "source": [
    "### Strings"
   ]
  },
  {
   "cell_type": "code",
   "execution_count": null,
   "metadata": {},
   "outputs": [],
   "source": [
    "print ('''- Python allows for either pairs of single or double quotes. \n",
    "- Subsets of strings can be taken using the slice operator ([ ] and [:] ),\n",
    "with indexes starting at 0 in the beginning of the string and working their way from -1 at the end.\n",
    "\n",
    "- The plus (+) sign is the string concatenation operator and the asterisk (*) is the repetition operator ''')"
   ]
  },
  {
   "cell_type": "markdown",
   "metadata": {},
   "source": [
    "#### # string examples"
   ]
  },
  {
   "cell_type": "code",
   "execution_count": null,
   "metadata": {},
   "outputs": [],
   "source": [
    "str = 'Hello World!'\n",
    "\n",
    "print ('str:', str)          # Prints complete string\n",
    "print ('str[0]:', str[0])       # Prints first character of the string\n",
    "print ('str[2:5]:', str[2:5])     # Prints characters starting from 3rd to 5th\n",
    "print ('str[2:]:', str[2:])      # Prints string starting from 3rd character\n",
    "print ('str * 2:', str * 2)          # Prints string two times\n",
    "print ('str + TEST:', str + \"TEST\")  # Prints concatenated string"
   ]
  },
  {
   "cell_type": "markdown",
   "metadata": {},
   "source": [
    "#### + operation on strings"
   ]
  },
  {
   "cell_type": "code",
   "execution_count": null,
   "metadata": {},
   "outputs": [],
   "source": [
    "a = 'i'\n",
    "b = 'am'\n",
    "s = a + b\n",
    "print ('+ operator on strings concatenates the result')\n",
    "print ('i+am=', s)"
   ]
  },
  {
   "cell_type": "markdown",
   "metadata": {},
   "source": [
    "#### 'format' to concat strings"
   ]
  },
  {
   "cell_type": "code",
   "execution_count": null,
   "metadata": {},
   "outputs": [],
   "source": [
    "str2 = 'strings'\n",
    "str3 = 'can be added'\n",
    "str4 = '{} {} using format'.format(str2, str3)\n",
    "print (str4)"
   ]
  },
  {
   "cell_type": "markdown",
   "metadata": {},
   "source": [
    "### Lists"
   ]
  },
  {
   "cell_type": "code",
   "execution_count": null,
   "metadata": {},
   "outputs": [],
   "source": [
    "print ('''- A list contains items separated by commas and enclosed within square brackets ([]). \n",
    "- To some extent, lists are similar to arrays in C. \n",
    "- One difference between them is that all the items belonging to a list can be of different data type.''')"
   ]
  },
  {
   "cell_type": "markdown",
   "metadata": {},
   "source": [
    "#### # List examples"
   ]
  },
  {
   "cell_type": "code",
   "execution_count": null,
   "metadata": {},
   "outputs": [],
   "source": [
    "list = [ 'abcd', 786 , 2.23, 'john', 70.2 ]\n",
    "tinylist = [123, 'john']\n",
    "\n",
    "print ('list:', list)          # Prints complete list\n",
    "print ('list[0]:', list[0])       # Prints first element of the list\n",
    "print ('list[1:3]:', list[1:3])     # Prints elements starting from 2nd till 3rd \n",
    "print ('list[2:]:', list[2:])      # Prints elements starting from 3rd element\n",
    "print ('tinylist * 2:', tinylist * 2)  # Prints list two times\n",
    "print ('list + tinylist:', list + tinylist) # Prints concatenated lists"
   ]
  },
  {
   "cell_type": "markdown",
   "metadata": {},
   "source": [
    "#### Delete list elements"
   ]
  },
  {
   "cell_type": "code",
   "execution_count": null,
   "metadata": {},
   "outputs": [],
   "source": [
    "list1 = ['physics', 'chemistry', 1997, 2000];\n",
    "\n",
    "print ('list1:', list1)\n",
    "del list1[2];\n",
    "print (\"After deleting value at index 2 : \")\n",
    "print ('list1:', list1)"
   ]
  },
  {
   "cell_type": "markdown",
   "metadata": {},
   "source": [
    "### Built-in List functions and methods"
   ]
  },
  {
   "cell_type": "markdown",
   "metadata": {},
   "source": [
    "#### help: get help using method name"
   ]
  },
  {
   "cell_type": "code",
   "execution_count": null,
   "metadata": {},
   "outputs": [],
   "source": [
    "# help: get help using method name\n",
    "print(help(list.append))"
   ]
  },
  {
   "cell_type": "markdown",
   "metadata": {},
   "source": [
    "#### functions"
   ]
  },
  {
   "cell_type": "code",
   "execution_count": null,
   "metadata": {},
   "outputs": [],
   "source": [
    "print ('''- len(list), cmp(list), max(list), sum(list), sorted(list) ''')"
   ]
  },
  {
   "cell_type": "markdown",
   "metadata": {},
   "source": [
    "#### methods"
   ]
  },
  {
   "cell_type": "code",
   "execution_count": null,
   "metadata": {},
   "outputs": [],
   "source": [
    "print('''- list.append(obj), list.extern(obj) ''')"
   ]
  },
  {
   "cell_type": "markdown",
   "metadata": {},
   "source": [
    "#### join method"
   ]
  },
  {
   "cell_type": "code",
   "execution_count": null,
   "metadata": {},
   "outputs": [],
   "source": [
    "print('''- method join() returns a string in which the string elements of sequence have been joined by str separator\n",
    "- syntax: str.join(sequence) ''')\n",
    "\n",
    "# ex\n",
    "ls = ['hi', 'how', 'are', 'you']\n",
    "str1 = ' - '.join(ls)\n",
    "print(str1)"
   ]
  },
  {
   "cell_type": "markdown",
   "metadata": {},
   "source": [
    "#### split method"
   ]
  },
  {
   "cell_type": "code",
   "execution_count": null,
   "metadata": {},
   "outputs": [],
   "source": [
    "print ('''- method split() returns a list of all the words in the string, \n",
    "using str as the separator (splits on all whitespace if left unspecified), \n",
    "- optionally limiting the number of splits to num\n",
    "- syntax: str.split(str=\"\", num=string.count(str)) ''')\n",
    "\n",
    "# ex\n",
    "ls_new = str1.split(' - ')\n",
    "print (ls_new)"
   ]
  },
  {
   "cell_type": "markdown",
   "metadata": {},
   "source": [
    "### tuples"
   ]
  },
  {
   "cell_type": "code",
   "execution_count": null,
   "metadata": {},
   "outputs": [],
   "source": [
    "print ('''- A tuple is another sequence data type that is similar to the list. tuples are enclosed within parentheses. \\n\n",
    "- The main differences between lists and tuples are: \n",
    "Lists are enclosed in brackets ( [ ] ) and their elements and size can be changed, \n",
    "while tuples are enclosed in parentheses ( ( ) ) and cannot be updated. \n",
    "- Tuples can be thought of as read-only lists ''')"
   ]
  },
  {
   "cell_type": "markdown",
   "metadata": {},
   "source": [
    "### Dictionary"
   ]
  },
  {
   "cell_type": "code",
   "execution_count": null,
   "metadata": {},
   "outputs": [],
   "source": [
    "print ('''- Python's dictionaries are kind of hash table type. \n",
    "- A dictionary key can be almost any Python type, but are usually numbers or strings. \n",
    "- Values, on the other hand, can be any arbitrary Python object.\n",
    "\n",
    "- Dictionaries are enclosed by curly braces ({ }) and values can be assigned and accessed using square braces ([]). ''' )"
   ]
  },
  {
   "cell_type": "markdown",
   "metadata": {},
   "source": [
    "#### # dictionary examples"
   ]
  },
  {
   "cell_type": "code",
   "execution_count": null,
   "metadata": {},
   "outputs": [],
   "source": [
    "dict = {}\n",
    "dict['one'] = \"This is one\"\n",
    "dict[2]     = \"This is two\"\n",
    "\n",
    "tinydict = {'name': 'john','code':6734, 'dept': 'sales'}\n",
    "\n",
    "print ('dict:', dict['one'])       # Prints value for 'one' key\n",
    "print ('dict[2]:', dict[2])           # Prints value for 2 key\n",
    "print ('tinydict:', tinydict)          # Prints complete dictionary\n",
    "print ('tinydict.keys():', tinydict.keys())   # Prints all the keys\n",
    "print ('tinydict.values():', tinydict.values()) # Prints all the values"
   ]
  },
  {
   "cell_type": "markdown",
   "metadata": {},
   "source": [
    "#### looping dictionary items"
   ]
  },
  {
   "cell_type": "code",
   "execution_count": null,
   "metadata": {},
   "outputs": [],
   "source": [
    "dict = {'name': 'john','code':6734, 'dept': 'sales'}\n",
    "for key, value in dict.items():\n",
    "  print ('key: ', key, 'value: ', value)"
   ]
  },
  {
   "cell_type": "markdown",
   "metadata": {},
   "source": [
    "#### data type conversion"
   ]
  },
  {
   "cell_type": "code",
   "execution_count": null,
   "metadata": {},
   "outputs": [],
   "source": [
    "print ('''- To convert between types, you simply use the type name as a function. \\n\n",
    "- examples:\n",
    "int(x [,base]), tuple(s), dict(d) ''')"
   ]
  },
  {
   "cell_type": "markdown",
   "metadata": {},
   "source": [
    "### for"
   ]
  },
  {
   "cell_type": "code",
   "execution_count": null,
   "metadata": {},
   "outputs": [],
   "source": [
    "print ('- for works on any iterable like strings, lists, tuples, dictionaries')"
   ]
  },
  {
   "cell_type": "markdown",
   "metadata": {},
   "source": [
    "#### # for example on lists"
   ]
  },
  {
   "cell_type": "code",
   "execution_count": null,
   "metadata": {},
   "outputs": [],
   "source": [
    "fruits = [\"apples\", \"oranges\", \"mangoes\"]\n",
    "for fruit in fruits:\n",
    "    print (fruit)"
   ]
  },
  {
   "cell_type": "markdown",
   "metadata": {},
   "source": [
    "#### # for example on strings"
   ]
  },
  {
   "cell_type": "code",
   "execution_count": null,
   "metadata": {},
   "outputs": [],
   "source": [
    "fruit = 'apple'\n",
    "for ch in fruit:\n",
    "    print (ch)"
   ]
  },
  {
   "cell_type": "markdown",
   "metadata": {},
   "source": [
    "#### for using range function"
   ]
  },
  {
   "cell_type": "code",
   "execution_count": null,
   "metadata": {},
   "outputs": [],
   "source": [
    "print ('''- syntax of range: range(start,stop,step)\n",
    "- start is optional, if start is not specified starts from 0. step is optional, default step is 1 \\n''')\n",
    "\n",
    "for i in range(0,5):\n",
    " print (\"iteration cnt:\", i)\n",
    "\n",
    "# step count 2\n",
    "for i in range(0,5,2):\n",
    "    print ('step 2: iteration cnt:', i)"
   ]
  },
  {
   "cell_type": "markdown",
   "metadata": {},
   "source": [
    "### main function"
   ]
  },
  {
   "cell_type": "code",
   "execution_count": null,
   "metadata": {},
   "outputs": [],
   "source": [
    "print ('- python does not require a main function to be created, it is better to create for clarity')\n",
    "print ('- If every python file can have a function/main call')\n",
    "print ('- but when this file imported as module these function calls also gets executed')\n",
    "print ('- to avoid unnecessary execution of function calls in imported module, \\n \\\n",
    "       we can create conditional function calls with __name__ \\n')\n",
    "\n",
    "# __name__ example\n",
    "def fn_name_example():\n",
    " print ('welcome to function __name__ example')\n",
    "\n",
    "if __name__ == \"__main__\":\n",
    " fn_name_example()\n",
    " print ('name is set to __main__ when this file is directly executed, it is not when executed from imported file')"
   ]
  },
  {
   "cell_type": "markdown",
   "metadata": {},
   "source": [
    "#### global keyword"
   ]
  },
  {
   "cell_type": "code",
   "execution_count": null,
   "metadata": {},
   "outputs": [],
   "source": [
    "print ('- global keyword should be used to assign value to a global variable inside a function ')\n",
    "val = 25\n",
    "def fn_global():\n",
    " # global keyword to reference global variable, gives compilation error without\n",
    " global val\n",
    " print ('inside fn: val is', val)\n",
    " val = 50\n",
    " print ('inside fn: val is', val)\n",
    "\n",
    "fn_global()\n",
    "print ('outside fn: val is', val)"
   ]
  },
  {
   "cell_type": "markdown",
   "metadata": {},
   "source": [
    "#### function call by reference vs value"
   ]
  },
  {
   "cell_type": "markdown",
   "metadata": {},
   "source": [
    "#### keyword argument"
   ]
  },
  {
   "cell_type": "markdown",
   "metadata": {},
   "source": [
    "#### default arguments"
   ]
  },
  {
   "cell_type": "markdown",
   "metadata": {},
   "source": [
    "#### variable number of arguments"
   ]
  },
  {
   "cell_type": "markdown",
   "metadata": {},
   "source": [
    "#### anonymous functions"
   ]
  },
  {
   "cell_type": "markdown",
   "metadata": {},
   "source": [
    "### '''doc strings''' : documentatin strings"
   ]
  },
  {
   "cell_type": "code",
   "execution_count": null,
   "metadata": {},
   "outputs": [],
   "source": [
    "def find_max_doc(x, y):\n",
    " # docstring of the function\n",
    " '''fn description: finds max value of 2 numbers '''\n",
    " if x > y:\n",
    "  print ('max value is',x)\n",
    " else:\n",
    "  print ('max value is',y)\n",
    "\n",
    "print (find_max_doc.__doc__)\n",
    "find_max_doc(2,3)"
   ]
  },
  {
   "cell_type": "markdown",
   "metadata": {},
   "source": [
    "### modules"
   ]
  },
  {
   "cell_type": "code",
   "execution_count": null,
   "metadata": {},
   "outputs": [],
   "source": [
    "print('''- A module allows you to logically organize your Python code, to reuse a number of functions in other programs . \n",
    "- Simply, a module is a file consisting of Python code. \n",
    "A module can define functions, classes and variables. A module can also include runnable code. \\n''' )\n",
    "\n",
    "import sys\n",
    "print ('command line args')\n",
    "for i in sys.argv:\n",
    " #prints cmd arg strings, not numbers\n",
    " print (i)"
   ]
  },
  {
   "cell_type": "markdown",
   "metadata": {},
   "source": [
    "### packages"
   ]
  },
  {
   "cell_type": "code",
   "execution_count": null,
   "metadata": {},
   "outputs": [],
   "source": [
    "print ('''- A package is a hierarchical file directory structure that defines \n",
    "a single Python application environment that consists of modules and subpackages. \\n\n",
    "- Packages are just folders of modules with a special init.py file that indicates to\n",
    "Python that this folder is special because it contains Python modules \\n''')\n",
    "\n",
    "# example\n",
    "print ('''- To make all of your functions available when you've imported a directory (ex_dir) as a package, \n",
    "you need to put explicit import statements in __init__.py as follows,\n",
    "Then we can directly import the package/directory name (ex_dir) instead of individual modules\n",
    "import ex_dir ''')"
   ]
  },
  {
   "cell_type": "markdown",
   "metadata": {},
   "source": [
    "### Object oriented programming (oop)"
   ]
  },
  {
   "cell_type": "code",
   "execution_count": null,
   "metadata": {},
   "outputs": [],
   "source": [
    "print ('''- class attributes (fields and methods):\n",
    "- Variables that belong to an object or class are referred to as fields. \n",
    "Objects can also have functionality by using functions that belong to a class. Such functions are called methods of the class. \n",
    "- Collectively, the fields and methods can be referred to as the attributes of that class. \\n\n",
    "\n",
    "- Fields are of two types,\n",
    "- they can belong to each instance/object of the class or they can belong to the class itself. \n",
    "They are called instance variables and class variables respectively. ''')\n",
    "\n",
    "print ('''\n",
    "- self:\n",
    "Class methods have only one specific difference from ordinary functions, \n",
    "they must have an extra first name that has to be added to the beginning of the parameter list, \n",
    "but you do not give a value for this parameter when you call the method, Python will provide it. \n",
    "- This particular variable refers to the object itself, and by convention, it is given the name self .\n",
    "\n",
    "We can use any name other than self, but better to use self.\n",
    "The self in Python is equivalent to the this pointer in C++ \\n''')\n",
    "\n",
    "print ('- All class members (including the data members) are public and all the methods are virtual in Python.\\n')"
   ]
  },
  {
   "cell_type": "markdown",
   "metadata": {},
   "source": [
    "#### # simple class and object creation example"
   ]
  },
  {
   "cell_type": "code",
   "execution_count": null,
   "metadata": {},
   "outputs": [],
   "source": [
    "class Person:\n",
    "  def say_hi(self):\n",
    "    print ('Hello, welcome to class and oop')\n",
    "\n",
    "# object creation using class name\n",
    "p = Person()\n",
    "# calling class method using object\n",
    "p.say_hi()"
   ]
  },
  {
   "cell_type": "markdown",
   "metadata": {},
   "source": [
    "#### __init__ method: Class constructor"
   ]
  },
  {
   "cell_type": "code",
   "execution_count": null,
   "metadata": {},
   "outputs": [],
   "source": [
    "print ('''- The __init__ method is run as soon as an object of a class is instantiated. \n",
    "The method is useful to do any initialization you want to do with your object. \n",
    "- Notice the double underscores (dunder) both at the beginning and at the end of the name \\n''')\n",
    "\n",
    "class Person:\n",
    "  # default constructor\n",
    "  def __init__(self, name):\n",
    "  # Note: self.name means that there is a field called \"name\" that is part of the object called \"self\" \n",
    "    self.name = name\n",
    "\n",
    "  def say_hi(self):\n",
    "    print ('Hello, my name is', self.name)\n",
    "\n",
    "# object creation calls init constructor\n",
    "p = Person('Swaroop')\n",
    "p.say_hi()"
   ]
  },
  {
   "cell_type": "markdown",
   "metadata": {},
   "source": [
    "#### # example for class/instance fields and class/static/instance methods"
   ]
  },
  {
   "cell_type": "code",
   "execution_count": null,
   "metadata": {},
   "outputs": [],
   "source": [
    "class Test_Class:\n",
    "\n",
    " # class variable/field (can be accessed using class or object)\n",
    " obj_cnt = 0\n",
    "\n",
    " # default constructor\n",
    " def __init__(self, name):\n",
    "  # accessing class variable\n",
    "  Test_Class.obj_cnt += 1\n",
    "  # obect variables will be directly created when required ?\n",
    "  # object field (can be accessed using only objects)\n",
    "  self.name = name\n",
    "  self.val = 0\n",
    "  print ('Welcome to Test_Class: Object name ', self)\n",
    "  print ('obj_cnt value: ', Test_Class.obj_cnt, '\\n')\n",
    "  \n",
    "\n",
    " # object method (can be called using an object)\n",
    " def obj_fn(self, val):\n",
    "  self.val += 1\n",
    "  # obect variables will be directly created when required ?\n",
    "  self.sum = self.val + val\n",
    "  print ('Welcome to obj_fn: Object name ', self)\n",
    "  print ('obj_fn counter (object value): ', self.val)\n",
    "  print ('self.name: ', self.name, ', self.sum: ', self.sum, '\\n')\n",
    "\n",
    "\n",
    " # class method using a below token @classmethod (can be called using Class, can also be called using object)\n",
    " @classmethod\n",
    " def cls_fn(cls):\n",
    "  print ('Welcome to cls_fn (class function) created with @classmethod')\n",
    "  print ('objects cnt: ', Test_Class.obj_cnt, '\\n')\n",
    "  # can not access any object variables\n",
    "  # print 'val: ', cls.val\n",
    "\n",
    "\n",
    " # static method using a below token @staticmethod (like a normal function does not take object, class as 1st arguments)\n",
    " @staticmethod\n",
    " def static_fn():\n",
    "  print ('Welcome to static_fn (static function) created with @staticmethod \\n')\n",
    "  #print 'objects cnt: ', Test_Class.obj_cnt\n",
    "\n",
    "\n",
    "# create an object\n",
    "obj_1 = Test_Class('sirish')\n",
    "# call object function\n",
    "obj_1.obj_fn(24)\n",
    "# call class function with object\n",
    "obj_1.cls_fn()\n",
    "# call class function using class name\n",
    "Test_Class.cls_fn()\n",
    "# call static function using object\n",
    "obj_1.static_fn()\n",
    "# call static function using class\n",
    "Test_Class.static_fn()\n",
    "\n",
    "\n",
    "# second object\n",
    "obj_2 = Test_Class('kumar')\n",
    "obj_2.obj_fn(99)\n",
    "obj_2.cls_fn()\n",
    "Test_Class.cls_fn()\n",
    "Test_Class.static_fn()"
   ]
  },
  {
   "cell_type": "markdown",
   "metadata": {},
   "source": [
    "### File I/O"
   ]
  },
  {
   "cell_type": "markdown",
   "metadata": {},
   "source": [
    "#### file object attributes"
   ]
  },
  {
   "cell_type": "code",
   "execution_count": 2,
   "metadata": {},
   "outputs": [
    {
     "name": "stdout",
     "output_type": "stream",
     "text": [
      "- Once a file is opened and you have one file object, you can get various information related to that file.\n",
      "\n",
      "\n",
      "- Here is a list of all attributes related to file object:\n",
      "\n",
      "Attribute:\tDescription:\n",
      "file.closed\tReturns true if file is closed, false otherwise.\n",
      "file.mode\tReturns access mode with which file was opened.\n",
      "file.name\tReturns name of the file.\n",
      "file.softspace\tReturns false if space explicitly required with print, true otherwise. \n"
     ]
    }
   ],
   "source": [
    "print ('''- Once a file is opened and you have one file object, you can get various information related to that file.\\n\n",
    "\n",
    "- Here is a list of all attributes related to file object:\\n\n",
    "Attribute:\tDescription:\n",
    "file.closed\tReturns true if file is closed, false otherwise.\n",
    "file.mode\tReturns access mode with which file was opened.\n",
    "file.name\tReturns name of the file.\n",
    "file.softspace\tReturns false if space explicitly required with print, true otherwise. ''')"
   ]
  },
  {
   "cell_type": "markdown",
   "metadata": {},
   "source": [
    "#### # example for file open, close and attributes"
   ]
  },
  {
   "cell_type": "code",
   "execution_count": 9,
   "metadata": {
    "scrolled": true
   },
   "outputs": [
    {
     "name": "stdout",
     "output_type": "stream",
     "text": [
      "Name of the file:  foo.txt\n",
      "Opening mode :  wb\n",
      "Closed or not :  False\n",
      "Closed or not :  True\n"
     ]
    }
   ],
   "source": [
    "fp = open(\"foo.txt\", \"wb\")\n",
    "print (\"Name of the file: \", fp.name)\n",
    "print (\"Opening mode : \", fp.mode)\n",
    "print (\"Closed or not : \", fp.closed)\n",
    "fp.close()\n",
    "print (\"Closed or not : \", fp.closed)"
   ]
  },
  {
   "cell_type": "markdown",
   "metadata": {},
   "source": [
    "#### read and write files"
   ]
  },
  {
   "cell_type": "code",
   "execution_count": 12,
   "metadata": {},
   "outputs": [
    {
     "name": "stdout",
     "output_type": "stream",
     "text": [
      "- use read() and write() methods to read and write files \n",
      "\n",
      "Python is a great language.\n",
      " Yeah its great!!\n",
      "\n"
     ]
    }
   ],
   "source": [
    "print ('''- use read() and write() methods to read and write files \\n''')\n",
    "\n",
    "fp = open(\"foo.txt\", \"w\")\n",
    "fp.write( \"Python is a great language.\\n Yeah its great!!\\n\");\n",
    "fp.close()\n",
    "\n",
    "fp = open(\"foo.txt\", \"r\")\n",
    "str = fp.read()\n",
    "print (str)\n",
    "fp.close()"
   ]
  },
  {
   "cell_type": "markdown",
   "metadata": {},
   "source": [
    "#### file positions"
   ]
  },
  {
   "cell_type": "code",
   "execution_count": 13,
   "metadata": {},
   "outputs": [
    {
     "name": "stdout",
     "output_type": "stream",
     "text": [
      "- The tell() method tells you the current position within the file;\n",
      "\n",
      "- The seek(offset[, from]) method changes the current file position.\n"
     ]
    }
   ],
   "source": [
    "print ('''- The tell() method tells you the current position within the file;\\n\n",
    "- The seek(offset[, from]) method changes the current file position.''')"
   ]
  },
  {
   "cell_type": "markdown",
   "metadata": {},
   "source": [
    "#### renaming and deleting files"
   ]
  },
  {
   "cell_type": "code",
   "execution_count": null,
   "metadata": {},
   "outputs": [],
   "source": [
    "print ('''- rename, remove methods \\n''')\n",
    "\n"
   ]
  },
  {
   "cell_type": "markdown",
   "metadata": {},
   "source": [
    "#### directories in python"
   ]
  },
  {
   "cell_type": "code",
   "execution_count": 14,
   "metadata": {},
   "outputs": [
    {
     "name": "stdout",
     "output_type": "stream",
     "text": [
      "The os module has several methods that help you create, remove, and change directories.\n"
     ]
    }
   ],
   "source": [
    "print ('- The os module has several methods that help you create, remove, and change directories.')"
   ]
  },
  {
   "cell_type": "code",
   "execution_count": null,
   "metadata": {},
   "outputs": [],
   "source": []
  }
 ],
 "metadata": {
  "kernelspec": {
   "display_name": "Python 3",
   "language": "python",
   "name": "python3"
  },
  "language_info": {
   "codemirror_mode": {
    "name": "ipython",
    "version": 3
   },
   "file_extension": ".py",
   "mimetype": "text/x-python",
   "name": "python",
   "nbconvert_exporter": "python",
   "pygments_lexer": "ipython3",
   "version": "3.6.5"
  }
 },
 "nbformat": 4,
 "nbformat_minor": 1
}
