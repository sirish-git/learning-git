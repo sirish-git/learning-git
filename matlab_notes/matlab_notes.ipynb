{
 "cells": [
  {
   "cell_type": "markdown",
   "metadata": {
    "toc": true
   },
   "source": [
    "<h1>Table of Contents<span class=\"tocSkip\"></span></h1>\n",
    "<div class=\"toc\"><ul class=\"toc-item\"><li><span><a href=\"#Getting-started\" data-toc-modified-id=\"Getting-started-1\"><span class=\"toc-item-num\">1&nbsp;&nbsp;</span>Getting started</a></span></li><li><span><a href=\"#Vectors,-Matrices\" data-toc-modified-id=\"Vectors,-Matrices-2\"><span class=\"toc-item-num\">2&nbsp;&nbsp;</span>Vectors, Matrices</a></span></li><li><span><a href=\"#Element-wise-operations-on-matrices\" data-toc-modified-id=\"Element-wise-operations-on-matrices-3\"><span class=\"toc-item-num\">3&nbsp;&nbsp;</span>Element wise operations on matrices</a></span></li><li><span><a href=\"#Accessing-elements\" data-toc-modified-id=\"Accessing-elements-4\"><span class=\"toc-item-num\">4&nbsp;&nbsp;</span>Accessing elements</a></span></li><li><span><a href=\"#Plot\" data-toc-modified-id=\"Plot-5\"><span class=\"toc-item-num\">5&nbsp;&nbsp;</span>Plot</a></span></li><li><span><a href=\"#Logical-compare\" data-toc-modified-id=\"Logical-compare-6\"><span class=\"toc-item-num\">6&nbsp;&nbsp;</span>Logical compare</a></span></li><li><span><a href=\"#If,-for\" data-toc-modified-id=\"If,-for-7\"><span class=\"toc-item-num\">7&nbsp;&nbsp;</span>If, for</a></span></li></ul></div>"
   ]
  },
  {
   "cell_type": "markdown",
   "metadata": {},
   "source": [
    "## Getting started\n",
    "- matlab contains 3 windows, command window, workspace, current folder\n",
    "- Typed commands can be checked in history tab\n",
    "- Typed expressions on command window gives results on console, use semicolon to avoid printing result\n",
    "- clear command to clear workspace, cls to clear command history"
   ]
  },
  {
   "cell_type": "markdown",
   "metadata": {},
   "source": [
    "## Vectors, Matrices\n",
    "- creating vector: v =  start:space:end, ex: v = 1:2:10 (10 values from 1 to 10 with 2 spacing)\n",
    "- ' is used for transpose\n",
    "- matrix creation: m = [1, 2, 3; 4,5,6] (col elements separated by , and rows by ;)\n",
    "- matrix with function: ex: m = ones(10), m = ones(10, 5)\n",
    "- size function to get dimensions of matrices\n",
    "- numel to get number of elements in a matrix"
   ]
  },
  {
   "cell_type": "markdown",
   "metadata": {},
   "source": [
    "## Element wise operations on matrices\n",
    "- mul: m = m1.*m2\n",
    "- div: m = m1./m2\n",
    "- exp: m = m1.^2"
   ]
  },
  {
   "cell_type": "markdown",
   "metadata": {},
   "source": [
    "## Accessing elements\n",
    "- matlab uses one indexing, i.e. first value stored at index 1\n",
    "- x = mat(#row, #col)\n",
    "- use keyword 'end' to access last row/col elements in a matrix"
   ]
  },
  {
   "cell_type": "markdown",
   "metadata": {},
   "source": [
    "## Plot\n",
    "- plot(x,y) function to plot 2 vectors\n",
    "- specify color, line, markers: plot(x, y, 'r--*')\n",
    "- use title function to add title, ylabel to add ylabel\n",
    "- use legend to legend names\n",
    "- hold on command to plot on previous figure\n",
    "- close all to close all open figures"
   ]
  },
  {
   "cell_type": "markdown",
   "metadata": {},
   "source": [
    "## Logical compare\n",
    "- compare 2 vectors and get indexes which meet the condition: v = v1(v1>4)\n",
    "- can use logical indexing to reassign values in an array\n",
    "    - ex: o replace all values in the array x that are equal to 999 with the value 0, use the following syntax.\n",
    "        - x(x==999) = 0"
   ]
  },
  {
   "cell_type": "markdown",
   "metadata": {},
   "source": [
    "## If, for\n",
    "- require and 'end' keyword to end\n",
    "- if example:\n",
    "    - if v > 0\n",
    "        - v = 1\n",
    "    - end\n",
    "- for example:\n",
    "    - for i = 1:5\n",
    "    - end"
   ]
  },
  {
   "cell_type": "code",
   "execution_count": null,
   "metadata": {},
   "outputs": [],
   "source": []
  }
 ],
 "metadata": {
  "kernelspec": {
   "display_name": "Python 3",
   "language": "python",
   "name": "python3"
  },
  "language_info": {
   "codemirror_mode": {
    "name": "ipython",
    "version": 3
   },
   "file_extension": ".py",
   "mimetype": "text/x-python",
   "name": "python",
   "nbconvert_exporter": "python",
   "pygments_lexer": "ipython3",
   "version": "3.6.5"
  },
  "toc": {
   "base_numbering": 1,
   "nav_menu": {},
   "number_sections": true,
   "sideBar": true,
   "skip_h1_title": false,
   "title_cell": "Table of Contents",
   "title_sidebar": "Contents",
   "toc_cell": true,
   "toc_position": {},
   "toc_section_display": true,
   "toc_window_display": false
  }
 },
 "nbformat": 4,
 "nbformat_minor": 2
}
