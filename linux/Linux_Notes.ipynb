{
 "cells": [
  {
   "cell_type": "markdown",
   "metadata": {
    "toc": true
   },
   "source": [
    "<h1>Table of Contents<span class=\"tocSkip\"></span></h1>\n",
    "<div class=\"toc\"><ul class=\"toc-item\"><li><span><a href=\"#Usefull-linux-commands-and-hacks\" data-toc-modified-id=\"Usefull-linux-commands-and-hacks-1\"><span class=\"toc-item-num\">1&nbsp;&nbsp;</span>Usefull linux commands and hacks</a></span><ul class=\"toc-item\"><li><span><a href=\"#Utility-commands:\" data-toc-modified-id=\"Utility-commands:-1.1\"><span class=\"toc-item-num\">1.1&nbsp;&nbsp;</span>Utility commands:</a></span><ul class=\"toc-item\"><li><span><a href=\"#clear-or-ctrl+l:\" data-toc-modified-id=\"clear-or-ctrl+l:-1.1.1\"><span class=\"toc-item-num\">1.1.1&nbsp;&nbsp;</span>clear or ctrl+l:</a></span></li><li><span><a href=\"#whoami-:\" data-toc-modified-id=\"whoami-:-1.1.2\"><span class=\"toc-item-num\">1.1.2&nbsp;&nbsp;</span>whoami :</a></span></li><li><span><a href=\"#pwd-:\" data-toc-modified-id=\"pwd-:-1.1.3\"><span class=\"toc-item-num\">1.1.3&nbsp;&nbsp;</span>pwd :</a></span></li><li><span><a href=\"#echo:\" data-toc-modified-id=\"echo:-1.1.4\"><span class=\"toc-item-num\">1.1.4&nbsp;&nbsp;</span>echo:</a></span></li><li><span><a href=\"#&amp;-to-run-in-background:\" data-toc-modified-id=\"&amp;-to-run-in-background:-1.1.5\"><span class=\"toc-item-num\">1.1.5&nbsp;&nbsp;</span>&amp; to run in background:</a></span></li><li><span><a href=\"#tail-to-keep-checking-a-file:\" data-toc-modified-id=\"tail-to-keep-checking-a-file:-1.1.6\"><span class=\"toc-item-num\">1.1.6&nbsp;&nbsp;</span>tail to keep checking a file:</a></span></li></ul></li><li><span><a href=\"#Search-history:\" data-toc-modified-id=\"Search-history:-1.2\"><span class=\"toc-item-num\">1.2&nbsp;&nbsp;</span>Search history:</a></span><ul class=\"toc-item\"><li><span><a href=\"#Ctrl+R-:\" data-toc-modified-id=\"Ctrl+R-:-1.2.1\"><span class=\"toc-item-num\">1.2.1&nbsp;&nbsp;</span>Ctrl+R :</a></span></li><li><span><a href=\"#history-:\" data-toc-modified-id=\"history-:-1.2.2\"><span class=\"toc-item-num\">1.2.2&nbsp;&nbsp;</span>history :</a></span></li></ul></li><li><span><a href=\"#Search-Commands:\" data-toc-modified-id=\"Search-Commands:-1.3\"><span class=\"toc-item-num\">1.3&nbsp;&nbsp;</span>Search Commands:</a></span><ul class=\"toc-item\"><li><span><a href=\"#appropos-:\" data-toc-modified-id=\"appropos-:-1.3.1\"><span class=\"toc-item-num\">1.3.1&nbsp;&nbsp;</span>appropos :</a></span></li></ul></li><li><span><a href=\"#Alias:\" data-toc-modified-id=\"Alias:-1.4\"><span class=\"toc-item-num\">1.4&nbsp;&nbsp;</span>Alias:</a></span></li><li><span><a href=\"#Change-directory\" data-toc-modified-id=\"Change-directory-1.5\"><span class=\"toc-item-num\">1.5&nbsp;&nbsp;</span>Change directory</a></span></li><li><span><a href=\"#View-File-Contents\" data-toc-modified-id=\"View-File-Contents-1.6\"><span class=\"toc-item-num\">1.6&nbsp;&nbsp;</span>View File Contents</a></span></li><li><span><a href=\"#Processes\" data-toc-modified-id=\"Processes-1.7\"><span class=\"toc-item-num\">1.7&nbsp;&nbsp;</span>Processes</a></span></li><li><span><a href=\"#Disk-usage\" data-toc-modified-id=\"Disk-usage-1.8\"><span class=\"toc-item-num\">1.8&nbsp;&nbsp;</span>Disk usage</a></span></li><li><span><a href=\"#Hierarchy-Directory-creation\" data-toc-modified-id=\"Hierarchy-Directory-creation-1.9\"><span class=\"toc-item-num\">1.9&nbsp;&nbsp;</span>Hierarchy Directory creation</a></span></li><li><span><a href=\"#Permissions\" data-toc-modified-id=\"Permissions-1.10\"><span class=\"toc-item-num\">1.10&nbsp;&nbsp;</span>Permissions</a></span></li><li><span><a href=\"#no-hangup\" data-toc-modified-id=\"no-hangup-1.11\"><span class=\"toc-item-num\">1.11&nbsp;&nbsp;</span>no hangup</a></span></li></ul></li></ul></div>"
   ]
  },
  {
   "cell_type": "markdown",
   "metadata": {},
   "source": [
    "# Usefull linux commands and hacks"
   ]
  },
  {
   "cell_type": "markdown",
   "metadata": {},
   "source": [
    "## Utility commands:\n",
    "\n",
    "###  clear or ctrl+l: \n",
    "- clear terminal by typing clear command or press ctrl+l\n",
    "\n",
    "### whoami : \n",
    "- to know the who is user logged in as\n",
    "\n",
    "### pwd : \n",
    "- to know the present working directory\n",
    "\n",
    "### echo:\n",
    "- echo the typed text, values of variables\n",
    "\n",
    "### & to run in background:\n",
    "- **<'command> &**: the process will run in background\n",
    "\n",
    "### tail to keep checking a file:\n",
    "- tail shows last 10 lines of a file\n",
    "- **tail -f (file name)**: with -f option, it continuously checks the file and shows last 10 lines\n"
   ]
  },
  {
   "cell_type": "markdown",
   "metadata": {},
   "source": [
    "## Search history:\n",
    "\n",
    "### Ctrl+R : \n",
    "- To search command history try Ctrl-R(recursive search) and then type a subset of characters in your command. Enter to execute command and left/right arrows to select it to edit.\n",
    "- Repeatedly press Ctrl+R to find commands entered with same search keyword\n",
    "\n",
    "### history : \n",
    "- To see the history of typed commands and along with their indexes (id) \n",
    "- type **!&lt;id>** to execute particular command from history.\n",
    "\n"
   ]
  },
  {
   "cell_type": "markdown",
   "metadata": {},
   "source": [
    "## Search Commands:\n",
    "\n",
    "### appropos : \n",
    "- appropos &lt;text>: this commands searchs for available commands/actions matches with given text\n",
    "\n"
   ]
  },
  {
   "cell_type": "markdown",
   "metadata": {},
   "source": [
    "## Alias:\n",
    "\n",
    "- **alias**: is a built in shell command that lets you assign name for a long command or frequently used command.\n",
    "  - example: (l as alias for ls -a): alias l=\"ls -a\"\n",
    "- **unalias**: is unalias the given name (example: unalias l)\n",
    "\n"
   ]
  },
  {
   "cell_type": "markdown",
   "metadata": {},
   "source": [
    "## Change directory\n",
    "\n",
    "- ** cd / **: to move to root directory\n",
    "- ** cd ~ **: to move to our home directory \n",
    "- ** cd - **: to go to previously visited directory"
   ]
  },
  {
   "cell_type": "markdown",
   "metadata": {},
   "source": [
    "## View File Contents\n",
    "\n",
    "- **cat** : displays contents of a file and scrolls full contents\n",
    "- **more** : displays first page of the content which can fit it in the screen"
   ]
  },
  {
   "cell_type": "markdown",
   "metadata": {},
   "source": [
    "## Processes\n",
    "\n",
    "- **ps aux** : to see all the process running on the system (a: all processes, u: user process, x:not related to terminal)\n",
    "- **top** : lists the top processes which uses most resources\n",
    "- **kill PID** : to kill a process mention corresponding process id (PID)\n",
    "- **kill -9 PID**: to kill immediately"
   ]
  },
  {
   "cell_type": "markdown",
   "metadata": {},
   "source": [
    "## Disk usage\n",
    "\n",
    "- **df -h** : displays the disk space usage in human readable format\n",
    "- **du -shc * **: displays disk usage summary in human readable format"
   ]
  },
  {
   "cell_type": "markdown",
   "metadata": {},
   "source": [
    "## Hierarchy Directory creation\n",
    "\n",
    "- **mkdir -p dir1/dir2/dir3** : creates sub-directories with -p option"
   ]
  },
  {
   "cell_type": "markdown",
   "metadata": {},
   "source": [
    "## Permissions\n",
    "\n",
    "- **ch +x** : to give execute permissions"
   ]
  },
  {
   "cell_type": "markdown",
   "metadata": {},
   "source": [
    "## no hangup\n",
    "\n",
    "- **nohup <'command> &** : this ensures to run the remote process even when the internet or terminal is closed, very useful for ML training sessions. Any output from the session is written in to nohup.out file"
   ]
  },
  {
   "cell_type": "code",
   "execution_count": null,
   "metadata": {},
   "outputs": [],
   "source": []
  }
 ],
 "metadata": {
  "kernelspec": {
   "display_name": "Python 3",
   "language": "python",
   "name": "python3"
  },
  "language_info": {
   "codemirror_mode": {
    "name": "ipython",
    "version": 3
   },
   "file_extension": ".py",
   "mimetype": "text/x-python",
   "name": "python",
   "nbconvert_exporter": "python",
   "pygments_lexer": "ipython3",
   "version": "3.6.5"
  },
  "toc": {
   "base_numbering": 1,
   "nav_menu": {},
   "number_sections": true,
   "sideBar": true,
   "skip_h1_title": false,
   "title_cell": "Table of Contents",
   "title_sidebar": "Contents",
   "toc_cell": true,
   "toc_position": {},
   "toc_section_display": true,
   "toc_window_display": true
  }
 },
 "nbformat": 4,
 "nbformat_minor": 2
}
