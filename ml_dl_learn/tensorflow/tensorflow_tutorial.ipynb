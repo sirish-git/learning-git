{
 "cells": [
  {
   "cell_type": "markdown",
   "metadata": {
    "toc": true
   },
   "source": [
    "<h1>Table of Contents<span class=\"tocSkip\"></span></h1>\n",
    "<div class=\"toc\"><ul class=\"toc-item\"><li><span><a href=\"#-TensorFlow-API-Hierarchy-\" data-toc-modified-id=\"-TensorFlow-API-Hierarchy--1\"><span class=\"toc-item-num\">1&nbsp;&nbsp;</span><font color=\"DarkOrange\"> TensorFlow API Hierarchy </font></a></span><ul class=\"toc-item\"><li><span><a href=\"#Execution-modes-(Lazy,-Eager)\" data-toc-modified-id=\"Execution-modes-(Lazy,-Eager)-1.1\"><span class=\"toc-item-num\">1.1&nbsp;&nbsp;</span>Execution modes (Lazy, Eager)</a></span></li><li><span><a href=\"#Session.run-example\" data-toc-modified-id=\"Session.run-example-1.2\"><span class=\"toc-item-num\">1.2&nbsp;&nbsp;</span>Session.run example</a></span></li><li><span><a href=\"#Variables\" data-toc-modified-id=\"Variables-1.3\"><span class=\"toc-item-num\">1.3&nbsp;&nbsp;</span>Variables</a></span><ul class=\"toc-item\"><li><span><a href=\"#name-scope-is-ignored-by-tf.get_variable.-see-in-the-following-example:\" data-toc-modified-id=\"name-scope-is-ignored-by-tf.get_variable.-see-in-the-following-example:-1.3.1\"><span class=\"toc-item-num\">1.3.1&nbsp;&nbsp;</span>name scope is ignored by tf.get_variable. see in the following example:</a></span></li></ul></li><li><span><a href=\"#tf.trainable_variables()\" data-toc-modified-id=\"tf.trainable_variables()-1.4\"><span class=\"toc-item-num\">1.4&nbsp;&nbsp;</span>tf.trainable_variables()</a></span></li><li><span><a href=\"#tf.get_default_graph()\" data-toc-modified-id=\"tf.get_default_graph()-1.5\"><span class=\"toc-item-num\">1.5&nbsp;&nbsp;</span>tf.get_default_graph()</a></span></li><li><span><a href=\"#tf.placeholder\" data-toc-modified-id=\"tf.placeholder-1.6\"><span class=\"toc-item-num\">1.6&nbsp;&nbsp;</span>tf.placeholder</a></span></li><li><span><a href=\"#Global-initialization\" data-toc-modified-id=\"Global-initialization-1.7\"><span class=\"toc-item-num\">1.7&nbsp;&nbsp;</span>Global initialization</a></span></li><li><span><a href=\"#Estimatore-API\" data-toc-modified-id=\"Estimatore-API-1.8\"><span class=\"toc-item-num\">1.8&nbsp;&nbsp;</span>Estimatore API</a></span></li><li><span><a href=\"#tf.name_scope()\" data-toc-modified-id=\"tf.name_scope()-1.9\"><span class=\"toc-item-num\">1.9&nbsp;&nbsp;</span>tf.name_scope()</a></span><ul class=\"toc-item\"><li><span><a href=\"#The-tf.name_scope-returns-a-new-context-manager-everytime-when-it's-called-with-a-string-as-the-name-parameter\" data-toc-modified-id=\"The-tf.name_scope-returns-a-new-context-manager-everytime-when-it's-called-with-a-string-as-the-name-parameter-1.9.1\"><span class=\"toc-item-num\">1.9.1&nbsp;&nbsp;</span>The tf.name_scope returns a new context manager everytime when it's called with a string as the name parameter</a></span></li></ul></li><li><span><a href=\"#Dataset-API\" data-toc-modified-id=\"Dataset-API-1.10\"><span class=\"toc-item-num\">1.10&nbsp;&nbsp;</span>Dataset API</a></span></li><li><span><a href=\"#Debugging-TensorFlow-Programs\" data-toc-modified-id=\"Debugging-TensorFlow-Programs-1.11\"><span class=\"toc-item-num\">1.11&nbsp;&nbsp;</span>Debugging TensorFlow Programs</a></span><ul class=\"toc-item\"><li><span><a href=\"#Fixing-shape-issues\" data-toc-modified-id=\"Fixing-shape-issues-1.11.1\"><span class=\"toc-item-num\">1.11.1&nbsp;&nbsp;</span>Fixing shape issues</a></span></li><li><span><a href=\"#Fixing-data-type-problems\" data-toc-modified-id=\"Fixing-data-type-problems-1.11.2\"><span class=\"toc-item-num\">1.11.2&nbsp;&nbsp;</span>Fixing data type problems</a></span></li><li><span><a href=\"#Debugging-the-execution\" data-toc-modified-id=\"Debugging-the-execution-1.11.3\"><span class=\"toc-item-num\">1.11.3&nbsp;&nbsp;</span>Debugging the execution</a></span><ul class=\"toc-item\"><li><span><a href=\"#Change-logging-level\" data-toc-modified-id=\"Change-logging-level-1.11.3.1\"><span class=\"toc-item-num\">1.11.3.1&nbsp;&nbsp;</span>Change logging level</a></span></li><li><span><a href=\"#tf.Print()\" data-toc-modified-id=\"tf.Print()-1.11.3.2\"><span class=\"toc-item-num\">1.11.3.2&nbsp;&nbsp;</span>tf.Print()</a></span></li><li><span><a href=\"#tf.debug()\" data-toc-modified-id=\"tf.debug()-1.11.3.3\"><span class=\"toc-item-num\">1.11.3.3&nbsp;&nbsp;</span>tf.debug()</a></span></li></ul></li></ul></li></ul></li><li><span><a href=\"#-Linear-Regression-Example-with-TF-\" data-toc-modified-id=\"-Linear-Regression-Example-with-TF--2\"><span class=\"toc-item-num\">2&nbsp;&nbsp;</span><font color=\"DarkOrange\"> Linear Regression Example with TF </font></a></span></li><li><span><a href=\"#Load-MNIST-Dataset-for-below-projects\" data-toc-modified-id=\"Load-MNIST-Dataset-for-below-projects-3\"><span class=\"toc-item-num\">3&nbsp;&nbsp;</span>Load MNIST Dataset for below projects</a></span></li><li><span><a href=\"#CNN-for-digit-recognition\" data-toc-modified-id=\"CNN-for-digit-recognition-4\"><span class=\"toc-item-num\">4&nbsp;&nbsp;</span>CNN for digit recognition</a></span></li><li><span><a href=\"#LSTM\" data-toc-modified-id=\"LSTM-5\"><span class=\"toc-item-num\">5&nbsp;&nbsp;</span>LSTM</a></span></li><li><span><a href=\"#Auto-Encoder:-Digit-Compression\" data-toc-modified-id=\"Auto-Encoder:-Digit-Compression-6\"><span class=\"toc-item-num\">6&nbsp;&nbsp;</span>Auto Encoder: Digit Compression</a></span></li><li><span><a href=\"#VAE---Generate-Image-from-noise\" data-toc-modified-id=\"VAE---Generate-Image-from-noise-7\"><span class=\"toc-item-num\">7&nbsp;&nbsp;</span>VAE - Generate Image from noise</a></span></li><li><span><a href=\"#GAN---Generate-Image-from-noise\" data-toc-modified-id=\"GAN---Generate-Image-from-noise-8\"><span class=\"toc-item-num\">8&nbsp;&nbsp;</span>GAN - Generate Image from noise</a></span></li><li><span><a href=\"#DCGAN---Generate-image-from-noise\" data-toc-modified-id=\"DCGAN---Generate-image-from-noise-9\"><span class=\"toc-item-num\">9&nbsp;&nbsp;</span>DCGAN - Generate image from noise</a></span></li></ul></div>"
   ]
  },
  {
   "cell_type": "markdown",
   "metadata": {},
   "source": [
    "# <font color=DarkOrange> TensorFlow API Hierarchy </font>\n",
    "- TF has number of abstraction layers\n",
    "- Lowest level is HW specific, above it high level C++ API's\n",
    "- Python API levels are available provides core numeric processing (ex: add, mul, etc)\n",
    "- Next is high level python modules (layers, losses)\n",
    "- Highest level is estimator API does everything in terms of training, evaluate, create & save checkpoints etc\n",
    "\n",
    "<img src=\"images/TensorFlow_Hierarcy.PNG\" alt=\"TensorFlow Hierarchy\" width=\"400\"/>"
   ]
  },
  {
   "cell_type": "markdown",
   "metadata": {},
   "source": [
    "## Execution modes (Lazy, Eager)\n",
    "- Lazy evaluation mode:\n",
    "    - In Lazy evaluation mode, first the network graph (DAG) is build and the executed under session.run \n",
    "    - **Lazy evaluation is default mode which helps in distributed computing, performance/memory optimization**\n",
    "    - Used in production codes\n",
    "- Eager mode: \n",
    "    - In this the values are immediately computed, session.run is not required unlike lazy mode\n",
    "    - **Eager mode can be executed by importing eager module and enabling \"enable_eager_execution\" at the start of the code only once**\n",
    "    - <font color=blue> Eager mode may be useful to debug the code while developing </font>"
   ]
  },
  {
   "cell_type": "markdown",
   "metadata": {},
   "source": [
    "## Session.run example\n",
    "- Session.run() needs to be executed to compute the operation and get results, it can be executed on any value\n",
    "- **sess.run() can take multiple inputs and produces corresponding outputs**\n",
    "- <font color=blue>.eval is similar to sess.run(), which needs to be used with the value/operation </font>"
   ]
  },
  {
   "cell_type": "code",
   "execution_count": 1,
   "metadata": {},
   "outputs": [
    {
     "name": "stdout",
     "output_type": "stream",
     "text": [
      "output without sess.run()\n",
      " Tensor(\"Add:0\", shape=(3,), dtype=int32)\n",
      "sess.run(z1) result\n",
      " [ 4  7 10]\n",
      "z1.eval() result\n",
      " [ 4  7 10]\n",
      "o1 result\n",
      " [ 4  7 10]\n",
      "o2 result\n",
      " [ 3 10 21]\n",
      "o3 results\n",
      " [2 3 4]\n"
     ]
    }
   ],
   "source": [
    "import tensorflow as tf\n",
    "\n",
    "# creates a graph and we can add all operations in this graph\n",
    "# usefull if multiple graphs are used in same code\n",
    "graph_ses_ex = tf.Graph()\n",
    "\n",
    "# build a graph under above graph name\n",
    "with graph_ses_ex.as_default():\n",
    "    # create constants\n",
    "    x = tf.constant([3, 5, 7], name='const_x')\n",
    "    y = tf.constant([1, 2, 3], name='const_y')\n",
    "    \n",
    "    # create operations\n",
    "    z1 = tf.add(x, y)\n",
    "    z2 = x * y           #can create using direct math operations\n",
    "    z3 = x - y\n",
    "    \n",
    "    # printing the values without sess.run, outputs only shape\n",
    "    print('output without sess.run()\\n', z1)\n",
    "    \n",
    "# run the graphs, we can specify to run specific graph, its not needed for 1 graph\n",
    "with tf.Session(graph=graph_ses_ex) as sess:\n",
    "    print(\"sess.run(z1) result\\n\", sess.run(z1))\n",
    "    # can also rung using .eval with operation\n",
    "    print(\"z1.eval() result\\n\", z1.eval())\n",
    "    # can pass multiple arguments to sess.run and gets corresponding outputs\n",
    "    o1, o2, o3 = sess.run([z1, z2, z3])\n",
    "    print('o1 result\\n', o1)\n",
    "    print('o2 result\\n', o2)\n",
    "    print('o3 results\\n', o3)"
   ]
  },
  {
   "cell_type": "markdown",
   "metadata": {},
   "source": [
    "## Variables\n",
    "- <font color=blue> Use tf.get_variable() instead of using tf.variable(), as tf.get_variable() can be reused, it gets an existing variable with these parameters or create a new one. </font>\n",
    "- ex: a = tf.get_variable(name=\"var_1\", **initializer**=tf.constant(2))\n",
    "- The method tf.get_variable can be used with the name of the variable as the argument to either create a new variable with such name or retrieve the one that was created before.\n",
    "- This is different from **using the tf.Variable constructor which will create a new variable every time it is called**\n",
    "- As a result, we end up having two different types of scopes:\n",
    "    - name scope, created using tf.name_scope\n",
    "    - variable scope, created using tf.variable_scope"
   ]
  },
  {
   "cell_type": "markdown",
   "metadata": {},
   "source": [
    "### name scope is ignored by tf.get_variable. see in the following example:"
   ]
  },
  {
   "cell_type": "code",
   "execution_count": 2,
   "metadata": {},
   "outputs": [
    {
     "name": "stdout",
     "output_type": "stream",
     "text": [
      "WARNING:tensorflow:From C:\\Users\\Admin\\Anaconda3\\lib\\site-packages\\tensorflow\\python\\framework\\op_def_library.py:263: colocate_with (from tensorflow.python.framework.ops) is deprecated and will be removed in a future version.\n",
      "Instructions for updating:\n",
      "Colocations handled automatically by placer.\n",
      "var1:0\n",
      "my_scope/var2:0\n",
      "my_scope/Add:0\n"
     ]
    }
   ],
   "source": [
    "import tensorflow as tf\n",
    "with tf.name_scope(\"my_scope\"):\n",
    "    v1 = tf.get_variable(\"var1\", [1], dtype=tf.float32)\n",
    "    v2 = tf.Variable(1, name=\"var2\", dtype=tf.float32)\n",
    "    a = tf.add(v1, v2)\n",
    "\n",
    "print(v1.name)  # var1:0\n",
    "print(v2.name)  # my_scope/var2:0\n",
    "print(a.name)   # my_scope/Add:0"
   ]
  },
  {
   "cell_type": "markdown",
   "metadata": {},
   "source": [
    "## tf.trainable_variables()\n",
    "- Returns all variables created with trainable=True"
   ]
  },
  {
   "cell_type": "markdown",
   "metadata": {},
   "source": [
    "## tf.get_default_graph()\n",
    "- "
   ]
  },
  {
   "cell_type": "markdown",
   "metadata": {},
   "source": [
    "## tf.placeholder\n",
    "- Use a placeholder to feed in the data for dependent values\n",
    "- Use None to shape values to allow to use variable size (ex: batchsize)\n",
    "- we can pass any kind of tensor through the placeholders to get the answer\n",
    "- To pass the data into the model we call the session with an extra argument feed_dict in which we should pass a dictionary with each placeholder name followed by its respective data"
   ]
  },
  {
   "cell_type": "markdown",
   "metadata": {},
   "source": [
    "## Global initialization\n",
    "- To be able to use variables in a computation graph it is necessary to initialize them before running the graph in a session. This is done by running tf.global_variables_initializer().\n",
    "- add an Op to initialize global variables\n",
    "- init_op = **tf.global_variables_initializer()**\n",
    "\n",
    "- with tf.Session() as sess:\n",
    "    - sess.run(init_op)"
   ]
  },
  {
   "cell_type": "markdown",
   "metadata": {},
   "source": [
    "## Estimatore API\n",
    "- Estimators, which represent a complete model. The Estimator API provides methods to train the model, to judge the model’s accuracy, and to generate predictions.\n",
    "- **tf.estimator.Estimator(model_fn=model_fn, config=config, params=params,)**\n",
    "- **model_fn is the function initializing the model.** This function is represented and fully defined by an EstimatorSpec object which knows how to generate all outputs, how to train, and how to evaluate the model.\n",
    "- config is a RunConfig object specifying how to run the estimator.\n",
    "- params is an object holding the hyper-parameters of the model.\n",
    "- After creating the Estimator we can train it using the train_and_evaluate function\n",
    "    - **tf.estimator.train_and_evaluate(model_estimator, train_spec, eval_spec)**\n",
    "- "
   ]
  },
  {
   "cell_type": "markdown",
   "metadata": {},
   "source": [
    "## tf.name_scope()\n",
    "- Adding a name scope ensures logical grouping of the layers in the graph\n",
    "- the graphs you define for training and inference can be different, but they still need to share their weights. \n",
    "- To remedy this issue, there are two possibilities\n",
    "    - re-build the graph, create a new session and reload the weights from some file when we switch between training and inference.\n",
    "    - **create all the nodes for training and inference in the graph and make sure that the python code does not create the nodes twice by using the reuse=True **"
   ]
  },
  {
   "cell_type": "markdown",
   "metadata": {},
   "source": [
    "### The tf.name_scope returns a new context manager everytime when it's called with a string as the name parameter"
   ]
  },
  {
   "cell_type": "code",
   "execution_count": 3,
   "metadata": {},
   "outputs": [
    {
     "name": "stdout",
     "output_type": "stream",
     "text": [
      "scope_name/var_name:0\n",
      "scope_name_1/var_name:0\n"
     ]
    }
   ],
   "source": [
    "import tensorflow as tf\n",
    "\n",
    "def create_var_name_scope():\n",
    "    with tf.name_scope('scope_name'):\n",
    "        v = tf.Variable(1, name='var_name')\n",
    "        print(v.name)\n",
    "# create 2 times\n",
    "create_var_name_scope()\n",
    "create_var_name_scope()"
   ]
  },
  {
   "cell_type": "markdown",
   "metadata": {},
   "source": [
    "## Dataset API"
   ]
  },
  {
   "cell_type": "markdown",
   "metadata": {},
   "source": [
    "## Debugging TensorFlow Programs\n",
    "- The general problems occur with shape of tensors, data type\n",
    "- There can be errors related to specific input values or conditions"
   ]
  },
  {
   "cell_type": "markdown",
   "metadata": {},
   "source": [
    "### Fixing shape issues\n",
    "- tf.expand, tf.squeeze, tf.reshape to change dimension"
   ]
  },
  {
   "cell_type": "markdown",
   "metadata": {},
   "source": [
    "### Fixing data type problems \n",
    "- tf.cast()\n",
    "    - To typecast tensorflow variable (ex: a = tf.cast(a, tf.float32)"
   ]
  },
  {
   "cell_type": "markdown",
   "metadata": {},
   "source": [
    "### Debugging the execution"
   ]
  },
  {
   "cell_type": "markdown",
   "metadata": {},
   "source": [
    "#### Change logging level\n",
    "- Default TF log messages level is Warn, we can set other levels to more or less debug info using below api\n",
    "    - tf.logging.set_verbosity(tf.logging.INFO)\n",
    "- Decreasing order of message levels: DEBUG, INFO, WARN, ERROR, FATAL"
   ]
  },
  {
   "cell_type": "markdown",
   "metadata": {},
   "source": [
    "#### tf.Print()\n",
    "- Prints values in to a file"
   ]
  },
  {
   "cell_type": "markdown",
   "metadata": {},
   "source": [
    "#### tf.debug()\n",
    "- An interactive debugger, can be called with --debug option\n",
    "- We can step through the code and use break points"
   ]
  },
  {
   "cell_type": "markdown",
   "metadata": {},
   "source": [
    "# <font color = DarkOrange> Linear Regression Example with TF </font>\n",
    "- [Source](https://github.com/aymericdamien/TensorFlow-Examples/blob/master/notebooks/2_BasicModels/linear_regression.ipynb)"
   ]
  },
  {
   "cell_type": "code",
   "execution_count": 4,
   "metadata": {},
   "outputs": [],
   "source": [
    "# load required packages\n",
    "import tensorflow as tf\n",
    "import matplotlib.pyplot as plt\n",
    "import numpy as np\n",
    "import os, datetime"
   ]
  },
  {
   "cell_type": "code",
   "execution_count": 5,
   "metadata": {},
   "outputs": [],
   "source": [
    "# data: input, labels\n",
    "# input\n",
    "inp_x = np.asarray([3.3,4.4,5.5,6.71,6.93,4.168,9.779,6.182,7.59,2.167,\n",
    "                    7.042,10.791,5.313,7.997,5.654,9.27,3.1])\n",
    "# label\n",
    "lab_y = np.asarray([1.7,2.76,2.09,3.19,1.694,1.573,3.366,2.596,2.53,1.221,\n",
    "                      2.827,3.465,1.65,2.904,2.42,2.94,1.3])\n",
    "n_samples = inp_x.shape[0]"
   ]
  },
  {
   "cell_type": "code",
   "execution_count": 6,
   "metadata": {},
   "outputs": [],
   "source": [
    "# model parameters\n",
    "lr = 0.001\n",
    "epochs = 1000\n",
    "disp_step = 100"
   ]
  },
  {
   "cell_type": "code",
   "execution_count": 7,
   "metadata": {},
   "outputs": [],
   "source": [
    "# create a graph\n",
    "graph_linreg = tf.Graph()"
   ]
  },
  {
   "cell_type": "code",
   "execution_count": 8,
   "metadata": {},
   "outputs": [],
   "source": [
    "# variables (learnable parameters)\n",
    "with graph_linreg.as_default():\n",
    "    w = tf.Variable(.003, tf.float32, name='weight')\n",
    "    b = tf.Variable(-0.4, tf.float32, name='bias')"
   ]
  },
  {
   "cell_type": "code",
   "execution_count": 9,
   "metadata": {},
   "outputs": [],
   "source": [
    "# placeholders: to feed data to graph\n",
    "with graph_linreg.as_default():\n",
    "    # input place holders\n",
    "    x = tf.placeholder(tf.float32)\n",
    "    # label place holders\n",
    "    label = tf.placeholder(tf.float32)"
   ]
  },
  {
   "cell_type": "code",
   "execution_count": 10,
   "metadata": {},
   "outputs": [],
   "source": [
    "# define/construct a model\n",
    "with graph_linreg.as_default():\n",
    "    model = w * x + b"
   ]
  },
  {
   "cell_type": "code",
   "execution_count": 11,
   "metadata": {},
   "outputs": [],
   "source": [
    "# define loss: mean squared error\n",
    "with graph_linreg.as_default():\n",
    "    loss = tf.reduce_sum(tf.pow(label-model, 2))/(2*n_samples)"
   ]
  },
  {
   "cell_type": "code",
   "execution_count": 12,
   "metadata": {
    "scrolled": true
   },
   "outputs": [
    {
     "name": "stdout",
     "output_type": "stream",
     "text": [
      "WARNING:tensorflow:From C:\\Users\\Admin\\Anaconda3\\lib\\site-packages\\tensorflow\\python\\ops\\math_ops.py:3066: to_int32 (from tensorflow.python.ops.math_ops) is deprecated and will be removed in a future version.\n",
      "Instructions for updating:\n",
      "Use tf.cast instead.\n"
     ]
    }
   ],
   "source": [
    "# define optimizer\n",
    "with graph_linreg.as_default():\n",
    "    optimizer = tf.train.GradientDescentOptimizer(lr).minimize(loss)"
   ]
  },
  {
   "cell_type": "code",
   "execution_count": 13,
   "metadata": {},
   "outputs": [],
   "source": [
    "# add the all the variables wish to be recorded\n",
    "with graph_linreg.as_default():\n",
    "    tf.summary.scalar(\"train_loss\", loss)\n",
    "    tf.summary.histogram(\"weights\", w)\n",
    "    tf.summary.histogram(\"bias\", b)\n",
    "    # Merge all summaries into a single op\n",
    "    summary_merged = tf.summary.merge_all()"
   ]
  },
  {
   "cell_type": "code",
   "execution_count": 14,
   "metadata": {},
   "outputs": [],
   "source": [
    "# initialize the variables\n",
    "with graph_linreg.as_default():\n",
    "    init = tf.global_variables_initializer()"
   ]
  },
  {
   "cell_type": "code",
   "execution_count": 15,
   "metadata": {},
   "outputs": [
    {
     "name": "stdout",
     "output_type": "stream",
     "text": [
      "epoch: 100, loss: 0.15601447224617004\n",
      "epoch: 200, loss: 0.1537170559167862\n",
      "epoch: 300, loss: 0.15187519788742065\n",
      "epoch: 400, loss: 0.15007758140563965\n",
      "epoch: 500, loss: 0.14832304418087006\n",
      "epoch: 600, loss: 0.14661060273647308\n",
      "epoch: 700, loss: 0.14493925869464874\n",
      "epoch: 800, loss: 0.14330798387527466\n",
      "epoch: 900, loss: 0.14171582460403442\n",
      "epoch: 1000, loss: 0.1401619017124176\n",
      "To open Tensorboard: Run the command line:\n",
      "--> tensorboard --logdir=/tmp/tensorflow_logs \n",
      "Then open http://0.0.0.0:6006/ into your web browser\n",
      "Optimization Finished!\n",
      "Training cost= 0.14014657\n"
     ]
    },
    {
     "data": {
      "image/png": "[encoded data removed]",
      "text/plain": [
       "<Figure size 432x288 with 1 Axes>"
      ]
     },
     "metadata": {},
     "output_type": "display_data"
    },
    {
     "data": {
      "image/png": "[encoded data removed]",
      "text/plain": [
       "<Figure size 432x288 with 1 Axes>"
      ]
     },
     "metadata": {},
     "output_type": "display_data"
    }
   ],
   "source": [
    "# training\n",
    "with tf.Session(graph=graph_linreg) as sess:\n",
    "    # create a new log dir name for each run\n",
    "    mydir = os.path.join(os.getcwd()+\"./log_graph\", datetime.datetime.now().strftime('%Y-%m-%d_%H-%M-%S'))\n",
    "    os.makedirs(mydir)    \n",
    "    # summary writer for TensorBoard\n",
    "    summary_writer = tf.summary.FileWriter(mydir, sess.graph)   \n",
    "    \n",
    "    # run init\n",
    "    sess.run(init)\n",
    "    # train model\n",
    "    for epoch in range(epochs):\n",
    "        _, train_loss, summary = sess.run([optimizer, loss, summary_merged], feed_dict={x:inp_x, label:lab_y})        \n",
    "        \n",
    "        # Write logs at every iteration\n",
    "        summary_writer.add_summary(summary, epoch)   \n",
    "        \n",
    "        #Display logs per epoch step\n",
    "        if (epoch+1) % disp_step == 0:            \n",
    "            #train_loss = sess.run(loss, feed_dict={x:inp_x, label:lab_y})\n",
    "            print('epoch: {}, loss: {}'.format(epoch+1, train_loss))\n",
    "            \n",
    "        # live ploting the training\n",
    "        plt.plot(inp_x, lab_y, 'ro', label=\"original dat\")\n",
    "        # inference the model and plot\n",
    "        plt.plot(inp_x, sess.run(model, {x:inp_x}), label=\"trained model\")\n",
    "        #plt.legend()\n",
    "        #plt.show()     \n",
    "        \n",
    "    print(\"To open Tensorboard: Run the command line:\\n\" \\\n",
    "          \"--> tensorboard --logdir=/tmp/tensorflow_logs \" \\\n",
    "          \"\\nThen open http://0.0.0.0:6006/ into your web browser\")        \n",
    "        \n",
    "    print (\"Optimization Finished!\")\n",
    "    training_cost = sess.run(loss, feed_dict={x: inp_x, label: lab_y})\n",
    "    print (\"Training cost=\", training_cost)\n",
    "    \n",
    "    # final result plot\n",
    "    plt.show()\n",
    "    plt.plot(inp_x, lab_y, 'ro', label=\"original dat\")\n",
    "    plt.plot(inp_x, sess.run(model, {x:inp_x}), label=\"trained model\")\n",
    "    plt.legend()"
   ]
  },
  {
   "cell_type": "markdown",
   "metadata": {},
   "source": [
    "# Load MNIST Dataset for below projects\n",
    "- The dataset contains 60,000 examples for training and 10,000 examples for testing. The digits have been size-normalized and centered in a fixed-size image (28x28 pixels) with values from 0 to 1. For simplicity, each image has been flattened and converted to a 1-D numpy array of 784 features (28*28)."
   ]
  },
  {
   "cell_type": "code",
   "execution_count": 1,
   "metadata": {},
   "outputs": [
    {
     "name": "stdout",
     "output_type": "stream",
     "text": [
      "WARNING:tensorflow:From <ipython-input-1-3fe290d0330d>:7: read_data_sets (from tensorflow.contrib.learn.python.learn.datasets.mnist) is deprecated and will be removed in a future version.\n",
      "Instructions for updating:\n",
      "Please use alternatives such as official/mnist/dataset.py from tensorflow/models.\n",
      "WARNING:tensorflow:From C:\\Users\\Admin\\Anaconda3\\lib\\site-packages\\tensorflow\\contrib\\learn\\python\\learn\\datasets\\mnist.py:260: maybe_download (from tensorflow.contrib.learn.python.learn.datasets.base) is deprecated and will be removed in a future version.\n",
      "Instructions for updating:\n",
      "Please write your own downloading logic.\n",
      "WARNING:tensorflow:From C:\\Users\\Admin\\Anaconda3\\lib\\site-packages\\tensorflow\\contrib\\learn\\python\\learn\\datasets\\mnist.py:262: extract_images (from tensorflow.contrib.learn.python.learn.datasets.mnist) is deprecated and will be removed in a future version.\n",
      "Instructions for updating:\n",
      "Please use tf.data to implement this functionality.\n",
      "Extracting /tmp/data/train-images-idx3-ubyte.gz\n",
      "WARNING:tensorflow:From C:\\Users\\Admin\\Anaconda3\\lib\\site-packages\\tensorflow\\contrib\\learn\\python\\learn\\datasets\\mnist.py:267: extract_labels (from tensorflow.contrib.learn.python.learn.datasets.mnist) is deprecated and will be removed in a future version.\n",
      "Instructions for updating:\n",
      "Please use tf.data to implement this functionality.\n",
      "Extracting /tmp/data/train-labels-idx1-ubyte.gz\n",
      "WARNING:tensorflow:From C:\\Users\\Admin\\Anaconda3\\lib\\site-packages\\tensorflow\\contrib\\learn\\python\\learn\\datasets\\mnist.py:110: dense_to_one_hot (from tensorflow.contrib.learn.python.learn.datasets.mnist) is deprecated and will be removed in a future version.\n",
      "Instructions for updating:\n",
      "Please use tf.one_hot on tensors.\n",
      "Extracting /tmp/data/t10k-images-idx3-ubyte.gz\n",
      "Extracting /tmp/data/t10k-labels-idx1-ubyte.gz\n",
      "WARNING:tensorflow:From C:\\Users\\Admin\\Anaconda3\\lib\\site-packages\\tensorflow\\contrib\\learn\\python\\learn\\datasets\\mnist.py:290: DataSet.__init__ (from tensorflow.contrib.learn.python.learn.datasets.mnist) is deprecated and will be removed in a future version.\n",
      "Instructions for updating:\n",
      "Please use alternatives such as official/mnist/dataset.py from tensorflow/models.\n"
     ]
    }
   ],
   "source": [
    "from __future__ import division, print_function, absolute_import\n",
    "\n",
    "import tensorflow as tf\n",
    "\n",
    "# Import MNIST data\n",
    "from tensorflow.examples.tutorials.mnist import input_data\n",
    "mnist = input_data.read_data_sets(\"/tmp/data/\", one_hot=True)"
   ]
  },
  {
   "cell_type": "markdown",
   "metadata": {},
   "source": [
    "# CNN for digit recognition"
   ]
  },
  {
   "cell_type": "code",
   "execution_count": 2,
   "metadata": {},
   "outputs": [],
   "source": [
    "# training parameters\n",
    "lr = 0.001\n",
    "num_steps = 500\n",
    "batch_size = 128\n",
    "disp_step = 10"
   ]
  },
  {
   "cell_type": "code",
   "execution_count": 3,
   "metadata": {},
   "outputs": [],
   "source": [
    "# Network Parameters\n",
    "num_input = 784 # MNIST data input (img shape: 28*28)\n",
    "num_classes = 10 # MNIST total classes (0-9 digits)\n",
    "dropout_prob = 0.75 # Dropout, probability to keep units"
   ]
  },
  {
   "cell_type": "code",
   "execution_count": 4,
   "metadata": {},
   "outputs": [],
   "source": [
    "# place holders for graph inputs\n",
    "x = tf.placeholder(tf.float32)\n",
    "y = tf.placeholder(tf.float32)\n",
    "keep_prob = tf.placeholder(tf.float32)"
   ]
  },
  {
   "cell_type": "code",
   "execution_count": 2,
   "metadata": {},
   "outputs": [],
   "source": [
    "# wrapper functions to construct model\n",
    "# conv2d\n",
    "def conv2d_layer(inp, out_ch, k, strd, pad='SAME'):\n",
    "    inp_ch = inp.get_shape().as_list()[3]\n",
    "    # create filter variable tensor\n",
    "    filtr = tf.Variable(tf.random_normal([k, k, inp_ch, out_ch]))\n",
    "    # create bias variable\n",
    "    b = tf.Variable(tf.random_normal([out_ch]))\n",
    "                      \n",
    "    out = tf.nn.conv2d(inp, filtr, strides=[1, strd, strd, 1], padding=pad)    \n",
    "    out = tf.nn.bias_add(out, b)\n",
    "    return tf.nn.relu(out)\n",
    "\n",
    "# MaxPool2D wrapper\n",
    "def maxpool2d(inp, k=2):\n",
    "    return tf.nn.max_pool(inp, ksize=[1, k, k, 1], strides=[1, k, k, 1],\n",
    "                          padding='SAME')\n",
    "\n",
    "# fc layer\n",
    "def fc_layer(inp, inp_ch, out_ch, activ=None):\n",
    "    # create weight variable\n",
    "    filtr = tf.Variable(tf.random_normal([inp_ch, out_ch]))\n",
    "    # create bias variable\n",
    "    b = tf.Variable(tf.random_normal([out_ch]))\n",
    "    \n",
    "    out = tf.reshape(inp, shape=[-1, inp_ch])\n",
    "    # fc\n",
    "    out = tf.matmul(out, filtr)\n",
    "    # add bias\n",
    "    out = out + b\n",
    "    # activation\n",
    "    if activ == 'relu':\n",
    "        out = tf.nn.relu(out)\n",
    "    elif activ == 'sigmoid':\n",
    "        out = tf.nn.sigmoid(out)\n",
    "    return out"
   ]
  },
  {
   "cell_type": "code",
   "execution_count": 14,
   "metadata": {},
   "outputs": [],
   "source": [
    "# create network architecture\n",
    "def conv_net(inp, keep_prob, num_classes):\n",
    "    # MNIST data input is a 1-D vector of 784 features (28*28 pixels)\n",
    "    # Reshape to match picture format [Height x Width x Channel]\n",
    "    # Tensor input become 4-D: [Batch Size, Height, Width, Channel]\n",
    "    out = tf.reshape(inp, shape=[-1, 28, 28, 1])\n",
    "    \n",
    "    # conv1 layer\n",
    "    out = conv2d_layer(out, 32, 5, 1)\n",
    "    # pool layer\n",
    "    out = maxpool2d(out)\n",
    "    \n",
    "    # conv2 layer\n",
    "    out = conv2d_layer(out, 64, 5, 1)\n",
    "    # pool layer\n",
    "    out = maxpool2d(out)\n",
    "    \n",
    "    # fully connected layer\n",
    "    out = fc_layer(out, 7*7*64, 1024, 'relu')\n",
    "    # apply dropout\n",
    "    out = tf.nn.dropout(out, keep_prob)\n",
    "    \n",
    "    # Output, class prediction\n",
    "    out = fc_layer(out, 1024, num_classes)\n",
    "    return out"
   ]
  },
  {
   "cell_type": "code",
   "execution_count": 15,
   "metadata": {},
   "outputs": [],
   "source": [
    "# construct model\n",
    "logits = conv_net(x, keep_prob, num_classes)\n",
    "prediction = tf.nn.softmax(logits)"
   ]
  },
  {
   "cell_type": "code",
   "execution_count": 8,
   "metadata": {},
   "outputs": [
    {
     "name": "stdout",
     "output_type": "stream",
     "text": [
      "WARNING:tensorflow:From <ipython-input-8-ebfc2819e3bb>:2: softmax_cross_entropy_with_logits (from tensorflow.python.ops.nn_ops) is deprecated and will be removed in a future version.\n",
      "Instructions for updating:\n",
      "\n",
      "Future major versions of TensorFlow will allow gradients to flow\n",
      "into the labels input on backprop by default.\n",
      "\n",
      "See `tf.nn.softmax_cross_entropy_with_logits_v2`.\n",
      "\n"
     ]
    }
   ],
   "source": [
    "# define loss\n",
    "loss_op = tf.reduce_mean(tf.nn.softmax_cross_entropy_with_logits(logits=logits, labels=y))\n",
    "# define optimizer\n",
    "optimizer = tf.train.AdamOptimizer(learning_rate=lr)\n",
    "# define minmizer\n",
    "train_op = optimizer.minimize(loss_op)"
   ]
  },
  {
   "cell_type": "code",
   "execution_count": 9,
   "metadata": {},
   "outputs": [],
   "source": [
    "# evaluate model\n",
    "correct_pred = tf.equal(tf.argmax(prediction, 1), tf.argmax(y, 1))\n",
    "accuracy = tf.reduce_mean(tf.cast(correct_pred, tf.float32))"
   ]
  },
  {
   "cell_type": "code",
   "execution_count": 10,
   "metadata": {},
   "outputs": [],
   "source": [
    "# initialize\n",
    "init = tf.global_variables_initializer()"
   ]
  },
  {
   "cell_type": "code",
   "execution_count": 11,
   "metadata": {},
   "outputs": [
    {
     "name": "stdout",
     "output_type": "stream",
     "text": [
      "Step 1, Minibatch Loss= 49474.6133, Training Accuracy= 0.148\n",
      "Step 10, Minibatch Loss= 15887.6699, Training Accuracy= 0.406\n",
      "Step 20, Minibatch Loss= 7026.3623, Training Accuracy= 0.625\n",
      "Step 30, Minibatch Loss= 4658.9229, Training Accuracy= 0.742\n",
      "Step 40, Minibatch Loss= 3530.8379, Training Accuracy= 0.812\n",
      "Step 50, Minibatch Loss= 2713.1616, Training Accuracy= 0.844\n",
      "Step 60, Minibatch Loss= 5536.7920, Training Accuracy= 0.750\n",
      "Step 70, Minibatch Loss= 4292.1460, Training Accuracy= 0.805\n",
      "Step 80, Minibatch Loss= 2840.0159, Training Accuracy= 0.852\n",
      "Step 90, Minibatch Loss= 3088.0925, Training Accuracy= 0.844\n",
      "Step 100, Minibatch Loss= 2809.9331, Training Accuracy= 0.891\n",
      "Step 110, Minibatch Loss= 1672.5120, Training Accuracy= 0.883\n",
      "Step 120, Minibatch Loss= 1398.3877, Training Accuracy= 0.891\n",
      "Step 130, Minibatch Loss= 1289.1543, Training Accuracy= 0.922\n",
      "Step 140, Minibatch Loss= 1732.0654, Training Accuracy= 0.883\n",
      "Step 150, Minibatch Loss= 2929.2573, Training Accuracy= 0.883\n",
      "Step 160, Minibatch Loss= 1845.2659, Training Accuracy= 0.883\n",
      "Step 170, Minibatch Loss= 2325.9094, Training Accuracy= 0.930\n",
      "Step 180, Minibatch Loss= 664.3644, Training Accuracy= 0.922\n",
      "Step 190, Minibatch Loss= 1517.3337, Training Accuracy= 0.906\n",
      "Step 200, Minibatch Loss= 1807.4032, Training Accuracy= 0.938\n",
      "Step 210, Minibatch Loss= 1389.9009, Training Accuracy= 0.930\n",
      "Step 220, Minibatch Loss= 1520.0304, Training Accuracy= 0.922\n",
      "Step 230, Minibatch Loss= 1287.3043, Training Accuracy= 0.922\n",
      "Step 240, Minibatch Loss= 843.0516, Training Accuracy= 0.953\n",
      "Step 250, Minibatch Loss= 935.1584, Training Accuracy= 0.945\n",
      "Step 260, Minibatch Loss= 62.1876, Training Accuracy= 0.961\n",
      "Step 270, Minibatch Loss= 960.0403, Training Accuracy= 0.914\n",
      "Step 280, Minibatch Loss= 1349.7522, Training Accuracy= 0.938\n",
      "Step 290, Minibatch Loss= 463.2134, Training Accuracy= 0.953\n",
      "Step 300, Minibatch Loss= 1124.1343, Training Accuracy= 0.898\n",
      "Step 310, Minibatch Loss= 647.9810, Training Accuracy= 0.945\n",
      "Step 320, Minibatch Loss= 2397.7080, Training Accuracy= 0.906\n",
      "Step 330, Minibatch Loss= 1104.3212, Training Accuracy= 0.906\n",
      "Step 340, Minibatch Loss= 1446.7086, Training Accuracy= 0.930\n",
      "Step 350, Minibatch Loss= 1464.6399, Training Accuracy= 0.914\n",
      "Step 360, Minibatch Loss= 1846.1243, Training Accuracy= 0.922\n",
      "Step 370, Minibatch Loss= 371.3999, Training Accuracy= 0.977\n",
      "Step 380, Minibatch Loss= 626.2006, Training Accuracy= 0.961\n",
      "Step 390, Minibatch Loss= 508.4009, Training Accuracy= 0.953\n",
      "Step 400, Minibatch Loss= 1079.1127, Training Accuracy= 0.930\n",
      "Step 410, Minibatch Loss= 607.5522, Training Accuracy= 0.938\n",
      "Step 420, Minibatch Loss= 392.5350, Training Accuracy= 0.984\n",
      "Step 430, Minibatch Loss= 1213.8782, Training Accuracy= 0.914\n",
      "Step 440, Minibatch Loss= 1231.1626, Training Accuracy= 0.922\n",
      "Step 450, Minibatch Loss= 337.3226, Training Accuracy= 0.977\n",
      "Step 460, Minibatch Loss= 387.8312, Training Accuracy= 0.945\n",
      "Step 470, Minibatch Loss= 449.0338, Training Accuracy= 0.953\n",
      "Step 480, Minibatch Loss= 476.3847, Training Accuracy= 0.969\n",
      "Step 490, Minibatch Loss= 841.3553, Training Accuracy= 0.969\n",
      "Step 500, Minibatch Loss= 263.7665, Training Accuracy= 0.984\n",
      "Optimization Finished!\n",
      "Testing Accuracy: 0.9765625\n"
     ]
    }
   ],
   "source": [
    "# training loop\n",
    "with tf.Session() as sess:\n",
    "    # run initializer\n",
    "    sess.run(init)\n",
    "    \n",
    "    # train iterations\n",
    "    for step in range(1, num_steps+1):\n",
    "        batch_x, batch_y = mnist.train.next_batch(batch_size)\n",
    "        # Run optimization op (backprop)        \n",
    "        sess.run(train_op, feed_dict={x:batch_x, y:batch_y, keep_prob:dropout_prob})\n",
    "        \n",
    "        if step % disp_step == 0 or step == 1:\n",
    "            # Calculate batch loss and accuracy\n",
    "            loss, acc = sess.run([loss_op, accuracy], \n",
    "                                 feed_dict={x:batch_x, y:batch_y, keep_prob:1.0})\n",
    "            \n",
    "            print(\"Step \" + str(step) + \", Minibatch Loss= \" + \\\n",
    "                  \"{:.4f}\".format(loss) + \", Training Accuracy= \" + \\\n",
    "                  \"{:.3f}\".format(acc))\n",
    "\n",
    "    print(\"Optimization Finished!\")\n",
    "\n",
    "    # Calculate accuracy for 256 MNIST test images\n",
    "    print(\"Testing Accuracy:\", \\\n",
    "        sess.run(accuracy, feed_dict={x: mnist.test.images[:256],\n",
    "                                      y: mnist.test.labels[:256],\n",
    "                                      keep_prob: 1.0}))            "
   ]
  },
  {
   "cell_type": "code",
   "execution_count": null,
   "metadata": {},
   "outputs": [],
   "source": []
  },
  {
   "cell_type": "markdown",
   "metadata": {},
   "source": [
    "# LSTM"
   ]
  },
  {
   "cell_type": "markdown",
   "metadata": {},
   "source": [
    "# Auto Encoder: Digit Compression"
   ]
  },
  {
   "cell_type": "code",
   "execution_count": 72,
   "metadata": {},
   "outputs": [],
   "source": [
    "# training parameters\n",
    "lr = 0.01\n",
    "iterations = 20000\n",
    "batch_size = 128\n",
    "disp_step = 1000"
   ]
  },
  {
   "cell_type": "code",
   "execution_count": 73,
   "metadata": {},
   "outputs": [],
   "source": [
    "# network parameters\n",
    "num_inputs = 784"
   ]
  },
  {
   "cell_type": "code",
   "execution_count": 74,
   "metadata": {},
   "outputs": [],
   "source": [
    "# place holders for input\n",
    "x = tf.placeholder(tf.float32)"
   ]
  },
  {
   "cell_type": "code",
   "execution_count": 75,
   "metadata": {},
   "outputs": [],
   "source": [
    "# add hidden layer units array to control the architecture\n",
    "hidden_array = [num_inputs, 256, 128]\n",
    "\n",
    "# create encoder-decoder architecture\n",
    "def encoder(out):\n",
    "    # add fc layers\n",
    "    for i in range(len(hidden_array) - 1):\n",
    "        inp_ch = hidden_array[i]\n",
    "        out_ch = hidden_array[i + 1]\n",
    "        out = fc_layer(out, inp_ch, out_ch, 'sigmoid')    \n",
    "    return out\n",
    "\n",
    "def decoder(out):\n",
    "    # add fc layers\n",
    "    for i in range(len(hidden_array) - 1, 0, -1):\n",
    "        inp_ch = hidden_array[i]\n",
    "        out_ch = hidden_array[i - 1]\n",
    "        out = fc_layer(out, inp_ch, out_ch, 'sigmoid')    \n",
    "    return out"
   ]
  },
  {
   "cell_type": "code",
   "execution_count": 76,
   "metadata": {},
   "outputs": [],
   "source": [
    "# create network model\n",
    "encoder_op = encoder(x)\n",
    "decoder_op = decoder(encoder_op)"
   ]
  },
  {
   "cell_type": "code",
   "execution_count": 77,
   "metadata": {},
   "outputs": [],
   "source": [
    "# prediction\n",
    "pred = decoder_op\n",
    "# Targets (Labels) are the input data.\n",
    "y = x"
   ]
  },
  {
   "cell_type": "code",
   "execution_count": 78,
   "metadata": {},
   "outputs": [],
   "source": [
    "# define loss\n",
    "loss_op = tf.reduce_mean(tf.pow(y - pred, 2))\n",
    "# optimizer\n",
    "optimizer = tf.train.RMSPropOptimizer(lr).minimize(loss_op)"
   ]
  },
  {
   "cell_type": "code",
   "execution_count": 79,
   "metadata": {},
   "outputs": [],
   "source": [
    "# Initialize the variables (i.e. assign their default value)\n",
    "init = tf.global_variables_initializer()"
   ]
  },
  {
   "cell_type": "code",
   "execution_count": 80,
   "metadata": {},
   "outputs": [
    {
     "name": "stdout",
     "output_type": "stream",
     "text": [
      "Step 0: Minibatch Loss: 0.436931\n",
      "Step 1: Minibatch Loss: 0.436389\n",
      "Step 1000: Minibatch Loss: 0.128384\n",
      "Step 2000: Minibatch Loss: 0.116984\n",
      "Step 3000: Minibatch Loss: 0.106581\n",
      "Step 4000: Minibatch Loss: 0.096502\n",
      "Step 5000: Minibatch Loss: 0.093907\n",
      "Step 6000: Minibatch Loss: 0.093410\n",
      "Step 7000: Minibatch Loss: 0.089439\n",
      "Step 8000: Minibatch Loss: 0.089472\n",
      "Step 9000: Minibatch Loss: 0.084864\n",
      "Step 10000: Minibatch Loss: 0.080625\n",
      "Step 11000: Minibatch Loss: 0.082103\n",
      "Step 12000: Minibatch Loss: 0.078570\n",
      "Step 13000: Minibatch Loss: 0.074329\n",
      "Step 14000: Minibatch Loss: 0.075163\n",
      "Step 15000: Minibatch Loss: 0.074270\n",
      "Step 16000: Minibatch Loss: 0.074728\n",
      "Step 17000: Minibatch Loss: 0.072635\n",
      "Step 18000: Minibatch Loss: 0.072143\n",
      "Step 19000: Minibatch Loss: 0.070003\n",
      "Step 20000: Minibatch Loss: 0.071912\n"
     ]
    }
   ],
   "source": [
    "# training\n",
    "sess = tf.Session()\n",
    "    \n",
    "# run initialization\n",
    "sess.run(init)\n",
    "\n",
    "# train loop\n",
    "for itr in range(iterations + 1):\n",
    "    # Get the next batch of MNIST data (only images are needed, not labels)\n",
    "    batch_x, _ = mnist.train.next_batch(batch_size)\n",
    "    # Run optimization op (backprop) and cost op (to get loss value)\n",
    "    _, loss = sess.run([optimizer, loss_op], feed_dict={x: batch_x})\n",
    "    # Display logs per step\n",
    "    if itr % disp_step == 0 or itr == 1:\n",
    "        print('Step %i: Minibatch Loss: %f' % (itr, loss))        "
   ]
  },
  {
   "cell_type": "code",
   "execution_count": 93,
   "metadata": {},
   "outputs": [
    {
     "name": "stdout",
     "output_type": "stream",
     "text": [
      "Original Images\n"
     ]
    },
    {
     "data": {
      "image/png": "[encoded data removed]",
      "text/plain": [
       "<Figure size 432x288 with 1 Axes>"
      ]
     },
     "metadata": {},
     "output_type": "display_data"
    },
    {
     "name": "stdout",
     "output_type": "stream",
     "text": [
      "Reconstructed Images by AutoEncoder\n"
     ]
    },
    {
     "data": {
      "image/png": "[encoded data removed]",
      "text/plain": [
       "<Figure size 432x288 with 1 Axes>"
      ]
     },
     "metadata": {},
     "output_type": "display_data"
    }
   ],
   "source": [
    "# test autoencoder\n",
    "import matplotlib.pyplot as plt\n",
    "# Encode and decode images from test set and visualize their reconstruction.\n",
    "test_cnt = 1\n",
    "for i in range(test_cnt):\n",
    "    # MNIST test set\n",
    "    batch_x, _ = mnist.test.next_batch(1)\n",
    "    # Encode and decode the digit image\n",
    "    dec = sess.run(decoder_op, feed_dict={x: batch_x})\n",
    "    \n",
    "    # reshape and convert tensors to numpy array\n",
    "    orig = batch_x.reshape([28, 28])\n",
    "    recon = dec.reshape((28, 28))\n",
    "    \n",
    "    # display images\n",
    "    print(\"Original Images\")     \n",
    "    #plt.figure(figsize=(test_cnt, test_cnt))\n",
    "    plt.imshow(orig, origin=\"upper\", cmap=\"gray\")\n",
    "    plt.show()\n",
    "    \n",
    "    print(\"Reconstructed Images by AutoEncoder\")\n",
    "    #plt.figure(figsize=(test_cnt, test_cnt))\n",
    "    plt.imshow(recon, origin=\"upper\", cmap=\"gray\")\n",
    "    plt.show()    "
   ]
  },
  {
   "cell_type": "markdown",
   "metadata": {},
   "source": [
    "# VAE - Generate Image from noise"
   ]
  },
  {
   "cell_type": "markdown",
   "metadata": {},
   "source": [
    "# GAN - Generate Image from noise\n",
    "- Build a generative adversarial network (GAN) to generate digit images from a noise distribution with TensorFlow."
   ]
  },
  {
   "cell_type": "code",
   "execution_count": null,
   "metadata": {},
   "outputs": [],
   "source": []
  },
  {
   "cell_type": "markdown",
   "metadata": {},
   "source": [
    "# DCGAN - Generate image from noise"
   ]
  },
  {
   "cell_type": "code",
   "execution_count": null,
   "metadata": {},
   "outputs": [],
   "source": []
  }
 ],
 "metadata": {
  "kernelspec": {
   "display_name": "Python 3",
   "language": "python",
   "name": "python3"
  },
  "language_info": {
   "codemirror_mode": {
    "name": "ipython",
    "version": 3
   },
   "file_extension": ".py",
   "mimetype": "text/x-python",
   "name": "python",
   "nbconvert_exporter": "python",
   "pygments_lexer": "ipython3",
   "version": "3.6.5"
  },
  "toc": {
   "base_numbering": 1,
   "nav_menu": {},
   "number_sections": true,
   "sideBar": true,
   "skip_h1_title": false,
   "title_cell": "Table of Contents",
   "title_sidebar": "Contents",
   "toc_cell": true,
   "toc_position": {},
   "toc_section_display": true,
   "toc_window_display": true
  }
 },
 "nbformat": 4,
 "nbformat_minor": 2
}
