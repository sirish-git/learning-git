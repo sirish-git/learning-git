{
 "cells": [
  {
   "cell_type": "markdown",
   "metadata": {
    "toc": true
   },
   "source": [
    "<h1>Table of Contents<span class=\"tocSkip\"></span></h1>\n",
    "<div class=\"toc\"><ul class=\"toc-item\"><li><span><a href=\"#ML-DL-Notes\" data-toc-modified-id=\"ML-DL-Notes-1\"><span class=\"toc-item-num\">1&nbsp;&nbsp;</span>ML DL Notes</a></span></li><li><span><a href=\"#-Topics-to-learn-\" data-toc-modified-id=\"-Topics-to-learn--2\"><span class=\"toc-item-num\">2&nbsp;&nbsp;</span><font color=\"red\"> Topics to learn </font></a></span><ul class=\"toc-item\"><li><span><a href=\"#-Learn-Now-(most-important)-\" data-toc-modified-id=\"-Learn-Now-(most-important)--2.1\"><span class=\"toc-item-num\">2.1&nbsp;&nbsp;</span><font color=\"green\"> Learn Now (most important) </font></a></span></li><li><span><a href=\"#-Learn-later-\" data-toc-modified-id=\"-Learn-later--2.2\"><span class=\"toc-item-num\">2.2&nbsp;&nbsp;</span><font color=\"red\"> Learn later </font></a></span></li></ul></li><li><span><a href=\"#-Probability-and-Statistics-\" data-toc-modified-id=\"-Probability-and-Statistics--3\"><span class=\"toc-item-num\">3&nbsp;&nbsp;</span><font color=\"DarkOrange\"> Probability and Statistics </font></a></span><ul class=\"toc-item\"><li><span><a href=\"#Types-of-Probability\" data-toc-modified-id=\"Types-of-Probability-3.1\"><span class=\"toc-item-num\">3.1&nbsp;&nbsp;</span>Types of Probability</a></span></li><li><span><a href=\"#Central-Limit-Theorem-(CLT)\" data-toc-modified-id=\"Central-Limit-Theorem-(CLT)-3.2\"><span class=\"toc-item-num\">3.2&nbsp;&nbsp;</span>Central Limit Theorem (CLT)</a></span></li><li><span><a href=\"#Bernoulli-Distribution\" data-toc-modified-id=\"Bernoulli-Distribution-3.3\"><span class=\"toc-item-num\">3.3&nbsp;&nbsp;</span>Bernoulli Distribution</a></span></li><li><span><a href=\"#Binomial-Theorem\" data-toc-modified-id=\"Binomial-Theorem-3.4\"><span class=\"toc-item-num\">3.4&nbsp;&nbsp;</span>Binomial Theorem</a></span></li><li><span><a href=\"#Standard-Normal-Distribution-or-Z-distribution\" data-toc-modified-id=\"Standard-Normal-Distribution-or-Z-distribution-3.5\"><span class=\"toc-item-num\">3.5&nbsp;&nbsp;</span>Standard Normal Distribution or Z-distribution</a></span><ul class=\"toc-item\"><li><ul class=\"toc-item\"><li><span><a href=\"#-$-std(x)-=-\\frac{x---\\mu}{\\sigma}-$-\" data-toc-modified-id=\"-$-std(x)-=-\\frac{x---\\mu}{\\sigma}-$--3.5.0.1\"><span class=\"toc-item-num\">3.5.0.1&nbsp;&nbsp;</span> $ std(x) = \\frac{x - \\mu}{\\sigma} $ </a></span></li></ul></li></ul></li><li><span><a href=\"#Maximum-Likelihood-Estimation-(MLE)\" data-toc-modified-id=\"Maximum-Likelihood-Estimation-(MLE)-3.6\"><span class=\"toc-item-num\">3.6&nbsp;&nbsp;</span>Maximum Likelihood Estimation (MLE)</a></span></li><li><span><a href=\"#Log-likelihood\" data-toc-modified-id=\"Log-likelihood-3.7\"><span class=\"toc-item-num\">3.7&nbsp;&nbsp;</span>Log likelihood</a></span></li><li><span><a href=\"#Bayes-Theorem\" data-toc-modified-id=\"Bayes-Theorem-3.8\"><span class=\"toc-item-num\">3.8&nbsp;&nbsp;</span>Bayes Theorem</a></span></li><li><span><a href=\"#Bayesian-Inference\" data-toc-modified-id=\"Bayesian-Inference-3.9\"><span class=\"toc-item-num\">3.9&nbsp;&nbsp;</span>Bayesian Inference</a></span></li><li><span><a href=\"#Naive-Bayes\" data-toc-modified-id=\"Naive-Bayes-3.10\"><span class=\"toc-item-num\">3.10&nbsp;&nbsp;</span>Naive Bayes</a></span></li></ul></li><li><span><a href=\"#-ML/DL-basics-introduction-\" data-toc-modified-id=\"-ML/DL-basics-introduction--4\"><span class=\"toc-item-num\">4&nbsp;&nbsp;</span><font color=\"DarkOrange\"> ML/DL basics introduction </font></a></span><ul class=\"toc-item\"><li><span><a href=\"#Perceptron\" data-toc-modified-id=\"Perceptron-4.1\"><span class=\"toc-item-num\">4.1&nbsp;&nbsp;</span>Perceptron</a></span></li><li><span><a href=\"#Parametric-Vs-Non-Parametric-algorithms\" data-toc-modified-id=\"Parametric-Vs-Non-Parametric-algorithms-4.2\"><span class=\"toc-item-num\">4.2&nbsp;&nbsp;</span>Parametric Vs Non-Parametric algorithms</a></span></li><li><span><a href=\"#Sigmoid-Neuron\" data-toc-modified-id=\"Sigmoid-Neuron-4.3\"><span class=\"toc-item-num\">4.3&nbsp;&nbsp;</span>Sigmoid Neuron</a></span></li><li><span><a href=\"#Gradient-decent\" data-toc-modified-id=\"Gradient-decent-4.4\"><span class=\"toc-item-num\">4.4&nbsp;&nbsp;</span>Gradient decent</a></span></li><li><span><a href=\"#Backpropagation\" data-toc-modified-id=\"Backpropagation-4.5\"><span class=\"toc-item-num\">4.5&nbsp;&nbsp;</span>Backpropagation</a></span></li><li><span><a href=\"#Overfitting\" data-toc-modified-id=\"Overfitting-4.6\"><span class=\"toc-item-num\">4.6&nbsp;&nbsp;</span>Overfitting</a></span><ul class=\"toc-item\"><li><span><a href=\"#How-to-avoid-overfitting\" data-toc-modified-id=\"How-to-avoid-overfitting-4.6.1\"><span class=\"toc-item-num\">4.6.1&nbsp;&nbsp;</span>How to avoid overfitting</a></span></li></ul></li><li><span><a href=\"#Vanishing-Gradients\" data-toc-modified-id=\"Vanishing-Gradients-4.7\"><span class=\"toc-item-num\">4.7&nbsp;&nbsp;</span>Vanishing Gradients</a></span><ul class=\"toc-item\"><li><span><a href=\"#How-to-avoid-vanishing-gradients\" data-toc-modified-id=\"How-to-avoid-vanishing-gradients-4.7.1\"><span class=\"toc-item-num\">4.7.1&nbsp;&nbsp;</span>How to avoid vanishing gradients</a></span></li></ul></li><li><span><a href=\"#Cross-validation\" data-toc-modified-id=\"Cross-validation-4.8\"><span class=\"toc-item-num\">4.8&nbsp;&nbsp;</span>Cross validation</a></span></li><li><span><a href=\"#Types-of-data\" data-toc-modified-id=\"Types-of-data-4.9\"><span class=\"toc-item-num\">4.9&nbsp;&nbsp;</span>Types of data</a></span></li><li><span><a href=\"#Classification-and-Regression\" data-toc-modified-id=\"Classification-and-Regression-4.10\"><span class=\"toc-item-num\">4.10&nbsp;&nbsp;</span>Classification and Regression</a></span></li></ul></li><li><span><a href=\"#-Supervised-Learning-\" data-toc-modified-id=\"-Supervised-Learning--5\"><span class=\"toc-item-num\">5&nbsp;&nbsp;</span><font color=\"DarkOrange\"> Supervised Learning </font></a></span><ul class=\"toc-item\"><li><span><a href=\"#-Parametric-and-Classification-Algorithms-\" data-toc-modified-id=\"-Parametric-and-Classification-Algorithms--5.1\"><span class=\"toc-item-num\">5.1&nbsp;&nbsp;</span><font color=\"DarkMagenta\"> Parametric and Classification Algorithms </font></a></span><ul class=\"toc-item\"><li><span><a href=\"#Support-Vector-Machine-(SVM)\" data-toc-modified-id=\"Support-Vector-Machine-(SVM)-5.1.1\"><span class=\"toc-item-num\">5.1.1&nbsp;&nbsp;</span>Support Vector Machine (SVM)</a></span></li><li><span><a href=\"#Logistic-regression\" data-toc-modified-id=\"Logistic-regression-5.1.2\"><span class=\"toc-item-num\">5.1.2&nbsp;&nbsp;</span>Logistic regression</a></span></li></ul></li><li><span><a href=\"#-Parametric-and-Regression-Algorithms-\" data-toc-modified-id=\"-Parametric-and-Regression-Algorithms--5.2\"><span class=\"toc-item-num\">5.2&nbsp;&nbsp;</span><font color=\"DarkMagenta\"> Parametric and Regression Algorithms </font></a></span><ul class=\"toc-item\"><li><span><a href=\"#Linear-regression\" data-toc-modified-id=\"Linear-regression-5.2.1\"><span class=\"toc-item-num\">5.2.1&nbsp;&nbsp;</span>Linear regression</a></span></li></ul></li><li><span><a href=\"#Non-Parametric-Algorithms\" data-toc-modified-id=\"Non-Parametric-Algorithms-5.3\"><span class=\"toc-item-num\">5.3&nbsp;&nbsp;</span>Non-Parametric Algorithms</a></span><ul class=\"toc-item\"><li><span><a href=\"#K-Nearest-Neighbor-(KNN)\" data-toc-modified-id=\"K-Nearest-Neighbor-(KNN)-5.3.1\"><span class=\"toc-item-num\">5.3.1&nbsp;&nbsp;</span>K-Nearest Neighbor (KNN)</a></span></li><li><span><a href=\"#Decision-Tree\" data-toc-modified-id=\"Decision-Tree-5.3.2\"><span class=\"toc-item-num\">5.3.2&nbsp;&nbsp;</span>Decision Tree</a></span></li><li><span><a href=\"#Random-Forest:--an-ensemble-of-decision-trees\" data-toc-modified-id=\"Random-Forest:--an-ensemble-of-decision-trees-5.3.3\"><span class=\"toc-item-num\">5.3.3&nbsp;&nbsp;</span>Random Forest:  an ensemble of decision trees</a></span></li></ul></li></ul></li><li><span><a href=\"#-Unsupervised-Learning-\" data-toc-modified-id=\"-Unsupervised-Learning--6\"><span class=\"toc-item-num\">6&nbsp;&nbsp;</span><font color=\"DarkOrange\"> Unsupervised Learning </font></a></span><ul class=\"toc-item\"><li><span><a href=\"#-Clusttering-\" data-toc-modified-id=\"-Clusttering--6.1\"><span class=\"toc-item-num\">6.1&nbsp;&nbsp;</span><font color=\"DarkMagenta\"> Clusttering </font></a></span><ul class=\"toc-item\"><li><span><a href=\"#K-means-clusttering\" data-toc-modified-id=\"K-means-clusttering-6.1.1\"><span class=\"toc-item-num\">6.1.1&nbsp;&nbsp;</span>K-means clusttering</a></span></li><li><span><a href=\"#Expectation–Maximization-(EM)-Clustering-using-Gaussian-Mixture-Models-(GMM)\" data-toc-modified-id=\"Expectation–Maximization-(EM)-Clustering-using-Gaussian-Mixture-Models-(GMM)-6.1.2\"><span class=\"toc-item-num\">6.1.2&nbsp;&nbsp;</span>Expectation–Maximization (EM) Clustering using Gaussian Mixture Models (GMM)</a></span></li><li><span><a href=\"#Hierarchical-Clusttering\" data-toc-modified-id=\"Hierarchical-Clusttering-6.1.3\"><span class=\"toc-item-num\">6.1.3&nbsp;&nbsp;</span>Hierarchical Clusttering</a></span></li></ul></li><li><span><a href=\"#-Dimensionality-Reduction-\" data-toc-modified-id=\"-Dimensionality-Reduction--6.2\"><span class=\"toc-item-num\">6.2&nbsp;&nbsp;</span><font color=\"DarkMagenta\"> Dimensionality Reduction </font></a></span><ul class=\"toc-item\"><li><span><a href=\"#Principal-Component-Analysis-(PCA)\" data-toc-modified-id=\"Principal-Component-Analysis-(PCA)-6.2.1\"><span class=\"toc-item-num\">6.2.1&nbsp;&nbsp;</span>Principal Component Analysis (PCA)</a></span></li><li><span><a href=\"#Singular-Value-Decomposition-(SVD)\" data-toc-modified-id=\"Singular-Value-Decomposition-(SVD)-6.2.2\"><span class=\"toc-item-num\">6.2.2&nbsp;&nbsp;</span>Singular Value Decomposition (SVD)</a></span></li></ul></li></ul></li><li><span><a href=\"#-Loss-Functions-\" data-toc-modified-id=\"-Loss-Functions--7\"><span class=\"toc-item-num\">7&nbsp;&nbsp;</span><font color=\"DarkOrange\"> Loss Functions </font></a></span><ul class=\"toc-item\"><li><span><a href=\"#-Classification-Loss-Functions-\" data-toc-modified-id=\"-Classification-Loss-Functions--7.1\"><span class=\"toc-item-num\">7.1&nbsp;&nbsp;</span><font color=\"DarkMagenta\"> Classification Loss Functions </font></a></span><ul class=\"toc-item\"><li><span><a href=\"#Square-loss\" data-toc-modified-id=\"Square-loss-7.1.1\"><span class=\"toc-item-num\">7.1.1&nbsp;&nbsp;</span>Square loss</a></span></li><li><span><a href=\"#Hinge-loss\" data-toc-modified-id=\"Hinge-loss-7.1.2\"><span class=\"toc-item-num\">7.1.2&nbsp;&nbsp;</span>Hinge loss</a></span></li><li><span><a href=\"#Logistic-loss\" data-toc-modified-id=\"Logistic-loss-7.1.3\"><span class=\"toc-item-num\">7.1.3&nbsp;&nbsp;</span>Logistic loss</a></span></li><li><span><a href=\"#Cross-entropy-loss\" data-toc-modified-id=\"Cross-entropy-loss-7.1.4\"><span class=\"toc-item-num\">7.1.4&nbsp;&nbsp;</span>Cross entropy loss</a></span></li></ul></li><li><span><a href=\"#-Regression-Loss-Functions-\" data-toc-modified-id=\"-Regression-Loss-Functions--7.2\"><span class=\"toc-item-num\">7.2&nbsp;&nbsp;</span><font color=\"DarkMagenta\"> Regression Loss Functions </font></a></span><ul class=\"toc-item\"><li><span><a href=\"#L2-Loss,-Mean-Square-Error-(MSE),-Quadratic-loss\" data-toc-modified-id=\"L2-Loss,-Mean-Square-Error-(MSE),-Quadratic-loss-7.2.1\"><span class=\"toc-item-num\">7.2.1&nbsp;&nbsp;</span>L2 Loss, Mean Square Error (MSE), Quadratic loss</a></span><ul class=\"toc-item\"><li><span><a href=\"#-$-MSE-=-\\sum\\limits_{i=1}^n--{(y_i---y_i^p)}^2-$-\" data-toc-modified-id=\"-$-MSE-=-\\sum\\limits_{i=1}^n--{(y_i---y_i^p)}^2-$--7.2.1.1\"><span class=\"toc-item-num\">7.2.1.1&nbsp;&nbsp;</span> $ MSE = \\sum\\limits_{i=1}^n  {(y_i - y_i^p)}^2 $ </a></span></li><li><span><a href=\"#-$-PSNR-=-10-log-\\frac{L^2}{MSE}-$-\" data-toc-modified-id=\"-$-PSNR-=-10-log-\\frac{L^2}{MSE}-$--7.2.1.2\"><span class=\"toc-item-num\">7.2.1.2&nbsp;&nbsp;</span> $ PSNR = 10 log \\frac{L^2}{MSE} $ </a></span></li></ul></li><li><span><a href=\"#L1-Loss,-Mean-Absolute-Error-(MAE)\" data-toc-modified-id=\"L1-Loss,-Mean-Absolute-Error-(MAE)-7.2.2\"><span class=\"toc-item-num\">7.2.2&nbsp;&nbsp;</span>L1 Loss, Mean Absolute Error (MAE)</a></span><ul class=\"toc-item\"><li><span><a href=\"#-$-MAE-=-\\sum\\limits_{i=1}^n--{|y_i---y_i^p|}-$-\" data-toc-modified-id=\"-$-MAE-=-\\sum\\limits_{i=1}^n--{|y_i---y_i^p|}-$--7.2.2.1\"><span class=\"toc-item-num\">7.2.2.1&nbsp;&nbsp;</span> $ MAE = \\sum\\limits_{i=1}^n  {|y_i - y_i^p|} $ </a></span></li></ul></li><li><span><a href=\"#L1-vs-L2-Loss\" data-toc-modified-id=\"L1-vs-L2-Loss-7.2.3\"><span class=\"toc-item-num\">7.2.3&nbsp;&nbsp;</span>L1 vs L2 Loss</a></span></li><li><span><a href=\"#Huber-Loss,-Smooth-Mean-Absolute-Error\" data-toc-modified-id=\"Huber-Loss,-Smooth-Mean-Absolute-Error-7.2.4\"><span class=\"toc-item-num\">7.2.4&nbsp;&nbsp;</span>Huber Loss, Smooth Mean Absolute Error</a></span></li><li><span><a href=\"#Log-CosH-Loss\" data-toc-modified-id=\"Log-CosH-Loss-7.2.5\"><span class=\"toc-item-num\">7.2.5&nbsp;&nbsp;</span>Log-CosH Loss</a></span></li><li><span><a href=\"#Quantile-Loss\" data-toc-modified-id=\"Quantile-Loss-7.2.6\"><span class=\"toc-item-num\">7.2.6&nbsp;&nbsp;</span>Quantile Loss</a></span></li></ul></li><li><span><a href=\"#SSIM,-MS-SSIM-loss-functions\" data-toc-modified-id=\"SSIM,-MS-SSIM-loss-functions-7.3\"><span class=\"toc-item-num\">7.3&nbsp;&nbsp;</span>SSIM, MS-SSIM loss functions</a></span><ul class=\"toc-item\"><li><span><a href=\"#-$-mean:-\\mu_I-=-\\frac{1}{N}-\\sum\\limits_{i=1}^N--{I(i)}-$-\" data-toc-modified-id=\"-$-mean:-\\mu_I-=-\\frac{1}{N}-\\sum\\limits_{i=1}^N--{I(i)}-$--7.3.1\"><span class=\"toc-item-num\">7.3.1&nbsp;&nbsp;</span> $ mean: \\mu_I = \\frac{1}{N} \\sum\\limits_{i=1}^N  {I(i)} $ </a></span></li><li><span><a href=\"#-$-contrast:-\\sigma_I-=-\\sqrt{\\frac{1}{N-1}-\\sum\\limits_{i=1}^N--({I(i)---\\mu_I})^2}-$-\" data-toc-modified-id=\"-$-contrast:-\\sigma_I-=-\\sqrt{\\frac{1}{N-1}-\\sum\\limits_{i=1}^N--({I(i)---\\mu_I})^2}-$--7.3.2\"><span class=\"toc-item-num\">7.3.2&nbsp;&nbsp;</span> $ contrast: \\sigma_I = \\sqrt{\\frac{1}{N-1} \\sum\\limits_{i=1}^N  ({I(i) - \\mu_I})^2} $ </a></span></li></ul></li><li><span><a href=\"#Combination-of-loss-functions-for-perceptual-quality\" data-toc-modified-id=\"Combination-of-loss-functions-for-perceptual-quality-7.4\"><span class=\"toc-item-num\">7.4&nbsp;&nbsp;</span>Combination of loss functions for perceptual quality</a></span></li><li><span><a href=\"#Texture-loss\" data-toc-modified-id=\"Texture-loss-7.5\"><span class=\"toc-item-num\">7.5&nbsp;&nbsp;</span>Texture loss</a></span></li><li><span><a href=\"#Total-Variation-Loss\" data-toc-modified-id=\"Total-Variation-Loss-7.6\"><span class=\"toc-item-num\">7.6&nbsp;&nbsp;</span>Total Variation Loss</a></span></li><li><span><a href=\"#Prior-based-loss\" data-toc-modified-id=\"Prior-based-loss-7.7\"><span class=\"toc-item-num\">7.7&nbsp;&nbsp;</span>Prior based loss</a></span></li><li><span><a href=\"#Triplet-loss-(ex:-face-recognition)\" data-toc-modified-id=\"Triplet-loss-(ex:-face-recognition)-7.8\"><span class=\"toc-item-num\">7.8&nbsp;&nbsp;</span>Triplet loss (ex: face recognition)</a></span></li></ul></li><li><span><a href=\"#-Regularization-Algorithms-\" data-toc-modified-id=\"-Regularization-Algorithms--8\"><span class=\"toc-item-num\">8&nbsp;&nbsp;</span><font color=\"DarkOrange\"> Regularization Algorithms </font></a></span><ul class=\"toc-item\"><li><span><a href=\"#L1-(Lasso)-and-L2-(Ridge)-as-Reguralization\" data-toc-modified-id=\"L1-(Lasso)-and-L2-(Ridge)-as-Reguralization-8.1\"><span class=\"toc-item-num\">8.1&nbsp;&nbsp;</span>L1 (Lasso) and L2 (Ridge) as Reguralization</a></span></li><li><span><a href=\"#L2-or-Frobenius-Regularization-or-Weight-decay\" data-toc-modified-id=\"L2-or-Frobenius-Regularization-or-Weight-decay-8.2\"><span class=\"toc-item-num\">8.2&nbsp;&nbsp;</span>L2 or Frobenius Regularization or Weight decay</a></span><ul class=\"toc-item\"><li><span><a href=\"#-$-Loss-(E)-=-\\frac{1}{m}\\sum\\limits_{i=1}^n--{(y_i---y_i^p)}^2-+-\\frac{\\lambda}{2m}-\\sum\\limits_{l=1}^L-{||W_l||^2}-$-\" data-toc-modified-id=\"-$-Loss-(E)-=-\\frac{1}{m}\\sum\\limits_{i=1}^n--{(y_i---y_i^p)}^2-+-\\frac{\\lambda}{2m}-\\sum\\limits_{l=1}^L-{||W_l||^2}-$--8.2.1\"><span class=\"toc-item-num\">8.2.1&nbsp;&nbsp;</span> $ Loss (E) = \\frac{1}{m}\\sum\\limits_{i=1}^n  {(y_i - y_i^p)}^2 + \\frac{\\lambda}{2m} \\sum\\limits_{l=1}^L {||W_l||^2} $ </a></span></li><li><span><a href=\"#-$-dW-=-dNormal-+-\\frac-{\\lambda}{m}-W_l-$-\" data-toc-modified-id=\"-$-dW-=-dNormal-+-\\frac-{\\lambda}{m}-W_l-$--8.2.2\"><span class=\"toc-item-num\">8.2.2&nbsp;&nbsp;</span> $ dW = dNormal + \\frac {\\lambda}{m} W_l $ </a></span></li><li><span><a href=\"#-$-W_l-=-W_l---\\sigma-dW-$-\" data-toc-modified-id=\"-$-W_l-=-W_l---\\sigma-dW-$--8.2.3\"><span class=\"toc-item-num\">8.2.3&nbsp;&nbsp;</span> $ W_l = W_l - \\sigma dW $ </a></span></li><li><span><a href=\"#-$-(1---\\frac{\\sigma-\\lambda}-{m})-W_l---\\sigma-dNormal-$-\" data-toc-modified-id=\"-$-(1---\\frac{\\sigma-\\lambda}-{m})-W_l---\\sigma-dNormal-$--8.2.4\"><span class=\"toc-item-num\">8.2.4&nbsp;&nbsp;</span> $ (1 - \\frac{\\sigma \\lambda} {m}) W_l - \\sigma dNormal $ </a></span></li></ul></li><li><span><a href=\"#Drop-out\" data-toc-modified-id=\"Drop-out-8.3\"><span class=\"toc-item-num\">8.3&nbsp;&nbsp;</span>Drop-out</a></span></li><li><span><a href=\"#Early-Stopping\" data-toc-modified-id=\"Early-Stopping-8.4\"><span class=\"toc-item-num\">8.4&nbsp;&nbsp;</span>Early Stopping</a></span></li><li><span><a href=\"#Data-Augmentation-to-avoid-overfitting\" data-toc-modified-id=\"Data-Augmentation-to-avoid-overfitting-8.5\"><span class=\"toc-item-num\">8.5&nbsp;&nbsp;</span>Data Augmentation to avoid overfitting</a></span></li></ul></li><li><span><a href=\"#-CNN-Layer-Theory-\" data-toc-modified-id=\"-CNN-Layer-Theory--9\"><span class=\"toc-item-num\">9&nbsp;&nbsp;</span><font color=\"DarkOrange\"> CNN Layer Theory </font></a></span><ul class=\"toc-item\"><li><span><a href=\"#Rectified-Linear-Unit-(ReLU)\" data-toc-modified-id=\"Rectified-Linear-Unit-(ReLU)-9.1\"><span class=\"toc-item-num\">9.1&nbsp;&nbsp;</span>Rectified Linear Unit (ReLU)</a></span></li><li><span><a href=\"#Softmax-regression-for-multi-class-classification\" data-toc-modified-id=\"Softmax-regression-for-multi-class-classification-9.2\"><span class=\"toc-item-num\">9.2&nbsp;&nbsp;</span>Softmax regression for multi-class classification</a></span><ul class=\"toc-item\"><li><span><a href=\"#-$-Softmax_{prob}-=-\\frac-{e^Z}{\\sum{e^Z}}-$-\" data-toc-modified-id=\"-$-Softmax_{prob}-=-\\frac-{e^Z}{\\sum{e^Z}}-$--9.2.1\"><span class=\"toc-item-num\">9.2.1&nbsp;&nbsp;</span> $ Softmax_{prob} = \\frac {e^Z}{\\sum{e^Z}} $ </a></span></li></ul></li></ul></li><li><span><a href=\"#-Data-Pre-Processing-or-Feature-Scaling-\" data-toc-modified-id=\"-Data-Pre-Processing-or-Feature-Scaling--10\"><span class=\"toc-item-num\">10&nbsp;&nbsp;</span><font color=\"DarkOrange\"> Data Pre-Processing or Feature Scaling </font></a></span><ul class=\"toc-item\"><li><span><a href=\"#Standard-deviation\" data-toc-modified-id=\"Standard-deviation-10.1\"><span class=\"toc-item-num\">10.1&nbsp;&nbsp;</span>Standard deviation</a></span></li><li><span><a href=\"#Mean-Normalization\" data-toc-modified-id=\"Mean-Normalization-10.2\"><span class=\"toc-item-num\">10.2&nbsp;&nbsp;</span>Mean Normalization</a></span></li><li><span><a href=\"#Normalization-and-Standardization\" data-toc-modified-id=\"Normalization-and-Standardization-10.3\"><span class=\"toc-item-num\">10.3&nbsp;&nbsp;</span>Normalization and Standardization</a></span><ul class=\"toc-item\"><li><ul class=\"toc-item\"><li><span><a href=\"#-$-norm(x)-=-\\frac{x---min(x)}{max(x)---min(x)}-$-\" data-toc-modified-id=\"-$-norm(x)-=-\\frac{x---min(x)}{max(x)---min(x)}-$--10.3.0.1\"><span class=\"toc-item-num\">10.3.0.1&nbsp;&nbsp;</span> $ norm(x) = \\frac{x - min(x)}{max(x) - min(x)} $ </a></span></li><li><span><a href=\"#-$-std(x)-=-\\frac{x---\\mu}{\\sigma}-$-\" data-toc-modified-id=\"-$-std(x)-=-\\frac{x---\\mu}{\\sigma}-$--10.3.0.2\"><span class=\"toc-item-num\">10.3.0.2&nbsp;&nbsp;</span> $ std(x) = \\frac{x - \\mu}{\\sigma} $ </a></span></li></ul></li></ul></li><li><span><a href=\"#Covariance-and-Correlation\" data-toc-modified-id=\"Covariance-and-Correlation-10.4\"><span class=\"toc-item-num\">10.4&nbsp;&nbsp;</span>Covariance and Correlation</a></span></li><li><span><a href=\"#Whitening\" data-toc-modified-id=\"Whitening-10.5\"><span class=\"toc-item-num\">10.5&nbsp;&nbsp;</span>Whitening</a></span></li><li><span><a href=\"#Batch-Normalization\" data-toc-modified-id=\"Batch-Normalization-10.6\"><span class=\"toc-item-num\">10.6&nbsp;&nbsp;</span>Batch Normalization</a></span><ul class=\"toc-item\"><li><ul class=\"toc-item\"><li><span><a href=\"#-$-Z_{norm}-=-\\frac{Z---\\mu}{\\sqrt{\\sigma^2+\\epsilon}}-$-\" data-toc-modified-id=\"-$-Z_{norm}-=-\\frac{Z---\\mu}{\\sqrt{\\sigma^2+\\epsilon}}-$--10.6.0.1\"><span class=\"toc-item-num\">10.6.0.1&nbsp;&nbsp;</span> $ Z_{norm} = \\frac{Z - \\mu}{\\sqrt{\\sigma^2+\\epsilon}} $ </a></span></li><li><span><a href=\"#-$-Z_{N}-=-\\gamma-*-Z_{norm}-+-\\beta-$-\" data-toc-modified-id=\"-$-Z_{N}-=-\\gamma-*-Z_{norm}-+-\\beta-$--10.6.0.2\"><span class=\"toc-item-num\">10.6.0.2&nbsp;&nbsp;</span> $ Z_{N} = \\gamma * Z_{norm} + \\beta $ </a></span></li></ul></li></ul></li></ul></li><li><span><a href=\"#-Back-Propagation-\" data-toc-modified-id=\"-Back-Propagation--11\"><span class=\"toc-item-num\">11&nbsp;&nbsp;</span><font color=\"DarkOrange\"> Back Propagation </font></a></span></li><li><span><a href=\"#-Gradient-Descent-\" data-toc-modified-id=\"-Gradient-Descent--12\"><span class=\"toc-item-num\">12&nbsp;&nbsp;</span><font color=\"DarkOrange\"> Gradient Descent </font></a></span></li><li><span><a href=\"#-Deep-Learning-Training-\" data-toc-modified-id=\"-Deep-Learning-Training--13\"><span class=\"toc-item-num\">13&nbsp;&nbsp;</span><font color=\"DarkOrange\"> Deep Learning Training </font></a></span><ul class=\"toc-item\"><li><span><a href=\"#-Bias-Variance-Trade-Off-\" data-toc-modified-id=\"-Bias-Variance-Trade-Off--13.1\"><span class=\"toc-item-num\">13.1&nbsp;&nbsp;</span><font color=\"DarkMagenta\"> Bias Variance Trade-Off </font></a></span></li><li><span><a href=\"#Weight-Initialization\" data-toc-modified-id=\"Weight-Initialization-13.2\"><span class=\"toc-item-num\">13.2&nbsp;&nbsp;</span>Weight Initialization</a></span><ul class=\"toc-item\"><li><span><a href=\"#He-initialization\" data-toc-modified-id=\"He-initialization-13.2.1\"><span class=\"toc-item-num\">13.2.1&nbsp;&nbsp;</span>He initialization</a></span></li></ul></li><li><span><a href=\"#Gradient-checking\" data-toc-modified-id=\"Gradient-checking-13.3\"><span class=\"toc-item-num\">13.3&nbsp;&nbsp;</span>Gradient checking</a></span></li><li><span><a href=\"#Gradient-Clipping\" data-toc-modified-id=\"Gradient-Clipping-13.4\"><span class=\"toc-item-num\">13.4&nbsp;&nbsp;</span>Gradient Clipping</a></span></li></ul></li><li><span><a href=\"#-Hyper-Parameter-Tuning-\" data-toc-modified-id=\"-Hyper-Parameter-Tuning--14\"><span class=\"toc-item-num\">14&nbsp;&nbsp;</span><font color=\"DarkOrange\"> Hyper Parameter Tuning </font></a></span><ul class=\"toc-item\"><li><span><a href=\"#Mini-Batch-Gradient-Descent\" data-toc-modified-id=\"Mini-Batch-Gradient-Descent-14.1\"><span class=\"toc-item-num\">14.1&nbsp;&nbsp;</span>Mini-Batch Gradient Descent</a></span></li><li><span><a href=\"#Exponentially-Weighted-Moving-Average\" data-toc-modified-id=\"Exponentially-Weighted-Moving-Average-14.2\"><span class=\"toc-item-num\">14.2&nbsp;&nbsp;</span>Exponentially Weighted Moving Average</a></span><ul class=\"toc-item\"><li><span><a href=\"#-$-Val_t-=-\\beta-*-Val_{t-1}-+-(1-\\beta)-*-currentsample-$-\" data-toc-modified-id=\"-$-Val_t-=-\\beta-*-Val_{t-1}-+-(1-\\beta)-*-currentsample-$--14.2.1\"><span class=\"toc-item-num\">14.2.1&nbsp;&nbsp;</span> $ Val_t = \\beta * Val_{t-1} + (1-\\beta) * currentsample $ </a></span></li><li><span><a href=\"#Bias-correction-in-exponential-weighted-average\" data-toc-modified-id=\"Bias-correction-in-exponential-weighted-average-14.2.2\"><span class=\"toc-item-num\">14.2.2&nbsp;&nbsp;</span>Bias correction in exponential weighted average</a></span></li></ul></li><li><span><a href=\"#Gradient-descent-with-momentum\" data-toc-modified-id=\"Gradient-descent-with-momentum-14.3\"><span class=\"toc-item-num\">14.3&nbsp;&nbsp;</span>Gradient descent with momentum</a></span><ul class=\"toc-item\"><li><span><a href=\"#-$-V_{dw}-=-\\beta-*-V_{dw}-+-(1-\\beta)-*-dw-$-\" data-toc-modified-id=\"-$-V_{dw}-=-\\beta-*-V_{dw}-+-(1-\\beta)-*-dw-$--14.3.1\"><span class=\"toc-item-num\">14.3.1&nbsp;&nbsp;</span> $ V_{dw} = \\beta * V_{dw} + (1-\\beta) * dw $ </a></span></li><li><span><a href=\"#-$-W-=-W---\\alpha-*-V_{dw}-$-\" data-toc-modified-id=\"-$-W-=-W---\\alpha-*-V_{dw}-$--14.3.2\"><span class=\"toc-item-num\">14.3.2&nbsp;&nbsp;</span> $ W = W - \\alpha * V_{dw} $ </a></span></li></ul></li><li><span><a href=\"#RMSprop-(Root-Mean-Square-prop)\" data-toc-modified-id=\"RMSprop-(Root-Mean-Square-prop)-14.4\"><span class=\"toc-item-num\">14.4&nbsp;&nbsp;</span>RMSprop (Root Mean Square prop)</a></span><ul class=\"toc-item\"><li><span><a href=\"#-$-S_{dw}-=-\\beta-*-S_{dw}-+-(1-\\beta)-*-dw-*-dw-$-\" data-toc-modified-id=\"-$-S_{dw}-=-\\beta-*-S_{dw}-+-(1-\\beta)-*-dw-*-dw-$--14.4.1\"><span class=\"toc-item-num\">14.4.1&nbsp;&nbsp;</span> $ S_{dw} = \\beta * S_{dw} + (1-\\beta) * dw * dw $ </a></span></li><li><span><a href=\"#-$-W-=-W---\\alpha-*-\\frac-{dw}{\\sqrt{1--S_{dw}}}-$-\" data-toc-modified-id=\"-$-W-=-W---\\alpha-*-\\frac-{dw}{\\sqrt{1--S_{dw}}}-$--14.4.2\"><span class=\"toc-item-num\">14.4.2&nbsp;&nbsp;</span> $ W = W - \\alpha * \\frac {dw}{\\sqrt{1- S_{dw}}} $ </a></span></li></ul></li><li><span><a href=\"#Adam-Optimizer\" data-toc-modified-id=\"Adam-Optimizer-14.5\"><span class=\"toc-item-num\">14.5&nbsp;&nbsp;</span>Adam Optimizer</a></span><ul class=\"toc-item\"><li><span><a href=\"#-$-V_{dw}-=-\\beta_1-*-V_{dw}-+-(1-\\beta_1)-*-dw-$-\" data-toc-modified-id=\"-$-V_{dw}-=-\\beta_1-*-V_{dw}-+-(1-\\beta_1)-*-dw-$--14.5.1\"><span class=\"toc-item-num\">14.5.1&nbsp;&nbsp;</span> $ V_{dw} = \\beta_1 * V_{dw} + (1-\\beta_1) * dw $ </a></span></li><li><span><a href=\"#-$-S_{dw}-=-\\beta_2-*-S_{dw}-+-(1-\\beta_2)-*-dw-*-dw-$-\" data-toc-modified-id=\"-$-S_{dw}-=-\\beta_2-*-S_{dw}-+-(1-\\beta_2)-*-dw-*-dw-$--14.5.2\"><span class=\"toc-item-num\">14.5.2&nbsp;&nbsp;</span> $ S_{dw} = \\beta_2 * S_{dw} + (1-\\beta_2) * dw * dw $ </a></span></li><li><span><a href=\"#-$-W-=-W---\\alpha-*-\\frac-{V_{dw}}{\\sqrt{1--S_{dw}}}-$-\" data-toc-modified-id=\"-$-W-=-W---\\alpha-*-\\frac-{V_{dw}}{\\sqrt{1--S_{dw}}}-$--14.5.3\"><span class=\"toc-item-num\">14.5.3&nbsp;&nbsp;</span> $ W = W - \\alpha * \\frac {V_{dw}}{\\sqrt{1- S_{dw}}} $ </a></span></li></ul></li><li><span><a href=\"#Learning-rate-decay\" data-toc-modified-id=\"Learning-rate-decay-14.6\"><span class=\"toc-item-num\">14.6&nbsp;&nbsp;</span>Learning rate decay</a></span></li><li><span><a href=\"#Cyclical-learning-rate\" data-toc-modified-id=\"Cyclical-learning-rate-14.7\"><span class=\"toc-item-num\">14.7&nbsp;&nbsp;</span>Cyclical learning rate</a></span></li><li><span><a href=\"##layers-and-#hidden-units-hyper-parameters\" data-toc-modified-id=\"#layers-and-#hidden-units-hyper-parameters-14.8\"><span class=\"toc-item-num\">14.8&nbsp;&nbsp;</span>#layers and #hidden units hyper parameters</a></span></li><li><span><a href=\"#Train-dev-set-for-different-distribution-of-train,-dev-sets\" data-toc-modified-id=\"Train-dev-set-for-different-distribution-of-train,-dev-sets-14.9\"><span class=\"toc-item-num\">14.9&nbsp;&nbsp;</span>Train-dev set for different distribution of train, dev sets</a></span></li></ul></li><li><span><a href=\"#-Hyper-Parameter-Search-\" data-toc-modified-id=\"-Hyper-Parameter-Search--15\"><span class=\"toc-item-num\">15&nbsp;&nbsp;</span><font color=\"DarkOrange\"> Hyper Parameter Search </font></a></span><ul class=\"toc-item\"><li><span><a href=\"#Grid-Search\" data-toc-modified-id=\"Grid-Search-15.1\"><span class=\"toc-item-num\">15.1&nbsp;&nbsp;</span>Grid Search</a></span></li><li><span><a href=\"#Random-Search-for-hyper-parameter-tuning\" data-toc-modified-id=\"Random-Search-for-hyper-parameter-tuning-15.2\"><span class=\"toc-item-num\">15.2&nbsp;&nbsp;</span>Random Search for hyper parameter tuning</a></span></li><li><span><a href=\"#Coarse-to-fine-sampling-of-hyper-param-search-space\" data-toc-modified-id=\"Coarse-to-fine-sampling-of-hyper-param-search-space-15.3\"><span class=\"toc-item-num\">15.3&nbsp;&nbsp;</span>Coarse to fine sampling of hyper param search space</a></span></li><li><span><a href=\"#Bayesian-Search\" data-toc-modified-id=\"Bayesian-Search-15.4\"><span class=\"toc-item-num\">15.4&nbsp;&nbsp;</span>Bayesian Search</a></span><ul class=\"toc-item\"><li><span><a href=\"#Sequential-Model-Based-Optimization-(SMBO)\" data-toc-modified-id=\"Sequential-Model-Based-Optimization-(SMBO)-15.4.1\"><span class=\"toc-item-num\">15.4.1&nbsp;&nbsp;</span>Sequential Model Based Optimization (SMBO)</a></span></li><li><span><a href=\"#Gaussian-Process\" data-toc-modified-id=\"Gaussian-Process-15.4.2\"><span class=\"toc-item-num\">15.4.2&nbsp;&nbsp;</span>Gaussian Process</a></span></li><li><span><a href=\"#Tree-Parzen-Estimators-(TPE)\" data-toc-modified-id=\"Tree-Parzen-Estimators-(TPE)-15.4.3\"><span class=\"toc-item-num\">15.4.3&nbsp;&nbsp;</span>Tree Parzen Estimators (TPE)</a></span></li><li><span><a href=\"#Bayesian-Search-Implementation\" data-toc-modified-id=\"Bayesian-Search-Implementation-15.4.4\"><span class=\"toc-item-num\">15.4.4&nbsp;&nbsp;</span>Bayesian Search Implementation</a></span></li></ul></li></ul></li><li><span><a href=\"#-Ensemble-Algorithms-\" data-toc-modified-id=\"-Ensemble-Algorithms--16\"><span class=\"toc-item-num\">16&nbsp;&nbsp;</span><font color=\"DarkOrange\"> Ensemble Algorithms </font></a></span><ul class=\"toc-item\"><li><span><a href=\"#Voting\" data-toc-modified-id=\"Voting-16.1\"><span class=\"toc-item-num\">16.1&nbsp;&nbsp;</span>Voting</a></span></li><li><span><a href=\"#Bagging-or-Bootstrap-Aggregation\" data-toc-modified-id=\"Bagging-or-Bootstrap-Aggregation-16.2\"><span class=\"toc-item-num\">16.2&nbsp;&nbsp;</span>Bagging or Bootstrap Aggregation</a></span></li><li><span><a href=\"#Random-Forests\" data-toc-modified-id=\"Random-Forests-16.3\"><span class=\"toc-item-num\">16.3&nbsp;&nbsp;</span>Random Forests</a></span></li><li><span><a href=\"#AdaBoost\" data-toc-modified-id=\"AdaBoost-16.4\"><span class=\"toc-item-num\">16.4&nbsp;&nbsp;</span>AdaBoost</a></span></li><li><span><a href=\"#Gradient-Boosting\" data-toc-modified-id=\"Gradient-Boosting-16.5\"><span class=\"toc-item-num\">16.5&nbsp;&nbsp;</span>Gradient Boosting</a></span></li><li><span><a href=\"#XGBoost\" data-toc-modified-id=\"XGBoost-16.6\"><span class=\"toc-item-num\">16.6&nbsp;&nbsp;</span>XGBoost</a></span></li></ul></li><li><span><a href=\"#-Recurrent-Neural-Networks-(RNN)-\" data-toc-modified-id=\"-Recurrent-Neural-Networks-(RNN)--17\"><span class=\"toc-item-num\">17&nbsp;&nbsp;</span><font color=\"DarkOrange\"> Recurrent Neural Networks (RNN) </font></a></span><ul class=\"toc-item\"><li><span><a href=\"#Why-RNNs?\" data-toc-modified-id=\"Why-RNNs?-17.1\"><span class=\"toc-item-num\">17.1&nbsp;&nbsp;</span>Why RNNs?</a></span></li><li><span><a href=\"#Simple-RNN\" data-toc-modified-id=\"Simple-RNN-17.2\"><span class=\"toc-item-num\">17.2&nbsp;&nbsp;</span>Simple RNN</a></span><ul class=\"toc-item\"><li><span><a href=\"#Simple-RNN-equations\" data-toc-modified-id=\"Simple-RNN-equations-17.2.1\"><span class=\"toc-item-num\">17.2.1&nbsp;&nbsp;</span>Simple RNN equations</a></span></li><li><span><a href=\"#Simplified-RNN-equations-notation\" data-toc-modified-id=\"Simplified-RNN-equations-notation-17.2.2\"><span class=\"toc-item-num\">17.2.2&nbsp;&nbsp;</span>Simplified RNN equations notation</a></span></li><li><span><a href=\"#Simple-RNN-representation\" data-toc-modified-id=\"Simple-RNN-representation-17.2.3\"><span class=\"toc-item-num\">17.2.3&nbsp;&nbsp;</span>Simple RNN representation</a></span></li></ul></li><li><span><a href=\"#BPTT-(Back-Prop-Through-Time)\" data-toc-modified-id=\"BPTT-(Back-Prop-Through-Time)-17.3\"><span class=\"toc-item-num\">17.3&nbsp;&nbsp;</span>BPTT (Back Prop Through Time)</a></span></li><li><span><a href=\"#Name-Entity-Recognition-(NER)\" data-toc-modified-id=\"Name-Entity-Recognition-(NER)-17.4\"><span class=\"toc-item-num\">17.4&nbsp;&nbsp;</span>Name Entity Recognition (NER)</a></span></li><li><span><a href=\"#Language-Modelling\" data-toc-modified-id=\"Language-Modelling-17.5\"><span class=\"toc-item-num\">17.5&nbsp;&nbsp;</span>Language Modelling</a></span><ul class=\"toc-item\"><li><span><a href=\"#Tokenization\" data-toc-modified-id=\"Tokenization-17.5.1\"><span class=\"toc-item-num\">17.5.1&nbsp;&nbsp;</span>Tokenization</a></span></li><li><span><a href=\"#Word-vs-Character-RNN\" data-toc-modified-id=\"Word-vs-Character-RNN-17.5.2\"><span class=\"toc-item-num\">17.5.2&nbsp;&nbsp;</span>Word vs Character RNN</a></span></li></ul></li><li><span><a href=\"#GRU-(Gated-Recurrent-Unit)\" data-toc-modified-id=\"GRU-(Gated-Recurrent-Unit)-17.6\"><span class=\"toc-item-num\">17.6&nbsp;&nbsp;</span>GRU (Gated Recurrent Unit)</a></span></li><li><span><a href=\"#LSTM-(Long-Short-Term-Memory)\" data-toc-modified-id=\"LSTM-(Long-Short-Term-Memory)-17.7\"><span class=\"toc-item-num\">17.7&nbsp;&nbsp;</span>LSTM (Long Short Term Memory)</a></span><ul class=\"toc-item\"><li><span><a href=\"#Peephole-connection\" data-toc-modified-id=\"Peephole-connection-17.7.1\"><span class=\"toc-item-num\">17.7.1&nbsp;&nbsp;</span>Peephole connection</a></span></li></ul></li><li><span><a href=\"#BRNN-(Bi-directional-RNN)\" data-toc-modified-id=\"BRNN-(Bi-directional-RNN)-17.8\"><span class=\"toc-item-num\">17.8&nbsp;&nbsp;</span>BRNN (Bi-directional RNN)</a></span></li><li><span><a href=\"#Deep-RNN\" data-toc-modified-id=\"Deep-RNN-17.9\"><span class=\"toc-item-num\">17.9&nbsp;&nbsp;</span>Deep RNN</a></span></li></ul></li><li><span><a href=\"#-Word-Embedding-\" data-toc-modified-id=\"-Word-Embedding--18\"><span class=\"toc-item-num\">18&nbsp;&nbsp;</span><font color=\"DarkOrange\"> Word Embedding </font></a></span><ul class=\"toc-item\"><li><span><a href=\"#Featurized-representation\" data-toc-modified-id=\"Featurized-representation-18.1\"><span class=\"toc-item-num\">18.1&nbsp;&nbsp;</span>Featurized representation</a></span></li><li><span><a href=\"#Cosine-Similarity\" data-toc-modified-id=\"Cosine-Similarity-18.2\"><span class=\"toc-item-num\">18.2&nbsp;&nbsp;</span>Cosine Similarity</a></span></li><li><span><a href=\"#Word2Vec\" data-toc-modified-id=\"Word2Vec-18.3\"><span class=\"toc-item-num\">18.3&nbsp;&nbsp;</span>Word2Vec</a></span><ul class=\"toc-item\"><li><span><a href=\"#Skip-gram\" data-toc-modified-id=\"Skip-gram-18.3.1\"><span class=\"toc-item-num\">18.3.1&nbsp;&nbsp;</span>Skip gram</a></span></li></ul></li><li><span><a href=\"#Negative-Sampling\" data-toc-modified-id=\"Negative-Sampling-18.4\"><span class=\"toc-item-num\">18.4&nbsp;&nbsp;</span>Negative Sampling</a></span></li></ul></li><li><span><a href=\"#-Sequence-Models-\" data-toc-modified-id=\"-Sequence-Models--19\"><span class=\"toc-item-num\">19&nbsp;&nbsp;</span><font color=\"DarkOrange\"> Sequence Models </font></a></span><ul class=\"toc-item\"><li><span><a href=\"#Beam-Search\" data-toc-modified-id=\"Beam-Search-19.1\"><span class=\"toc-item-num\">19.1&nbsp;&nbsp;</span>Beam Search</a></span></li></ul></li><li><span><a href=\"#-VAE-(Variational-Auto-Encoders)-\" data-toc-modified-id=\"-VAE-(Variational-Auto-Encoders)--20\"><span class=\"toc-item-num\">20&nbsp;&nbsp;</span><font color=\"DarkOrange\"> VAE (Variational Auto Encoders) </font></a></span><ul class=\"toc-item\"><li><span><a href=\"#Auto-Encoder\" data-toc-modified-id=\"Auto-Encoder-20.1\"><span class=\"toc-item-num\">20.1&nbsp;&nbsp;</span>Auto Encoder</a></span></li><li><span><a href=\"#VAE\" data-toc-modified-id=\"VAE-20.2\"><span class=\"toc-item-num\">20.2&nbsp;&nbsp;</span>VAE</a></span><ul class=\"toc-item\"><li><span><a href=\"#KL-divergence-loss\" data-toc-modified-id=\"KL-divergence-loss-20.2.1\"><span class=\"toc-item-num\">20.2.1&nbsp;&nbsp;</span>KL divergence loss</a></span></li></ul></li></ul></li><li><span><a href=\"#-Reinforcement-Learning-\" data-toc-modified-id=\"-Reinforcement-Learning--21\"><span class=\"toc-item-num\">21&nbsp;&nbsp;</span><font color=\"DarkOrange\"> Reinforcement Learning </font></a></span></li><li><span><a href=\"#-SOTA-CNN-Networks/Concepts-\" data-toc-modified-id=\"-SOTA-CNN-Networks/Concepts--22\"><span class=\"toc-item-num\">22&nbsp;&nbsp;</span><font color=\"DarkOrange\"> SOTA CNN Networks/Concepts </font></a></span><ul class=\"toc-item\"><li><span><a href=\"#Classification-Networks\" data-toc-modified-id=\"Classification-Networks-22.1\"><span class=\"toc-item-num\">22.1&nbsp;&nbsp;</span>Classification Networks</a></span><ul class=\"toc-item\"><li><span><a href=\"#-DenseNet-\" data-toc-modified-id=\"-DenseNet--22.1.1\"><span class=\"toc-item-num\">22.1.1&nbsp;&nbsp;</span><font color=\"DarkMagenta\"> DenseNet </font></a></span></li><li><span><a href=\"#Inception\" data-toc-modified-id=\"Inception-22.1.2\"><span class=\"toc-item-num\">22.1.2&nbsp;&nbsp;</span>Inception</a></span></li><li><span><a href=\"#ResNet\" data-toc-modified-id=\"ResNet-22.1.3\"><span class=\"toc-item-num\">22.1.3&nbsp;&nbsp;</span>ResNet</a></span></li><li><span><a href=\"#ResNext\" data-toc-modified-id=\"ResNext-22.1.4\"><span class=\"toc-item-num\">22.1.4&nbsp;&nbsp;</span>ResNext</a></span></li><li><span><a href=\"#Highway-Net\" data-toc-modified-id=\"Highway-Net-22.1.5\"><span class=\"toc-item-num\">22.1.5&nbsp;&nbsp;</span>Highway Net</a></span></li><li><span><a href=\"#Pre-Activation-ResNet\" data-toc-modified-id=\"Pre-Activation-ResNet-22.1.6\"><span class=\"toc-item-num\">22.1.6&nbsp;&nbsp;</span>Pre-Activation ResNet</a></span></li><li><span><a href=\"#WRNs-(Wide-Residual-Networks)\" data-toc-modified-id=\"WRNs-(Wide-Residual-Networks)-22.1.7\"><span class=\"toc-item-num\">22.1.7&nbsp;&nbsp;</span>WRNs (Wide Residual Networks)</a></span></li><li><span><a href=\"#MobileNet\" data-toc-modified-id=\"MobileNet-22.1.8\"><span class=\"toc-item-num\">22.1.8&nbsp;&nbsp;</span>MobileNet</a></span></li><li><span><a href=\"#Xception\" data-toc-modified-id=\"Xception-22.1.9\"><span class=\"toc-item-num\">22.1.9&nbsp;&nbsp;</span>Xception</a></span></li><li><span><a href=\"#Spatial-Transformer-Network-(STN)\" data-toc-modified-id=\"Spatial-Transformer-Network-(STN)-22.1.10\"><span class=\"toc-item-num\">22.1.10&nbsp;&nbsp;</span>Spatial Transformer Network (STN)</a></span></li><li><span><a href=\"#Deformable-Convolutional-Networks-(DCN)\" data-toc-modified-id=\"Deformable-Convolutional-Networks-(DCN)-22.1.11\"><span class=\"toc-item-num\">22.1.11&nbsp;&nbsp;</span>Deformable Convolutional Networks (DCN)</a></span></li></ul></li></ul></li><li><span><a href=\"#-SOTA-Super-Resolution-Networks-\" data-toc-modified-id=\"-SOTA-Super-Resolution-Networks--23\"><span class=\"toc-item-num\">23&nbsp;&nbsp;</span><font color=\"DarkOrange\"> SOTA Super Resolution Networks </font></a></span><ul class=\"toc-item\"><li><span><a href=\"#-Survey-of-SR-Techniques-\" data-toc-modified-id=\"-Survey-of-SR-Techniques--23.1\"><span class=\"toc-item-num\">23.1&nbsp;&nbsp;</span><font color=\"DarkMagenta\"> Survey of SR Techniques </font></a></span></li><li><span><a href=\"#SR-using-Residual-Channel-Attention-Networks-(RCAN)\" data-toc-modified-id=\"SR-using-Residual-Channel-Attention-Networks-(RCAN)-23.2\"><span class=\"toc-item-num\">23.2&nbsp;&nbsp;</span>SR using Residual Channel Attention Networks (RCAN)</a></span></li></ul></li><li><span><a href=\"#-New-DNN-Research-Concepts/Papers-\" data-toc-modified-id=\"-New-DNN-Research-Concepts/Papers--24\"><span class=\"toc-item-num\">24&nbsp;&nbsp;</span><font color=\"green\"> New DNN Research Concepts/Papers </font></a></span><ul class=\"toc-item\"><li><span><a href=\"#-Attention-Mechanism-(Channel,-Spatial)-\" data-toc-modified-id=\"-Attention-Mechanism-(Channel,-Spatial)--24.1\"><span class=\"toc-item-num\">24.1&nbsp;&nbsp;</span><font color=\"blue\"> Attention Mechanism (Channel, Spatial) </font></a></span><ul class=\"toc-item\"><li><span><a href=\"#CBAM:-Convolutional-Block-Attention-Module\" data-toc-modified-id=\"CBAM:-Convolutional-Block-Attention-Module-24.1.1\"><span class=\"toc-item-num\">24.1.1&nbsp;&nbsp;</span>CBAM: Convolutional Block Attention Module</a></span></li></ul></li><li><span><a href=\"#Recursive-Learning\" data-toc-modified-id=\"Recursive-Learning-24.2\"><span class=\"toc-item-num\">24.2&nbsp;&nbsp;</span>Recursive Learning</a></span><ul class=\"toc-item\"><li><span><a href=\"#DRCN\" data-toc-modified-id=\"DRCN-24.2.1\"><span class=\"toc-item-num\">24.2.1&nbsp;&nbsp;</span>DRCN</a></span></li><li><span><a href=\"#DRRN\" data-toc-modified-id=\"DRRN-24.2.2\"><span class=\"toc-item-num\">24.2.2&nbsp;&nbsp;</span>DRRN</a></span></li></ul></li><li><span><a href=\"#Transparency-by-Design-(TbD-Net)\" data-toc-modified-id=\"Transparency-by-Design-(TbD-Net)-24.3\"><span class=\"toc-item-num\">24.3&nbsp;&nbsp;</span>Transparency by Design (TbD Net)</a></span></li><li><span><a href=\"#Capsule-Net\" data-toc-modified-id=\"Capsule-Net-24.4\"><span class=\"toc-item-num\">24.4&nbsp;&nbsp;</span>Capsule Net</a></span></li><li><span><a href=\"#Zero-shot-learning\" data-toc-modified-id=\"Zero-shot-learning-24.5\"><span class=\"toc-item-num\">24.5&nbsp;&nbsp;</span>Zero shot learning</a></span></li><li><span><a href=\"#Federated-Learning\" data-toc-modified-id=\"Federated-Learning-24.6\"><span class=\"toc-item-num\">24.6&nbsp;&nbsp;</span>Federated Learning</a></span></li></ul></li><li><span><a href=\"#-Interview-Questions/Skills/JD-\" data-toc-modified-id=\"-Interview-Questions/Skills/JD--25\"><span class=\"toc-item-num\">25&nbsp;&nbsp;</span><font color=\"green\"> Interview Questions/Skills/JD </font></a></span><ul class=\"toc-item\"><li><span><a href=\"#-Skills-required-for-ML/DL-Engineer-Jobs-\" data-toc-modified-id=\"-Skills-required-for-ML/DL-Engineer-Jobs--25.1\"><span class=\"toc-item-num\">25.1&nbsp;&nbsp;</span><font color=\"blue\"> Skills required for ML/DL Engineer Jobs </font></a></span></li></ul></li><li><span><a href=\"#-Best-Resources-\" data-toc-modified-id=\"-Best-Resources--26\"><span class=\"toc-item-num\">26&nbsp;&nbsp;</span><font color=\"green\"> Best Resources </font></a></span><ul class=\"toc-item\"><li><span><a href=\"#Good-resources-list\" data-toc-modified-id=\"Good-resources-list-26.1\"><span class=\"toc-item-num\">26.1&nbsp;&nbsp;</span>Good resources list</a></span></li><li><span><a href=\"#Good-practical-resources\" data-toc-modified-id=\"Good-practical-resources-26.2\"><span class=\"toc-item-num\">26.2&nbsp;&nbsp;</span>Good practical resources</a></span></li></ul></li></ul></div>"
   ]
  },
  {
   "cell_type": "markdown",
   "metadata": {
    "collapsed": true
   },
   "source": [
    "# ML DL Notes\n",
    "- <font color=red> ** Use images/diagrams for clarity, update below sections with images** </font>"
   ]
  },
  {
   "cell_type": "markdown",
   "metadata": {},
   "source": [
    "# <font color=red> Topics to learn </font>"
   ]
  },
  {
   "cell_type": "markdown",
   "metadata": {},
   "source": [
    "## <font color=green> Learn Now (most important) </font>\n",
    "- [** ML Cheat sheet **](https://medium.com/machine-learning-in-practice/cheat-sheet-of-machine-learning-and-python-and-math-cheat-sheets-a4afe4e791b6)\n",
    "- Probability\n",
    "    - log likelihood\n",
    "    - Bayes theorem, Naive bayes\n",
    "    - Prior and posterior\n",
    "    - MAP\n",
    "    - sampling methods\n",
    "- CNN layers theory\n",
    "    - Convolution types\n",
    "        - Depthwise separable convolution\n",
    "        - Shufflenet\n",
    "        - transposed convolution\n",
    "        - subpixel convolution\n",
    "        - dilation\n",
    "        - bottleneck layer\n",
    "        - global pooling\n",
    "        - total variation\n",
    "- Gradient descent, back propagation\n",
    "- SOTA CNNs\n",
    "    - network in network \n",
    "    - mobilenet\n",
    "    - squeeze net\n",
    "    - Highway network\n",
    "    - SR-GAN, ESRGAN\n",
    "- Hyper parameters and tuning\n",
    "    - Bayesian searc: Gaussian process, TPE\n",
    "- Optimizers\n",
    "    - Adagard\n",
    "- DNN performance tuning\n",
    "    - [tutorial](https://medium.com/@jonathan_hui/improve-deep-learning-models-performance-network-tuning-part-6-29bf90df6d2d)"
   ]
  },
  {
   "cell_type": "markdown",
   "metadata": {},
   "source": [
    "## <font color=red> Learn later </font>\n",
    "- log odd ratio\n",
    "- Multiclass SVM\n",
    "- Kernel PCA\n",
    "- Weight normalization\n",
    "- instance normalization, layer normalization, group normalization\n",
    "- Regularization\n",
    "    - Elastic net\n",
    "- classification loss functions\n",
    "    - cross entropy loss function\n",
    "- generative and discriminative model\n",
    "- GANs\n",
    "- Gaussian Mixture Model (GMM)\n",
    "- Hidden Markov Models (HMM)    \n",
    "- confusion matrix\n",
    "- Precision and recall\n",
    "- ROI pooling\n",
    "- Deep learning studio\n",
    "- Teacher student training (knowledge distilation)\n",
    "- Conditional Random Fields (CRF)\n",
    "- Study later\n",
    "    - Clusttering techniques\n",
    "    - svd\n",
    "    - lda\n",
    "    - binning, xgboost\n",
    "    - deep metric learning"
   ]
  },
  {
   "cell_type": "code",
   "execution_count": 1,
   "metadata": {},
   "outputs": [
    {
     "data": {
      "text/html": [
       "<script>\n",
       "code_show=true; \n",
       "function code_toggle() {\n",
       " if (code_show){\n",
       " $('div.input').hide();\n",
       " } else {\n",
       " $('div.input').show();\n",
       " }\n",
       " code_show = !code_show\n",
       "} \n",
       "$( document ).ready(code_toggle);\n",
       "</script>\n",
       "The raw code for this IPython notebook is by default hidden for easier reading.\n",
       "To toggle on/off the raw code, click <a href=\"javascript:code_toggle()\">here</a>."
      ],
      "text/plain": [
       "<IPython.core.display.HTML object>"
      ]
     },
     "execution_count": 1,
     "metadata": {},
     "output_type": "execute_result"
    }
   ],
   "source": [
    "from IPython.display import HTML\n",
    "HTML('''<script>\n",
    "code_show=true; \n",
    "function code_toggle() {\n",
    " if (code_show){\n",
    " $('div.input').hide();\n",
    " } else {\n",
    " $('div.input').show();\n",
    " }\n",
    " code_show = !code_show\n",
    "} \n",
    "$( document ).ready(code_toggle);\n",
    "</script>\n",
    "The raw code for this IPython notebook is by default hidden for easier reading.\n",
    "To toggle on/off the raw code, click <a href=\"javascript:code_toggle()\">here</a>.''')"
   ]
  },
  {
   "cell_type": "markdown",
   "metadata": {},
   "source": [
    "# <font color=DarkOrange> Probability and Statistics </font>"
   ]
  },
  {
   "cell_type": "markdown",
   "metadata": {},
   "source": [
    "## Types of Probability\n",
    "- [Tutorial](https://towardsdatascience.com/probability-concepts-explained-introduction-a7c0316de465)\n",
    "- **Marginal Probability**\n",
    "    - If A is an event, then the marginal probability is the probability of that event occurring, P(A)\n",
    "    - an example of a marginal probability would be the probability that a card drawn from a pack is red: P(red) = 0.5\n",
    "- **Joint Probability**\n",
    "    - The probability of the intersection of two or more events.\n",
    "    - If A and B are two events then the joint probability of the two events is written as P(A ∩ B)\n",
    "    - Example: the probability that a card drawn from a pack is red and has the value 4 is P(red and 4) = 2/52 = 1/26\n",
    "- **Conditional Probability**\n",
    "    - The conditional probability is the probability that some event(s) occur given that we know other events have already occurred\n",
    "    - If A and B are two events then the conditional probability of A occurring given that B has occurred is written as P(A|B)\n",
    "    - Example: the probability that a card is a four given that we have drawn a red card is P(4|red) = 2/26 = 1/13"
   ]
  },
  {
   "cell_type": "markdown",
   "metadata": {},
   "source": [
    "## Central Limit Theorem (CLT)\n",
    "- [CLT Simple Explanation](http://blog.minitab.com/blog/understanding-statistics/how-the-central-limit-theorem-works)\n",
    "- Central limit theorem says that if you have a sufficient number of randomly selected, independent samples (or observations), the <font color=blue> means of those samples will follow a normal distribution </font> -- even if the population you're sampling from does not!\n",
    "- As shown in below figure, the samples of rolling die distribution is almost uniform (as each number of die has same probability 1/6 follows uniform distribution)\n",
    "- ** The means of consecutive samples (5 in the example) follows gaussian distribution, with more number of samples it comes close to gaussian **"
   ]
  },
  {
   "cell_type": "code",
   "execution_count": 2,
   "metadata": {
    "code_folding": [],
    "scrolled": false
   },
   "outputs": [],
   "source": [
    "# CLT visualization code\n",
    "import numpy as np\n",
    "import matplotlib.pyplot as plt\n",
    "\n",
    "# seed the random generator\n",
    "np.random.seed(1)\n",
    "# generate roll dies\n",
    "num_rolls = [150, 30000]\n",
    "#plt.figure(figsize=(7,7))\n",
    "for i, num_samples in enumerate(num_rolls):\n",
    "    # generate random samples\n",
    "    rolls = np.random.randint(1, 7, num_samples)\n",
    "    \n",
    "    # find means of consecutive random samples\n",
    "    #print(rolls)\n",
    "    step = 5\n",
    "    means = []\n",
    "    for j in range(0, num_samples, step):\n",
    "        means.append(np.mean(rolls[j:j+step]))\n",
    "        #print(rolls[j:j+step])    \n",
    "    #print(means)\n",
    "    \n",
    "    # plot samples histogram\n",
    "    plt.figure(figsize=(6,3))    \n",
    "    plt.subplot(1,2,1)\n",
    "    plt.hist(rolls)\n",
    "    if i == 0:\n",
    "        plt.title('samples distribution')\n",
    "    # plot samples mean histogram\n",
    "    plt.subplot(1,2,2)\n",
    "    plt.hist(means)         \n",
    "    if i == 0:\n",
    "        plt.title('means of samples distribution')\n",
    "    plt.text(7,0,'number of samples: %d'%num_samples, ha='left', va='bottom')"
   ]
  },
  {
   "cell_type": "markdown",
   "metadata": {},
   "source": [
    "## Bernoulli Distribution\n",
    "- The Bernoulli distribution is a model for an experiment that has only two possible outcomes. The corresponding experiment, which has only two possible outcomes is said to be a Bernoulli trial.\n",
    "- ** Bernoulli checks for specific outcome though the experiment has more outcomes.** Suppose a random experiment **has two outcomes**, namely Success and Failure.\n",
    "- example:\n",
    "    - In a single throw of a dice, the outcome \"5\" is called a success and any other outcome (not rolling a 5) is called a failure, then the successive throws of a dice will contain Bernoulli trials.The probability of success = 1/6 and the probability of failure = 5/6."
   ]
  },
  {
   "cell_type": "markdown",
   "metadata": {},
   "source": [
    "## Binomial Theorem\n",
    "- [Binomial tutorial](https://www.analyticsvidhya.com/blog/2017/02/basic-probability-data-science-with-examples/)\n",
    "- ** binomial distribution is the discrete probability distribution of the number of success in a sequence of n independent Bernoulli trials (having only yes/no or true/false outcomes). **\n",
    "- so, the Probability for getting k successes in n Bernoulli trails is given by:\n",
    "    - P(X=k) = n<sub>C<sub>k</sub></sub> p<sup>k</sup> q<sup>(n-k)</sup>,  [here p is the probability of success and q is the probability of failure]\n",
    "- If probability of each trail is equal, then the binomial probability distribution is also  equal as shown in graph.2\n",
    "- If we increase the number of trails, there will be many combinations and bars get thinner and thinner as shown in graph.3\n",
    "- What if we play infinite number of trails, ** the bars get infinitely small and the probability distribution looks something like a continuous set of bars which are very close **, almost continuous as shown in graph.4. This now becomes <font color=blue> a probability density function </font>\n",
    "- An observation is, **probability is highest at mean value** and decrease as we move away"
   ]
  },
  {
   "cell_type": "code",
   "execution_count": 3,
   "metadata": {
    "code_folding": []
   },
   "outputs": [
    {
     "data": {
      "image/png": "[encoded data removed]",
      "text/plain": [
       "<Figure size 936x216 with 4 Axes>"
      ]
     },
     "metadata": {},
     "output_type": "display_data"
    }
   ],
   "source": [
    "# Binomial example visualization: find the probability of winning series in 5 games\n",
    "import matplotlib.pyplot as plt\n",
    "from scipy.stats import binom\n",
    "\n",
    "plt.figure(figsize=(13,3))\n",
    "trails = [5, 5, 20, 1000]\n",
    "win_prob = [0.75, 0.5, 0.5, 0.5]\n",
    "for i, prob in enumerate(win_prob):\n",
    "    num_games = trails[i]\n",
    "    binom_prob = binom(num_games, prob)\n",
    "\n",
    "    x = [i for i in range(0, num_games+1, 1)]\n",
    "    # plot    \n",
    "    plt.subplot(1,4,i+1)\n",
    "    plt.bar(x, binom_prob.pmf(x))  \n",
    "    plt.xlabel('number of trails')\n",
    "    if i == 0:\n",
    "        plt.ylabel('probability')\n",
    "        plt.title('UnEqual probability')\n",
    "    elif i == 1:\n",
    "        plt.title('equal probability')\n",
    "    else:\n",
    "        plt.title('equal prob. #more trails')"
   ]
  },
  {
   "cell_type": "markdown",
   "metadata": {},
   "source": [
    "## Standard Normal Distribution or Z-distribution\n",
    "- [Tutorial](https://www.analyticsvidhya.com/blog/2017/02/basic-probability-data-science-with-examples/)\n",
    "- In order to make the proper comparisons among different normal distributions which are centered around their own averages, **the distributions has to standardized to same scale to have a fair/correct comparison**\n",
    "- The standard normal distribution, commonly referred to the Z-distribution, is a special case of a normal distribution with the following properties:\n",
    "    - It has a mean of zero.\n",
    "    - It has a standard deviation of one.\n",
    "- **Z-scores:**\n",
    "    - **The distance in terms of number of standard deviations, the observed value is away from the mean, is the standard score or the Z score.**\n",
    "    - A score on the standard normal distribution is called a Z-Score. It should be interpreted as the number of standard deviations a data point is above or below the mean. A positive Z-Score indicates that a point is above the average, and a negative Z-Score indicates a score below the average.\n",
    "    - Data is rescaled such that mean (μ) = 0 and standard deviation (𝛔) = 1 as,\n",
    "    <h4 align=\"center\"> $ std(x) = \\frac{x - \\mu}{\\sigma} $ </h4>"
   ]
  },
  {
   "cell_type": "code",
   "execution_count": 4,
   "metadata": {},
   "outputs": [],
   "source": [
    "# standardization visualization"
   ]
  },
  {
   "cell_type": "markdown",
   "metadata": {},
   "source": [
    "## Maximum Likelihood Estimation (MLE)\n",
    "- [Tutorial intro](https://www.analyticsvidhya.com/blog/2018/07/introductory-guide-maximum-likelihood-estimation-case-study-r/)\n",
    "- [Tutorial calculation](https://towardsdatascience.com/probability-concepts-explained-maximum-likelihood-estimation-c7b4342fdbb1)\n",
    "- While studying stats and probability, you must have come across problems like – What is the probability of x > 100, given that x follows a normal distribution with mean 50 and standard deviation (sd) 10. In such problems, we already know the distribution (normal in this case) and its parameters (mean and sd).\n",
    "- but in real life problems these quantities are unknown and must be estimated from the data. <font color=blue> MLE is the technique which helps us in determining the parameters of the distribution that best describe the given data </font>.\n",
    "- ** MLE can be defined as a method for estimating population parameters (such as the mean and variance for Normal, rate (lambda) for Poisson, etc.) from sample data such that the probability (likelihood) of obtaining the observed data is maximized. **\n",
    "- we want to calculate is the total probability of observing all of the data, i.e. the joint probability distribution of all observed data points. To do this we would need to calculate some conditional probabilities, which can get very difficult. So it is here that we’ll make our first assumption. The **assumption is that each data point is generated independently of the others.**"
   ]
  },
  {
   "cell_type": "markdown",
   "metadata": {},
   "source": [
    "## Log likelihood"
   ]
  },
  {
   "cell_type": "markdown",
   "metadata": {},
   "source": [
    "## Bayes Theorem\n",
    "- [Bayes Intro](https://www.analyticsvidhya.com/blog/2016/06/bayesian-statistics-beginners-simple-english/)\n",
    "- [Bayes Example: Rich people given happy](https://www.quora.com/What-is-an-intuitive-explanation-of-Bayes-Rule)\n",
    "- [Bayesian inference](https://towardsdatascience.com/probability-concepts-explained-bayesian-inference-for-parameter-estimation-90e8930e5348)"
   ]
  },
  {
   "cell_type": "markdown",
   "metadata": {},
   "source": [
    "## Bayesian Inference"
   ]
  },
  {
   "cell_type": "markdown",
   "metadata": {},
   "source": [
    "## Naive Bayes"
   ]
  },
  {
   "cell_type": "markdown",
   "metadata": {},
   "source": [
    "# <font color=DarkOrange> ML/DL basics introduction </font>"
   ]
  },
  {
   "cell_type": "markdown",
   "metadata": {},
   "source": [
    "## Perceptron\n",
    "- Takes several 'binary' inputs to produce a 'binary' output by comparing the weighted sum of inputs against a threshold, \n",
    "- The threshold is treated as bias and moved to left side of equation to compare weighted sum against zero\n",
    "- If a small change in a weight or bias causes only a small change in output, it is possible for a network to learn. \n",
    "- But, this doesn't happen with perceptrons sometimes as <font color=blue>small change in weights can entirely flip the output</font> from say 1 to 0"
   ]
  },
  {
   "cell_type": "markdown",
   "metadata": {},
   "source": [
    "## Parametric Vs Non-Parametric algorithms\n",
    "- Parametric\n",
    "    - Parametric methods makes an assumption about the form of the function relating X and Y\n",
    "    - Linear regression is a parametric method\n",
    "- Non-Parametric\n",
    "    - non-parametric learners do not have a model structure specified a priori. \n",
    "    - We don’t speculate about the form of the function f that we are trying to learn before training the model, as we did previously with linear regression. \n",
    "    - Instead, the model structure is purely determined from the data."
   ]
  },
  {
   "cell_type": "markdown",
   "metadata": {},
   "source": [
    "## Sigmoid Neuron\n",
    "- Sigmoid neurons are similar to perceptrons (shape is a smoothed out version of a step function), <br> but modified so that **small changes in their weights and bias cause only a small change in their output**\n",
    "- instead of being just 0 or 1, these inputs can also take on any values between 0 and 1\n",
    "- output is not 0 or 1. Instead, it's σ(w⋅x+b), where σ is called the sigmoid function\n",
    "- Somewhat confusingly, and for historical reasons, such multiple layer networks are sometimes called multilayer perceptrons or MLPs, despite being made up of sigmoid neurons, not perceptrons. "
   ]
  },
  {
   "cell_type": "markdown",
   "metadata": {},
   "source": [
    "## Gradient decent\n",
    "- To quantify how well we're achieving this goal we define a cost function\n",
    "- to find a set of weights and biases which make the cost as small as possible. We'll do that using an algorithm known as gradient descent "
   ]
  },
  {
   "cell_type": "markdown",
   "metadata": {},
   "source": [
    "## Backpropagation"
   ]
  },
  {
   "cell_type": "markdown",
   "metadata": {},
   "source": []
  },
  {
   "cell_type": "markdown",
   "metadata": {},
   "source": [
    "## Overfitting\n",
    "- One of the problems that occur during neural network training is called overfitting. \n",
    "- The error on the training set is driven to a very small value, but when new data is presented to the network the error is large. The network has <font color=blue>memorized the training examples, but it has not learned to generalize to new situations</font>"
   ]
  },
  {
   "cell_type": "markdown",
   "metadata": {},
   "source": [
    "### How to avoid overfitting\n",
    "- Go for simpler models over more complicated models. Generally, the **fewer parameters** that you have to tune the better. \n",
    "- Use **more data** to train the model. \n",
    "- Some sort of <font color= blue>regularization</font> can help penalize certain sources of overfitting."
   ]
  },
  {
   "cell_type": "markdown",
   "metadata": {},
   "source": [
    "## Vanishing Gradients\n",
    "- if a change in the parameter's value causes very small change in the network's output - the network just can't learn the parameter effectively, which is a problem.\n",
    "-  For example, **sigmoid maps the real number line onto a \"small\" range** of [0, 1]. As a result, there are large regions of the input space which are mapped to an extremely small range. In these regions of the input space, even a large change in the input will produce a small change in the output - hence the gradient is small.\n",
    "- This **becomes much worse when we stack multiple layers** of such non-linearities on top of each other. <br> For instance, first layer will map a large input region to a smaller output region, which will be mapped to an even smaller region by the second layer, which will be mapped to an even smaller region by the third layer and so on. ** As a result, even a large change in the parameters of the first layer doesn't change the output much **"
   ]
  },
  {
   "cell_type": "markdown",
   "metadata": {},
   "source": [
    "### How to avoid vanishing gradients\n",
    "- We can avoid this problem by using activation functions which don't have this property of 'squashing' the input space into a small region. \n",
    "- A popular <font color=blue>choice is Rectified Linear Unit</font> which maps x to max(0,x)"
   ]
  },
  {
   "cell_type": "markdown",
   "metadata": {},
   "source": [
    "## Cross validation\n",
    "- **Cross validation is a method for estimating the prediction accuracy of a model.**\n",
    "- One way to evaluate a model is to see how well it predicts the data used to fit the model. But this is too optimistic -- a model tailored to a particular data set will make better predictions on that data set than on new data. \n",
    "- Another way is to hold out some data and fit the model using the rest. Then you can test your accuracy on the holdout data.  But the held out data is \"wasted\" from the point of view of building the model. If you have huge amounts of data, so holding some data out won't make the model much worse\n",
    "- Cross validation does something like this but tries to <font color=blue>make more efficient use of the data</font>: you divide the data into (say) 10 equal parts. Then **successively hold out each part and fit the model using the rest**. This gives you 10 estimates of prediction accuracy which can be combined into an overall measure."
   ]
  },
  {
   "cell_type": "markdown",
   "metadata": {},
   "source": [
    "## Types of data\n",
    "- ** Categorical**: Categorical variables take on values that are names or labels. The colour of a ball (e.g., red, green, blue) or the breed of a dog (e.g., collie, shepherd, terrier) would be examples of categorical variables.\n",
    "- ** Quantitative **: Quantitative variables are numerical. They represent a measurable quantity. For example, when we speak of the population of a city, we are talking about the number of people in the city — a measurable attribute of the city. Therefore population would be a quantitative variable."
   ]
  },
  {
   "cell_type": "markdown",
   "metadata": {},
   "source": [
    "## Classification and Regression\n",
    "- So in very simple terms, classification is about predicting a label and regression is about predicting a quantity"
   ]
  },
  {
   "cell_type": "markdown",
   "metadata": {},
   "source": [
    "# <font color=DarkOrange> Supervised Learning </font>"
   ]
  },
  {
   "cell_type": "markdown",
   "metadata": {},
   "source": [
    "## <font color=DarkMagenta> Parametric and Classification Algorithms </font>"
   ]
  },
  {
   "cell_type": "markdown",
   "metadata": {},
   "source": [
    "### Support Vector Machine (SVM)\n",
    "- [SVM Overview](https://towardsdatascience.com/support-vector-machines-a-brief-overview-37e018ae310f)\n",
    "- [SVM kernel trick example](https://medium.com/machine-learning-for-humans/supervised-learning-2-5c1c23f3560d)\n",
    "- SVM is also a <font color=blue> binary classifier </font> (classifies 2 classes) like logistic regression\n",
    "- Support vector machines attempt to pass a <font color=blue> linearly separable hyperplane through a dataset in order to classify the data into two groups </font>\n",
    "- This hyperplane is a linear separator for any dimension; it could be a line (2D), plane (3D), and hyperplane (4D+)\n",
    "- the <font color=blue> best hyperplane is the one that maximizes the margin </font>. The margin is the distance between the hyperplane and a few close points. These <font color=blue> close points are the support vectors because they control the hyperplane. </font>\n",
    "- The classes have to be linearly separable to be classified using SVM, a variant of SVM is proposed to classify the data's which are not perfectly separable, it is known as a <font color=blue> Soft Margin Classifier or a Support Vector Classifier </font>, which allows slight mis-classification. SVM classifier contains a tuning parameter in order to control how much misclassification it will allow\n",
    "- **Kernel Trick**:\n",
    "    - The non-linear lower feature space from lower dimension is transformed to higher dimension to classify non-linear, which is known as kernel trick\n",
    "    - these kernels transform our data in order to pass a linear hyperplane and thus classify our data"
   ]
  },
  {
   "cell_type": "markdown",
   "metadata": {},
   "source": [
    "### Logistic regression\n",
    "- The idea of <font color=blue>Logistic Regression is to find a relationship between features and probability of particular outcome.</font>\n",
    "-  Logistic regression works largely the same way linear regression works: it multiplies each input by a coefficient, sums them up, and adds a constant. <font color=blue> In logistic regression, however, the output is actually the log of the odds ratio. </font>\n",
    "- This type of a problem is referred to as **Binomial Logistic Regression**, where the response variable has two values 0 and 1 or pass and fail or true and false. **Multinomial Logistic Regression deals** with situations where the response variable can have three or more possible values."
   ]
  },
  {
   "cell_type": "markdown",
   "metadata": {},
   "source": [
    "## <font color=DarkMagenta> Parametric and Regression Algorithms </font>\n",
    "- **Regression is a statistical way to establish a relationship between a dependent variable and a set of independent variable(s)**\n",
    "- Regression is concerned with modeling the relationship between variables that is iteratively refined using a measure of error in the predictions made by the model.\n",
    "- Regression methods are a workhorse of statistics and have been co-opted into statistical machine learning."
   ]
  },
  {
   "cell_type": "markdown",
   "metadata": {},
   "source": [
    "### Linear regression\n",
    "- While doing linear regression our objective is to **fit a line through the distribution which is nearest to most of the points**. Hence reducing the distance (error term) of data points from the fitted line. \n",
    "- It is conventional to use squares, as Regression line minimizes the sum of “Square of Residuals”. \n",
    "- That’s why the method of Linear Regression is <font color=blue> known as “Ordinary Least Square (OLS)”</font>"
   ]
  },
  {
   "cell_type": "markdown",
   "metadata": {},
   "source": [
    "## Non-Parametric Algorithms\n",
    "- [Non-Parametric Supervised Learning Tutorial](https://medium.com/machine-learning-for-humans/supervised-learning-3-b1551b9c4930)\n",
    "- non-parametric learners do not have a model structure specified a priori. We don’t speculate about the form of the function f that we’re trying to learn before training the model"
   ]
  },
  {
   "cell_type": "markdown",
   "metadata": {},
   "source": [
    "### K-Nearest Neighbor (KNN)\n",
    "- You look at the k closest data points and take the average of their values if variables are continuous (like housing prices), or the mode if they’re categorical (like cat vs. dog)\n",
    "- **Choosing k:** tuning hyperparameters with cross-validation\n",
    "    - To decide which value of k to use, you can **test different k-NN models** using different values of k with cross-validation\n",
    "    - Pick whichever yields the lowest error, on average, across all iterations\n",
    "- Higher values of k help address overfitting, but if the value of k is too high your model will be very biased and inflexible."
   ]
  },
  {
   "cell_type": "markdown",
   "metadata": {},
   "source": [
    "### Decision Tree\n",
    "- Making a good decision tree is like playing a game of “20 questions”\n",
    "- There are ways to quantify information gain so that you can essentially evaluate every possible split of the training data and maximize information gain for every split\n",
    "- **Choosing splits in a decision tree**\n",
    "    - **Entropy is the amount of disorder in a set** (measured by Gini index or cross-entropy)\n",
    "    - If the values are really mixed, there’s lots of entropy; if you can cleanly split values, there’s no entropy.\n",
    "    - **For every split at a parent node, you want the child nodes to be as pure as possible (minimize entropy.)**"
   ]
  },
  {
   "cell_type": "markdown",
   "metadata": {},
   "source": [
    "### Random Forest:  an ensemble of decision trees\n",
    "- A model comprised of many models is called an **ensemble model**, and this is usually a winning strategy.\n",
    "- A single decision tree can make a lot of wrong calls because it has very black-and-white judgments. \n",
    "- A random forest is a meta-estimator that aggregates many decision trees, with some helpful modifications"
   ]
  },
  {
   "cell_type": "markdown",
   "metadata": {},
   "source": [
    "# <font color=DarkOrange> Unsupervised Learning </font>\n",
    "- [Unsupervised Tutorial](https://medium.com/machine-learning-for-humans/unsupervised-learning-f45587588294)"
   ]
  },
  {
   "cell_type": "markdown",
   "metadata": {},
   "source": [
    "## <font color=DarkMagenta> Clusttering </font>\n",
    "- [Top5 Clustterings](https://towardsdatascience.com/the-5-clustering-algorithms-data-scientists-need-to-know-a36d136ef68)\n",
    "- The goal of clustering is to create groups of data points such that points in different clusters are dissimilar while points within a cluster are similar."
   ]
  },
  {
   "cell_type": "markdown",
   "metadata": {},
   "source": [
    "### K-means clusttering\n",
    "- [K-means tutorial](https://towardsdatascience.com/clustering-using-k-means-algorithm-81da00f156f6)\n",
    "- k-means clustering works on unlabeled data to cluster our data points into k groups. \n",
    "- A larger k creates smaller groups with more granularity, a lower k means larger groups and less granularity.\n",
    "- The output of the algorithm would be a set of “labels” assigning each data point to one of the k groups.\n",
    "- In k-means clustering, the way these **groups are defined is by creating a centroid** for each group. The centroids are like the heart of the cluster, they “capture” the points closest to them and add them to the cluster.\n",
    "- **K-means algorithm steps**\n",
    "    1. **Define the k centroids.**\n",
    "        - Initialize these at random (there are also fancier algorithms for initializing the centroids that end up converging more effectively).\n",
    "    2. **Find the closest centroid & update cluster assignments.**\n",
    "        - Assign each data point to one of the k clusters. Each data point is assigned to the nearest centroid’s cluster. Here, the measure of “nearness” is a hyperparameter — often **Euclidean distance**.\n",
    "        - If we’re using the Euclidean distance between data points and every centroid, a straight line is drawn between two centroids, then a perpendicular bisector (boundary line) divides this line into two clusters\n",
    "    3. **Move the centroids to the center of their clusters.**\n",
    "        - The new position of each centroid is calculated as the average position of all the points in its cluster.\n",
    "    - Keep repeating steps 2 and 3 until the centroid stop moving a lot at each iteration (i.e., until the algorithm converges)."
   ]
  },
  {
   "cell_type": "markdown",
   "metadata": {},
   "source": [
    "### Expectation–Maximization (EM) Clustering using Gaussian Mixture Models (GMM)"
   ]
  },
  {
   "cell_type": "markdown",
   "metadata": {},
   "source": [
    "### Hierarchical Clusttering"
   ]
  },
  {
   "cell_type": "markdown",
   "metadata": {},
   "source": [
    "## <font color=DarkMagenta> Dimensionality Reduction </font>\n",
    "- Dimensionality reduction looks a lot like compression. This is about trying to reduce the complexity of the data while keeping as much of the relevant structure as possible.\n",
    "- reducing the dimension of the feature space is called “dimensionality reduction.” There are many ways to achieve dimensionality reduction, but most of these techniques fall into one of two classes:\n",
    "    - Feature Elimination\n",
    "    - Feature Extraction"
   ]
  },
  {
   "cell_type": "markdown",
   "metadata": {},
   "source": [
    "### Principal Component Analysis (PCA)\n",
    "- [PCA Tutorial with example](https://georgemdallas.wordpress.com/2013/10/30/principal-component-analysis-4-dummies-eigenvectors-eigenvalues-and-dimension-reduction/)\n",
    "- [PCA Tutorial](https://towardsdatascience.com/a-one-stop-shop-for-principal-component-analysis-5582fb7e0a9c)\n",
    "- The principal components are the underlying structure in the data. They represent the directions in which the data has maximum variance and also the directions in which the data is most spread out.\n",
    "- Principal component analysis is a technique for feature extraction — so it combines our input variables in a specific way, then we can drop the “least important” variables while still retaining the most valuable parts of all of the variables!\n",
    "- As an added benefit, each of the “new” variables **after PCA are all independent of one another**. This is a benefit because the assumptions of a linear model require our independent variables to be independent of one another\n",
    "- **Eigenvector and Eigenvalue**\n",
    "    - eigenvector was the direction of the line drawn to find the maximum variance\n",
    "    - eigenvalue was a number that tells us how the data set is spread out on the line which is an eigenvector.\n",
    "    - **amount of eigenvectors that exist equals the number of dimensions the data set has** are perpendicular/orthogonal to each other\n",
    "    - <font color=blue> The big eigen vector (with highest variance) is the principal component </font>"
   ]
  },
  {
   "cell_type": "markdown",
   "metadata": {},
   "source": [
    "### Singular Value Decomposition (SVD)"
   ]
  },
  {
   "cell_type": "markdown",
   "metadata": {},
   "source": [
    "# <font color=DarkOrange> Loss Functions </font>\n",
    "- All the algorithms in machine learning rely on minimizing or maximizing a function, which we call “**objective function**”. The group of functions that are minimized are called “loss functions”. \n",
    "- A loss function is a measure of how good a prediction model does in terms of being able to predict the expected outcome. \n",
    "- A most commonly used method of finding the minimum point of function is “gradient descent”.\n",
    "- Loss functions can be broadly categorized into 2 types: <font color=blue>Classification loss and Regression Loss</font>"
   ]
  },
  {
   "cell_type": "markdown",
   "metadata": {},
   "source": [
    "## <font color=DarkMagenta> Classification Loss Functions </font>"
   ]
  },
  {
   "cell_type": "markdown",
   "metadata": {},
   "source": [
    "### Square loss"
   ]
  },
  {
   "cell_type": "markdown",
   "metadata": {},
   "source": [
    "### Hinge loss"
   ]
  },
  {
   "cell_type": "markdown",
   "metadata": {},
   "source": [
    "### Logistic loss\n",
    "- Logistic prediction equation: Yp = Sigmoid(Wi * x + b)\n",
    "- Loss (Yp, Yl) = - (Yl logYp + (1 - Yl) log (1- Yp))"
   ]
  },
  {
   "cell_type": "markdown",
   "metadata": {},
   "source": [
    "### Cross entropy loss"
   ]
  },
  {
   "cell_type": "markdown",
   "metadata": {},
   "source": [
    "## <font color=DarkMagenta> Regression Loss Functions </font>\n",
    "- [5 regression loss funtioncs](https://heartbeat.fritz.ai/5-regression-loss-functions-all-machine-learners-should-know-4fb140e9d4b0)"
   ]
  },
  {
   "cell_type": "markdown",
   "metadata": {},
   "source": [
    "### L2 Loss, Mean Square Error (MSE), Quadratic loss\n",
    "- Mean Square Error (MSE) is the most commonly used regression loss function. MSE is the sum of squared distances between our target variable and predicted values.\n",
    "\n",
    "<h4 align=\"center\"> $ MSE = \\sum\\limits_{i=1}^n  {(y_i - y_i^p)}^2 $ </h4>\n",
    "\n",
    "<h4 align=\"center\"> $ PSNR = 10 log \\frac{L^2}{MSE} $ </h4>\n",
    "            - L is the max pixel value, for 8-bit data L is 255"
   ]
  },
  {
   "cell_type": "markdown",
   "metadata": {},
   "source": [
    "### L1 Loss, Mean Absolute Error (MAE)\n",
    "- MAE is the sum of absolute differences between our target and predicted variables. \n",
    "- So it ** measures the average magnitude of errors ** in a set of predictions, without considering their directions. \n",
    "- If we consider directions also, that would be called ** Mean Bias Error (MBE) **\n",
    "\n",
    "<h4 align=\"center\"> $ MAE = \\sum\\limits_{i=1}^n  {|y_i - y_i^p|} $ </h4>"
   ]
  },
  {
   "cell_type": "markdown",
   "metadata": {},
   "source": [
    "### L1 vs L2 Loss\n",
    "- [L1 vs L2 Comparison](http://www.chioka.in/differences-between-l1-and-l2-as-loss-function-and-regularization/)\n",
    "- <font color=blue>L1 loss is more robust to outliers than L2</font>,\n",
    "    - Since MSE squares the error (y — y_predicted = e), the value of error (e) increases a lot if e > 1. \n",
    "    - If we have an outlier in our data, the value of e will be high and e² will be >> |e|. \n",
    "    - This will make the model with **MSE loss give more weight to outliers ** than a model with MAE loss.\n",
    "    - MAE loss is useful if the training data is corrupted with outliers\n",
    "- <font color=blue>L1 loss derivative is not continuous, hence inefficient to find solution, i.e. unstable</font>,\n",
    "    - which can lead to missing minima\n",
    "    - As L2 derivative is continuous, it gives more stable solution, however it not robust in case of outliers\n",
    "- <font color=blue>Issue with L1 and L2 loss functions:</font>\n",
    "    - There can be cases where neither loss function gives desirable predictions. \n",
    "    - **For example,** if 90% of observations in our data have true target value of 150 and the remaining 10% have target value between 0–30. \n",
    "    - Then a model with MAE as loss might predict 150 for all observations, ignoring 10% of outlier cases, as it will try to go towards median value. \n",
    "    - In the same case, a model using MSE would give many predictions in the range of 0 to 30 as it will get skewed towards outliers. Both results are undesirable in many business cases.\n",
    "    - **An easy fix would be to transform the target variables. Another way is to try a different loss function. This is the motivation behind our 3rd loss function, Huber loss.**"
   ]
  },
  {
   "cell_type": "markdown",
   "metadata": {},
   "source": [
    "### Huber Loss, Smooth Mean Absolute Error\n",
    "- Huber loss is less sensitive to outliers in data than the squared error loss. It’s also **differentiable at 0**. \n",
    "- It’s basically absolute error, which becomes quadratic when error is small.\n",
    "- problem with Huber loss is that we might need to train hyper parameter delta which is an iterative process\n",
    "- ** it’s twice differentiable everywhere **\n",
    "- Many ML model implementations like XGBoost use Newton’s method to find the optimum, which is why the second derivative (Hessian) is needed. For ML frameworks like XGBoost, **twice differentiable functions are more favorable**."
   ]
  },
  {
   "cell_type": "markdown",
   "metadata": {},
   "source": [
    "### Log-CosH Loss\n",
    "- Log-cosh is another function used in regression tasks that’s **smoother than L2**. \n",
    "- Log-cosh is the logarithm of the hyperbolic cosine of the prediction error.\n",
    "- 'logcosh' works mostly like the mean squared error, but will ** not be so strongly affected by the occasional wildly incorrect prediction **"
   ]
  },
  {
   "cell_type": "markdown",
   "metadata": {},
   "source": [
    "### Quantile Loss\n",
    "- Quantile loss functions turns out to be useful when we are interested in predicting an interval instead of only point predictions. "
   ]
  },
  {
   "cell_type": "markdown",
   "metadata": {},
   "source": [
    "## SSIM, MS-SSIM loss functions\n",
    "\n",
    "- **SSIM**\n",
    "- <font color=blue> For an image I with N pixels, the luminance and contrast are estimated as the mean and the standard deviation of the image intensity </font>, respectively, as follows\n",
    "\n",
    "<h3 align=\"center\"> $ mean: \\mu_I = \\frac{1}{N} \\sum\\limits_{i=1}^N  {I(i)} $ </h3>\n",
    "\n",
    "<h3 align=\"center\"> $ contrast: \\sigma_I = \\sqrt{\\frac{1}{N-1} \\sum\\limits_{i=1}^N  ({I(i) - \\mu_I})^2} $ </h3>"
   ]
  },
  {
   "cell_type": "markdown",
   "metadata": {},
   "source": [
    "## Combination of loss functions for perceptual quality"
   ]
  },
  {
   "cell_type": "markdown",
   "metadata": {},
   "source": [
    "## Texture loss"
   ]
  },
  {
   "cell_type": "markdown",
   "metadata": {},
   "source": [
    "## Total Variation Loss"
   ]
  },
  {
   "cell_type": "markdown",
   "metadata": {},
   "source": [
    "## Prior based loss"
   ]
  },
  {
   "cell_type": "markdown",
   "metadata": {},
   "source": [
    "## Triplet loss (ex: face recognition)\n",
    "- A loss is computed between anchor and a postive (similar) image, anchor and a negative image, the loss between anchor and positive has to much smaller than loss between anchor and negative"
   ]
  },
  {
   "cell_type": "markdown",
   "metadata": {},
   "source": [
    "# <font color=DarkOrange> Regularization Algorithms </font>\n",
    "- To avoid over optimizing/over-fitting the training set to use early termination as soon as the learning stops, other method is ** to use regularization **\n",
    "- An extension made to another method (typically regression methods) that <font color=blue>penalizes models based on their complexity</font>, favoring simpler models that are also better at generalizing.\n",
    "- other regularization technique is **dropout**\n",
    "- [Regularization techniques](https://www.analyticsvidhya.com/blog/2018/04/fundamentals-deep-learning-regularization-techniques/)"
   ]
  },
  {
   "cell_type": "markdown",
   "metadata": {},
   "source": [
    "## L1 (Lasso) and L2 (Ridge) as Reguralization\n",
    "- A regularization term is added to the loss function to avoid overfitting"
   ]
  },
  {
   "cell_type": "markdown",
   "metadata": {},
   "source": [
    "## L2 or Frobenius Regularization or Weight decay\n",
    "- The lambda term added is similar to L2 norm, but in context of neural networks its called as frobenius regularization\n",
    "- Regularization term: Loss: <h3 align=\"center\"> $ Loss (E) = \\frac{1}{m}\\sum\\limits_{i=1}^n  {(y_i - y_i^p)}^2 + \\frac{\\lambda}{2m} \\sum\\limits_{l=1}^L {||W_l||^2} $ </h3>\n",
    "- Derivative with regularization term (for backprop): <h3 align=\"center\"> $ dW = dNormal + \\frac {\\lambda}{m} W_l $ </h3>\n",
    "- Gradient decent weight updation: <h3 align=\"center\"> $ W_l = W_l - \\sigma dW $ </h3>\n",
    "- Rewriting above weight update equation: <h3 align=\"center\"> $ (1 - \\frac{\\sigma \\lambda} {m}) W_l - \\sigma dNormal $ </h3>\n",
    "- The 2nd term in above equation reduces the weights based on learning rate and lambda, that is why this regularization is ** <font color=blue> also called as weight decay </font>**\n",
    "- L2-regularization relies on the assumption that a model with small weights is simpler than a model with large weights. Thus, by **penalizing the square values of the weights in the cost function you drive all the weights to smaller values**. It becomes too costly for the cost to have large weights! This leads to a smoother model in which the output changes more slowly as the input changes."
   ]
  },
  {
   "cell_type": "markdown",
   "metadata": {},
   "source": [
    "## Drop-out\n",
    "- remove few connections randomly to force the network to learn redundant representation of input, so that it doesn't overfit and depend on any particular parameter, so that all learns independently\n",
    "- The dropout rate is the fraction of the features that are zeroed out; it’s usually set between 0.2 and 0.5. \n",
    "- At test time, no units are dropped out; instead, the layer’s output values are scaled down by a factor equal to the dropout rate\n",
    "- During training time, divide each dropout layer by keep_prob to keep the same expected value for the activations. For example, if keep_prob is 0.5, then we will on average shut down half the nodes, so the output will be scaled by 0.5 since only the remaining half are contributing to the solution. Dividing by 0.5 is equivalent to multiplying by 2. Hence, the output now has the same expected value. "
   ]
  },
  {
   "cell_type": "markdown",
   "metadata": {},
   "source": [
    "## Early Stopping\n",
    "- Analyze the training and validation error plots, generally both errors will decrease with more training\n",
    "- However, after a point the training error continue to decrease but the validation error may increase, so this indicates the network starts overfit to training set and not generalizing for other data sets\n",
    "- Hence we can stop the training at that point to avoid overfitting"
   ]
  },
  {
   "cell_type": "code",
   "execution_count": 5,
   "metadata": {
    "code_folding": []
   },
   "outputs": [
    {
     "data": {
      "image/png": "[encoded data removed]",
      "text/plain": [
       "<Figure size 576x216 with 1 Axes>"
      ]
     },
     "metadata": {},
     "output_type": "display_data"
    }
   ],
   "source": [
    "# Early Stopping example visualization: find validation error increase point\n",
    "import matplotlib.pyplot as plt\n",
    "\n",
    "plt.figure(figsize=(8,3))\n",
    "plt.xlabel('#training iterations')\n",
    "plt.ylabel('Error')\n",
    "x_index = [1, 2, 3, 4, 5, 6, 7, 8, 9, 10, 11, 12, 13, 14, 15, 16, 17, 18]\n",
    "train_error = [100, 95, 88, 80, 60, 45, 20, 18, 15, 10, 9, 5, 3, 2, 2, 1, 0.4, 0.3]\n",
    "plt.plot(x_index, train_error, label='training_error')\n",
    "validation_error = [110, 105, 100, 95, 80, 55, 40, 38, 45, 55, 60, 60, 65, 68, 70, 70, 72, 74]\n",
    "plt.plot(x_index, validation_error, label='validation_error')\n",
    "plt.legend()\n",
    "plt.show()"
   ]
  },
  {
   "cell_type": "markdown",
   "metadata": {},
   "source": [
    "## Data Augmentation to avoid overfitting\n",
    "- More data can reduce the overfitting, but more data may not be available always so augment data by cropping, flipping, zooming, etc to create more data"
   ]
  },
  {
   "cell_type": "markdown",
   "metadata": {},
   "source": [
    "# <font color=DarkOrange> CNN Layer Theory </font>"
   ]
  },
  {
   "cell_type": "markdown",
   "metadata": {},
   "source": [
    "## Rectified Linear Unit (ReLU)\n",
    "- [Guide to ReLU](https://medium.com/tinymind/a-practical-guide-to-relu-b83ca804f1f7)\n",
    "- ReLU\n",
    "    - defined as y = max(0, x), doesn’t “saturate,” when x gets large. Hence, doesn’t have the vanishing gradient problem suffered by other activation functions like sigmoid or tanh\n",
    "- **Dying ReLU**\n",
    "    - A ReLU neuron is “dead” if it’s stuck in the negative side and always outputs 0. \n",
    "    - Because the slope of ReLU in the negative range is also 0, once a neuron gets negative, it’s unlikely for it to recover. \n",
    "    - Such neurons are not playing any role in discriminating the input and is essentially useless.\n",
    "- Leaky ReLU\n",
    "    - Leaky ReLU has a small slope for negative values, instead of altogether zero. \n",
    "    - For example, leaky ReLU may have ** y = 0.01x ** when x < 0\n",
    "- **Parametric ReLU (PReLU)**\n",
    "    - Parametric ReLU (PReLU) is a type of leaky ReLU that, instead of having a predetermined slope like 0.01, makes it a parameter for the neural network to figure out itself: y = ax when x < 0.\n",
    "- Exponential Linear (ELU, SELU)\n",
    "    - Similar to leaky ReLU, ELU has a small slope for negative values. Instead of a straight line, it ** uses a log curve ** y = a(ex-1)\n",
    "    - sometimes called Scaled ELU (SELU) due to the constant factor a\n",
    "    - leaky ReLU while it doesn’t have the dying ReLU problem, it saturates for large negative values, allowing them to be essentially inactive\n",
    "    - It is designed to combine the good parts of ReLU and leaky ReLU\n",
    "- Concatenated ReLU (CReLU)\n",
    "    - Concatenated ReLU has two outputs, one ReLU and one negative ReLU, concatenated together. \n",
    "    - In other words, for positive x it produces [x, 0], and for negative x it produces [0, x]. \n",
    "    - Because it has two outputs, CReLU doubles the output dimension.\n",
    "- ReLU-6\n",
    "    - ReLU capped at 6, 6 is an arbitrary choice that worked well"
   ]
  },
  {
   "cell_type": "markdown",
   "metadata": {},
   "source": [
    "## Softmax regression for multi-class classification\n",
    "- Softmax regression/activation is a generalization of logistic regression (binary classifier) and its used for multi-class classification used as the last layer for predictions\n",
    "- **Softmax converts the final outputs to probabilities of output classes**\n",
    "- Softmax gives probabilities for all output classes, whereas hardmax gives value 1 to highest probability class and makes remaining 0\n",
    "- Softmax is computed (as element-wise operation) and normalized on the output vector Z as below,\n",
    "<h3 align=\"center\"> $ Softmax_{prob} = \\frac {e^Z}{\\sum{e^Z}} $ </h3>\n",
    "- **Softmax example with 4 output classes,**\n",
    "    - final output Z = {5, 2, -1, 3}\n",
    "    - Softmax element-wise values (numerator) $e^Z$ = {148.4, 7.4, 0.4, 20.1}\n",
    "    - Softmax normalization factor (denominator) $\\sum{e^Z}$ = 176.3\n",
    "    - Final Softmax output probabilities = {0.842, 0.042, 0.002, 0.114}\n",
    "    - Final Hardmax output probabilities = {1, 0, 0, 0}"
   ]
  },
  {
   "cell_type": "markdown",
   "metadata": {},
   "source": [
    "# <font color=DarkOrange> Data Pre-Processing or Feature Scaling </font>\n",
    "- Standardization\n",
    "- Mean Normalization\n",
    "- Min-Max Scaling\n",
    "- Unit Vector"
   ]
  },
  {
   "cell_type": "markdown",
   "metadata": {},
   "source": [
    "## Standard deviation\n",
    "- [Standard deviation tutorial](https://www.mathsisfun.com/data/standard-deviation.html#WhySquare)\n",
    "- The Standard Deviation is a measure of how spread out numbers are (compared to mean)"
   ]
  },
  {
   "cell_type": "markdown",
   "metadata": {},
   "source": [
    "## Mean Normalization"
   ]
  },
  {
   "cell_type": "markdown",
   "metadata": {},
   "source": [
    "## Normalization and Standardization\n",
    "- [Standardization Vs Normalization](https://medium.com/@rrfd/standardize-or-normalize-examples-in-python-e3f174b65dfc)\n",
    "- **Normalization (Min-Max Scaling):**\n",
    "    - If the training data contain some features with higher magnitude (outliers), then the results might be dominated by them instead of all the features, hence normalize the data with largest value\n",
    "    - Normalization makes training less sensitive to the scale of features, so we can better solve for coefficients\n",
    "    - Normalizing will ensure that a convergence problem does not have a massive variance, making optimization feasible\n",
    "    - Normalization modifies the data range to [0, 1] using below formula,\n",
    "    <h4 align=\"center\"> $ norm(x) = \\frac{x - min(x)}{max(x) - min(x)} $ </h4>\n",
    "- **Standardization (Z-Score Normalization)**\n",
    "    - Data is rescaled such that mean (μ) = 0 and standard deviation (𝛔) = 1 as,\n",
    "    <h4 align=\"center\"> $ std(x) = \\frac{x - \\mu}{\\sigma} $ </h4>\n",
    "    - **standardized (z-score) or studentized (t-scores) scores to increase comparability of different features in the training data**\n",
    "    - **to arrive at (transformed) data that follows a normal distribution**\n",
    "    - But if original data does not follow normal distribution, then transformed data also may not follow"
   ]
  },
  {
   "cell_type": "markdown",
   "metadata": {},
   "source": [
    "## Covariance and Correlation\n",
    "- [Covariance and Correlation Tutorial](https://medium.com/@adamzerner/covariance-and-correlation-d4c64769d4f1)\n",
    "- Covariance\n",
    "    - **Covariance is a measure of how much two random variables vary together**. It’s similar to variance, but where variance tells you how a single variable varies, covariance tells you how two variables vary together\n",
    "    - positive covariance implies a direct relationship between the variables (increasing x increases y)\n",
    "    - negative covariance implies an indirect relationship between the variables (increasing x decreases y)\n",
    "    - ** If the covariance is large, so there is a strong relationship between the numbers** or if the covariance is small, so there is a weak relationship between the numbers\n",
    "- Correlation\n",
    "    - **The covariance can tell the direction/variability between two data, can not tell the how much is the relation**, since the data expressed in different units (ex: mm, cm, meters) yields varying covariance (large/small)\n",
    "    - <font color=blue>Hence the data's has to be standardized to find the strength of covariance, the standardized covariance known as Correlation which tells the strength</font>"
   ]
  },
  {
   "cell_type": "markdown",
   "metadata": {},
   "source": [
    "## Whitening"
   ]
  },
  {
   "cell_type": "markdown",
   "metadata": {},
   "source": [
    "## Batch Normalization\n",
    "- [Batch Normalization Tutorial](https://www.learnopencv.com/batch-normalization-in-deep-networks/)\n",
    "- [Batch Normalization Explained](https://blog.paperspace.com/busting-the-myths-about-batch-normalization/)\n",
    "- The intermediate data in a DNN can shift due to change in distribution, so BN normalizes the intermediate data to have zero mean, unit variance similar to general input normalization.\n",
    "- BN is generally applied on layer output (Z) before applying activation, ** the mean and variance are computed from each mini-batch**\n",
    "<h4 align=\"center\"> $ Z_{norm} = \\frac{Z - \\mu}{\\sqrt{\\sigma^2+\\epsilon}} $ </h4>\n",
    "- Final BN output is scaled by $\\gamma, \\beta$\n",
    "<h4 align=\"center\"> $ Z_{N} = \\gamma * Z_{norm} + \\beta $ </h4>\n",
    "- <font color=blue> $\\gamma, \\beta$ are also updated using gradient descent $\\gamma = \\gamma - \\alpha * d\\gamma$ </font>\n",
    "- <font color=blue> To compute BN in test time, the exponential average of $\\gamma, \\beta$ computed while training on mini-batches are used </font>\n",
    "- **Covariate Shift**\n",
    "    - covariate shift is defined as a change in the distribution of data\n",
    "    - If a DNN is trained on a data set containing a class (say red roses) and similar class with different attributes (say white roses)\n",
    "    - These two classes will be present in different regions in the feature space, this difference in distribution is called the covariate shift\n",
    "    - So while training, the mini batch should have the same distribution (of both red and white roses) sampled from the entire training data set\n",
    "    - When the mini-batches have images uniformly sampled from the entire distribution, there is negligible covariate shift\n",
    "    - However, when the mini-batches are sampled from only one of the two subsets, there is a ** significant covariate shift **. This makes the training of the rose vs non-rose classifier very slow\n",
    "    - An easy way to solve this problem to normalize the inputs (mini batch) to the neural network so that the input distribution have a zero mean and a unit variance\n",
    "- **Internal Covariate Shift**\n",
    "    - However, when the networks get deeper, say, 20 or more layers, the minor fluctuations in weights over more than 20 odd layers can produce big changes in the distribution of the input being fed to deeper layers even if the input is normalized.\n",
    "    - Just as it made intuitive sense to have a uniform distribution for the input layer, it is advantageous to have the same input distribution for each hidden unit over time while training. \n",
    "    - But in a neural network, each ** hidden unit’s input distribution changes every time there is a parameter update in the previous layer **. This is called internal covariate shift. \n",
    "    - This makes training slow and requires a very small learning rate and a good parameter initialization.\n",
    "- This problem is solved by normalizing the layer’s inputs over a mini-batch and this process is therefore called Batch Normalization.\n",
    "- However, as against above discussion, batch norm actually ends up increasing internal covariate shift as compared to a network that doesn't use batch norm. They key insight from the paper is that batch norm actually makes the loss surface smoother, which is why it works so well (as pointed by a recent research paper)"
   ]
  },
  {
   "cell_type": "markdown",
   "metadata": {},
   "source": [
    "# <font color=DarkOrange> Back Propagation </font>\n",
    "- [Back propagation step by step example](https://mattmazur.com/2015/03/17/a-step-by-step-backpropagation-example/)"
   ]
  },
  {
   "cell_type": "markdown",
   "metadata": {},
   "source": [
    "# <font color=DarkOrange> Gradient Descent </font>\n",
    "- [Gradient Descent Tutorial](https://blog.paperspace.com/intro-to-optimization-in-deep-learning-gradient-descent/)\n",
    "- how do we go about **escaping local minima and saddle points**, while trying to converge to a global maximum. The answer is **randomness**\n",
    "- Gradient descent is a First Order Optimization Method. It only takes the first order derivatives of the loss function into account and not the higher ones. What this basically means it has no clue about the curvature of the loss function. It can tell whether the loss is declining and how fast, but cannot differentiate between whether the curve is a plane, curving upwards or curving downwards."
   ]
  },
  {
   "cell_type": "markdown",
   "metadata": {},
   "source": [
    "# <font color=DarkOrange> Deep Learning Training </font>"
   ]
  },
  {
   "cell_type": "markdown",
   "metadata": {},
   "source": [
    "## <font color=DarkMagenta> Bias Variance Trade-Off </font>\n",
    "- [Bias Variance Trade-off Tutorial](https://www.listendata.com/2017/02/bias-variance-tradeoff.html)\n",
    "- [Bias Variance Trade-off Infograph](https://elitedatascience.com/bias-variance-tradeoff)\n",
    "- ** Bias **\n",
    "    - Bias is a measure of the prediction accuracy on training data\n",
    "    - <font color=blue> High bias means low prediction accuracy </font>, which means model may be too simple not able learn from training data known as underfitting\n",
    "    - For example, a linear regression model would have high bias when trying to model a non-linear relationship\n",
    "    - High Bias Techniques\n",
    "        - Linear Regression, Linear Discriminant Analysis and Logistic Regression\n",
    "    - Low Bias Techniques\n",
    "        - Decision Trees,  K-nearest neighbours and Gradient Boosting\n",
    "    - <font color=blue> Parametric algorithms which assume something about the distribution of the data points </font> suffer from High Bias. Whereas non-parametric algorithms which does not assume anything special about distribution have low bias.\n",
    "- ** Variance **\n",
    "    - Variance is a measure of the generalization of the network\n",
    "    - <font color=blue> High variance means less generalization </font>, complex models that fits well on training data but they cannot generalise the pattern well which results to overfitting\n",
    "    - Low Variance Techniques\n",
    "        - Linear Regression, Linear Discriminant Analysis and Logistic Regression\n",
    "    - High Variance Techniques\n",
    "        - Decision Trees,  K-nearest neighbours and SVM\n",
    "- ** Bias Variance Trade-off **\n",
    "    - It means there is a trade-off between predictive accuracy and generalization of pattern outside training data. Increasing the accuracy of the model will lead to less generalization of pattern outside training data. Increasing the bias will decrease the variance. Increasing the variance will decrease the bias."
   ]
  },
  {
   "cell_type": "markdown",
   "metadata": {},
   "source": [
    "## Weight Initialization\n",
    "- Weights initialized with zeros makes network not learn anything because of symmetry problem. as all nodes will have same weights, so they dont learn different functions/relationships"
   ]
  },
  {
   "cell_type": "markdown",
   "metadata": {},
   "source": [
    "### He initialization"
   ]
  },
  {
   "cell_type": "markdown",
   "metadata": {},
   "source": []
  },
  {
   "cell_type": "markdown",
   "metadata": {},
   "source": [
    "## Gradient checking"
   ]
  },
  {
   "cell_type": "markdown",
   "metadata": {},
   "source": []
  },
  {
   "cell_type": "markdown",
   "metadata": {},
   "source": [
    "## Gradient Clipping\n",
    "- Due to exploding gradients the weight parameters values exponentially become large values like Nan (Not a number)\n",
    "- To solve this problem simple solution is to clip the gradients above a certain threshold"
   ]
  },
  {
   "cell_type": "markdown",
   "metadata": {},
   "source": [
    "# <font color=DarkOrange> Hyper Parameter Tuning </font>"
   ]
  },
  {
   "cell_type": "markdown",
   "metadata": {},
   "source": [
    "## Mini-Batch Gradient Descent\n",
    "- Training set is divided in to smaller set of samples known as mini-batch\n",
    "- <font color=blue> Before splitting the training in to mini-batches, the data is randomly shuffled to ensure data is shuffled in to different mini-batches </font>\n",
    "- After a mini-batch is trained the backward propagation is applied to update weights\n",
    "- Hence, weights are updated after training on a min-batch unlike batch gradient descent where back prop & weight updation happens after processing all training samples\n",
    "- So to process the whole training set, it needs to run for train_samples/min_batch_size times **known as iterations**\n",
    "- If min-batch size = total train samples, it is batch gradient\n",
    "- If min-batch size = total train samples, it is **known as stochastic gradient descent (SGD)**\n",
    "- We may observer, the training error reduces smoothly in batch GD, where as <font color=blue>**in mini-batch ripples are observed in training error due to error computed on different mini-batches**</font>\n",
    "- SGD error will be more noisier as it operates on each sample, but its much faster\n",
    "- Batch gradient is smooth, but very slow due to large amount of data may not fit in RAM"
   ]
  },
  {
   "cell_type": "code",
   "execution_count": 6,
   "metadata": {},
   "outputs": [
    {
     "data": {
      "image/png": "[encoded data removed]",
      "text/plain": [
       "<Figure size 864x216 with 2 Axes>"
      ]
     },
     "metadata": {},
     "output_type": "display_data"
    }
   ],
   "source": [
    "# Typical training error plots of batch and min-batch gradient descent\n",
    "import matplotlib.pyplot as plt\n",
    "\n",
    "plt.figure(figsize=(12,3))\n",
    "\n",
    "plt.subplot(1,2,1)\n",
    "plt.xlabel('#training iterations')\n",
    "plt.ylabel('Training cost')\n",
    "x_index = [1, 2, 3, 4, 5, 6, 7, 8, 9, 10, 11, 12, 13, 14, 15, 16, 17, 18]\n",
    "train_error = [200, 180, 150, 130, 120, 100, 90, 80, 70, 60, 50, 45, 40, 35, 30, 25, 20, 15]\n",
    "plt.plot(x_index, train_error, label='Batch Gradient Descent')\n",
    "plt.legend()\n",
    "\n",
    "#sub plot\n",
    "plt.subplot(1,2,2)\n",
    "plt.xlabel('#min-batch training iterations')\n",
    "plt.ylabel('Training cost')\n",
    "x_index = [1, 2, 3, 4, 5, 6, 7, 8, 9, 10, 11, 12, 13, 14, 15, 16, 17, 18, 19, 20, 21, 22, 23, 24, 25]\n",
    "validation_error = [200, 190, 175, 185, 180, 155, 165, 130, 145, 120, 140, 100, 125, 90, 95, 80, 90, 60, 78, 50, 55, 45, 40, 50, 35]\n",
    "plt.plot(x_index, validation_error, label='Mini-batch Gradient Descent')\n",
    "plt.legend()\n",
    "plt.show()"
   ]
  },
  {
   "cell_type": "markdown",
   "metadata": {},
   "source": [
    "## Exponentially Weighted Moving Average\n",
    "- It is an optimization algorithm for local average or smoothing\n",
    "- Equation: Current_val(t) = weight * Previous_val(t-1) + (1 - weight) * current_sample\n",
    "- Generally defined as, <h3 align=\"center\"> $ Val_t = \\beta * Val_{t-1} + (1-\\beta) * currentsample $ </h3>\n",
    "- **$\\beta$ is weight factor indicates how much weightage to be given to previous values**\n",
    "- If $\\beta$ is high, then lot of weitage to previous values, then moving average adapts slowly to local changes\n",
    "- If $\\beta$ is low, then lot of weitage to current sample, then moving average adapts faster to local changes\n",
    "- $Val_t$ is $\\approx \\frac{1}{1-\\beta}$\n",
    "    - Example: if $\\beta = 0.9$ means its an average over 10 previous values\n",
    "- $\\beta$ is a hyper parameter to be tuned and typical value for $\\beta$ is 0.9"
   ]
  },
  {
   "cell_type": "markdown",
   "metadata": {},
   "source": [
    "### Bias correction in exponential weighted average\n",
    "- Generally the initial value $V_0$ is assigned with zero, so the initial values are close to zero instead of representing the actual averages\n",
    "- To solve this we can calculate value as, $\\frac{Val_t}{1-\\beta^t}$, for initial values it works as average, when t becomes large $\\frac{1}{1-\\beta^t}$ becomes one so no difference to the value\n",
    "- **This way correcting the average values of initial samples is known as bias correction**"
   ]
  },
  {
   "cell_type": "markdown",
   "metadata": {},
   "source": [
    "## Gradient descent with momentum\n",
    "- The gradient descent error oscillates or contains ripples due to change in error surface due to current mini-batch\n",
    "- This oscillations are even bigger if we use a bigger learning rate\n",
    "- <font color=blue> **Hence for smooth convergence use the exponential moving average concept to update gradients to have fast convergence** </font>\n",
    "- Weight gradient update, <h3 align=\"center\"> $ V_{dw} = \\beta * V_{dw} + (1-\\beta) * dw $ </h3>\n",
    "<h3 align=\"center\"> $ W = W - \\alpha * V_{dw} $ </h3>"
   ]
  },
  {
   "cell_type": "markdown",
   "metadata": {},
   "source": [
    "## RMSprop (Root Mean Square prop)\n",
    "- Similar to gradient descent with momentum, the vertical direction updates has to be minimized and horizontal direction movement has to higher for faster convergence in 2D bowl shape function\n",
    "- RMSprop also does better convergence\n",
    "- Weight gradient update, <h3 align=\"center\"> $ S_{dw} = \\beta * S_{dw} + (1-\\beta) * dw * dw $ </h3>\n",
    "<h3 align=\"center\"> $ W = W - \\alpha * \\frac {dw}{\\sqrt{1- S_{dw}}} $ </h3>\n",
    "- The intuition of RMSprop is, divide the vertical gradients with bigger number and horizontal gradients with smaller numbers for smooth and fast convergence"
   ]
  },
  {
   "cell_type": "markdown",
   "metadata": {},
   "source": [
    "## Adam Optimizer\n",
    "- <font color=blue> **Adam optimizer is the best optimizer, which is a combination of momentum and RMSprop** </font>\n",
    "<h3 align=\"center\"> $ V_{dw} = \\beta_1 * V_{dw} + (1-\\beta_1) * dw $ </h3>\n",
    "<h3 align=\"center\"> $ S_{dw} = \\beta_2 * S_{dw} + (1-\\beta_2) * dw * dw $ </h3>\n",
    "- Adam weight update, <h3 align=\"center\"> $ W = W - \\alpha * \\frac {V_{dw}}{\\sqrt{1- S_{dw}}} $ </h3>\n",
    "- $\\beta_1, \\beta_2$ are the 2 hyper parameters and typical values suggested by adam paper are 0.9 and 0.9999 respectively"
   ]
  },
  {
   "cell_type": "markdown",
   "metadata": {},
   "source": [
    "## Learning rate decay\n",
    "- The learning rate can higher while initial training steps to take big strides, after some epochs gradually reduce the learning rate to converge to the optimal"
   ]
  },
  {
   "cell_type": "markdown",
   "metadata": {},
   "source": [
    "## Cyclical learning rate"
   ]
  },
  {
   "cell_type": "markdown",
   "metadata": {},
   "source": [
    "## #layers and #hidden units hyper parameters"
   ]
  },
  {
   "cell_type": "markdown",
   "metadata": {},
   "source": []
  },
  {
   "cell_type": "markdown",
   "metadata": {},
   "source": [
    "## Train-dev set for different distribution of train, dev sets\n",
    "- The distribution of train, dev/test sets can be different, still the DNNs work well\n",
    "- But to compute bias, variance, these sets will not indicate proper analysis due to different distributions\n",
    "- Create a separate dev set from training data known as train-dev set, which is used for error analysis of bias, variance"
   ]
  },
  {
   "cell_type": "markdown",
   "metadata": {},
   "source": [
    "# <font color=DarkOrange> Hyper Parameter Search </font>\n",
    "- [Tutorial with examples](https://blog.floydhub.com/guide-to-hyperparameters-search-for-deep-learning-models/)\n",
    "- [Tutorial and examples](https://blog.nanonets.com/hyperparameter-optimization/)\n",
    "- Hyperparameter Tuning is nothing but searching for the right set of hyperparameter to achieve high precision and accuracy."
   ]
  },
  {
   "cell_type": "markdown",
   "metadata": {},
   "source": [
    "## Grid Search\n",
    "- In Grid Search, we try every combination of a preset list of values of the hyper-parameters and evaluate the model for each combination. The pattern followed here is similar to the grid, where all the values are placed in the form of a matrix.\n",
    "-  the number of evaluations required for this strategy increases exponentially with each additional parameter, due to the curse of dimensionality."
   ]
  },
  {
   "cell_type": "markdown",
   "metadata": {},
   "source": [
    "## Random Search for hyper parameter tuning\n",
    "- Random search is a technique where random combinations of the hyperparameters are used to find the best solution for the built model. It tries random combinations of a range of values.\n",
    "- The chances of finding the optimal parameter are comparatively higher in random search because of the random search pattern "
   ]
  },
  {
   "cell_type": "markdown",
   "metadata": {},
   "source": [
    "## Coarse to fine sampling of hyper param search space"
   ]
  },
  {
   "cell_type": "markdown",
   "metadata": {},
   "source": []
  },
  {
   "cell_type": "markdown",
   "metadata": {},
   "source": [
    "## Bayesian Search\n",
    "- Grid and random search are completely uninformed by past evaluations, and as a result, often spend a significant amount of time evaluating “bad” hyperparameters.\n",
    "- <font color=blue> Bayesian approaches, in contrast to random or grid search, keep track of past evaluation results </font> which they use to form a probabilistic model mapping hyperparameters to a probability of a score on the objective function:\n",
    "- **The Algorithm:** <font color=blue> Bayesian methods attempt to build a function (more accurately, a probability distribution over possible function) that estimates how good your model might be for a certain choice of hyperparameters. By using this approximate function (called a surrogate function in literature), you don’t have to go through the set, train, evaluate loop too many time, since you can just optimize the hyperparameters to the surrogate function. </font>\n",
    "- <font color=blue> The surrogate function comes from something called a Gaussian process </font> (note: there are other ways to model the surrogate function, but I’ll use a Gaussian process).\n",
    "- The surrogate is much easier to optimize than the objective function and Bayesian methods work by finding the next set of hyperparameters to evaluate on the actual objective function by selecting hyperparameters that perform best on the surrogate function\n",
    "- <font color=blue> So it is like building a ML model to find best hyper parameters by optimizing the surrogate function with the hyperparameters\n",
    "-  In other words:\n",
    "    - 1 Build a surrogate probability model of the objective function\n",
    "    - 2 Find the hyperparameters that perform best on the surrogate\n",
    "    - 3 Apply these hyperparameters to the true objective function\n",
    "    - 4 Update the surrogate model incorporating the new results\n",
    "    - 5 Repeat steps 2–4 until max iterations or time is reached </font>\n",
    "    \n",
    "---\n",
    "- **Bayesian search with visualization**\n",
    "- The first image shows an initial estimate of the surrogate model — in black with associated **uncertainty in gray** — after two evaluations. Clearly, the surrogate model is a poor approximation of the actual objective function in red:\n",
    "- <font color=blue> The next image shows the surrogate function after 8 evaluations. Now the surrogate almost exactly matches the true function. Therefore, if the algorithm selects the hyperparameters that maximize the surrogate, they will likely yield very good results on the true evaluation function. </font>\n",
    "\n",
    "<img src=\"images/bayesian_initial.PNG\" width=\"350\" align=\"left\">\n",
    "<img src=\"images/bayesian_refined.PNG\" width=\"350\">"
   ]
  },
  {
   "cell_type": "markdown",
   "metadata": {},
   "source": [
    "### Sequential Model Based Optimization (SMBO)\n",
    "- Sequential model-based optimization (SMBO) methods (SMBO) are a formalization of Bayesian optimization. \n",
    "- The sequential refers to running trials one after another, each time trying better hyperparameters by applying Bayesian reasoning and updating a probability model (surrogate).\n",
    "\n",
    "- There are five aspects of model-based hyperparameter optimization:\n",
    "    - 1. A domain of hyperparameters over which to search\n",
    "    - 2. An objective function which takes in hyperparameters and outputs a score that we want to minimize (or maximize)\n",
    "    - 3. The surrogate model of the objective function\n",
    "    - 4. A criteria, called a selection function, for evaluating which hyperparameters to choose next from the surrogate model\n",
    "    - 5. A history consisting of (score, hyperparameter) pairs used by the algorithm to update the surrogate model\n",
    "- <font color=blue> Gaussian process is the most common choice for surrogate function\n",
    "- Tree Parzen Estimators (TPE) while the most common choice for step 4 is Expected Improvement. </font>"
   ]
  },
  {
   "cell_type": "markdown",
   "metadata": {},
   "source": [
    "### Gaussian Process"
   ]
  },
  {
   "cell_type": "markdown",
   "metadata": {},
   "source": [
    "### Tree Parzen Estimators (TPE) "
   ]
  },
  {
   "cell_type": "markdown",
   "metadata": {},
   "source": [
    "### Bayesian Search Implementation\n",
    "- [Bayesian search with Keras](https://www.dlology.com/blog/how-to-do-hyperparameter-search-with-baysian-optimization-for-keras-model/)"
   ]
  },
  {
   "cell_type": "markdown",
   "metadata": {},
   "source": [
    "# <font color=DarkOrange> Ensemble Algorithms </font>\n",
    "- [Ensemble overview](https://medium.com/coinmonks/an-intro-to-ensemble-learning-in-machine-learning-5ed8792af72d)\n",
    "- [Ensemble Tutorial](https://towardsdatascience.com/ensemble-learning-in-machine-learning-getting-started-4ed85eb38e00)\n",
    "- The goal of ensemble algorithms is to combine the predictions of several base estimators built with a given learning algorithm in order to improve generalizability / robustness over a single estimator\n",
    "- There are two families of ensemble methods which are usually distinguished\n",
    "    - **Averaging methods**\n",
    "        - The driving principle is to build several estimators independently and then to average their predictions. On average, the combined estimator is usually better than any of the single base estimator because its variance is reduced\n",
    "        - <font color=blue> examples: Bagging methods, Forests of randomized trees </font>\n",
    "    - **Boosting methods**\n",
    "        - Base estimators are built sequentially and one tries to reduce the bias of the combined estimator. The motivation is to combine several weak models to produce a powerful ensemble\n",
    "        - <font color=blue> examples: AdaBoost, Gradient Tree Boosting </font>\n",
    "- **The three most popular methods for combining the predictions from different models are**\n",
    "    - **Bagging or Bootstrap Aggregation**\n",
    "        - Building multiple models (typically of the same type) from different subsamples of the training dataset.\n",
    "    - **Boosting**\n",
    "        - Building multiple models (typically of the same type) each of which learns to fix the prediction errors of a prior model in the sequence of models.\n",
    "    - **Voting**\n",
    "        - Building multiple models (typically of differing types) and simple statistics (like calculating the mean) are used to combine predictions."
   ]
  },
  {
   "cell_type": "markdown",
   "metadata": {},
   "source": [
    "## Voting\n",
    "- You can train your model using diverse algorithms and then ensemble them to predict the final output. Say, you use a Random Forest Classifier, SVM Classifier, Linear Regression etc\n",
    "- **Hard voting** is where a model is selected from an ensemble to make the final prediction by a simple **majority** vote for accuracy\n",
    "- **Soft voting** arrives at the best result by **averaging** out the probabilities calculated by individual algorithms. Soft Voting can only be done when all your classifiers can calculate probabilities for the outcomes."
   ]
  },
  {
   "cell_type": "markdown",
   "metadata": {},
   "source": [
    "## Bagging or Bootstrap Aggregation\n",
    "- Instead of running various models on a single dataset, you can **use a single model over various random subsets of the dataset**\n",
    "- Random sampling with replacement is called Bagging, short for bootstrap aggregating. "
   ]
  },
  {
   "cell_type": "markdown",
   "metadata": {},
   "source": [
    "## Random Forests\n",
    "- An ensemble of Decision trees is a Random Forest. Random Forests performs Bagging internally."
   ]
  },
  {
   "cell_type": "markdown",
   "metadata": {},
   "source": [
    "## AdaBoost\n",
    "- In simple terms, Run a Classifier and make predictions. Run another classifier to fit the previously misclassified instances and make predictions. Repeat until all/most of the training instances are fitted."
   ]
  },
  {
   "cell_type": "markdown",
   "metadata": {},
   "source": [
    "## Gradient Boosting\n",
    "- Similar to AdaBoost, Gradient Boosting also works with successive predictive models added to the ensemble.\n",
    "- Instead of updating the weights of the training instances like AdaBoost, Gradient Boosting fits the new model to the residual errors.\n",
    "- Put simply, Fit a model to the given Training set. Calculate the Residual Errors which become the new training instances. A new model is trained on these and so on."
   ]
  },
  {
   "cell_type": "markdown",
   "metadata": {},
   "source": [
    "## XGBoost\n",
    "- XGBoost is a recent, most preferred and powerful gradient boosting method. \n",
    "- Instead of making hard Yes and No Decision at the Leaf Nodes, XGBoost assigns positive and negative values to every decision made.\n",
    "- XGBoost can work with Trees as well as Linear Models."
   ]
  },
  {
   "cell_type": "markdown",
   "metadata": {},
   "source": [
    "# <font color=DarkOrange> Recurrent Neural Networks (RNN) </font>"
   ]
  },
  {
   "cell_type": "markdown",
   "metadata": {},
   "source": [
    "## Why RNNs?\n",
    "- For sequence data normal CNNs does not work because of mainly 2 reasons,\n",
    "    - The inputs does not share common features like images which is required by CNNs\n",
    "    - The input size and output size can be different (machine translation), which can not be handled by CNNs"
   ]
  },
  {
   "cell_type": "markdown",
   "metadata": {},
   "source": [
    "## Simple RNN\n",
    "- The input 'x' is processed by a weight matrix Wx, and previous activation output by Wa and output prediction is computed by Wy matrix\n",
    "- The same weights Wa, Wx, Wy are shared among different times temporally"
   ]
  },
  {
   "cell_type": "markdown",
   "metadata": {},
   "source": [
    "### Simple RNN equations\n",
    "- The simple RNN diagram and equations are shown below (source: coursera),\n",
    "\n",
    "<img src=\"images/rnn_forward_prop_equations.PNG\" width=\"500\"/>\n",
    "\n",
    "- It can be represented as a single unit as shown below,\n",
    "<img src=\"images/rnn_diagram.PNG\" width=\"600\"/>"
   ]
  },
  {
   "cell_type": "markdown",
   "metadata": {},
   "source": [
    "### Simplified RNN equations notation\n",
    "- The generic version of equations are created by staking the Wa, Wx weight matrices and also correspondingly staking input 'x(t)', previous output 'a(t-1)'\n",
    "<img src=\"images/rnn_simplified_notation.PNG\" width=\"500\"/>"
   ]
  },
  {
   "cell_type": "markdown",
   "metadata": {},
   "source": [
    "### Simple RNN representation\n",
    "- The above equation can be represented as shown below\n",
    "\n",
    "<img src=\"images/rnn_unit.PNG\" width=\"400\"/>"
   ]
  },
  {
   "cell_type": "markdown",
   "metadata": {},
   "source": [
    "## BPTT (Back Prop Through Time)"
   ]
  },
  {
   "cell_type": "markdown",
   "metadata": {},
   "source": []
  },
  {
   "cell_type": "markdown",
   "metadata": {},
   "source": [
    "## Name Entity Recognition (NER)"
   ]
  },
  {
   "cell_type": "markdown",
   "metadata": {},
   "source": [
    "## Language Modelling\n",
    "- LM finds the probability of a sentence occurrence with a set of words"
   ]
  },
  {
   "cell_type": "markdown",
   "metadata": {},
   "source": [
    "### Tokenization\n",
    "- Takes individual words in a given sentence and maps to an entry the dictionary\n",
    "- Add UKN for unknown words which are not there in your dictionary\n",
    "- Can add EOS token at the end of sentence to indicate end"
   ]
  },
  {
   "cell_type": "markdown",
   "metadata": {},
   "source": [
    "### Word vs Character RNN\n",
    "- Character level models require lot of characters, hence states and longer dependencies and also computationally expensive"
   ]
  },
  {
   "cell_type": "markdown",
   "metadata": {},
   "source": [
    "## GRU (Gated Recurrent Unit)\n",
    "- To resolve the long term dependencies of input sequences, LSTM and GRU are developed\n",
    "- The GRU uses a memory cell 'c', <font color=blue> the memory cell value is updated by a gate to decide what information to retain using an update gate </font>\n",
    "- The memory cell value is dependent on current candidate cell value and previous cell output\n",
    "- The memory cell can be a vector, each element may be representing a specific characteristic of input sequence (like noun, singular/plural, subject, etc)\n",
    "\n",
    "<img src=\"images/rnn_gru.PNG\" width=\"500\"/>\n",
    "\n",
    "- The full standard GRU uses one extra operation/gate compared to above equation to find the relevance of the candidate cell output\n",
    "\n",
    "<img src=\"images/rnn_gru_standard.PNG\" width=\"400\"/>"
   ]
  },
  {
   "cell_type": "markdown",
   "metadata": {},
   "source": [
    "## LSTM (Long Short Term Memory)\n",
    "- LSTM is a generic and complex version than GRU\n",
    "- <font color=blue> LSTM uses 3 gates rather than 2 gates as in GRU </font>\n",
    "- The main difference of LSTM compared to GRU is a(t) is not same as c(t)\n",
    "- <font color=blue> The cell state 'c' is computed with 2 gates update, forget </font>\n",
    "- Output at any time stamp is computed with 3rd gate output gate\n",
    "\n",
    "<img src=\"images/rnn_lstm.PNG\" width=\"500\"/>"
   ]
  },
  {
   "cell_type": "markdown",
   "metadata": {},
   "source": [
    "### Peephole connection\n",
    "- Its a variation of LSTM, where gate values not only depend on a(t-1), x(t) but also depends on c(t-1) previous cell state"
   ]
  },
  {
   "cell_type": "markdown",
   "metadata": {},
   "source": [
    "## BRNN (Bi-directional RNN)\n",
    "- Bi-directional processes the input sequence from both directions to make predictions\n",
    "- The downside of BRNN is it requires entire input sequence, it is suitable for NLP tasks where entire input sequence is available, but for real-time ASR tasks entire sequence is not available where a complex BRNN can be used\n",
    "\n",
    "<img src=\"images/rnn_BRNN.PNG\" width=\"500\"/>"
   ]
  },
  {
   "cell_type": "markdown",
   "metadata": {},
   "source": [
    "## Deep RNN\n",
    "- To learn more complex functions the RNNs can be stacked on top of another as shown below\n",
    "\n",
    "<img src=\"images/rnn_deep.PNG\" width=\"500\"/>"
   ]
  },
  {
   "cell_type": "markdown",
   "metadata": {},
   "source": [
    "# <font color=DarkOrange> Word Embedding </font>"
   ]
  },
  {
   "cell_type": "markdown",
   "metadata": {},
   "source": [
    "## Featurized representation\n",
    "- Generally the words in a dictionary are represented as one-hot encoding, this representation doesn't maintain any relation between different words\n",
    "- Hence, a simple one-hot representation requires a lot of corpus to train the model to learn all words\n",
    "- But if we can maintain a relation (like orange, apple are fruits) between words, then we need only small corpus to train model, word embedding achieves this\n",
    "- <font color=blue> Featurized representation gives each word a representation against various features, these features are used get the relation between various words </font>\n",
    "- Word embedding gives analogies/similarity of various words, it allows to train using a small corpus and get the context for unseen words based on similarity, below is an example: if Man is to Women, then what King is to ?, It will be found by vector (various features as shown below) difference between Man and Women will be similar to King and Queen.\n",
    "<img src=\"images/word_embed_analogies.PNG\" width=\"400\">"
   ]
  },
  {
   "cell_type": "markdown",
   "metadata": {},
   "source": [
    "## Cosine Similarity"
   ]
  },
  {
   "cell_type": "markdown",
   "metadata": {},
   "source": [
    "## Word2Vec"
   ]
  },
  {
   "cell_type": "markdown",
   "metadata": {},
   "source": [
    "### Skip gram"
   ]
  },
  {
   "cell_type": "markdown",
   "metadata": {},
   "source": [
    "## Negative Sampling"
   ]
  },
  {
   "cell_type": "markdown",
   "metadata": {},
   "source": [
    "# <font color=DarkOrange> Sequence Models </font>"
   ]
  },
  {
   "cell_type": "markdown",
   "metadata": {},
   "source": [
    "## Beam Search"
   ]
  },
  {
   "cell_type": "markdown",
   "metadata": {},
   "source": [
    "# <font color=DarkOrange> VAE (Variational Auto Encoders) </font>\n",
    "- [VAE Tutorial](https://towardsdatascience.com/intuitively-understanding-variational-autoencoders-1bfe67eb5daf)\n",
    "- Variational Autoencoders (VAEs) are powerful generative models\n",
    "- When using generative models, you could simply want to generate a random, new output, that looks similar to the training data"
   ]
  },
  {
   "cell_type": "markdown",
   "metadata": {},
   "source": [
    "## Auto Encoder\n",
    "- An autoencoder network is actually a pair of two connected networks, an encoder and a decoder. \n",
    "- An encoder network takes in an input, and converts it into a smaller, dense representation, which the decoder network can use to convert it back to the original input.\n",
    "- The encoder learns to preserve as much of the relevant information as possible in the limited encoding, and intelligently discard irrelevant parts. The decoder learns to take the encoding and properly reconstruct it into a full image. Together, they form an autoencoder.\n",
    "\n",
    "<img src=\"images/auto_encoder.PNG\" width=\"400\"/>\n",
    "\n",
    "- The **fundamental problem with autoencoders, for generation of new or variation of input, is that the latent space they convert their inputs to and where their encoded vectors lie, may not be continuous**\n",
    "- If the space has discontinuities (eg. gaps between clusters) and you sample/generate a variation from there, the decoder will simply generate an unrealistic output, because the decoder has no idea how to deal with that region of the latent space. During training, it never saw encoded vectors coming from that region of latent space."
   ]
  },
  {
   "cell_type": "markdown",
   "metadata": {},
   "source": [
    "## VAE\n",
    "- when you’re building a generative model, you don’t want to prepare to replicate the same image you put in. You want to randomly sample from the latent space, or generate variations on an input image, from a continuous latent space.\n",
    "- Variational Autoencoders (VAEs) have one fundamentally unique property that separates them from vanilla autoencoders, and it is this property that makes them so useful for generative modeling: <font color=blue> their latent spaces are, by design, continuous, allowing easy random sampling and interpolation. </font>\n",
    "- It achieves this by making its encoder not output an encoding vector of size n, rather, <font color=blue> outputting two vectors of size n: a vector of means, μ, and another vector of standard deviations, σ. </font>\n",
    "\n",
    "<img src=\"images/vae.PNG\" width=\"300\"/>\n",
    "\n",
    "- The encoder samples the vectors stochastically, stochastic generation means, that even for the same input, while the mean and standard deviations remain the same, the actual encoding will somewhat vary on every single pass simply due to sampling.\n",
    "\n",
    "<img src=\"images/vae_vs_standard.PNG\" width=\"400\"/>\n",
    "\n",
    "- Intuitively, the mean vector controls where the encoding of an input should be centered around, while the standard deviation controls the “area”, how much from the mean the encoding can vary. \n",
    "- <font color=blue>As encodings are generated at random from anywhere inside the “circle” (the distribution), the decoder learns that not only is a single point in latent space referring to a sample of that class, but all nearby points refer to the same as well.</font> \n",
    "- This allows the decoder to not just decode single, specific encodings in the latent space (leaving the decodable latent space discontinuous), but ones that slightly vary too, as the decoder is exposed to a range of variations of the encoding of the same input during training."
   ]
  },
  {
   "cell_type": "markdown",
   "metadata": {},
   "source": [
    "### KL divergence loss\n",
    "- What we ideally want are encodings, all of which are as close as possible to each other while still being distinct, allowing smooth interpolation, and enabling the construction of new samples.\n",
    "- In order to force this, we introduce the Kullback–Leibler divergence (KL divergence[2]) into the loss function. \n",
    "- The KL divergence between two probability distributions simply measures how much they diverge from each other. Minimizing the KL divergence here means optimizing the probability distribution parameters (μ and σ) to closely resemble that of the target distribution."
   ]
  },
  {
   "cell_type": "markdown",
   "metadata": {},
   "source": [
    "# <font color=DarkOrange> Reinforcement Learning </font>"
   ]
  },
  {
   "cell_type": "markdown",
   "metadata": {},
   "source": []
  },
  {
   "cell_type": "markdown",
   "metadata": {},
   "source": [
    "# <font color=DarkOrange> SOTA CNN Networks/Concepts </font>\n",
    "- [Consolidated list of various SOTA networks](https://towardsdatascience.com/review-srdensenet-densenet-for-sr-super-resolution-cbee599de7e8)"
   ]
  },
  {
   "cell_type": "markdown",
   "metadata": {},
   "source": [
    "## Classification Networks"
   ]
  },
  {
   "cell_type": "markdown",
   "metadata": {},
   "source": [
    "### <font color=DarkMagenta> DenseNet </font>\n",
    "- [DenseNet Tutorial](https://towardsdatascience.com/review-densenet-image-classification-b6631a8ef803)\n",
    "- **Dense Block :** In DenseNet, <font color=blue> each layer obtains additional inputs from all preceding layers </font> and passes on its own feature-maps to all subsequent layers. Concatenation is used. Each layer is receiving a “collective knowledge” from all preceding layers.\n",
    "\n",
    "<img src=\"images/dense_block.PNG\" width=\"400\">\n",
    "\n",
    "- Since each layer receives feature maps from all preceding layers, network can be thinner and compact, i.e. number of channels can be fewer. The growth rate k is the additional number of channels for each layer. \n",
    "- <font color=blue> A bottleneck (convolution 1x1) is used to reduce the number of channels </font>\n",
    "- ** Advantages of DenseNet **\n",
    "    - <font color=blue> The error signal can be easily propagated to earlier layers more directly </font>. This is a kind of implicit deep supervision as earlier layers can get direct supervision from the final layer.\n",
    "    - It have higher computational efficiency and memory efficiency.\n",
    "    - Since each layer in DenseNet receive all preceding layers as input, more diversified features and tends to have richer patterns."
   ]
  },
  {
   "cell_type": "markdown",
   "metadata": {},
   "source": [
    "### Inception"
   ]
  },
  {
   "cell_type": "markdown",
   "metadata": {},
   "source": [
    "### ResNet\n",
    "- instead of trying to learn an underlying mapping from x to H(x), learn the difference between the two, or the “residual.” Then, to calculate H(x), we can just add the residual to the input.\n",
    "- <font color=blue> Say the residual is F(x)=H(x)-x. Now, instead of trying to learn H(x) directly, resnet trying to learn F(x)+x. </font>\n",
    "\n",
    "<img src=\"images/residual_block.PNG\" width=\"300\">\n",
    "\n",
    "- <font color=blue> The intution is that, the residual block at least learn the identity mapping with skip/shortcut connection, which does not hurt the performance. </font> If the underlying residual path learns some meaningful data then performance can improve."
   ]
  },
  {
   "cell_type": "markdown",
   "metadata": {},
   "source": [
    "### ResNext\n",
    "- The model name, ResNeXt, contains Next. It means the next dimension, on top of the ResNet. This next dimension is called the “cardinality” dimension.\n",
    "\n",
    "<img src=\"images/resnext.PNG\" width=\"400\">\n",
    "\n",
    "- Authors tried below 3 variants and found results are same, so finally chose the variant (c)\n",
    "\n",
    "<img src=\"images/resnext_variants.PNG\" width=\"500\">"
   ]
  },
  {
   "cell_type": "markdown",
   "metadata": {},
   "source": [
    "### Highway Net"
   ]
  },
  {
   "cell_type": "markdown",
   "metadata": {},
   "source": [
    "### Pre-Activation ResNet"
   ]
  },
  {
   "cell_type": "markdown",
   "metadata": {},
   "source": [
    "###  WRNs (Wide Residual Networks)"
   ]
  },
  {
   "cell_type": "markdown",
   "metadata": {},
   "source": [
    "### MobileNet"
   ]
  },
  {
   "cell_type": "markdown",
   "metadata": {},
   "source": [
    "### Xception\n",
    "- Xception stands for “extreme inception.”, as the name suggests, it takes the principles of Inception to an extreme.\n",
    "- The modified depthwise separable convolution is the pointwise convolution followed by a depthwise convolution. This modification is motivated by the inception module in Inception-v3 that 1×1 convolution is done first before any n×n spatial convolutions.\n",
    "\n",
    "<img src=\"images/xception.PNG\" width=\"300\">"
   ]
  },
  {
   "cell_type": "markdown",
   "metadata": {},
   "source": [
    "### Spatial Transformer Network (STN)\n",
    "- 2015 NIPS paper by Google"
   ]
  },
  {
   "cell_type": "markdown",
   "metadata": {},
   "source": [
    "### Deformable Convolutional Networks (DCN)"
   ]
  },
  {
   "cell_type": "markdown",
   "metadata": {},
   "source": [
    "# <font color=DarkOrange> SOTA Super Resolution Networks </font>"
   ]
  },
  {
   "cell_type": "markdown",
   "metadata": {},
   "source": [
    "## <font color=\"DarkMagenta\"> Survey of SR Techniques </font>\n",
    "- [2019 SR Survey](papers/2019_2_SR_Survey.pdf)\n",
    "- [2019 SR Survey Deep Journey](papers/2019_4_SR_Survey_Deep_Journey.pdf)\n",
    "\n",
    "---\n",
    "- **SR SOTA Techniques Overview**\n",
    "<img src=\"images/sr_sota_overview.PNG\" width=\"700\">\n",
    "\n",
    "---\n",
    "- <font color=blue> **SR Network designs** </font>\n",
    "<img src=\"images/sr_network_designs.PNG\" width=\"800\">\n",
    "\n",
    "---\n",
    "- **SR Networks**\n",
    "<img src=\"images/sr_overview.PNG\" width=\"700\">\n",
    "\n",
    "---\n",
    "- **SR Networks Performance Comparison**\n",
    "<img src=\"images/sr_sota_comparison.PNG\" width=\"500\">"
   ]
  },
  {
   "cell_type": "markdown",
   "metadata": {},
   "source": [
    "## SR using Residual Channel Attention Networks (RCAN)\n",
    "- ECCV 2018 paper, so far the best SR paper slightly better than RDN\n",
    "- <font color=blue> It uses Residual In Residual, similar to Residual Dense Block (RDN) paper and it also uses channel-wise attention based on Squeeze and Excite (SE) paper </font>\n",
    "\n",
    "<img src=\"images/sr_rcan.PNG\" width=\"500\">"
   ]
  },
  {
   "cell_type": "markdown",
   "metadata": {},
   "source": [
    "# <font color=green> New DNN Research Concepts/Papers </font>"
   ]
  },
  {
   "cell_type": "markdown",
   "metadata": {},
   "source": [
    "## <font color=blue> Attention Mechanism (Channel, Spatial) </font>"
   ]
  },
  {
   "cell_type": "markdown",
   "metadata": {},
   "source": [
    "### CBAM: Convolutional Block Attention Module\n",
    "- [Attention paper CBAM 2018 ECCV](papers/2018_Attention_Sanghyun_Woo_Convolutional_Block_Attention_ECCV_2018_paper.pdf)\n",
    "- **Attention not only tells where to focus, it also improves the representation of interests. Attentions increases representation power of CNNs: focusing on important fea-tures and suppressing unnecessary ones.**\n",
    "- **Channel Attention**: As each channel of a feature map is considered as a feature detector, channel attention focuses on ‘what’ is meaningful given an input image. To compute the channel attention efficiently, we squeeze the spatial dimension of the input feature map. For aggregating spa-tial information, average-pooling has been commonly adopted so far.\n",
    "\n",
    "<img src=\"images/attention_channel_spatial.PNG\" width=\"600\">\n",
    "\n",
    "- **Spatial Attention**: attention. To compute the spatial attention, we first apply average-pooling and max-pooling operations along the channel axis and concatenate them to generate an efficient feature descriptor.\n",
    "\n",
    "--\n",
    "- **Squeeze and Excite (SE) Network**\n",
    "- SE also proposed attention similar to CBAM, but CBAM shows better results\n",
    "\n",
    "<img src=\"images/attention_resnet.PNG\" width=\"300\" align=\"left\"> \n",
    "<img src=\"images/attention_inception.PNG\" width=\"300\">\n"
   ]
  },
  {
   "cell_type": "markdown",
   "metadata": {},
   "source": [
    "## Recursive Learning\n",
    "- <font color=blue> In order to achieve larger receptive field and learn higherlevel features without introducing overwhelming parameters, recursive learning, which refers to applying the same modules multiple times in a recursive manner </font>\n",
    "- In practice, recursive learning inherently brings vanishing or exploding gradient problems, consequently some techniques such as residual learning and multisupervision are often combined together with recursive learning for mitigating these problems"
   ]
  },
  {
   "cell_type": "markdown",
   "metadata": {},
   "source": [
    "### DRCN"
   ]
  },
  {
   "cell_type": "markdown",
   "metadata": {},
   "source": [
    "### DRRN"
   ]
  },
  {
   "cell_type": "markdown",
   "metadata": {},
   "source": [
    "## Transparency by Design (TbD Net)"
   ]
  },
  {
   "cell_type": "markdown",
   "metadata": {},
   "source": []
  },
  {
   "cell_type": "markdown",
   "metadata": {},
   "source": [
    "## Capsule Net"
   ]
  },
  {
   "cell_type": "markdown",
   "metadata": {},
   "source": []
  },
  {
   "cell_type": "markdown",
   "metadata": {},
   "source": [
    "## Zero shot learning"
   ]
  },
  {
   "cell_type": "markdown",
   "metadata": {},
   "source": []
  },
  {
   "cell_type": "markdown",
   "metadata": {},
   "source": [
    "## Federated Learning"
   ]
  },
  {
   "cell_type": "markdown",
   "metadata": {},
   "source": []
  },
  {
   "cell_type": "markdown",
   "metadata": {},
   "source": [
    "# <font color=green> Interview Questions/Skills/JD </font>"
   ]
  },
  {
   "cell_type": "markdown",
   "metadata": {},
   "source": [
    "## <font color=blue> Skills required for ML/DL Engineer Jobs </font>\n",
    "- CNN architectures & algorithms, RNNs, NLP, Reinforcement learning\n",
    "- ML basic algorithms\n",
    "- Linear algebra, Probability, Statistics\n",
    "- DL frameworks (eg: Tensorflow, Keras, PyTorch)\n",
    "- Pyhon, R, jupyter notebooks\n",
    "- ARM, DSP, GPU working experience\n",
    "- Experience in building ML Applications like Image Segmentation, Object Detection, etc\n",
    "- OpenCL, CUDA GPU programming\n",
    "- Publications in CVPR/NIPS/ICML/ICLR would be an added advantage\n",
    "- Computer vision"
   ]
  },
  {
   "cell_type": "markdown",
   "metadata": {},
   "source": [
    "# <font color=green> Best Resources </font>"
   ]
  },
  {
   "cell_type": "markdown",
   "metadata": {},
   "source": [
    "## Good resources list\n",
    "- [Over 200 best ML, NLP, Python Tutorials - 2018 Edition](https://medium.com/machine-learning-in-practice/over-200-of-the-best-machine-learning-nlp-and-python-tutorials-2018-edition-dd8cf53cb7dc)\n",
    "- [ML, DL Tutorials](https://github.com/ujjwalkarn/Machine-Learning-Tutorials)\n",
    "- [Machine Learning Introduction- Series](https://medium.com/machine-learning-for-humans/supervised-learning-740383a2feab)\n",
    "- [ML Cheet sheet](https://medium.com/machine-learning-in-practice/cheat-sheet-of-machine-learning-and-python-and-math-cheat-sheets-a4afe4e791b6)"
   ]
  },
  {
   "cell_type": "markdown",
   "metadata": {},
   "source": [
    "## Good practical resources\n",
    "- [Deep learning with python book](https://github.com/fchollet/deep-learning-with-python-notebooks)\n",
    "- [FastAI](https://github.com/fastai/courses)\n",
    "- [Deeplearning Specialization Coursera](https://github.com/Kulbear/deep-learning-coursera)\n",
    "- [Python machine learning book 2nd edition](https://github.com/rasbt/python-machine-learning-book-2nd-edition/tree/master/code/ch01)\n",
    "- [TesnorFlow examples](https://github.com/aymericdamien/TensorFlow-Examples)\n",
    "- [Data Science Jupyter notebook](https://github.com/donnemartin/data-science-ipython-notebooks#keras-tutorials)"
   ]
  }
 ],
 "metadata": {
  "kernelspec": {
   "display_name": "Python 3",
   "language": "python",
   "name": "python3"
  },
  "language_info": {
   "codemirror_mode": {
    "name": "ipython",
    "version": 3
   },
   "file_extension": ".py",
   "mimetype": "text/x-python",
   "name": "python",
   "nbconvert_exporter": "python",
   "pygments_lexer": "ipython3",
   "version": "3.6.5"
  },
  "toc": {
   "base_numbering": 1,
   "nav_menu": {
    "height": "143px",
    "width": "223px"
   },
   "number_sections": true,
   "sideBar": true,
   "skip_h1_title": false,
   "title_cell": "Table of Contents",
   "title_sidebar": "Contents",
   "toc_cell": true,
   "toc_position": {
    "height": "calc(100% - 180px)",
    "left": "10px",
    "top": "150px",
    "width": "227px"
   },
   "toc_section_display": true,
   "toc_window_display": true
  }
 },
 "nbformat": 4,
 "nbformat_minor": 1
}
