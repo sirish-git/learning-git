{
 "cells": [
  {
   "cell_type": "markdown",
   "metadata": {
    "toc": true
   },
   "source": [
    "<h1>Table of Contents<span class=\"tocSkip\"></span></h1>\n",
    "<div class=\"toc\"><ul class=\"toc-item\"><li><span><a href=\"#OOP-Key-Concepts\" data-toc-modified-id=\"OOP-Key-Concepts-1\"><span class=\"toc-item-num\">1&nbsp;&nbsp;</span>OOP Key Concepts</a></span><ul class=\"toc-item\"><li><span><a href=\"#Encapsulation\" data-toc-modified-id=\"Encapsulation-1.1\"><span class=\"toc-item-num\">1.1&nbsp;&nbsp;</span>Encapsulation</a></span></li><li><span><a href=\"#Data-abstraction\" data-toc-modified-id=\"Data-abstraction-1.2\"><span class=\"toc-item-num\">1.2&nbsp;&nbsp;</span>Data abstraction</a></span></li><li><span><a href=\"#Inheritance\" data-toc-modified-id=\"Inheritance-1.3\"><span class=\"toc-item-num\">1.3&nbsp;&nbsp;</span>Inheritance</a></span></li><li><span><a href=\"#Polymorphism\" data-toc-modified-id=\"Polymorphism-1.4\"><span class=\"toc-item-num\">1.4&nbsp;&nbsp;</span>Polymorphism</a></span><ul class=\"toc-item\"><li><span><a href=\"#Compile-time-polymorphism,-also-known-as-Static-Polymorphism,\" data-toc-modified-id=\"Compile-time-polymorphism,-also-known-as-Static-Polymorphism,-1.4.1\"><span class=\"toc-item-num\">1.4.1&nbsp;&nbsp;</span><strong>Compile time polymorphism, also known as Static Polymorphism</strong>,</a></span></li><li><span><a href=\"#--Runtime-polymorphism,-also-known-as-Dynamic-Polymorphism,\" data-toc-modified-id=\"--Runtime-polymorphism,-also-known-as-Dynamic-Polymorphism,-1.4.2\"><span class=\"toc-item-num\">1.4.2&nbsp;&nbsp;</span>- <strong>Runtime polymorphism, also known as Dynamic Polymorphism</strong>,</a></span></li></ul></li><li><span><a href=\"#Access-specifiers\" data-toc-modified-id=\"Access-specifiers-1.5\"><span class=\"toc-item-num\">1.5&nbsp;&nbsp;</span>Access specifiers</a></span></li><li><span><a href=\"#Virtual-functions\" data-toc-modified-id=\"Virtual-functions-1.6\"><span class=\"toc-item-num\">1.6&nbsp;&nbsp;</span>Virtual functions</a></span><ul class=\"toc-item\"><li><span><a href=\"#Virutal-function\" data-toc-modified-id=\"Virutal-function-1.6.1\"><span class=\"toc-item-num\">1.6.1&nbsp;&nbsp;</span>Virutal function</a></span></li><li><span><a href=\"#Pure-virtual-function\" data-toc-modified-id=\"Pure-virtual-function-1.6.2\"><span class=\"toc-item-num\">1.6.2&nbsp;&nbsp;</span>Pure virtual function</a></span></li></ul></li><li><span><a href=\"#friend-class\" data-toc-modified-id=\"friend-class-1.7\"><span class=\"toc-item-num\">1.7&nbsp;&nbsp;</span>friend class</a></span></li><li><span><a href=\"#Copy-constructor\" data-toc-modified-id=\"Copy-constructor-1.8\"><span class=\"toc-item-num\">1.8&nbsp;&nbsp;</span>Copy constructor</a></span></li></ul></li><li><span><a href=\"#Interview-Questions\" data-toc-modified-id=\"Interview-Questions-2\"><span class=\"toc-item-num\">2&nbsp;&nbsp;</span>Interview Questions</a></span></li></ul></div>"
   ]
  },
  {
   "cell_type": "markdown",
   "metadata": {},
   "source": [
    "# OOP Key Concepts\n",
    "- OOPs or Object Oriented Programming mainly comprises of the below four features,\n",
    "- Encapsulation\n",
    "- Data abstraction\n",
    "- Inheritance\n",
    "- Polymorphism"
   ]
  },
  {
   "cell_type": "markdown",
   "metadata": {},
   "source": [
    "## Encapsulation\n",
    "- Encapsulation is the process of binding data members and methods of a program together to do a specific job, without revealing unnecessary details."
   ]
  },
  {
   "cell_type": "markdown",
   "metadata": {},
   "source": [
    "## Data abstraction\n",
    "- Abstraction is the process of showing the essential details to the user and hiding the details which we don’t want to show to the user or hiding the details which are irrelevant to a particular user.\n",
    "- A class is called an abstract class whose objects can never be created. Such a class exists as a parent for the derived classes. We can make a class abstract by placing a pure virtual function in the class.\n",
    "- An abstract class is a special class containing abstract methods. The significance of abstract class is that the abstract methods inside it are not implemented and only declared. So as a result, when a subclass inherits the abstract class and needs to use its abstract methods, they need to define and implement them.\n",
    "- Creation of objects is not possible using abstract class"
   ]
  },
  {
   "cell_type": "markdown",
   "metadata": {},
   "source": [
    "## Inheritance"
   ]
  },
  {
   "cell_type": "markdown",
   "metadata": {},
   "source": [
    "## Polymorphism\n",
    "- Polymorphism refers to the process by which some code, data, method, or object behaves differently under different circumstances or contexts. Compile-time polymorphism and Run time polymorphism are the two types of polymorphisms in OOPs"
   ]
  },
  {
   "cell_type": "markdown",
   "metadata": {},
   "source": [
    "### **Compile time polymorphism, also known as Static Polymorphism**, \n",
    "- refers to the type of Polymorphism that happens at compile time.\n",
    "- An example is overloading, assume function overloading (same function name with different arguments) is used in the code and which function to be called based on arguments is decided at compile time\n"
   ]
  },
  {
   "cell_type": "code",
   "execution_count": null,
   "metadata": {},
   "outputs": [],
   "source": [
    "#include <iostream.h>\n",
    "\n",
    "int add(int a, int b){\n",
    "      return a+b;\n",
    "}\n",
    "int add(int a, int b, int c){\n",
    "      return a+b+c;\n",
    "}\n",
    "\n",
    "int main(){\n",
    "    cout<<add(2,3)<<endl;\n",
    "    cout<<add(2,3,4)<<endl;\n",
    "\n",
    "\n",
    "     return 0;\n",
    "}"
   ]
  },
  {
   "cell_type": "markdown",
   "metadata": {},
   "source": [
    "### - **Runtime polymorphism, also known as Dynamic Polymorphism**, \n",
    "- refers to the type of Polymorphism that happens at the run time. What it means is it can't be decided by the compiler. \n",
    "- An example is overriding, if a derived class has also defined the same method part of parent class, which function (parent's or child's) to be called is decided at runtime"
   ]
  },
  {
   "cell_type": "code",
   "execution_count": null,
   "metadata": {},
   "outputs": [],
   "source": [
    "class base{\n",
    "     public:\n",
    "          void fun(){\n",
    "               cout<<”base “;\n",
    "          }\n",
    "};\n",
    "class derived: public base{\n",
    "     public:\n",
    "          void fun(){\n",
    "               cout<<”derived ”;\n",
    "          }\n",
    "};\n",
    "int main(){\n",
    "     A *a=new B;\n",
    "     a->fun();\n",
    "\n",
    "     return 0;\n",
    "}\n",
    "\n",
    "# Output => \"derived\""
   ]
  },
  {
   "cell_type": "markdown",
   "metadata": {},
   "source": [
    "## Access specifiers\n",
    "- In C++ there are the following access specifiers:\n",
    "\n",
    "- Public: All data members and member functions are accessible outside the class.\n",
    "\n",
    "- Protected: All data members and member functions are accessible inside the class and to the derived class.\n",
    "\n",
    "- Private: All data members and member functions are not accessible outside the class."
   ]
  },
  {
   "cell_type": "markdown",
   "metadata": {},
   "source": [
    "## Virtual functions\n",
    "- Virtual function is a member function in the base class that you redefine in a derived class. A virtual function is declared using the virtual keyword. When the function is made virtual, C++ determines which function is to be invoked at the runtime based on the type of the object pointed by the base class pointer."
   ]
  },
  {
   "cell_type": "markdown",
   "metadata": {},
   "source": [
    "### Virutal function\n",
    "- A virtual function is a member function in the base class that you redefine in a derived class. It is declared using the virtual keyword."
   ]
  },
  {
   "cell_type": "code",
   "execution_count": null,
   "metadata": {},
   "outputs": [],
   "source": [
    "class base{\n",
    "public:\n",
    " virtual void fun(){\n",
    "\n",
    " }\n",
    "};"
   ]
  },
  {
   "cell_type": "markdown",
   "metadata": {},
   "source": [
    "### Pure virtual function\n",
    "- A pure virtual function is a function that has no implementation and is declared by assigning 0. It has no body.\n",
    "- Here, = sign has got nothing to do with the assignment, and value 0 is not assigned to anything. It is used to simply tell the compiler that a function will be pure and it will not have anybody."
   ]
  },
  {
   "cell_type": "code",
   "execution_count": null,
   "metadata": {},
   "outputs": [],
   "source": [
    "class base{\n",
    "public:\n",
    " virtual void fun()=0;\n",
    "};"
   ]
  },
  {
   "cell_type": "markdown",
   "metadata": {},
   "source": [
    "## friend class\n",
    "- A friend class can access private, protected, and public members of other classes in which it is declared as friends."
   ]
  },
  {
   "cell_type": "markdown",
   "metadata": {},
   "source": [
    "## Copy constructor\n",
    "- A copy constructor is a member function that initializes an object using another object of the same class\n",
    "- We can define our copy constructor. If we don’t define a copy constructor then the default copy constructor is called."
   ]
  },
  {
   "cell_type": "code",
   "execution_count": null,
   "metadata": {},
   "outputs": [],
   "source": [
    "class A{\n",
    "int x,y;\n",
    "A(int x, int y){\n",
    " this->x=x;\n",
    " this->y=y;\n",
    "}\n",
    "\n",
    "};\n",
    "int main(){\n",
    "A a1(2,3);\n",
    "A a2=a1;     //default copy constructor is called\n",
    "return 0;\n",
    "}"
   ]
  },
  {
   "cell_type": "markdown",
   "metadata": {},
   "source": [
    "# Interview Questions"
   ]
  },
  {
   "cell_type": "code",
   "execution_count": null,
   "metadata": {},
   "outputs": [],
   "source": []
  }
 ],
 "metadata": {
  "kernelspec": {
   "display_name": "Python 3",
   "language": "python",
   "name": "python3"
  },
  "language_info": {
   "codemirror_mode": {
    "name": "ipython",
    "version": 3
   },
   "file_extension": ".py",
   "mimetype": "text/x-python",
   "name": "python",
   "nbconvert_exporter": "python",
   "pygments_lexer": "ipython3",
   "version": "3.6.5"
  },
  "toc": {
   "base_numbering": 1,
   "nav_menu": {},
   "number_sections": true,
   "sideBar": true,
   "skip_h1_title": false,
   "title_cell": "Table of Contents",
   "title_sidebar": "Contents",
   "toc_cell": true,
   "toc_position": {},
   "toc_section_display": true,
   "toc_window_display": true
  }
 },
 "nbformat": 4,
 "nbformat_minor": 2
}
