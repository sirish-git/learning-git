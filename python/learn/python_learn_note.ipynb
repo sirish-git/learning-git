{
 "cells": [
  {
   "cell_type": "markdown",
   "metadata": {},
   "source": [
    "# Python learning notes"
   ]
  },
  {
   "cell_type": "markdown",
   "metadata": {},
   "source": [
    "# Python Basics"
   ]
  },
  {
   "cell_type": "markdown",
   "metadata": {
    "collapsed": true
   },
   "source": [
    "## Interpreter mode\n",
    "- enter interpreter mode by typing python on terminal\n",
    "- exit interpreter mode by typing ctrl+d"
   ]
  },
  {
   "cell_type": "markdown",
   "metadata": {},
   "source": [
    "## Naming conventions\n",
    "- Class names start with an uppercase letter \n",
    "- Starting an identifier with a single leading underscore indicates that the identifier is private \n",
    "- Starting an identifier with two leading underscores indicates a strongly private identifier \n",
    "- If the identifier also ends with two trailing underscores, the identifier is a language-defined special name"
   ]
  },
  {
   "cell_type": "markdown",
   "metadata": {},
   "source": [
    "## Python Keywords\n",
    "    and        exec        not\n",
    "    assert     finally     or\n",
    "    break      for         pass\n",
    "    class      from        print\n",
    "    continue   global      raise\n",
    "    def        if          return\n",
    "    del        import      try\n",
    "    elif       in          while\n",
    "    else       is          with\n",
    "    except     lambda      yield"
   ]
  },
  {
   "cell_type": "markdown",
   "metadata": {},
   "source": [
    "## Python membership operators\n",
    "- Python’s membership operators test for membership in a sequence, such as strings, lists, or tuples\n",
    "- There are two membership operators 'in', 'not in'"
   ]
  },
  {
   "cell_type": "markdown",
   "metadata": {},
   "source": [
    "### in\n",
    "- 'in' evaluates to true if it finds a variable in the specified sequence and false otherwise"
   ]
  },
  {
   "cell_type": "code",
   "execution_count": 9,
   "metadata": {
    "scrolled": true
   },
   "outputs": [
    {
     "name": "stdout",
     "output_type": "stream",
     "text": [
      "test in ls: True\n",
      "4 in ls: True\n"
     ]
    }
   ],
   "source": [
    "# example\n",
    "ls = [1, 'test', 4, 9]\n",
    "print ('test in ls:', 'test' in ls)\n",
    "print ('4 in ls:', 4 in ls)"
   ]
  },
  {
   "cell_type": "markdown",
   "metadata": {},
   "source": [
    "### not in\n",
    "- 'not in' evaluates to true if it does not finds a variable in the specified sequence and false otherwise"
   ]
  },
  {
   "cell_type": "markdown",
   "metadata": {},
   "source": [
    "## Python identity operators\n",
    "- Identity operators compare the memory locations of two objects. \n",
    "- There are two Identity operators 'is', 'is not'"
   ]
  },
  {
   "cell_type": "markdown",
   "metadata": {},
   "source": [
    "### is\n",
    "- 'is' evaluates to true if the variables on either side of the operator point to the same object and false otherwise"
   ]
  },
  {
   "cell_type": "code",
   "execution_count": 34,
   "metadata": {},
   "outputs": [
    {
     "name": "stdout",
     "output_type": "stream",
     "text": [
      "x is y: True\n"
     ]
    }
   ],
   "source": [
    "# example\n",
    "x=2; y=2\n",
    "print ('x is y:', x is y)"
   ]
  },
  {
   "cell_type": "markdown",
   "metadata": {},
   "source": [
    "### is not\n",
    "'is not' evaluates to false if the variables on either side of the operator point to the same object and true otherwise"
   ]
  },
  {
   "cell_type": "code",
   "execution_count": null,
   "metadata": {},
   "outputs": [],
   "source": [
    "## built-in functions "
   ]
  },
  {
   "cell_type": "markdown",
   "metadata": {},
   "source": [
    "### dir ([object])\n",
    "- Without arguments, return the list of names in the current local scope\n",
    "- With an argument, attempt to return a list of valid attributes for that object"
   ]
  },
  {
   "cell_type": "code",
   "execution_count": 1,
   "metadata": {},
   "outputs": [
    {
     "name": "stdout",
     "output_type": "stream",
     "text": [
      "['__add__', '__class__', '__contains__', '__delattr__', '__delitem__', '__dir__', '__doc__', '__eq__', '__format__', '__ge__', '__getattribute__', '__getitem__', '__gt__', '__hash__', '__iadd__', '__imul__', '__init__', '__init_subclass__', '__iter__', '__le__', '__len__', '__lt__', '__mul__', '__ne__', '__new__', '__reduce__', '__reduce_ex__', '__repr__', '__reversed__', '__rmul__', '__setattr__', '__setitem__', '__sizeof__', '__str__', '__subclasshook__', 'append', 'clear', 'copy', 'count', 'extend', 'index', 'insert', 'pop', 'remove', 'reverse', 'sort']\n"
     ]
    }
   ],
   "source": [
    "# example\n",
    "print (dir(list))"
   ]
  },
  {
   "cell_type": "code",
   "execution_count": 33,
   "metadata": {},
   "outputs": [
    {
     "name": "stdout",
     "output_type": "stream",
     "text": [
      "['__add__', '__class__', '__contains__', '__delattr__', '__dir__', '__doc__', '__eq__', '__format__', '__ge__', '__getattribute__', '__getitem__', '__getnewargs__', '__gt__', '__hash__', '__init__', '__init_subclass__', '__iter__', '__le__', '__len__', '__lt__', '__mod__', '__mul__', '__ne__', '__new__', '__reduce__', '__reduce_ex__', '__repr__', '__rmod__', '__rmul__', '__setattr__', '__sizeof__', '__str__', '__subclasshook__', 'capitalize', 'casefold', 'center', 'count', 'encode', 'endswith', 'expandtabs', 'find', 'format', 'format_map', 'index', 'isalnum', 'isalpha', 'isdecimal', 'isdigit', 'isidentifier', 'islower', 'isnumeric', 'isprintable', 'isspace', 'istitle', 'isupper', 'join', 'ljust', 'lower', 'lstrip', 'maketrans', 'partition', 'replace', 'rfind', 'rindex', 'rjust', 'rpartition', 'rsplit', 'rstrip', 'split', 'splitlines', 'startswith', 'strip', 'swapcase', 'title', 'translate', 'upper', 'zfill']\n"
     ]
    }
   ],
   "source": [
    "# example\n",
    "print(dir(str))"
   ]
  },
  {
   "cell_type": "markdown",
   "metadata": {},
   "source": [
    "### enumerate (iterable, start=0)\n",
    "- Return an enumerate object. iterable must be a sequence"
   ]
  },
  {
   "cell_type": "code",
   "execution_count": 2,
   "metadata": {},
   "outputs": [
    {
     "name": "stdout",
     "output_type": "stream",
     "text": [
      "0 1\n",
      "1 hi\n",
      "2 4\n"
     ]
    }
   ],
   "source": [
    "# example\n",
    "lst = [1, 'hi', 4]\n",
    "for idx, ls in enumerate(lst):\n",
    " print (idx, ls)"
   ]
  },
  {
   "cell_type": "markdown",
   "metadata": {},
   "source": [
    "### help ([object])\n",
    "- Invoke the built-in help system. If no argument is given, the interactive help system starts on the interpreter console\n",
    "- If the argument is a string, then the string is looked up as the name of a module, function, class, method, keyword, or documentation topic, and a help page is printed on the console"
   ]
  },
  {
   "cell_type": "code",
   "execution_count": 3,
   "metadata": {},
   "outputs": [
    {
     "name": "stdout",
     "output_type": "stream",
     "text": [
      "Help on method_descriptor:\n",
      "\n",
      "append(...)\n",
      "    L.append(object) -> None -- append object to end\n",
      "\n"
     ]
    }
   ],
   "source": [
    "# example\n",
    "help(list.append)"
   ]
  },
  {
   "cell_type": "markdown",
   "metadata": {},
   "source": [
    "### id (object)\n",
    "- Returns the “identity” of an object\n",
    "- This is an integer which is guaranteed to be unique and constant for this object during its lifetime"
   ]
  },
  {
   "cell_type": "code",
   "execution_count": 15,
   "metadata": {},
   "outputs": [
    {
     "name": "stdout",
     "output_type": "stream",
     "text": [
      "1490805584\n",
      "71943104\n"
     ]
    }
   ],
   "source": [
    "# example\n",
    "val1 = 5\n",
    "val2 = 5.0\n",
    "print(id(val1))\n",
    "print(id(val2))"
   ]
  },
  {
   "cell_type": "markdown",
   "metadata": {},
   "source": [
    "### input ([prompt])\n",
    "- If the prompt argument is present, it is written to standard output without a trailing newline\n",
    "- The function then reads a line from input, converts it to a string (stripping a trailing newline), and returns that\n",
    "- when EOF is read, EOFError is raised"
   ]
  },
  {
   "cell_type": "markdown",
   "metadata": {},
   "source": [
    "### open\n",
    "- Syntax: open(file, mode=’r’, buffering=-1, encoding=None, errors=None, newline=None, closefd=True, opener=None)"
   ]
  },
  {
   "cell_type": "markdown",
   "metadata": {},
   "source": [
    "### sorted\n",
    "- Return a new sorted list from the items in iterable\n",
    "- Syntax: sorted(iterable[, key][, reverse])"
   ]
  },
  {
   "cell_type": "markdown",
   "metadata": {},
   "source": [
    "## use 'format' for print"
   ]
  },
  {
   "cell_type": "code",
   "execution_count": 16,
   "metadata": {},
   "outputs": [
    {
     "name": "stdout",
     "output_type": "stream",
     "text": [
      "bond is 25 years old\n",
      "bond is 25 years old: without index\n",
      "0.333\n"
     ]
    }
   ],
   "source": [
    "#example\n",
    "name = 'bond' \n",
    "age = 25\n",
    "\n",
    "print ('{0} is {1} years old'.format(name, age))\n",
    "\n",
    "# use format without index\n",
    "print ('{} is {} years old: without index'.format(name, age))\n",
    "\n",
    "# use format for a different format specifier\n",
    "print ('{0:.3f}'.format(1.0/3))"
   ]
  },
  {
   "cell_type": "markdown",
   "metadata": {},
   "source": [
    "## Print without newline : end = ''\n",
    "- By default python’s print() function ends with a newline.\n",
    "- Python’s print() function comes with a parameter called ‘end’. By default, the value of this parameter is ‘\\n’\n",
    "- You can end a print statement with any character/string using this parameter"
   ]
  },
  {
   "cell_type": "code",
   "execution_count": 41,
   "metadata": {},
   "outputs": [
    {
     "name": "stdout",
     "output_type": "stream",
     "text": [
      "welcome to\n",
      "python in multiple lines\n",
      "welcome to ++ python in single line\n"
     ]
    }
   ],
   "source": [
    "# example\n",
    "# by default creates newlines\n",
    "print ('welcome to')\n",
    "print ('python in multiple lines')\n",
    "\n",
    "# edit with end=''\n",
    "print ('welcome to', end=' ++ ')\n",
    "print ('python in single line')"
   ]
  },
  {
   "cell_type": "markdown",
   "metadata": {},
   "source": [
    "## data type conversion\n",
    "- To convert between types, you simply use the type name as a function\n",
    "- examples: int(x [,base]), tuple(s), dict(d)"
   ]
  },
  {
   "cell_type": "markdown",
   "metadata": {},
   "source": [
    "# Strings\n",
    "- Python allows for either pairs of single or double quotes\n",
    "- Subsets of strings can be taken using the slice operator ([ ] and [:] )\n",
    "- indexes starting at 0 in the beginning of the string and **working their way from -1 at the end**\n",
    "- The plus (+) sign is the string concatenation operator and the asterisk (*) is the repetition operator"
   ]
  },
  {
   "cell_type": "code",
   "execution_count": 4,
   "metadata": {},
   "outputs": [
    {
     "name": "stdout",
     "output_type": "stream",
     "text": [
      "str: Hello World!\n",
      "str[0]: H\n",
      "str[2:7]: llo W\n",
      "str[2:]: llo World!\n",
      "str * 2: Hello World!Hello World!\n",
      "str + TEST: Hello World!TEST\n"
     ]
    }
   ],
   "source": [
    "# example\n",
    "str = 'Hello World!'\n",
    "\n",
    "print ('str:', str)          # Prints complete string\n",
    "print ('str[0]:', str[0])       # Prints first character of the string\n",
    "print ('str[2:7]:', str[2:7])     # Prints characters starting from 3rd to 7th\n",
    "print ('str[2:]:', str[2:])      # Prints string starting from 3rd character\n",
    "print ('str * 2:', str * 2)          # Prints string two times\n",
    "print ('str + TEST:', str + \"TEST\")  # Prints concatenated string"
   ]
  },
  {
   "cell_type": "markdown",
   "metadata": {},
   "source": [
    "## + operation on strings"
   ]
  },
  {
   "cell_type": "code",
   "execution_count": 5,
   "metadata": {},
   "outputs": [
    {
     "name": "stdout",
     "output_type": "stream",
     "text": [
      "+ operator on strings concatenates the result\n",
      "i+am= iam\n"
     ]
    }
   ],
   "source": [
    "a = 'i'\n",
    "b = 'am'\n",
    "s = a + b\n",
    "print ('+ operator on strings concatenates the result')\n",
    "print ('i+am=', s)"
   ]
  },
  {
   "cell_type": "markdown",
   "metadata": {},
   "source": [
    "## 'format' to concat strings"
   ]
  },
  {
   "cell_type": "code",
   "execution_count": 6,
   "metadata": {},
   "outputs": [
    {
     "name": "stdout",
     "output_type": "stream",
     "text": [
      "strings can be added using format\n"
     ]
    }
   ],
   "source": [
    "str2 = 'strings'\n",
    "str3 = 'can be added'\n",
    "str4 = '{} {} using format'.format(str2, str3)\n",
    "print (str4)"
   ]
  },
  {
   "cell_type": "markdown",
   "metadata": {},
   "source": [
    "# Lists\n",
    "- A list contains items separated by commas and enclosed within square brackets []\n",
    "- To some extent, lists are similar to arrays in C\n",
    "- One difference between them is that all the items belonging to a list can be of different data type"
   ]
  },
  {
   "cell_type": "code",
   "execution_count": 7,
   "metadata": {},
   "outputs": [
    {
     "name": "stdout",
     "output_type": "stream",
     "text": [
      "list: ['abcd', 786, 2.23, 'john', 70.2]\n",
      "list[0]: abcd\n",
      "list[1:3]: [786, 2.23]\n",
      "list[2:]: [2.23, 'john', 70.2]\n",
      "tinylist * 2: [123, 'john', 123, 'john']\n",
      "list + tinylist: ['abcd', 786, 2.23, 'john', 70.2, 123, 'john']\n"
     ]
    }
   ],
   "source": [
    "# example\n",
    "list = [ 'abcd', 786 , 2.23, 'john', 70.2 ]\n",
    "tinylist = [123, 'john']\n",
    "\n",
    "print ('list:', list)          # Prints complete list\n",
    "print ('list[0]:', list[0])       # Prints first element of the list\n",
    "print ('list[1:3]:', list[1:3])     # Prints elements starting from 2nd till 3rd \n",
    "print ('list[2:]:', list[2:])      # Prints elements starting from 3rd element\n",
    "print ('tinylist * 2:', tinylist * 2)  # Prints list two times\n",
    "print ('list + tinylist:', list + tinylist) # Prints concatenated lists"
   ]
  },
  {
   "cell_type": "markdown",
   "metadata": {},
   "source": [
    "## Slicing of Lists, Strings\n",
    "- slicing syntax is list[start:end:step]\n",
    "- **start and end can be -ve indexes also and step also can be -ve **"
   ]
  },
  {
   "cell_type": "code",
   "execution_count": 21,
   "metadata": {},
   "outputs": [
    {
     "name": "stdout",
     "output_type": "stream",
     "text": [
      "list result with slicing and last index element is not included:  [2, 3, 4] \n",
      "\n",
      "list result without any index is full list:  [0, 1, 2, 3, 4, 5, 6] \n",
      "\n",
      "list result with step of 2:  [0, 2, 4, 6] \n",
      "\n",
      "list result with -ve indexing:  [1, 2, 3, 4, 5] \n",
      "\n",
      "list result with -ve step:  [6, 5, 4, 3, 2] \n",
      "\n"
     ]
    }
   ],
   "source": [
    "# example\n",
    "lst = [0, 1, 2, 3, 4, 5, 6]\n",
    "#-ve index's\n",
    "# lst = [-7, -6, -5, -4, -3, -2, -1]\n",
    "\n",
    "lst1 = lst[2:5]\n",
    "print ('list result with slicing and last index element is not included: ', lst1, '\\n')\n",
    "\n",
    "lst1 = lst[:]\n",
    "print ('list result without any index is full list: ', lst1, '\\n')\n",
    "\n",
    "lst1 = lst[::2]\n",
    "print ('list result with step of 2: ', lst1, '\\n')\n",
    "\n",
    "lst1 = lst[-6:-1]\n",
    "print ('list result with -ve indexing: ', lst1, '\\n')\n",
    "\n",
    "lst1 = lst[6:1:-1]\n",
    "print ('list result with -ve step: ', lst1, '\\n')"
   ]
  },
  {
   "cell_type": "markdown",
   "metadata": {},
   "source": [
    "## Delete list elements"
   ]
  },
  {
   "cell_type": "code",
   "execution_count": 22,
   "metadata": {},
   "outputs": [
    {
     "name": "stdout",
     "output_type": "stream",
     "text": [
      "list1: ['physics', 'chemistry', 1997, 2000]\n",
      "After deleting value at index 2 : \n",
      "list1: ['physics', 'chemistry', 2000]\n"
     ]
    }
   ],
   "source": [
    "list1 = ['physics', 'chemistry', 1997, 2000];\n",
    "\n",
    "print ('list1:', list1)\n",
    "del list1[2];\n",
    "print (\"After deleting value at index 2 : \")\n",
    "print ('list1:', list1)"
   ]
  },
  {
   "cell_type": "markdown",
   "metadata": {},
   "source": [
    "## Built-in List functions and methods"
   ]
  },
  {
   "cell_type": "markdown",
   "metadata": {},
   "source": [
    "### help: get help using method name"
   ]
  },
  {
   "cell_type": "code",
   "execution_count": 10,
   "metadata": {},
   "outputs": [
    {
     "name": "stdout",
     "output_type": "stream",
     "text": [
      "Help on built-in function append:\n",
      "\n",
      "append(...) method of builtins.list instance\n",
      "    L.append(object) -> None -- append object to end\n",
      "\n",
      "None\n"
     ]
    }
   ],
   "source": [
    "# help: get help using method name\n",
    "print(help(list.append))"
   ]
  },
  {
   "cell_type": "markdown",
   "metadata": {},
   "source": [
    "### functions"
   ]
  },
  {
   "cell_type": "code",
   "execution_count": 11,
   "metadata": {},
   "outputs": [
    {
     "name": "stdout",
     "output_type": "stream",
     "text": [
      "- len(list), cmp(list), max(list), sum(list), sorted(list) \n"
     ]
    }
   ],
   "source": [
    "print ('''- len(list), cmp(list), max(list), sum(list), sorted(list) ''')"
   ]
  },
  {
   "cell_type": "markdown",
   "metadata": {},
   "source": [
    "### zip ()\n",
    "- zip function combines multiple iterables to single iterable tuple pairs"
   ]
  },
  {
   "cell_type": "code",
   "execution_count": 37,
   "metadata": {},
   "outputs": [
    {
     "name": "stdout",
     "output_type": "stream",
     "text": [
      "tuples in zipped iterable\n",
      "('one', '1', 'first')\n",
      "('two', '2', 'second')\n"
     ]
    }
   ],
   "source": [
    "# example\n",
    "ls1 = ['one', 'two']\n",
    "ls2 = ['1', '2']\n",
    "ls3 = ['first', 'second']\n",
    "ls4 = zip(ls1, ls2, ls3)\n",
    "\n",
    "print ('tuples in zipped iterable')\n",
    "for tp in ls4:\n",
    "    print (tp)"
   ]
  },
  {
   "cell_type": "markdown",
   "metadata": {},
   "source": [
    "## methods"
   ]
  },
  {
   "cell_type": "code",
   "execution_count": 39,
   "metadata": {},
   "outputs": [
    {
     "name": "stdout",
     "output_type": "stream",
     "text": [
      "- list.append(obj), list.extern(obj) \n"
     ]
    }
   ],
   "source": [
    "print('''- list.append(obj), list.extern(obj) ''')"
   ]
  },
  {
   "cell_type": "markdown",
   "metadata": {},
   "source": [
    "### join method\n",
    "- method join() returns a string in which the string elements of sequence have been joined by str separator\n",
    "- **syntax: str.join(sequence)**"
   ]
  },
  {
   "cell_type": "code",
   "execution_count": 35,
   "metadata": {},
   "outputs": [
    {
     "name": "stdout",
     "output_type": "stream",
     "text": [
      "hi - how - are - you\n"
     ]
    }
   ],
   "source": [
    "# example\n",
    "ls = ['hi', 'how', 'are', 'you']\n",
    "str1 = ' - '.join(ls)\n",
    "print(str1)"
   ]
  },
  {
   "cell_type": "markdown",
   "metadata": {},
   "source": [
    "### split method\n",
    "- method split() returns a list of all the words in the string, using str as the separator (splits on all whitespace if left unspecified)\n",
    "- optionally limiting the number of splits to num\n",
    "- **syntax: str.split(str=\"\", num=string.count(str))**"
   ]
  },
  {
   "cell_type": "code",
   "execution_count": 28,
   "metadata": {},
   "outputs": [
    {
     "name": "stdout",
     "output_type": "stream",
     "text": [
      "['hi', 'how', 'are', 'you']\n"
     ]
    }
   ],
   "source": [
    "# example\n",
    "ls_new = str1.split(' - ')\n",
    "print (ls_new)"
   ]
  },
  {
   "cell_type": "markdown",
   "metadata": {},
   "source": [
    "# tuples\n",
    "- A tuple is another sequence data type that is similar to the list. tuples are enclosed within parentheses\n",
    "- The main differences between lists and tuples are: \n",
    "    - tuples are immutable, i.e., they can't be updated\n",
    "- Tuples can be thought of as read-only lists"
   ]
  },
  {
   "cell_type": "markdown",
   "metadata": {},
   "source": [
    "# Dictionary\n",
    "- Python's dictionaries are kind of hash table type\n",
    "- A dictionary key can be almost any Python type, but are usually numbers or strings\n",
    "- Values, on the other hand, can be any arbitrary Python object\n",
    "- Dictionaries are enclosed by curly braces ({ }) and values can be assigned and accessed using square braces []"
   ]
  },
  {
   "cell_type": "markdown",
   "metadata": {},
   "source": [
    "## dictionary examples"
   ]
  },
  {
   "cell_type": "code",
   "execution_count": 12,
   "metadata": {},
   "outputs": [
    {
     "name": "stdout",
     "output_type": "stream",
     "text": [
      "dict: This is one\n",
      "dict[2]: This is two\n",
      "tinydict: {'name': 'john', 'code': 6734, 'dept': 'sales'}\n",
      "tinydict.keys(): dict_keys(['name', 'code', 'dept'])\n",
      "tinydict.values(): dict_values(['john', 6734, 'sales'])\n"
     ]
    }
   ],
   "source": [
    "# example\n",
    "dict = {}\n",
    "dict['one'] = \"This is one\"\n",
    "dict[2]     = \"This is two\"\n",
    "\n",
    "tinydict = {'name': 'john','code':6734, 'dept': 'sales'}\n",
    "\n",
    "print ('dict:', dict['one'])       # Prints value for 'one' key\n",
    "print ('dict[2]:', dict[2])           # Prints value for 2 key\n",
    "print ('tinydict:', tinydict)          # Prints complete dictionary\n",
    "print ('tinydict.keys():', tinydict.keys())   # Prints all the keys\n",
    "print ('tinydict.values():', tinydict.values()) # Prints all the values"
   ]
  },
  {
   "cell_type": "markdown",
   "metadata": {},
   "source": [
    "## looping dictionary items"
   ]
  },
  {
   "cell_type": "code",
   "execution_count": 13,
   "metadata": {},
   "outputs": [
    {
     "name": "stdout",
     "output_type": "stream",
     "text": [
      "key:  name value:  john\n",
      "key:  code value:  6734\n",
      "key:  dept value:  sales\n"
     ]
    }
   ],
   "source": [
    "dict = {'name': 'john','code':6734, 'dept': 'sales'}\n",
    "for key, value in dict.items():\n",
    "  print ('key: ', key, 'value: ', value)"
   ]
  },
  {
   "cell_type": "markdown",
   "metadata": {},
   "source": [
    "# Comprehensions\n",
    "- comprehensions are concise way to create list/dictionaries\n",
    "- syntax: lst = [expression for item in list if condition] \n",
    "- the variables name in expression and for loop should same"
   ]
  },
  {
   "cell_type": "markdown",
   "metadata": {},
   "source": [
    "## List comprehensions"
   ]
  },
  {
   "cell_type": "code",
   "execution_count": 31,
   "metadata": {},
   "outputs": [
    {
     "name": "stdout",
     "output_type": "stream",
     "text": [
      "list of numbers : [0, 1, 2, 3, 4, 5]\n",
      "list of squares:  [0, 1, 4, 9, 16, 25]\n",
      "list of even numbers:  [0, 2, 4]\n",
      "comprehension with 2 for loops:  [('a', 0), ('a', 1), ('b', 0), ('b', 1)]\n",
      "pair creation with zip in comprehension:  [('a', '1'), ('b', '2')]\n"
     ]
    }
   ],
   "source": [
    "# genarate list of numbers\n",
    "lst = [num for num in range(6)]\n",
    "print ('list of numbers :', lst)\n",
    "\n",
    "# genarate list of squrares with expression\n",
    "lst = [num * num for num in range(6)]\n",
    "print ('list of squares: ', lst)\n",
    "\n",
    "# genarate list of even numbers with expression and condition\n",
    "lst = [num for num in range(6) if num%2 == 0]\n",
    "print ('list of even numbers: ', lst)\n",
    "\n",
    "# two for loops in comprehension (to create tuple pairs)\n",
    "str1 = 'ab'\n",
    "lst = [(ch, id) for ch in str1 for id in range(2)]\n",
    "print ('comprehension with 2 for loops: ', lst)\n",
    "\n",
    "# pair creation with zip\n",
    "str1 = 'ab'\n",
    "lst1 = ['1', '2']\n",
    "lst = [(ch, id) for ch, id in zip(str1, lst1)]\n",
    "print ('pair creation with zip in comprehension: ', lst)"
   ]
  },
  {
   "cell_type": "markdown",
   "metadata": {},
   "source": [
    "# for\n",
    "- <font color=blue> for works on any iterable like strings, lists, tuples, dictionaries </font>"
   ]
  },
  {
   "cell_type": "markdown",
   "metadata": {},
   "source": [
    "## for example on lists"
   ]
  },
  {
   "cell_type": "code",
   "execution_count": 32,
   "metadata": {},
   "outputs": [
    {
     "name": "stdout",
     "output_type": "stream",
     "text": [
      "apples\n",
      "oranges\n",
      "mangoes\n"
     ]
    }
   ],
   "source": [
    "fruits = [\"apples\", \"oranges\", \"mangoes\"]\n",
    "for fruit in fruits:\n",
    "    print (fruit)"
   ]
  },
  {
   "cell_type": "markdown",
   "metadata": {},
   "source": [
    "## for example on strings"
   ]
  },
  {
   "cell_type": "code",
   "execution_count": 1,
   "metadata": {},
   "outputs": [
    {
     "name": "stdout",
     "output_type": "stream",
     "text": [
      "a\n",
      "p\n",
      "p\n",
      "l\n",
      "e\n"
     ]
    }
   ],
   "source": [
    "fruit = 'apple'\n",
    "for ch in fruit:\n",
    "    print (ch)"
   ]
  },
  {
   "cell_type": "markdown",
   "metadata": {},
   "source": [
    "## for using range function\n",
    "- range generates the sequence of numbers\n",
    "- **syntax of range: range(start,stop,step)**\n",
    "- start is optional, if start is not specified starts from 0. step is optional, default step is 1"
   ]
  },
  {
   "cell_type": "code",
   "execution_count": 34,
   "metadata": {},
   "outputs": [
    {
     "name": "stdout",
     "output_type": "stream",
     "text": [
      "iteration cnt: 0\n",
      "iteration cnt: 1\n",
      "iteration cnt: 2\n",
      "iteration cnt: 3\n",
      "iteration cnt: 4\n",
      "step 2: iteration cnt: 0\n",
      "step 2: iteration cnt: 2\n",
      "step 2: iteration cnt: 4\n"
     ]
    }
   ],
   "source": [
    "# example\n",
    "for i in range(0,5):\n",
    " print (\"iteration cnt:\", i)\n",
    "\n",
    "# step count 2\n",
    "for i in range(0,5,2):\n",
    "    print ('step 2: iteration cnt:', i)"
   ]
  },
  {
   "cell_type": "markdown",
   "metadata": {},
   "source": [
    "## main function\n",
    "- python does not require a main function to be created, it is better to create for clarity\n",
    "- every python file can have a function/main call, but when this file imported as module these function calls also gets executed\n",
    "- to avoid unnecessary execution of function calls in imported module, we can create conditional function calls with __name__"
   ]
  },
  {
   "cell_type": "code",
   "execution_count": 14,
   "metadata": {},
   "outputs": [
    {
     "name": "stdout",
     "output_type": "stream",
     "text": [
      "welcome to function __name__ example\n",
      "name is set to __main__ when this file is directly executed, it is not when executed from imported file\n"
     ]
    }
   ],
   "source": [
    "# __name__ example\n",
    "def fn_name_example():\n",
    " print ('welcome to function __name__ example')\n",
    "\n",
    "if __name__ == \"__main__\":\n",
    " fn_name_example()\n",
    " print ('name is set to __main__ when this file is directly executed, it is not when executed from imported file')"
   ]
  },
  {
   "cell_type": "markdown",
   "metadata": {},
   "source": [
    "## global keyword\n",
    "- global keyword should be used to assign value to a global variable inside a function"
   ]
  },
  {
   "cell_type": "code",
   "execution_count": 15,
   "metadata": {},
   "outputs": [
    {
     "name": "stdout",
     "output_type": "stream",
     "text": [
      "inside fn: val is 25\n",
      "inside fn: val is 50\n",
      "outside fn: val is 50\n"
     ]
    }
   ],
   "source": [
    "# example\n",
    "val = 25\n",
    "def fn_global():\n",
    " # global keyword to reference global variable, gives compilation error without\n",
    " global val\n",
    " print ('inside fn: val is', val)\n",
    " val = 50\n",
    " print ('inside fn: val is', val)\n",
    "\n",
    "fn_global()\n",
    "print ('outside fn: val is', val)"
   ]
  },
  {
   "cell_type": "markdown",
   "metadata": {},
   "source": [
    "## function call by reference vs value"
   ]
  },
  {
   "cell_type": "markdown",
   "metadata": {},
   "source": [
    "## keyword argument"
   ]
  },
  {
   "cell_type": "markdown",
   "metadata": {},
   "source": [
    "## default arguments"
   ]
  },
  {
   "cell_type": "markdown",
   "metadata": {},
   "source": [
    "## variable number of arguments"
   ]
  },
  {
   "cell_type": "markdown",
   "metadata": {},
   "source": [
    "## anonymous functions"
   ]
  },
  {
   "cell_type": "markdown",
   "metadata": {},
   "source": [
    "## '''doc strings''' : documentatin strings"
   ]
  },
  {
   "cell_type": "code",
   "execution_count": 16,
   "metadata": {},
   "outputs": [
    {
     "name": "stdout",
     "output_type": "stream",
     "text": [
      "fn description: finds max value of 2 numbers \n",
      "max value is 3\n"
     ]
    }
   ],
   "source": [
    "def find_max_doc(x, y):\n",
    " # docstring of the function\n",
    " '''fn description: finds max value of 2 numbers '''\n",
    " if x > y:\n",
    "  print ('max value is',x)\n",
    " else:\n",
    "  print ('max value is',y)\n",
    "\n",
    "print (find_max_doc.__doc__)\n",
    "find_max_doc(2,3)"
   ]
  },
  {
   "cell_type": "markdown",
   "metadata": {},
   "source": [
    "# modules\n",
    "- A module allows you to logically organize your Python code, to reuse a number of functions in other programs \n",
    "- Simply, a module is a file consisting of Python code\n",
    "- A module can define functions, classes and variables. A module can also include runnable code"
   ]
  },
  {
   "cell_type": "code",
   "execution_count": 17,
   "metadata": {},
   "outputs": [
    {
     "name": "stdout",
     "output_type": "stream",
     "text": [
      "command line args\n",
      "C:\\Users\\Admin\\Anaconda3\\lib\\site-packages\\ipykernel_launcher.py\n",
      "-f\n",
      "C:\\Users\\Admin\\AppData\\Roaming\\jupyter\\runtime\\kernel-06e48333-dc11-4a4d-8c08-1be42de18b20.json\n"
     ]
    }
   ],
   "source": [
    "# example\n",
    "import sys\n",
    "\n",
    "print ('command line args')\n",
    "for i in sys.argv:\n",
    " #prints cmd arg strings, not numbers\n",
    " print (i)"
   ]
  },
  {
   "cell_type": "markdown",
   "metadata": {},
   "source": [
    "# packages\n",
    "- A package is a hierarchical file directory structure that defines a single Python application environment that consists of modules and subpackages\n",
    "- **Packages are just folders of modules with a special init.py file** that indicates to Python that this folder is special because it contains Python modules"
   ]
  },
  {
   "cell_type": "code",
   "execution_count": 18,
   "metadata": {},
   "outputs": [
    {
     "name": "stdout",
     "output_type": "stream",
     "text": [
      "- To make all of your functions available when you've imported a directory (ex_dir) as a package, \n",
      "you need to put explicit import statements in __init__.py as follows,\n",
      "Then we can directly import the package/directory name (ex_dir) instead of individual modules\n",
      "import ex_dir \n"
     ]
    }
   ],
   "source": [
    "# example\n",
    "print ('''- To make all of your functions available when you've imported a directory (ex_dir) as a package, \n",
    "you need to put explicit import statements in __init__.py as follows,\n",
    "Then we can directly import the package/directory name (ex_dir) instead of individual modules\n",
    "import ex_dir ''')"
   ]
  },
  {
   "cell_type": "markdown",
   "metadata": {},
   "source": [
    "# Object oriented programming (oop)\n",
    "- **Class attributes (fields and methods):**\n",
    "    - Variables that belong to an object or class are referred to as fields. Objects can also have functionality by using functions that belong to a class. Such functions are called methods of the class. \n",
    "    - Collectively, the fields and methods can be referred to as the attributes of that class\n",
    "- Fields are of two types,\n",
    "    - they can belong to each instance/object of the class or they can belong to the class itself. They are called **instance variables and class variables** respectively\n",
    "    \n",
    "- self:\n",
    "    - Class methods have only one specific difference from ordinary functions, they must have an extra first name that has to be added to the beginning of the parameter list, but you do not give a value for this parameter when you call the method, Python will provide it. \n",
    "    - This particular variable refers to the object itself, and by convention, it is given the name self .\n",
    "    - We can use any name other than self, but better to use self.\n",
    "    - The self in Python is equivalent to the this pointer in C++"
   ]
  },
  {
   "cell_type": "markdown",
   "metadata": {},
   "source": [
    "## simple class and object creation example"
   ]
  },
  {
   "cell_type": "code",
   "execution_count": 19,
   "metadata": {},
   "outputs": [
    {
     "name": "stdout",
     "output_type": "stream",
     "text": [
      "Hello, welcome to class and oop\n"
     ]
    }
   ],
   "source": [
    "class Person:\n",
    "  def say_hi(self):\n",
    "    print ('Hello, welcome to class and oop')\n",
    "\n",
    "# object creation using class name\n",
    "obj = Person()\n",
    "# calling class method using object\n",
    "obj.say_hi()"
   ]
  },
  {
   "cell_type": "markdown",
   "metadata": {},
   "source": [
    "## object variable creation and name space"
   ]
  },
  {
   "cell_type": "code",
   "execution_count": 20,
   "metadata": {},
   "outputs": [
    {
     "name": "stdout",
     "output_type": "stream",
     "text": [
      "obj1 name space\n",
      " {}\n",
      "obj2 name space\n",
      " {'var': 2}\n"
     ]
    }
   ],
   "source": [
    "class Person:\n",
    "  def say_hi(self):\n",
    "    self.cnt = 1\n",
    "    print ('Hello, welcome to class and oop')\n",
    "\n",
    "# object creation using class name\n",
    "obj1 = Person()\n",
    "obj2 = Person()\n",
    "\n",
    "print('obj1 name space\\n', obj1.__dict__)\n",
    "\n",
    "# create object variables (better to do it inside class)\n",
    "obj2.var = 2\n",
    "print('obj2 name space\\n', obj2.__dict__)"
   ]
  },
  {
   "cell_type": "markdown",
   "metadata": {},
   "source": [
    "## __init__ method: Class constructor\n",
    "- The __init__ method is run as soon as an object of a class is instantiated, the method is useful to do any initialization you want to do with your object\n",
    "- Notice the double underscores (dunder) both at the beginning and at the end of the name"
   ]
  },
  {
   "cell_type": "code",
   "execution_count": 21,
   "metadata": {},
   "outputs": [
    {
     "name": "stdout",
     "output_type": "stream",
     "text": [
      "Hello, my name is Swaroop\n"
     ]
    }
   ],
   "source": [
    "# example\n",
    "\n",
    "class Person:\n",
    "  # default constructor\n",
    "  def __init__(self, name):\n",
    "    # Note: self.name means that there is a field called \"name\" that is part of the object called \"self\" \n",
    "    self.name = name\n",
    "\n",
    "  def say_hi(self):\n",
    "    print ('Hello, my name is', self.name)\n",
    "\n",
    "# object creation calls init constructor\n",
    "p = Person('Swaroop')\n",
    "p.say_hi()"
   ]
  },
  {
   "cell_type": "markdown",
   "metadata": {},
   "source": [
    "## example for class/instance fields and class/static/instance methods"
   ]
  },
  {
   "cell_type": "code",
   "execution_count": 4,
   "metadata": {},
   "outputs": [
    {
     "name": "stdout",
     "output_type": "stream",
     "text": [
      "Welcome to Test_Class: Object name  <__main__.Test_Class object at 0x0000019747AE6438>\n",
      "obj_cnt value:  1 \n",
      "\n",
      "Welcome to obj_fn: Object name  <__main__.Test_Class object at 0x0000019747AE6438>\n",
      "obj_fn counter (object value):  1\n",
      "self.name:  sirish , self.sum:  25 \n",
      "\n",
      "Welcome to cls_fn (class function) created with @classmethod\n",
      "objects cnt:  1\n",
      "!! classmethod can not access any object variables \n",
      "\n",
      "Welcome to cls_fn (class function) created with @classmethod\n",
      "objects cnt:  1\n",
      "!! classmethod can not access any object variables \n",
      "\n",
      "Welcome to static_fn (static function) created with @staticmethod \n",
      "\n",
      "Welcome to static_fn (static function) created with @staticmethod \n",
      "\n",
      "Welcome to Test_Class: Object name  <__main__.Test_Class object at 0x0000019747AE65C0>\n",
      "obj_cnt value:  2 \n",
      "\n",
      "Welcome to obj_fn: Object name  <__main__.Test_Class object at 0x0000019747AE65C0>\n",
      "obj_fn counter (object value):  1\n",
      "self.name:  kumar , self.sum:  100 \n",
      "\n",
      "Welcome to cls_fn (class function) created with @classmethod\n",
      "objects cnt:  2\n",
      "!! classmethod can not access any object variables \n",
      "\n",
      "Welcome to cls_fn (class function) created with @classmethod\n",
      "objects cnt:  2\n",
      "!! classmethod can not access any object variables \n",
      "\n",
      "Welcome to static_fn (static function) created with @staticmethod \n",
      "\n"
     ]
    }
   ],
   "source": [
    "class Test_Class:\n",
    "\n",
    " # class variable/field (can be accessed using class or object)\n",
    " obj_cnt = 0\n",
    "\n",
    " # default constructor\n",
    " def __init__(self, name):\n",
    "  # accessing class variable\n",
    "  Test_Class.obj_cnt += 1\n",
    "  # obect variables will be directly created when required ?\n",
    "  # object field (can be accessed using only objects)\n",
    "  self.name = name\n",
    "  self.val = 0\n",
    "  print ('Welcome to Test_Class: Object name ', self)\n",
    "  print ('obj_cnt value: ', Test_Class.obj_cnt, '\\n')\n",
    "  \n",
    "\n",
    " # object method (can be called using an object)\n",
    " def obj_fn(self, val):\n",
    "  self.val += 1\n",
    "  # obect variables will be directly created when required ?\n",
    "  self.sum = self.val + val\n",
    "  print ('Welcome to obj_fn: Object name ', self)\n",
    "  print ('obj_fn counter (object value): ', self.val)\n",
    "  print ('self.name: ', self.name, ', self.sum: ', self.sum, '\\n')\n",
    "\n",
    "\n",
    " # class method using a below token @classmethod (can be called using Class, can also be called using object)\n",
    " @classmethod\n",
    " def cls_fn(cls):\n",
    "  print ('Welcome to cls_fn (class function) created with @classmethod')\n",
    "  print ('objects cnt: ', Test_Class.obj_cnt)\n",
    "  # can not access any object variables\n",
    "  # print 'val: ', cls.val\n",
    "  print ('!! classmethod can not access any object variables', '\\n')\n",
    "\n",
    "\n",
    " # static method using a below token @staticmethod (like a normal function does not take object, class as 1st arguments)\n",
    " @staticmethod\n",
    " def static_fn():\n",
    "  print ('Welcome to static_fn (static function) created with @staticmethod \\n')\n",
    "  #print 'objects cnt: ', Test_Class.obj_cnt\n",
    "\n",
    "\n",
    "# create an object\n",
    "obj_1 = Test_Class('sirish')\n",
    "# call object function\n",
    "obj_1.obj_fn(24)\n",
    "# call class function with object\n",
    "obj_1.cls_fn()\n",
    "# call class function using class name\n",
    "Test_Class.cls_fn()\n",
    "# call static function using object\n",
    "obj_1.static_fn()\n",
    "# call static function using class\n",
    "Test_Class.static_fn()\n",
    "\n",
    "\n",
    "# second object\n",
    "obj_2 = Test_Class('kumar')\n",
    "obj_2.obj_fn(99)\n",
    "obj_2.cls_fn()\n",
    "Test_Class.cls_fn()\n",
    "Test_Class.static_fn()"
   ]
  },
  {
   "cell_type": "markdown",
   "metadata": {},
   "source": [
    "# File I/O"
   ]
  },
  {
   "cell_type": "markdown",
   "metadata": {},
   "source": [
    "## file object attributes\n",
    "- Once a file is opened and you have one file object, you can get various information related to that file.\n",
    "\n",
    "- Here is a list of all attributes related to file object:\n",
    "    - Attribute:        Description:\n",
    "    - file.closed       Returns true if file is closed, false otherwise.\n",
    "    - file.mode         Returns access mode with which file was opened.\n",
    "    - file.name         Returns name of the file.\n",
    "    - file.softspace    Returns false if space explicitly required with print, true otherwise. "
   ]
  },
  {
   "cell_type": "markdown",
   "metadata": {},
   "source": [
    "## example for file open, close and attributes"
   ]
  },
  {
   "cell_type": "code",
   "execution_count": 23,
   "metadata": {
    "scrolled": true
   },
   "outputs": [
    {
     "name": "stdout",
     "output_type": "stream",
     "text": [
      "Name of the file:  foo.txt\n",
      "Opening mode :  wb\n",
      "Closed or not :  False\n",
      "Closed or not :  True\n"
     ]
    }
   ],
   "source": [
    "fp = open(\"foo.txt\", \"wb\")\n",
    "print (\"Name of the file: \", fp.name)\n",
    "print (\"Opening mode : \", fp.mode)\n",
    "print (\"Closed or not : \", fp.closed)\n",
    "fp.close()\n",
    "print (\"Closed or not : \", fp.closed)"
   ]
  },
  {
   "cell_type": "markdown",
   "metadata": {},
   "source": [
    "## read and write files\n",
    "- use read() and write() methods to read and write files"
   ]
  },
  {
   "cell_type": "code",
   "execution_count": 24,
   "metadata": {},
   "outputs": [
    {
     "name": "stdout",
     "output_type": "stream",
     "text": [
      "Python is a great language.\n",
      " Yeah its great!!\n",
      "\n"
     ]
    }
   ],
   "source": [
    "# example\n",
    "\n",
    "fp = open(\"foo.txt\", \"w\")\n",
    "fp.write( \"Python is a great language.\\n Yeah its great!!\\n\");\n",
    "fp.close()\n",
    "\n",
    "fp = open(\"foo.txt\", \"r\")\n",
    "str = fp.read()\n",
    "print (str)\n",
    "fp.close()"
   ]
  },
  {
   "cell_type": "markdown",
   "metadata": {},
   "source": [
    "## file positions\n",
    "- The tell() method tells you the current position within the file\n",
    "- The seek(offset[, from]) method changes the current file position"
   ]
  },
  {
   "cell_type": "markdown",
   "metadata": {},
   "source": [
    "# OS module\n",
    "- The OS module in python provides functions for interacting with the operating system"
   ]
  },
  {
   "cell_type": "markdown",
   "metadata": {},
   "source": [
    "## os.getcwd(): get current working directory"
   ]
  },
  {
   "cell_type": "code",
   "execution_count": 25,
   "metadata": {},
   "outputs": [
    {
     "name": "stdout",
     "output_type": "stream",
     "text": [
      "D:\\learning-git\\python\\learn\n"
     ]
    }
   ],
   "source": [
    "import os\n",
    "print(os.getcwd())"
   ]
  },
  {
   "cell_type": "markdown",
   "metadata": {},
   "source": [
    "## os.listdir(): list directories and files"
   ]
  },
  {
   "cell_type": "code",
   "execution_count": 26,
   "metadata": {},
   "outputs": [
    {
     "name": "stdout",
     "output_type": "stream",
     "text": [
      "['.ipynb_checkpoints', '.python_learn.py.swn', '.python_learn.py.swo', '.python_learn.py.swp', '.python_learn.py.un~', 'byte_of_python.pdf', 'foo.txt', 'python_learn.py', 'python_learn.py~', 'python_learn_note.ipynb', 'python_syllabus.txt', 'python_tips.py', 'temp1.txt', 'test.py', 'test_module.py']\n"
     ]
    }
   ],
   "source": [
    "import os\n",
    "print(os.listdir())"
   ]
  },
  {
   "cell_type": "markdown",
   "metadata": {},
   "source": [
    "## os.makedirs(): create directories using path\n",
    "- **creates a path, creates the directories if any directory is not available in the path**"
   ]
  },
  {
   "cell_type": "markdown",
   "metadata": {},
   "source": [
    "## os.rename() : rename files/directories"
   ]
  },
  {
   "cell_type": "code",
   "execution_count": 27,
   "metadata": {},
   "outputs": [
    {
     "name": "stdout",
     "output_type": "stream",
     "text": [
      "['.ipynb_checkpoints', '.python_learn.py.swn', '.python_learn.py.swo', '.python_learn.py.swp', '.python_learn.py.un~', 'byte_of_python.pdf', 'foo.txt', 'python_learn.py', 'python_learn.py~', 'python_learn_note.ipynb', 'python_syllabus.txt', 'python_tips.py', 'temp.txt', 'temp1.txt', 'test.py', 'test_module.py']\n",
      "\n",
      " list and directories after renaming\n",
      "['.ipynb_checkpoints', '.python_learn.py.swn', '.python_learn.py.swo', '.python_learn.py.swp', '.python_learn.py.un~', 'byte_of_python.pdf', 'foo.txt', 'python_learn.py', 'python_learn.py~', 'python_learn_note.ipynb', 'python_syllabus.txt', 'python_tips.py', 'temp1.txt', 'test.py', 'test_module.py']\n"
     ]
    }
   ],
   "source": [
    "import os\n",
    "with open('temp.txt', 'w') as f:\n",
    "    pass\n",
    "# list directories and files after temp file creation\n",
    "print(os.listdir())\n",
    "\n",
    "# rename file\n",
    "os.remove('temp1.txt')\n",
    "os.rename('temp.txt', 'temp1.txt')\n",
    "# list directories and files after renaming\n",
    "print('\\n list and directories after renaming')\n",
    "print(os.listdir())"
   ]
  },
  {
   "cell_type": "markdown",
   "metadata": {},
   "source": [
    "# try: for error handling\n",
    "- try block is used to handle the exception gracefully\n",
    "- default exception is called for any exception, however we can have custom exceptions for clarity\n",
    "- else block will be executed when no exception raised\n",
    "- finally block is called irrespective of exceptions, can be used to de-init/close other stuff"
   ]
  },
  {
   "cell_type": "code",
   "execution_count": 28,
   "metadata": {},
   "outputs": [
    {
     "name": "stdout",
     "output_type": "stream",
     "text": [
      "default: File opening error\n",
      "File opening error\n",
      "else part when no exception\n",
      "else part when no exception\n",
      "execute finally block irrespective of exception status\n",
      "raised error\n"
     ]
    }
   ],
   "source": [
    "# default error exception\n",
    "try:\n",
    "    f = open('test.yuv', 'r')\n",
    "except Exception:\n",
    "    print(\"default: File opening error\")\n",
    "\n",
    "# specific error exception\n",
    "try:\n",
    "    f = open('test.yuv', 'r')\n",
    "except FileNotFoundError:\n",
    "    print(\"File opening error\")\n",
    "except Exception:\n",
    "    pass\n",
    "\n",
    "# else part if no error\n",
    "try:\n",
    "    pass\n",
    "except Exception:\n",
    "    pass\n",
    "else:\n",
    "    print('else part when no exception')\n",
    "    \n",
    "# else part if no error\n",
    "try:\n",
    "    pass\n",
    "except Exception:\n",
    "    pass\n",
    "else:\n",
    "    print('else part when no exception')\n",
    "finally:\n",
    "    print('execute finally block irrespective of exception status')\n",
    "    \n",
    "# raise exception\n",
    "try:\n",
    "    val = -1\n",
    "    # here no issue, but we can raise custom exceptions based on need\n",
    "    if(val == -1):\n",
    "        raise Exception\n",
    "except Exception:\n",
    "    print(\"raised error\")"
   ]
  },
  {
   "cell_type": "markdown",
   "metadata": {},
   "source": [
    "# Python Regular Expression"
   ]
  },
  {
   "cell_type": "markdown",
   "metadata": {},
   "source": [
    "## raw string\n",
    "- raw string prefixed with character 'r', which indicates python to interpret literally the string as it is, not to treat the special characters in any special way"
   ]
  },
  {
   "cell_type": "code",
   "execution_count": 7,
   "metadata": {},
   "outputs": [
    {
     "name": "stdout",
     "output_type": "stream",
     "text": [
      "...\t :normal string after tab\n",
      "...\\t :raw string interpreted literally as it is \n",
      "without any special meaning to any special characters\n"
     ]
    }
   ],
   "source": [
    "# raw string example\n",
    "string = '...\\t :normal string after tab'\n",
    "raw_string = r'''...\\t :raw string interpreted literally as it is \n",
    "without any special meaning to any special characters'''\n",
    "\n",
    "print(string)\n",
    "print(raw_string)"
   ]
  },
  {
   "cell_type": "markdown",
   "metadata": {},
   "source": [
    "## find match: finditer"
   ]
  },
  {
   "cell_type": "code",
   "execution_count": 26,
   "metadata": {},
   "outputs": [
    {
     "name": "stdout",
     "output_type": "stream",
     "text": [
      "re.compile('hi')\n",
      "<_sre.SRE_Match object; span=(0, 2), match='hi'>\n",
      "<_sre.SRE_Match object; span=(20, 22), match='hi'>\n",
      "\n",
      " re.compile('\\\\d') \\d to match digits\n",
      "<_sre.SRE_Match object; span=(53, 54), match='1'>\n",
      "<_sre.SRE_Match object; span=(64, 65), match='2'>\n"
     ]
    }
   ],
   "source": [
    "# example\n",
    "import re\n",
    "search_string = '''hi, hello to search hi with big HI python.com number 1 and java 2'''\n",
    "\n",
    "# compile the pattern raw string\n",
    "pattern = re.compile(r'hi')\n",
    "# find match in string\n",
    "matches = pattern.finditer(search_string)\n",
    "# print all matches with indexes\n",
    "print(pattern)\n",
    "for match in matches:\n",
    "    print(match)\n",
    "    \n",
    "# match all chars\n",
    "pattern = re.compile(r'\\d')\n",
    "# match digits in string with \\d\n",
    "matches = pattern.finditer(search_string)\n",
    "# print all matches\n",
    "print('\\n', pattern, '\\d to match digits')\n",
    "for match in matches:\n",
    "    print(match)    "
   ]
  },
  {
   "cell_type": "code",
   "execution_count": null,
   "metadata": {},
   "outputs": [],
   "source": []
  },
  {
   "cell_type": "markdown",
   "metadata": {},
   "source": [
    "# Python Exercise Examples: Basics\n",
    "https://www.w3resource.com/python-exercises/"
   ]
  },
  {
   "cell_type": "markdown",
   "metadata": {},
   "source": [
    "## Print current date time"
   ]
  },
  {
   "cell_type": "code",
   "execution_count": 29,
   "metadata": {
    "scrolled": false
   },
   "outputs": [
    {
     "name": "stdout",
     "output_type": "stream",
     "text": [
      "Current date and time : \n",
      "2018-11-24 20:30:47\n"
     ]
    }
   ],
   "source": [
    "import datetime\n",
    "now = datetime.datetime.now()\n",
    "print (\"Current date and time : \")\n",
    "print (now.strftime(\"%Y-%m-%d %H:%M:%S\"))"
   ]
  },
  {
   "cell_type": "markdown",
   "metadata": {},
   "source": [
    "## Check a file present or not"
   ]
  },
  {
   "cell_type": "code",
   "execution_count": 30,
   "metadata": {},
   "outputs": [
    {
     "name": "stdout",
     "output_type": "stream",
     "text": [
      "<module 'ntpath' from 'C:\\\\Users\\\\Admin\\\\Anaconda3\\\\lib\\\\ntpath.py'>\n",
      "True\n",
      "False\n"
     ]
    }
   ],
   "source": [
    "import os\n",
    "import os.path\n",
    "open('abc.txt', 'w')\n",
    "print(os.path)\n",
    "print(os.path.isfile('abc.txt'))\n",
    "os.remove('abc.txt')\n",
    "print(os.path.isfile('abc.txt'))"
   ]
  },
  {
   "cell_type": "markdown",
   "metadata": {},
   "source": [
    "## Print number of CPU's running"
   ]
  },
  {
   "cell_type": "code",
   "execution_count": 31,
   "metadata": {
    "scrolled": true
   },
   "outputs": [
    {
     "name": "stdout",
     "output_type": "stream",
     "text": [
      "4\n"
     ]
    }
   ],
   "source": [
    "import multiprocessing\n",
    "print(multiprocessing.cpu_count())"
   ]
  },
  {
   "cell_type": "markdown",
   "metadata": {},
   "source": [
    "## Compare all values in a list with a number\n",
    "- all:\n",
    "    - The all() method returns True when all elements in the given ** iterable ** are true. If not, it returns False."
   ]
  },
  {
   "cell_type": "code",
   "execution_count": 53,
   "metadata": {},
   "outputs": [
    {
     "name": "stdout",
     "output_type": "stream",
     "text": [
      "True\n",
      "False\n"
     ]
    }
   ],
   "source": [
    "num = [5,8,9]\n",
    "print(all(x > 4 for x in num))\n",
    "print(all(x > 7 for x in num))"
   ]
  },
  {
   "cell_type": "markdown",
   "metadata": {},
   "source": [
    "## Profile execution time of a program"
   ]
  },
  {
   "cell_type": "code",
   "execution_count": 54,
   "metadata": {},
   "outputs": [
    {
     "name": "stdout",
     "output_type": "stream",
     "text": [
      "7.153053559250111e-06\n",
      "1.6172121149793384e-05\n"
     ]
    }
   ],
   "source": [
    "from timeit import default_timer\n",
    "def timer(n):\n",
    "    start = default_timer()\n",
    "    # some code here\n",
    "    sum = 0\n",
    "    for row in range(0,n):\n",
    "        sum *= row\n",
    "    print(default_timer() - start)\n",
    "\n",
    "timer(10)\n",
    "timer(100)"
   ]
  },
  {
   "cell_type": "markdown",
   "metadata": {},
   "source": [
    "# NumPy"
   ]
  },
  {
   "cell_type": "markdown",
   "metadata": {},
   "source": [
    "## NumPy basics"
   ]
  },
  {
   "cell_type": "markdown",
   "metadata": {},
   "source": [
    "### create 1D numpy array with value 10"
   ]
  },
  {
   "cell_type": "code",
   "execution_count": 76,
   "metadata": {},
   "outputs": [
    {
     "name": "stdout",
     "output_type": "stream",
     "text": [
      "[0. 0. 0. 0. 0.]\n",
      "[1. 1. 1. 1. 1.]\n",
      "[10. 10. 10. 10. 10.]\n",
      "[10 10 10 10 10]\n"
     ]
    }
   ],
   "source": [
    "# example\n",
    "import numpy as np\n",
    "array0 = np.zeros(5)\n",
    "array1 = np.ones(5)\n",
    "array2 = np.ones(5)*10\n",
    "array3 = np.array([10, 10, 10, 10, 10])\n",
    "\n",
    "print(array0)\n",
    "print(array1)\n",
    "print(array2)\n",
    "print(array3)"
   ]
  },
  {
   "cell_type": "markdown",
   "metadata": {},
   "source": [
    "### create constant array with full"
   ]
  },
  {
   "cell_type": "code",
   "execution_count": 77,
   "metadata": {},
   "outputs": [
    {
     "name": "stdout",
     "output_type": "stream",
     "text": [
      "array shape: (2, 3, 4), number of dimensions: 3\n",
      "[[[6 6 6 6]\n",
      "  [6 6 6 6]\n",
      "  [6 6 6 6]]\n",
      "\n",
      " [[6 6 6 6]\n",
      "  [6 6 6 6]\n",
      "  [6 6 6 6]]]\n"
     ]
    }
   ],
   "source": [
    "import numpy as np\n",
    "array1 = np.full((2,3,4), 6)\n",
    "print('array shape: {}, number of dimensions: {}'.format(array1.shape, array1.ndim))\n",
    "print(array1)"
   ]
  },
  {
   "cell_type": "markdown",
   "metadata": {},
   "source": [
    "### create 1D numpy array with values range from 10 to 20\n",
    "- ** use arrange method**"
   ]
  },
  {
   "cell_type": "code",
   "execution_count": 28,
   "metadata": {},
   "outputs": [
    {
     "name": "stdout",
     "output_type": "stream",
     "text": [
      "[10 11 12 13 14 15 16 17 18 19 20]\n"
     ]
    }
   ],
   "source": [
    "# example\n",
    "import numpy as np\n",
    "array1 = np.arange(10, 21)\n",
    "print(array1)"
   ]
  },
  {
   "cell_type": "markdown",
   "metadata": {},
   "source": [
    "### create 1D numpy array with random values below 10"
   ]
  },
  {
   "cell_type": "code",
   "execution_count": 42,
   "metadata": {},
   "outputs": [
    {
     "name": "stdout",
     "output_type": "stream",
     "text": [
      "[0 0 4 4 3]\n"
     ]
    }
   ],
   "source": [
    "# example\n",
    "import numpy as np\n",
    "array1 = np.random.randint(0, 11, 5)\n",
    "print(array1)"
   ]
  },
  {
   "cell_type": "markdown",
   "metadata": {},
   "source": [
    "### create 2D numpy array and iterate"
   ]
  },
  {
   "cell_type": "code",
   "execution_count": 37,
   "metadata": {},
   "outputs": [
    {
     "name": "stdout",
     "output_type": "stream",
     "text": [
      "original array\n",
      " [[10 11 12 13]\n",
      " [14 15 16 17]\n",
      " [18 19 20 21]]\n",
      "\n",
      "print each value sequentially\n",
      "10  11  12  13  14  15  16  17  18  19  20  21  "
     ]
    }
   ],
   "source": [
    "# example\n",
    "import numpy as np\n",
    "array1 = np.arange(10, 22).reshape(3,4)\n",
    "\n",
    "# original array\n",
    "print('original array\\n', array1)\n",
    "\n",
    "# iterate over each element sequentially\n",
    "print('\\nprint each value sequentially')\n",
    "for val in np.nditer(array1):\n",
    "    print(val, end=\"  \")"
   ]
  },
  {
   "cell_type": "markdown",
   "metadata": {},
   "source": [
    "### create nD array"
   ]
  },
  {
   "cell_type": "code",
   "execution_count": 70,
   "metadata": {},
   "outputs": [
    {
     "name": "stdout",
     "output_type": "stream",
     "text": [
      "array shape (3, 4)\n",
      "[[ 0  1  2  3]\n",
      " [ 4  5  6  7]\n",
      " [ 8  9 10 11]] \n",
      "\n",
      "array creation with explicity initiation\n",
      "array shape (2, 3, 4)\n",
      "[[[ 0  1  2  3]\n",
      "  [ 4  5  6  7]\n",
      "  [ 8  9 10 11]]\n",
      "\n",
      " [[12 13 14 15]\n",
      "  [16 17 18 19]\n",
      "  [20 21 22 23]]] \n",
      "\n",
      "array creation with auto fill\n",
      "array shape (2, 3, 4)\n",
      "[[[ 0  1  2  3]\n",
      "  [ 4  5  6  7]\n",
      "  [ 8  9 10 11]]\n",
      "\n",
      " [[12 13 14 15]\n",
      "  [16 17 18 19]\n",
      "  [20 21 22 23]]] \n",
      "\n"
     ]
    }
   ],
   "source": [
    "# example\n",
    "import numpy as np\n",
    "\n",
    "array1 = np.array([[0,1, 2, 3],[4,5, 6, 7], [8, 9,10, 11]])\n",
    "print('array shape', array1.shape)\n",
    "print(array1, '\\n')\n",
    "\n",
    "print('array creation with explicity initiation')\n",
    "array1 = np.array([[[0,1, 2, 3],[4,5, 6, 7], [8, 9,10, 11]], [[12,13, 14, 15],[16,17, 18, 19], [20, 21,22,23]]])\n",
    "print('array shape', array1.shape)\n",
    "print(array1, '\\n')\n",
    "\n",
    "print('array creation with auto fill')\n",
    "array1 = np.arange(0,24).reshape(2,3,4)\n",
    "print('array shape', array1.shape)\n",
    "print(array1, '\\n')"
   ]
  },
  {
   "cell_type": "markdown",
   "metadata": {},
   "source": [
    "# Pandas"
   ]
  },
  {
   "cell_type": "markdown",
   "metadata": {},
   "source": [
    "# PILLOW"
   ]
  },
  {
   "cell_type": "code",
   "execution_count": null,
   "metadata": {},
   "outputs": [],
   "source": []
  }
 ],
 "metadata": {
  "kernelspec": {
   "display_name": "Python 3",
   "language": "python",
   "name": "python3"
  },
  "language_info": {
   "codemirror_mode": {
    "name": "ipython",
    "version": 3
   },
   "file_extension": ".py",
   "mimetype": "text/x-python",
   "name": "python",
   "nbconvert_exporter": "python",
   "pygments_lexer": "ipython3",
   "version": "3.6.5"
  },
  "toc": {
   "base_numbering": 1,
   "nav_menu": {},
   "number_sections": true,
   "sideBar": true,
   "skip_h1_title": false,
   "title_cell": "Table of Contents",
   "title_sidebar": "Contents",
   "toc_cell": false,
   "toc_position": {
    "height": "calc(100% - 180px)",
    "left": "10px",
    "top": "150px",
    "width": "268px"
   },
   "toc_section_display": true,
   "toc_window_display": true
  }
 },
 "nbformat": 4,
 "nbformat_minor": 1
}
